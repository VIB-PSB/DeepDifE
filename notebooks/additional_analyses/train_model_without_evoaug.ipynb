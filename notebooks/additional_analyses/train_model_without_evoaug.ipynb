{
 "cells": [
  {
   "cell_type": "code",
   "execution_count": 67,
   "metadata": {},
   "outputs": [
    {
     "name": "stdout",
     "output_type": "stream",
     "text": [
      "The autoreload extension is already loaded. To reload it, use:\n",
      "  %reload_ext autoreload\n",
      "/storage/nas6/group/biocomp/projects/transreg/sathi/DeepDifE\n"
     ]
    }
   ],
   "source": [
    "%load_ext autoreload\n",
    "%autoreload 2\n",
    "%cd /group/transreg/sathi/DeepDifE \n",
    "\n",
    "import pickle\n",
    "import importlib\n",
    "import esparto\n",
    "import optuna\n",
    "import numpy as np\n",
    "import pandas as pd\n",
    "from evoaug_tf import evoaug, augment\n",
    "from src.diff_expression_model import get_model, get_siamese_model, post_hoc_conjoining, get_auroc\n",
    "from skopt.utils import use_named_args"
   ]
  },
  {
   "cell_type": "markdown",
   "metadata": {},
   "source": [
    "## Prepare the data"
   ]
  },
  {
   "cell_type": "markdown",
   "metadata": {},
   "source": [
    "For now we start from this data pickle as I'm not aware how Helder did DE analysis and generated the labels"
   ]
  },
  {
   "cell_type": "code",
   "execution_count": 68,
   "metadata": {},
   "outputs": [],
   "source": [
    "ppath = \"/group/transreg/heopd/dlpipe/results/ath/aba/dlresults/predetermined_dataset/dataset_solid_chrome.pkl\"\n",
    "with open(ppath, 'rb') as f:\n",
    "    data = pickle.load(f)"
   ]
  },
  {
   "cell_type": "code",
   "execution_count": 69,
   "metadata": {},
   "outputs": [
    {
     "data": {
      "text/plain": [
       "Index(['Category', 'GeneFamily', 'seqs', 'ohs', 'rcohs', 'ohsDuo',\n",
       "       'in_original_balanced', 'set', 'npshap-single', 'npshap-posthoc'],\n",
       "      dtype='object')"
      ]
     },
     "execution_count": 69,
     "metadata": {},
     "output_type": "execute_result"
    }
   ],
   "source": [
    "data.columns"
   ]
  },
  {
   "cell_type": "code",
   "execution_count": 71,
   "metadata": {},
   "outputs": [
    {
     "data": {
      "text/plain": [
       "train    1900\n",
       "valid     257\n",
       "test      241\n",
       "Name: set, dtype: int64"
      ]
     },
     "execution_count": 71,
     "metadata": {},
     "output_type": "execute_result"
    }
   ],
   "source": [
    "data[\"set\"].value_counts()"
   ]
  },
  {
   "cell_type": "markdown",
   "metadata": {},
   "source": [
    "To show how to subdivide the dataset into train-test split we only take the following columns"
   ]
  },
  {
   "cell_type": "code",
   "execution_count": 70,
   "metadata": {},
   "outputs": [],
   "source": [
    "dataset = data.reset_index()\n",
    "dataset = dataset[[\"geneID\", \"Category\", \"GeneFamily\", \"seqs\"]]\n",
    "dataset.rename(columns={\"geneID\":\"GeneID\", \"Category\":\"Label\", \"seqs\": \"Sequence\"}, inplace=True)"
   ]
  },
  {
   "cell_type": "code",
   "execution_count": 72,
   "metadata": {},
   "outputs": [
    {
     "data": {
      "text/html": [
       "<div>\n",
       "<style scoped>\n",
       "    .dataframe tbody tr th:only-of-type {\n",
       "        vertical-align: middle;\n",
       "    }\n",
       "\n",
       "    .dataframe tbody tr th {\n",
       "        vertical-align: top;\n",
       "    }\n",
       "\n",
       "    .dataframe thead th {\n",
       "        text-align: right;\n",
       "    }\n",
       "</style>\n",
       "<table border=\"1\" class=\"dataframe\">\n",
       "  <thead>\n",
       "    <tr style=\"text-align: right;\">\n",
       "      <th></th>\n",
       "      <th>GeneID</th>\n",
       "      <th>Label</th>\n",
       "      <th>GeneFamily</th>\n",
       "      <th>Sequence</th>\n",
       "    </tr>\n",
       "  </thead>\n",
       "  <tbody>\n",
       "    <tr>\n",
       "      <th>0</th>\n",
       "      <td>AT4G27120</td>\n",
       "      <td>0</td>\n",
       "      <td>HOM04D000881</td>\n",
       "      <td>TAGAGAAGACAAGCGGTTATTTCGTAATTTCCCAGCGACTTTGAAA...</td>\n",
       "    </tr>\n",
       "    <tr>\n",
       "      <th>1</th>\n",
       "      <td>AT4G19600</td>\n",
       "      <td>0</td>\n",
       "      <td>HOM04D000740</td>\n",
       "      <td>GTCAAGTAGTGAAATCAAGGTGTGAAGTAAGCTGAGGACAGATAAT...</td>\n",
       "    </tr>\n",
       "    <tr>\n",
       "      <th>2</th>\n",
       "      <td>AT3G60880</td>\n",
       "      <td>0</td>\n",
       "      <td>HOM04D003119</td>\n",
       "      <td>AGTTGATATTGAATGAAATCTTCATGTTTTTTGATAAATGATTATA...</td>\n",
       "    </tr>\n",
       "    <tr>\n",
       "      <th>3</th>\n",
       "      <td>AT5G06960</td>\n",
       "      <td>0</td>\n",
       "      <td>HOM04D000319</td>\n",
       "      <td>CACTTGTCAGATTCTTCTTACCAAATCCATCAACAAATAAGCAAAT...</td>\n",
       "    </tr>\n",
       "    <tr>\n",
       "      <th>4</th>\n",
       "      <td>AT1G14890</td>\n",
       "      <td>0</td>\n",
       "      <td>HOM04D000273</td>\n",
       "      <td>TTGATATAACAGATTCAACACTAAAAATGAGTAAAATCTAAAAAAG...</td>\n",
       "    </tr>\n",
       "    <tr>\n",
       "      <th>...</th>\n",
       "      <td>...</td>\n",
       "      <td>...</td>\n",
       "      <td>...</td>\n",
       "      <td>...</td>\n",
       "    </tr>\n",
       "    <tr>\n",
       "      <th>2393</th>\n",
       "      <td>AT5G64230</td>\n",
       "      <td>1</td>\n",
       "      <td>HOM04D003278</td>\n",
       "      <td>AAGAAAGAAAAACCGTACATAAACACCCATCTGGTATACCATCGTC...</td>\n",
       "    </tr>\n",
       "    <tr>\n",
       "      <th>2394</th>\n",
       "      <td>AT5G64780</td>\n",
       "      <td>1</td>\n",
       "      <td>HOM04D002552</td>\n",
       "      <td>TTTTAGAAAGAAGAAGAAGGATTATTGCCTTATTGGTGAAGGGAAG...</td>\n",
       "    </tr>\n",
       "    <tr>\n",
       "      <th>2395</th>\n",
       "      <td>AT4G30470</td>\n",
       "      <td>1</td>\n",
       "      <td>HOM04D000082</td>\n",
       "      <td>TATGTACAGTCTCTACATTTTTTCAAATACATTTTTTTCTTTTTCA...</td>\n",
       "    </tr>\n",
       "    <tr>\n",
       "      <th>2396</th>\n",
       "      <td>AT3G51895</td>\n",
       "      <td>1</td>\n",
       "      <td>HOM04D000270</td>\n",
       "      <td>TGGTAAATAATTAAATATATAAGAACATTATTCTAAAGCGTTGAAT...</td>\n",
       "    </tr>\n",
       "    <tr>\n",
       "      <th>2397</th>\n",
       "      <td>AT2G35585</td>\n",
       "      <td>1</td>\n",
       "      <td>HOM04D004118</td>\n",
       "      <td>TTTTGCCACTGCTGGCTCTGATGGTGCTTTCAATTTCTAGGACAAG...</td>\n",
       "    </tr>\n",
       "  </tbody>\n",
       "</table>\n",
       "<p>2398 rows × 4 columns</p>\n",
       "</div>"
      ],
      "text/plain": [
       "         GeneID Label    GeneFamily  \\\n",
       "0     AT4G27120     0  HOM04D000881   \n",
       "1     AT4G19600     0  HOM04D000740   \n",
       "2     AT3G60880     0  HOM04D003119   \n",
       "3     AT5G06960     0  HOM04D000319   \n",
       "4     AT1G14890     0  HOM04D000273   \n",
       "...         ...   ...           ...   \n",
       "2393  AT5G64230     1  HOM04D003278   \n",
       "2394  AT5G64780     1  HOM04D002552   \n",
       "2395  AT4G30470     1  HOM04D000082   \n",
       "2396  AT3G51895     1  HOM04D000270   \n",
       "2397  AT2G35585     1  HOM04D004118   \n",
       "\n",
       "                                               Sequence  \n",
       "0     TAGAGAAGACAAGCGGTTATTTCGTAATTTCCCAGCGACTTTGAAA...  \n",
       "1     GTCAAGTAGTGAAATCAAGGTGTGAAGTAAGCTGAGGACAGATAAT...  \n",
       "2     AGTTGATATTGAATGAAATCTTCATGTTTTTTGATAAATGATTATA...  \n",
       "3     CACTTGTCAGATTCTTCTTACCAAATCCATCAACAAATAAGCAAAT...  \n",
       "4     TTGATATAACAGATTCAACACTAAAAATGAGTAAAATCTAAAAAAG...  \n",
       "...                                                 ...  \n",
       "2393  AAGAAAGAAAAACCGTACATAAACACCCATCTGGTATACCATCGTC...  \n",
       "2394  TTTTAGAAAGAAGAAGAAGGATTATTGCCTTATTGGTGAAGGGAAG...  \n",
       "2395  TATGTACAGTCTCTACATTTTTTCAAATACATTTTTTTCTTTTTCA...  \n",
       "2396  TGGTAAATAATTAAATATATAAGAACATTATTCTAAAGCGTTGAAT...  \n",
       "2397  TTTTGCCACTGCTGGCTCTGATGGTGCTTTCAATTTCTAGGACAAG...  \n",
       "\n",
       "[2398 rows x 4 columns]"
      ]
     },
     "execution_count": 72,
     "metadata": {},
     "output_type": "execute_result"
    }
   ],
   "source": [
    "dataset"
   ]
  },
  {
   "cell_type": "markdown",
   "metadata": {},
   "source": [
    "### One-hot-encode & reverse-complement"
   ]
  },
  {
   "cell_type": "code",
   "execution_count": 73,
   "metadata": {},
   "outputs": [],
   "source": [
    "from src.prepare_dataset import one_hot_encode_series, reverse_complement_series, reverse_complement_sequence\n",
    "dataset[\"One_hot_encoded\"] = one_hot_encode_series(dataset[\"Sequence\"])"
   ]
  },
  {
   "cell_type": "code",
   "execution_count": 74,
   "metadata": {},
   "outputs": [],
   "source": [
    "dataset[\"RC_one_hot_encoded\"] = reverse_complement_series(dataset[\"One_hot_encoded\"])"
   ]
  },
  {
   "cell_type": "code",
   "execution_count": 75,
   "metadata": {},
   "outputs": [
    {
     "data": {
      "text/html": [
       "<div>\n",
       "<style scoped>\n",
       "    .dataframe tbody tr th:only-of-type {\n",
       "        vertical-align: middle;\n",
       "    }\n",
       "\n",
       "    .dataframe tbody tr th {\n",
       "        vertical-align: top;\n",
       "    }\n",
       "\n",
       "    .dataframe thead th {\n",
       "        text-align: right;\n",
       "    }\n",
       "</style>\n",
       "<table border=\"1\" class=\"dataframe\">\n",
       "  <thead>\n",
       "    <tr style=\"text-align: right;\">\n",
       "      <th></th>\n",
       "      <th>GeneID</th>\n",
       "      <th>Label</th>\n",
       "      <th>GeneFamily</th>\n",
       "      <th>Sequence</th>\n",
       "      <th>One_hot_encoded</th>\n",
       "      <th>RC_one_hot_encoded</th>\n",
       "    </tr>\n",
       "  </thead>\n",
       "  <tbody>\n",
       "    <tr>\n",
       "      <th>0</th>\n",
       "      <td>AT4G27120</td>\n",
       "      <td>0</td>\n",
       "      <td>HOM04D000881</td>\n",
       "      <td>TAGAGAAGACAAGCGGTTATTTCGTAATTTCCCAGCGACTTTGAAA...</td>\n",
       "      <td>[[0, 0, 0, 1], [1, 0, 0, 0], [0, 0, 1, 0], [1,...</td>\n",
       "      <td>[[1, 0, 0, 0], [0, 0, 1, 0], [0, 0, 1, 0], [0,...</td>\n",
       "    </tr>\n",
       "    <tr>\n",
       "      <th>1</th>\n",
       "      <td>AT4G19600</td>\n",
       "      <td>0</td>\n",
       "      <td>HOM04D000740</td>\n",
       "      <td>GTCAAGTAGTGAAATCAAGGTGTGAAGTAAGCTGAGGACAGATAAT...</td>\n",
       "      <td>[[0, 0, 1, 0], [0, 0, 0, 1], [0, 1, 0, 0], [1,...</td>\n",
       "      <td>[[0, 0, 1, 0], [0, 0, 1, 0], [1, 0, 0, 0], [0,...</td>\n",
       "    </tr>\n",
       "    <tr>\n",
       "      <th>2</th>\n",
       "      <td>AT3G60880</td>\n",
       "      <td>0</td>\n",
       "      <td>HOM04D003119</td>\n",
       "      <td>AGTTGATATTGAATGAAATCTTCATGTTTTTTGATAAATGATTATA...</td>\n",
       "      <td>[[1, 0, 0, 0], [0, 0, 1, 0], [0, 0, 0, 1], [0,...</td>\n",
       "      <td>[[0, 0, 0, 1], [0, 0, 1, 0], [1, 0, 0, 0], [0,...</td>\n",
       "    </tr>\n",
       "    <tr>\n",
       "      <th>3</th>\n",
       "      <td>AT5G06960</td>\n",
       "      <td>0</td>\n",
       "      <td>HOM04D000319</td>\n",
       "      <td>CACTTGTCAGATTCTTCTTACCAAATCCATCAACAAATAAGCAAAT...</td>\n",
       "      <td>[[0, 1, 0, 0], [1, 0, 0, 0], [0, 1, 0, 0], [0,...</td>\n",
       "      <td>[[1, 0, 0, 0], [0, 1, 0, 0], [0, 0, 1, 0], [1,...</td>\n",
       "    </tr>\n",
       "    <tr>\n",
       "      <th>4</th>\n",
       "      <td>AT1G14890</td>\n",
       "      <td>0</td>\n",
       "      <td>HOM04D000273</td>\n",
       "      <td>TTGATATAACAGATTCAACACTAAAAATGAGTAAAATCTAAAAAAG...</td>\n",
       "      <td>[[0, 0, 0, 1], [0, 0, 0, 1], [0, 0, 1, 0], [1,...</td>\n",
       "      <td>[[0, 0, 0, 1], [1, 0, 0, 0], [0, 0, 0, 1], [1,...</td>\n",
       "    </tr>\n",
       "    <tr>\n",
       "      <th>...</th>\n",
       "      <td>...</td>\n",
       "      <td>...</td>\n",
       "      <td>...</td>\n",
       "      <td>...</td>\n",
       "      <td>...</td>\n",
       "      <td>...</td>\n",
       "    </tr>\n",
       "    <tr>\n",
       "      <th>2393</th>\n",
       "      <td>AT5G64230</td>\n",
       "      <td>1</td>\n",
       "      <td>HOM04D003278</td>\n",
       "      <td>AAGAAAGAAAAACCGTACATAAACACCCATCTGGTATACCATCGTC...</td>\n",
       "      <td>[[1, 0, 0, 0], [1, 0, 0, 0], [0, 0, 1, 0], [1,...</td>\n",
       "      <td>[[0, 1, 0, 0], [0, 0, 1, 0], [0, 0, 0, 1], [0,...</td>\n",
       "    </tr>\n",
       "    <tr>\n",
       "      <th>2394</th>\n",
       "      <td>AT5G64780</td>\n",
       "      <td>1</td>\n",
       "      <td>HOM04D002552</td>\n",
       "      <td>TTTTAGAAAGAAGAAGAAGGATTATTGCCTTATTGGTGAAGGGAAG...</td>\n",
       "      <td>[[0, 0, 0, 1], [0, 0, 0, 1], [0, 0, 0, 1], [0,...</td>\n",
       "      <td>[[0, 0, 0, 1], [0, 0, 1, 0], [1, 0, 0, 0], [0,...</td>\n",
       "    </tr>\n",
       "    <tr>\n",
       "      <th>2395</th>\n",
       "      <td>AT4G30470</td>\n",
       "      <td>1</td>\n",
       "      <td>HOM04D000082</td>\n",
       "      <td>TATGTACAGTCTCTACATTTTTTCAAATACATTTTTTTCTTTTTCA...</td>\n",
       "      <td>[[0, 0, 0, 1], [1, 0, 0, 0], [0, 0, 0, 1], [0,...</td>\n",
       "      <td>[[1, 0, 0, 0], [0, 0, 1, 0], [0, 0, 1, 0], [0,...</td>\n",
       "    </tr>\n",
       "    <tr>\n",
       "      <th>2396</th>\n",
       "      <td>AT3G51895</td>\n",
       "      <td>1</td>\n",
       "      <td>HOM04D000270</td>\n",
       "      <td>TGGTAAATAATTAAATATATAAGAACATTATTCTAAAGCGTTGAAT...</td>\n",
       "      <td>[[0, 0, 0, 1], [0, 0, 1, 0], [0, 0, 1, 0], [0,...</td>\n",
       "      <td>[[0, 0, 0, 1], [0, 0, 0, 1], [0, 0, 1, 0], [1,...</td>\n",
       "    </tr>\n",
       "    <tr>\n",
       "      <th>2397</th>\n",
       "      <td>AT2G35585</td>\n",
       "      <td>1</td>\n",
       "      <td>HOM04D004118</td>\n",
       "      <td>TTTTGCCACTGCTGGCTCTGATGGTGCTTTCAATTTCTAGGACAAG...</td>\n",
       "      <td>[[0, 0, 0, 1], [0, 0, 0, 1], [0, 0, 0, 1], [0,...</td>\n",
       "      <td>[[0, 0, 1, 0], [0, 0, 1, 0], [0, 1, 0, 0], [0,...</td>\n",
       "    </tr>\n",
       "  </tbody>\n",
       "</table>\n",
       "<p>2398 rows × 6 columns</p>\n",
       "</div>"
      ],
      "text/plain": [
       "         GeneID Label    GeneFamily  \\\n",
       "0     AT4G27120     0  HOM04D000881   \n",
       "1     AT4G19600     0  HOM04D000740   \n",
       "2     AT3G60880     0  HOM04D003119   \n",
       "3     AT5G06960     0  HOM04D000319   \n",
       "4     AT1G14890     0  HOM04D000273   \n",
       "...         ...   ...           ...   \n",
       "2393  AT5G64230     1  HOM04D003278   \n",
       "2394  AT5G64780     1  HOM04D002552   \n",
       "2395  AT4G30470     1  HOM04D000082   \n",
       "2396  AT3G51895     1  HOM04D000270   \n",
       "2397  AT2G35585     1  HOM04D004118   \n",
       "\n",
       "                                               Sequence  \\\n",
       "0     TAGAGAAGACAAGCGGTTATTTCGTAATTTCCCAGCGACTTTGAAA...   \n",
       "1     GTCAAGTAGTGAAATCAAGGTGTGAAGTAAGCTGAGGACAGATAAT...   \n",
       "2     AGTTGATATTGAATGAAATCTTCATGTTTTTTGATAAATGATTATA...   \n",
       "3     CACTTGTCAGATTCTTCTTACCAAATCCATCAACAAATAAGCAAAT...   \n",
       "4     TTGATATAACAGATTCAACACTAAAAATGAGTAAAATCTAAAAAAG...   \n",
       "...                                                 ...   \n",
       "2393  AAGAAAGAAAAACCGTACATAAACACCCATCTGGTATACCATCGTC...   \n",
       "2394  TTTTAGAAAGAAGAAGAAGGATTATTGCCTTATTGGTGAAGGGAAG...   \n",
       "2395  TATGTACAGTCTCTACATTTTTTCAAATACATTTTTTTCTTTTTCA...   \n",
       "2396  TGGTAAATAATTAAATATATAAGAACATTATTCTAAAGCGTTGAAT...   \n",
       "2397  TTTTGCCACTGCTGGCTCTGATGGTGCTTTCAATTTCTAGGACAAG...   \n",
       "\n",
       "                                        One_hot_encoded  \\\n",
       "0     [[0, 0, 0, 1], [1, 0, 0, 0], [0, 0, 1, 0], [1,...   \n",
       "1     [[0, 0, 1, 0], [0, 0, 0, 1], [0, 1, 0, 0], [1,...   \n",
       "2     [[1, 0, 0, 0], [0, 0, 1, 0], [0, 0, 0, 1], [0,...   \n",
       "3     [[0, 1, 0, 0], [1, 0, 0, 0], [0, 1, 0, 0], [0,...   \n",
       "4     [[0, 0, 0, 1], [0, 0, 0, 1], [0, 0, 1, 0], [1,...   \n",
       "...                                                 ...   \n",
       "2393  [[1, 0, 0, 0], [1, 0, 0, 0], [0, 0, 1, 0], [1,...   \n",
       "2394  [[0, 0, 0, 1], [0, 0, 0, 1], [0, 0, 0, 1], [0,...   \n",
       "2395  [[0, 0, 0, 1], [1, 0, 0, 0], [0, 0, 0, 1], [0,...   \n",
       "2396  [[0, 0, 0, 1], [0, 0, 1, 0], [0, 0, 1, 0], [0,...   \n",
       "2397  [[0, 0, 0, 1], [0, 0, 0, 1], [0, 0, 0, 1], [0,...   \n",
       "\n",
       "                                     RC_one_hot_encoded  \n",
       "0     [[1, 0, 0, 0], [0, 0, 1, 0], [0, 0, 1, 0], [0,...  \n",
       "1     [[0, 0, 1, 0], [0, 0, 1, 0], [1, 0, 0, 0], [0,...  \n",
       "2     [[0, 0, 0, 1], [0, 0, 1, 0], [1, 0, 0, 0], [0,...  \n",
       "3     [[1, 0, 0, 0], [0, 1, 0, 0], [0, 0, 1, 0], [1,...  \n",
       "4     [[0, 0, 0, 1], [1, 0, 0, 0], [0, 0, 0, 1], [1,...  \n",
       "...                                                 ...  \n",
       "2393  [[0, 1, 0, 0], [0, 0, 1, 0], [0, 0, 0, 1], [0,...  \n",
       "2394  [[0, 0, 0, 1], [0, 0, 1, 0], [1, 0, 0, 0], [0,...  \n",
       "2395  [[1, 0, 0, 0], [0, 0, 1, 0], [0, 0, 1, 0], [0,...  \n",
       "2396  [[0, 0, 0, 1], [0, 0, 0, 1], [0, 0, 1, 0], [1,...  \n",
       "2397  [[0, 0, 1, 0], [0, 0, 1, 0], [0, 1, 0, 0], [0,...  \n",
       "\n",
       "[2398 rows x 6 columns]"
      ]
     },
     "execution_count": 75,
     "metadata": {},
     "output_type": "execute_result"
    }
   ],
   "source": [
    "dataset"
   ]
  },
  {
   "cell_type": "markdown",
   "metadata": {},
   "source": [
    "### Train-test split"
   ]
  },
  {
   "cell_type": "code",
   "execution_count": 76,
   "metadata": {},
   "outputs": [],
   "source": [
    "from src.prepare_dataset import grouped_shuffle_split\n",
    "train_df, validation_test_df = grouped_shuffle_split(dataset, dataset[\"GeneFamily\"], 0.2)"
   ]
  },
  {
   "cell_type": "code",
   "execution_count": 77,
   "metadata": {},
   "outputs": [],
   "source": [
    "validation_df, test_df  = grouped_shuffle_split(validation_test_df, validation_test_df[\"GeneFamily\"], 0.5)"
   ]
  },
  {
   "cell_type": "code",
   "execution_count": 78,
   "metadata": {},
   "outputs": [
    {
     "name": "stdout",
     "output_type": "stream",
     "text": [
      "Length of training set: 1900\n",
      "Length of validation set: 257\n",
      "Length of test set: 241\n"
     ]
    }
   ],
   "source": [
    "print(f\"Length of training set: {train_df.shape[0]}\")\n",
    "print(f\"Length of validation set: {validation_df.shape[0]}\")\n",
    "print(f\"Length of test set: {test_df.shape[0]}\")"
   ]
  },
  {
   "cell_type": "code",
   "execution_count": 79,
   "metadata": {},
   "outputs": [],
   "source": [
    "def get_input_and_labels(df):\n",
    "\tohe_np = np.stack(df[\"One_hot_encoded\"])\n",
    "\trc_np = np.stack(df[\"RC_one_hot_encoded\"])\n",
    "\n",
    "\tx = np.append(ohe_np, rc_np, axis=0)\n",
    "\tx = x.astype('float32')\n",
    "\ty = np.append(df[\"Label\"], df[\"Label\"])\n",
    "\treturn x, y"
   ]
  },
  {
   "cell_type": "code",
   "execution_count": 80,
   "metadata": {},
   "outputs": [],
   "source": [
    "x_train, y_train = get_input_and_labels(train_df)\n",
    "x_validation, y_validation = get_input_and_labels(validation_df)"
   ]
  },
  {
   "cell_type": "markdown",
   "metadata": {},
   "source": [
    "## Prepare model"
   ]
  },
  {
   "cell_type": "markdown",
   "metadata": {},
   "source": [
    "As the model uses evo augmentation, a list of possible nucleotide operations needs to be given"
   ]
  },
  {
   "cell_type": "code",
   "execution_count": 81,
   "metadata": {},
   "outputs": [],
   "source": [
    "augment_list = [\n",
    "    augment.RandomRC(rc_prob=0.5),\n",
    "    augment.RandomInsertionBatch(insert_min=0, insert_max=20),\n",
    "    augment.RandomDeletion(delete_min=0, delete_max=30),\n",
    "    augment.RandomTranslocationBatch(shift_min=0, shift_max=20),\n",
    "    augment.RandomMutation(mutate_frac=0.05),\n",
    "    augment.RandomNoise()\n",
    "]"
   ]
  },
  {
   "cell_type": "markdown",
   "metadata": {},
   "source": [
    "Get the shape of the input data"
   ]
  },
  {
   "cell_type": "code",
   "execution_count": 82,
   "metadata": {},
   "outputs": [],
   "source": [
    "input_shape = train_df[\"One_hot_encoded\"].iloc[0].shape"
   ]
  },
  {
   "cell_type": "markdown",
   "metadata": {},
   "source": [
    "Initialize the model"
   ]
  },
  {
   "cell_type": "code",
   "execution_count": 83,
   "metadata": {},
   "outputs": [],
   "source": [
    "model = get_model(input_shape=input_shape, perform_evoaug=False, augment_list=augment_list,learning_rate=0.001)"
   ]
  },
  {
   "cell_type": "markdown",
   "metadata": {},
   "source": [
    "## Train the model"
   ]
  },
  {
   "cell_type": "markdown",
   "metadata": {},
   "source": [
    "As the hyperparameter parameters are set, we will do one more run with all possible training data"
   ]
  },
  {
   "cell_type": "code",
   "execution_count": 84,
   "metadata": {},
   "outputs": [],
   "source": [
    "x_full_train = np.append(x_train, x_validation, axis=0)\n",
    "y_full_train = np.append(y_train, y_validation)"
   ]
  },
  {
   "cell_type": "code",
   "execution_count": 85,
   "metadata": {},
   "outputs": [],
   "source": [
    "# early stopping callback\n",
    "import tensorflow as tf\n",
    "\n",
    "early_stopping_callback = tf.keras.callbacks.EarlyStopping(monitor='val_loss',\n",
    "\t\t\t\t\t\t\t\t\t\t\tpatience=20,\n",
    "\t\t\t\t\t\t\t\t\t\t\tverbose=1,\n",
    "\t\t\t\t\t\t\t\t\t\t\tmode='min',\n",
    "\t\t\t\t\t\t\t\t\t\t\trestore_best_weights=True)\n",
    "# reduce learning rate callback\n",
    "reduce_lr = tf.keras.callbacks.ReduceLROnPlateau(monitor='val_loss',\n",
    "\t\t\t\t\t\t\t\t\t\t\t\tfactor=0.1,\n",
    "\t\t\t\t\t\t\t\t\t\t\t\tpatience=5,\n",
    "\t\t\t\t\t\t\t\t\t\t\t\tmin_lr=1e-7,\n",
    "\t\t\t\t\t\t\t\t\t\t\t\tmode='min',\n",
    "\t\t\t\t\t\t\t\t\t\t\t\tverbose=1)\n",
    "callbacks = [early_stopping_callback, reduce_lr]"
   ]
  },
  {
   "cell_type": "code",
   "execution_count": 86,
   "metadata": {},
   "outputs": [
    {
     "name": "stdout",
     "output_type": "stream",
     "text": [
      "Epoch 1/100\n",
      "38/38 [==============================] - 21s 388ms/step - loss: 0.6944 - acc: 0.5087 - auROC: 0.5086 - auPRC: 0.4975 - true_positives_3: 876.0000 - auroc: 0.5086 - val_loss: 0.6957 - val_acc: 0.4981 - val_auROC: 0.5629 - val_auPRC: 0.5462 - val_true_positives_3: 0.0000e+00 - val_auroc: 0.5629 - lr: 0.0010\n",
      "Epoch 2/100\n",
      "38/38 [==============================] - 13s 351ms/step - loss: 0.6944 - acc: 0.5013 - auROC: 0.4996 - auPRC: 0.4942 - true_positives_3: 707.0000 - auroc: 0.4996 - val_loss: 0.6931 - val_acc: 0.4981 - val_auROC: 0.5770 - val_auPRC: 0.5486 - val_true_positives_3: 0.0000e+00 - val_auroc: 0.5770 - lr: 0.0010\n",
      "Epoch 3/100\n",
      "38/38 [==============================] - 13s 343ms/step - loss: 0.6932 - acc: 0.5124 - auROC: 0.5151 - auPRC: 0.5034 - true_positives_3: 591.0000 - auroc: 0.5151 - val_loss: 0.6925 - val_acc: 0.5370 - val_auROC: 0.5585 - val_auPRC: 0.5382 - val_true_positives_3: 131.0000 - val_auroc: 0.5585 - lr: 0.0010\n",
      "Epoch 4/100\n",
      "38/38 [==============================] - 13s 349ms/step - loss: 0.6883 - acc: 0.5382 - auROC: 0.5599 - auPRC: 0.5415 - true_positives_3: 829.0000 - auroc: 0.5599 - val_loss: 0.6850 - val_acc: 0.5837 - val_auROC: 0.6218 - val_auPRC: 0.5843 - val_true_positives_3: 233.0000 - val_auroc: 0.6218 - lr: 0.0010\n",
      "Epoch 5/100\n",
      "38/38 [==============================] - 13s 345ms/step - loss: 0.6762 - acc: 0.5668 - auROC: 0.5960 - auPRC: 0.5686 - true_positives_3: 1067.0000 - auroc: 0.5960 - val_loss: 0.6732 - val_acc: 0.5817 - val_auROC: 0.6184 - val_auPRC: 0.5901 - val_true_positives_3: 168.0000 - val_auroc: 0.6184 - lr: 0.0010\n",
      "Epoch 6/100\n",
      "38/38 [==============================] - 13s 343ms/step - loss: 0.6623 - acc: 0.6000 - auROC: 0.6377 - auPRC: 0.6132 - true_positives_3: 1240.0000 - auroc: 0.6377 - val_loss: 0.6913 - val_acc: 0.5409 - val_auROC: 0.5684 - val_auPRC: 0.5328 - val_true_positives_3: 242.0000 - val_auroc: 0.5684 - lr: 0.0010\n",
      "Epoch 7/100\n",
      "38/38 [==============================] - 13s 349ms/step - loss: 0.6573 - acc: 0.6113 - auROC: 0.6520 - auPRC: 0.6216 - true_positives_3: 1113.0000 - auroc: 0.6520 - val_loss: 0.6677 - val_acc: 0.5992 - val_auROC: 0.6369 - val_auPRC: 0.6038 - val_true_positives_3: 205.0000 - val_auroc: 0.6369 - lr: 0.0010\n",
      "Epoch 8/100\n",
      "38/38 [==============================] - 16s 434ms/step - loss: 0.6349 - acc: 0.6387 - auROC: 0.6911 - auPRC: 0.6584 - true_positives_3: 1325.0000 - auroc: 0.6911 - val_loss: 0.6658 - val_acc: 0.6226 - val_auROC: 0.6361 - val_auPRC: 0.5886 - val_true_positives_3: 174.0000 - val_auroc: 0.6361 - lr: 0.0010\n",
      "Epoch 9/100\n",
      "38/38 [==============================] - 22s 574ms/step - loss: 0.6085 - acc: 0.6661 - auROC: 0.7265 - auPRC: 0.6915 - true_positives_3: 1312.0000 - auroc: 0.7265 - val_loss: 0.6669 - val_acc: 0.6070 - val_auROC: 0.6380 - val_auPRC: 0.5979 - val_true_positives_3: 212.0000 - val_auroc: 0.6380 - lr: 0.0010\n",
      "Epoch 10/100\n",
      "38/38 [==============================] - 13s 338ms/step - loss: 0.5808 - acc: 0.6995 - auROC: 0.7625 - auPRC: 0.7281 - true_positives_3: 1375.0000 - auroc: 0.7625 - val_loss: 0.6553 - val_acc: 0.6381 - val_auROC: 0.6696 - val_auPRC: 0.6437 - val_true_positives_3: 182.0000 - val_auroc: 0.6696 - lr: 0.0010\n",
      "Epoch 11/100\n",
      "38/38 [==============================] - 13s 344ms/step - loss: 0.5675 - acc: 0.7116 - auROC: 0.7773 - auPRC: 0.7572 - true_positives_3: 1365.0000 - auroc: 0.7773 - val_loss: 0.6809 - val_acc: 0.5856 - val_auROC: 0.6639 - val_auPRC: 0.6485 - val_true_positives_3: 100.0000 - val_auroc: 0.6639 - lr: 0.0010\n",
      "Epoch 12/100\n",
      "38/38 [==============================] - 13s 335ms/step - loss: 0.5402 - acc: 0.7318 - auROC: 0.8040 - auPRC: 0.7811 - true_positives_3: 1419.0000 - auroc: 0.8040 - val_loss: 0.6628 - val_acc: 0.6304 - val_auROC: 0.6805 - val_auPRC: 0.6645 - val_true_positives_3: 178.0000 - val_auroc: 0.6805 - lr: 0.0010\n",
      "Epoch 13/100\n",
      "38/38 [==============================] - 13s 342ms/step - loss: 0.5081 - acc: 0.7471 - auROC: 0.8292 - auPRC: 0.8114 - true_positives_3: 1468.0000 - auroc: 0.8292 - val_loss: 0.6898 - val_acc: 0.6109 - val_auROC: 0.6744 - val_auPRC: 0.6452 - val_true_positives_3: 122.0000 - val_auroc: 0.6744 - lr: 0.0010\n",
      "Epoch 14/100\n",
      "38/38 [==============================] - 13s 331ms/step - loss: 0.4763 - acc: 0.7697 - auROC: 0.8532 - auPRC: 0.8394 - true_positives_3: 1451.0000 - auroc: 0.8532 - val_loss: 0.6971 - val_acc: 0.6226 - val_auROC: 0.6812 - val_auPRC: 0.6563 - val_true_positives_3: 135.0000 - val_auroc: 0.6812 - lr: 0.0010\n",
      "Epoch 15/100\n",
      "38/38 [==============================] - ETA: 0s - loss: 0.4513 - acc: 0.7926 - auROC: 0.8696 - auPRC: 0.8577 - true_positives_3: 1522.0000 - auroc: 0.8696\n",
      "Epoch 15: ReduceLROnPlateau reducing learning rate to 0.00010000000474974513.\n",
      "38/38 [==============================] - 13s 344ms/step - loss: 0.4513 - acc: 0.7926 - auROC: 0.8696 - auPRC: 0.8577 - true_positives_3: 1522.0000 - auroc: 0.8696 - val_loss: 0.7096 - val_acc: 0.6167 - val_auROC: 0.6655 - val_auPRC: 0.6542 - val_true_positives_3: 163.0000 - val_auroc: 0.6655 - lr: 0.0010\n",
      "Epoch 16/100\n",
      "38/38 [==============================] - 13s 332ms/step - loss: 0.4170 - acc: 0.8150 - auROC: 0.8927 - auPRC: 0.8842 - true_positives_3: 1542.0000 - auroc: 0.8927 - val_loss: 0.7207 - val_acc: 0.6362 - val_auROC: 0.6642 - val_auPRC: 0.6511 - val_true_positives_3: 182.0000 - val_auroc: 0.6642 - lr: 1.0000e-04\n",
      "Epoch 17/100\n",
      "38/38 [==============================] - 13s 327ms/step - loss: 0.3897 - acc: 0.8287 - auROC: 0.9069 - auPRC: 0.9007 - true_positives_3: 1597.0000 - auroc: 0.9069 - val_loss: 0.7393 - val_acc: 0.6420 - val_auROC: 0.6647 - val_auPRC: 0.6503 - val_true_positives_3: 192.0000 - val_auroc: 0.6647 - lr: 1.0000e-04\n",
      "Epoch 18/100\n",
      "38/38 [==============================] - 17s 444ms/step - loss: 0.3770 - acc: 0.8329 - auROC: 0.9136 - auPRC: 0.9089 - true_positives_3: 1586.0000 - auroc: 0.9136 - val_loss: 0.7526 - val_acc: 0.6440 - val_auROC: 0.6670 - val_auPRC: 0.6569 - val_true_positives_3: 178.0000 - val_auroc: 0.6670 - lr: 1.0000e-04\n",
      "Epoch 19/100\n",
      "38/38 [==============================] - 28s 743ms/step - loss: 0.3804 - acc: 0.8297 - auROC: 0.9108 - auPRC: 0.9050 - true_positives_3: 1573.0000 - auroc: 0.9108 - val_loss: 0.7695 - val_acc: 0.6420 - val_auROC: 0.6567 - val_auPRC: 0.6405 - val_true_positives_3: 196.0000 - val_auroc: 0.6567 - lr: 1.0000e-04\n",
      "Epoch 20/100\n",
      "38/38 [==============================] - ETA: 0s - loss: 0.3629 - acc: 0.8389 - auROC: 0.9194 - auPRC: 0.9163 - true_positives_3: 1594.0000 - auroc: 0.9194\n",
      "Epoch 20: ReduceLROnPlateau reducing learning rate to 1.0000000474974514e-05.\n",
      "38/38 [==============================] - 21s 501ms/step - loss: 0.3629 - acc: 0.8389 - auROC: 0.9194 - auPRC: 0.9163 - true_positives_3: 1594.0000 - auroc: 0.9194 - val_loss: 0.7715 - val_acc: 0.6284 - val_auROC: 0.6578 - val_auPRC: 0.6451 - val_true_positives_3: 183.0000 - val_auroc: 0.6578 - lr: 1.0000e-04\n",
      "Epoch 21/100\n",
      "38/38 [==============================] - 13s 328ms/step - loss: 0.3462 - acc: 0.8513 - auROC: 0.9275 - auPRC: 0.9245 - true_positives_3: 1612.0000 - auroc: 0.9275 - val_loss: 0.7709 - val_acc: 0.6323 - val_auROC: 0.6599 - val_auPRC: 0.6488 - val_true_positives_3: 179.0000 - val_auroc: 0.6599 - lr: 1.0000e-05\n",
      "Epoch 22/100\n",
      "38/38 [==============================] - 13s 327ms/step - loss: 0.3647 - acc: 0.8389 - auROC: 0.9182 - auPRC: 0.9110 - true_positives_3: 1595.0000 - auroc: 0.9182 - val_loss: 0.7708 - val_acc: 0.6323 - val_auROC: 0.6604 - val_auPRC: 0.6496 - val_true_positives_3: 179.0000 - val_auroc: 0.6604 - lr: 1.0000e-05\n",
      "Epoch 23/100\n",
      "38/38 [==============================] - 13s 335ms/step - loss: 0.3523 - acc: 0.8513 - auROC: 0.9240 - auPRC: 0.9157 - true_positives_3: 1613.0000 - auroc: 0.9240 - val_loss: 0.7729 - val_acc: 0.6284 - val_auROC: 0.6598 - val_auPRC: 0.6481 - val_true_positives_3: 180.0000 - val_auroc: 0.6598 - lr: 1.0000e-05\n",
      "Epoch 24/100\n",
      "38/38 [==============================] - 13s 329ms/step - loss: 0.3617 - acc: 0.8411 - auROC: 0.9197 - auPRC: 0.9169 - true_positives_3: 1583.0000 - auroc: 0.9197 - val_loss: 0.7733 - val_acc: 0.6265 - val_auROC: 0.6604 - val_auPRC: 0.6488 - val_true_positives_3: 181.0000 - val_auroc: 0.6604 - lr: 1.0000e-05\n",
      "Epoch 25/100\n",
      "38/38 [==============================] - ETA: 0s - loss: 0.3444 - acc: 0.8497 - auROC: 0.9281 - auPRC: 0.9229 - true_positives_3: 1621.0000 - auroc: 0.9281\n",
      "Epoch 25: ReduceLROnPlateau reducing learning rate to 1.0000000656873453e-06.\n",
      "38/38 [==============================] - 13s 338ms/step - loss: 0.3444 - acc: 0.8497 - auROC: 0.9281 - auPRC: 0.9229 - true_positives_3: 1621.0000 - auroc: 0.9281 - val_loss: 0.7746 - val_acc: 0.6245 - val_auROC: 0.6602 - val_auPRC: 0.6466 - val_true_positives_3: 181.0000 - val_auroc: 0.6602 - lr: 1.0000e-05\n",
      "Epoch 26/100\n",
      "38/38 [==============================] - 12s 324ms/step - loss: 0.3609 - acc: 0.8382 - auROC: 0.9197 - auPRC: 0.9126 - true_positives_3: 1593.0000 - auroc: 0.9197 - val_loss: 0.7746 - val_acc: 0.6245 - val_auROC: 0.6600 - val_auPRC: 0.6464 - val_true_positives_3: 181.0000 - val_auroc: 0.6600 - lr: 1.0000e-06\n",
      "Epoch 27/100\n",
      "38/38 [==============================] - 13s 338ms/step - loss: 0.3421 - acc: 0.8529 - auROC: 0.9292 - auPRC: 0.9249 - true_positives_3: 1629.0000 - auroc: 0.9292 - val_loss: 0.7745 - val_acc: 0.6265 - val_auROC: 0.6603 - val_auPRC: 0.6470 - val_true_positives_3: 181.0000 - val_auroc: 0.6603 - lr: 1.0000e-06\n",
      "Epoch 28/100\n",
      "38/38 [==============================] - 22s 579ms/step - loss: 0.3650 - acc: 0.8387 - auROC: 0.9185 - auPRC: 0.9096 - true_positives_3: 1594.0000 - auroc: 0.9185 - val_loss: 0.7745 - val_acc: 0.6265 - val_auROC: 0.6604 - val_auPRC: 0.6474 - val_true_positives_3: 181.0000 - val_auroc: 0.6604 - lr: 1.0000e-06\n",
      "Epoch 29/100\n",
      "38/38 [==============================] - 19s 512ms/step - loss: 0.3498 - acc: 0.8453 - auROC: 0.9253 - auPRC: 0.9177 - true_positives_3: 1602.0000 - auroc: 0.9253 - val_loss: 0.7745 - val_acc: 0.6265 - val_auROC: 0.6606 - val_auPRC: 0.6480 - val_true_positives_3: 181.0000 - val_auroc: 0.6606 - lr: 1.0000e-06\n",
      "Epoch 30/100\n",
      "38/38 [==============================] - ETA: 0s - loss: 0.3469 - acc: 0.8505 - auROC: 0.9271 - auPRC: 0.9252 - true_positives_3: 1616.0000 - auroc: 0.9271Restoring model weights from the end of the best epoch: 10.\n",
      "\n",
      "Epoch 30: ReduceLROnPlateau reducing learning rate to 1.0000001111620805e-07.\n",
      "38/38 [==============================] - 13s 333ms/step - loss: 0.3469 - acc: 0.8505 - auROC: 0.9271 - auPRC: 0.9252 - true_positives_3: 1616.0000 - auroc: 0.9271 - val_loss: 0.7746 - val_acc: 0.6265 - val_auROC: 0.6604 - val_auPRC: 0.6473 - val_true_positives_3: 181.0000 - val_auroc: 0.6604 - lr: 1.0000e-06\n",
      "Epoch 30: early stopping\n"
     ]
    }
   ],
   "source": [
    "history = model.fit(x_train,\n",
    "\t\t\t\t\ty_train,\n",
    "\t\t\t\t\tepochs=100,\n",
    "\t\t\t\t\tbatch_size=100,\n",
    "\t\t\t\t\tvalidation_data=(x_validation, y_validation),\n",
    "\t\t\t\t\tcallbacks=callbacks\n",
    "\t\t\t\t\t)"
   ]
  },
  {
   "cell_type": "code",
   "execution_count": 90,
   "metadata": {},
   "outputs": [
    {
     "data": {
      "text/plain": [
       "0.6553439497947693"
      ]
     },
     "execution_count": 90,
     "metadata": {},
     "output_type": "execute_result"
    }
   ],
   "source": [
    "min(history.history[\"val_loss\"])"
   ]
  },
  {
   "cell_type": "code",
   "execution_count": null,
   "metadata": {},
   "outputs": [],
   "source": []
  },
  {
   "cell_type": "code",
   "execution_count": 87,
   "metadata": {},
   "outputs": [
    {
     "name": "stdout",
     "output_type": "stream",
     "text": [
      "8/8 [==============================] - 1s 59ms/step\n"
     ]
    },
    {
     "data": {
      "text/plain": [
       "0.7106722106722106"
      ]
     },
     "execution_count": 87,
     "metadata": {},
     "output_type": "execute_result"
    }
   ],
   "source": [
    "siamese_model = get_siamese_model(model)\n",
    "\n",
    "x_test = np.stack(test_df[\"One_hot_encoded\"])\n",
    "x_test_rc = np.stack(test_df[\"RC_one_hot_encoded\"])\n",
    "\n",
    "y_test = test_df[\"Label\"].to_numpy()\n",
    "\n",
    "\n",
    "predictions_categories, predictions = post_hoc_conjoining(siamese_model, x_test, x_test_rc)\n",
    "\n",
    "get_auroc(y_test, predictions)"
   ]
  },
  {
   "cell_type": "code",
   "execution_count": 88,
   "metadata": {},
   "outputs": [
    {
     "name": "stdout",
     "output_type": "stream",
     "text": [
      "              precision    recall  f1-score   support\n",
      "\n",
      "           0       0.62      0.58      0.60       111\n",
      "           1       0.66      0.69      0.67       130\n",
      "\n",
      "    accuracy                           0.64       241\n",
      "   macro avg       0.64      0.63      0.63       241\n",
      "weighted avg       0.64      0.64      0.64       241\n",
      "\n"
     ]
    }
   ],
   "source": [
    "from sklearn.metrics import classification_report\n",
    "print(classification_report(y_test, predictions_categories))"
   ]
  }
 ],
 "metadata": {
  "kernelspec": {
   "display_name": "Python 3 (ipykernel)",
   "language": "python",
   "name": "python3"
  },
  "language_info": {
   "codemirror_mode": {
    "name": "ipython",
    "version": 3
   },
   "file_extension": ".py",
   "mimetype": "text/x-python",
   "name": "python",
   "nbconvert_exporter": "python",
   "pygments_lexer": "ipython3",
   "version": "3.8.0"
  }
 },
 "nbformat": 4,
 "nbformat_minor": 2
}
