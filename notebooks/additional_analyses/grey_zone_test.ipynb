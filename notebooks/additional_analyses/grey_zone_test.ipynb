{
 "cells": [
  {
   "cell_type": "code",
   "execution_count": 13,
   "metadata": {},
   "outputs": [
    {
     "name": "stdout",
     "output_type": "stream",
     "text": [
      "The autoreload extension is already loaded. To reload it, use:\n",
      "  %reload_ext autoreload\n",
      "/storage/nas6/group/biocomp/projects/transreg/sathi/DeepDifE\n"
     ]
    }
   ],
   "source": [
    "%load_ext autoreload\n",
    "%autoreload 2\n",
    "%cd /group/transreg/sathi/DeepDifE \n",
    "\n",
    "import pickle\n",
    "import importlib\n",
    "import esparto\n",
    "import optuna\n",
    "import numpy as np\n",
    "import pandas as pd\n",
    "from evoaug_tf import evoaug, augment\n",
    "from src.diff_expression_model import get_model, get_siamese_model, post_hoc_conjoining, get_auroc, load_model\n",
    "from src.prepare_dataset import one_hot_encode_series, reverse_complement_series\n",
    "from skopt.utils import use_named_args"
   ]
  },
  {
   "cell_type": "markdown",
   "metadata": {},
   "source": [
    "## Start from weights from Helder"
   ]
  },
  {
   "cell_type": "code",
   "execution_count": 3,
   "metadata": {},
   "outputs": [
    {
     "name": "stderr",
     "output_type": "stream",
     "text": [
      "2024-07-05 17:58:14.365481: W tensorflow/compiler/xla/stream_executor/platform/default/dso_loader.cc:64] Could not load dynamic library 'libcuda.so.1'; dlerror: libcuda.so.1: cannot open shared object file: No such file or directory; LD_LIBRARY_PATH: /software/shared/apps/x86_64/dependencies_rl9:/software/shared/apps/x86_64/git/2.13.1/lib64/\n",
      "2024-07-05 17:58:14.365847: W tensorflow/compiler/xla/stream_executor/cuda/cuda_driver.cc:265] failed call to cuInit: UNKNOWN ERROR (303)\n",
      "2024-07-05 17:58:14.366167: I tensorflow/compiler/xla/stream_executor/cuda/cuda_diagnostics.cc:156] kernel driver does not appear to be running on this host (cyclone4.psblocal): /proc/driver/nvidia/version does not exist\n"
     ]
    },
    {
     "name": "stdout",
     "output_type": "stream",
     "text": [
      "\n",
      "Loaded model from disk\n"
     ]
    }
   ],
   "source": [
    "model_path = \"/group/transreg/heopd/dlpipe/code/Sander/models/solid_chrome_model/model_single.json\"\n",
    "weights_path = \"/group/transreg/heopd/dlpipe/code/Sander/models/solid_chrome_model/weights_single.h5\"\n",
    "\n",
    "model = load_model(model_path, weights_path)\n",
    "model.inputs[0].shape[1]\n",
    "\n",
    "augment_list = [\n",
    "    augment.RandomRC(rc_prob=0.5),\n",
    "    augment.RandomInsertionBatch(insert_min=0, insert_max=20),\n",
    "    augment.RandomDeletion(delete_min=0, delete_max=30),\n",
    "    augment.RandomTranslocationBatch(shift_min=0, shift_max=20),\n",
    "    augment.RandomMutation(mutate_frac=0.05),\n",
    "    augment.RandomNoise()\n",
    "]\n",
    "\n",
    "evoaug_model = evoaug.RobustModel(model, augment_list=augment_list)\n",
    "siamese_model = get_siamese_model(model)\n"
   ]
  },
  {
   "cell_type": "markdown",
   "metadata": {},
   "source": [
    "## Load dataframe containing LFC"
   ]
  },
  {
   "cell_type": "code",
   "execution_count": 4,
   "metadata": {},
   "outputs": [],
   "source": [
    "import pandas as pd\n",
    "genes_LFC_pd = pd.read_csv(\"/group/transreg/heopd/dlpipe/code/Sander/data/promotors/geneID_LFC_up_non.csv\")\n",
    "genes_LFC_pd.rename(columns={\"set\":\"label\"}, inplace=True)"
   ]
  },
  {
   "cell_type": "code",
   "execution_count": 5,
   "metadata": {},
   "outputs": [
    {
     "data": {
      "text/html": [
       "<div>\n",
       "<style scoped>\n",
       "    .dataframe tbody tr th:only-of-type {\n",
       "        vertical-align: middle;\n",
       "    }\n",
       "\n",
       "    .dataframe tbody tr th {\n",
       "        vertical-align: top;\n",
       "    }\n",
       "\n",
       "    .dataframe thead th {\n",
       "        text-align: right;\n",
       "    }\n",
       "</style>\n",
       "<table border=\"1\" class=\"dataframe\">\n",
       "  <thead>\n",
       "    <tr style=\"text-align: right;\">\n",
       "      <th></th>\n",
       "      <th>geneID</th>\n",
       "      <th>LFC</th>\n",
       "      <th>padj</th>\n",
       "      <th>label</th>\n",
       "      <th>gene_symbol</th>\n",
       "    </tr>\n",
       "  </thead>\n",
       "  <tbody>\n",
       "    <tr>\n",
       "      <th>0</th>\n",
       "      <td>AT1G07430</td>\n",
       "      <td>13.56</td>\n",
       "      <td>0.0</td>\n",
       "      <td>up</td>\n",
       "      <td>['HAI2', 'HON', 'AtAIP1', 'AIP1']</td>\n",
       "    </tr>\n",
       "    <tr>\n",
       "      <th>1</th>\n",
       "      <td>AT3G51895</td>\n",
       "      <td>13.32</td>\n",
       "      <td>0.0</td>\n",
       "      <td>up</td>\n",
       "      <td>['AST12', 'SULTR3;1']</td>\n",
       "    </tr>\n",
       "    <tr>\n",
       "      <th>2</th>\n",
       "      <td>AT1G04560</td>\n",
       "      <td>12.71</td>\n",
       "      <td>0.0</td>\n",
       "      <td>up</td>\n",
       "      <td>['no symbol available']</td>\n",
       "    </tr>\n",
       "    <tr>\n",
       "      <th>3</th>\n",
       "      <td>AT2G40170</td>\n",
       "      <td>12.14</td>\n",
       "      <td>0.0</td>\n",
       "      <td>up</td>\n",
       "      <td>['GEA6', 'EM6', 'ATEM6']</td>\n",
       "    </tr>\n",
       "    <tr>\n",
       "      <th>4</th>\n",
       "      <td>AT5G52300</td>\n",
       "      <td>12.02</td>\n",
       "      <td>0.0</td>\n",
       "      <td>up</td>\n",
       "      <td>['RD29B', 'LTI65']</td>\n",
       "    </tr>\n",
       "    <tr>\n",
       "      <th>...</th>\n",
       "      <td>...</td>\n",
       "      <td>...</td>\n",
       "      <td>...</td>\n",
       "      <td>...</td>\n",
       "      <td>...</td>\n",
       "    </tr>\n",
       "    <tr>\n",
       "      <th>15193</th>\n",
       "      <td>AT5G11590</td>\n",
       "      <td>-8.21</td>\n",
       "      <td>0.0</td>\n",
       "      <td>na</td>\n",
       "      <td>['ERF041', 'TINY2']</td>\n",
       "    </tr>\n",
       "    <tr>\n",
       "      <th>15194</th>\n",
       "      <td>AT2G40330</td>\n",
       "      <td>-8.36</td>\n",
       "      <td>0.0</td>\n",
       "      <td>na</td>\n",
       "      <td>['RCAR9', 'PYL6']</td>\n",
       "    </tr>\n",
       "    <tr>\n",
       "      <th>15195</th>\n",
       "      <td>AT1G06830</td>\n",
       "      <td>-8.48</td>\n",
       "      <td>0.0</td>\n",
       "      <td>na</td>\n",
       "      <td>['ROXY6', 'CEPD1']</td>\n",
       "    </tr>\n",
       "    <tr>\n",
       "      <th>15196</th>\n",
       "      <td>AT3G27950</td>\n",
       "      <td>-8.92</td>\n",
       "      <td>0.0</td>\n",
       "      <td>na</td>\n",
       "      <td>['no symbol available']</td>\n",
       "    </tr>\n",
       "    <tr>\n",
       "      <th>15197</th>\n",
       "      <td>AT3G04290</td>\n",
       "      <td>-20.88</td>\n",
       "      <td>NaN</td>\n",
       "      <td>na</td>\n",
       "      <td>['LTL1', 'ATLTL1']</td>\n",
       "    </tr>\n",
       "  </tbody>\n",
       "</table>\n",
       "<p>15198 rows × 5 columns</p>\n",
       "</div>"
      ],
      "text/plain": [
       "          geneID    LFC  padj label                        gene_symbol\n",
       "0      AT1G07430  13.56   0.0    up  ['HAI2', 'HON', 'AtAIP1', 'AIP1']\n",
       "1      AT3G51895  13.32   0.0    up              ['AST12', 'SULTR3;1']\n",
       "2      AT1G04560  12.71   0.0    up            ['no symbol available']\n",
       "3      AT2G40170  12.14   0.0    up           ['GEA6', 'EM6', 'ATEM6']\n",
       "4      AT5G52300  12.02   0.0    up                 ['RD29B', 'LTI65']\n",
       "...          ...    ...   ...   ...                                ...\n",
       "15193  AT5G11590  -8.21   0.0    na                ['ERF041', 'TINY2']\n",
       "15194  AT2G40330  -8.36   0.0    na                  ['RCAR9', 'PYL6']\n",
       "15195  AT1G06830  -8.48   0.0    na                 ['ROXY6', 'CEPD1']\n",
       "15196  AT3G27950  -8.92   0.0    na            ['no symbol available']\n",
       "15197  AT3G04290 -20.88   NaN    na                 ['LTL1', 'ATLTL1']\n",
       "\n",
       "[15198 rows x 5 columns]"
      ]
     },
     "execution_count": 5,
     "metadata": {},
     "output_type": "execute_result"
    }
   ],
   "source": [
    "genes_LFC_pd"
   ]
  },
  {
   "cell_type": "code",
   "execution_count": 72,
   "metadata": {},
   "outputs": [
    {
     "data": {
      "text/html": [
       "<div>\n",
       "<style scoped>\n",
       "    .dataframe tbody tr th:only-of-type {\n",
       "        vertical-align: middle;\n",
       "    }\n",
       "\n",
       "    .dataframe tbody tr th {\n",
       "        vertical-align: top;\n",
       "    }\n",
       "\n",
       "    .dataframe thead th {\n",
       "        text-align: right;\n",
       "    }\n",
       "</style>\n",
       "<table border=\"1\" class=\"dataframe\">\n",
       "  <thead>\n",
       "    <tr style=\"text-align: right;\">\n",
       "      <th></th>\n",
       "      <th>geneID</th>\n",
       "      <th>LFC</th>\n",
       "      <th>padj</th>\n",
       "      <th>label</th>\n",
       "      <th>gene_symbol</th>\n",
       "    </tr>\n",
       "  </thead>\n",
       "  <tbody>\n",
       "    <tr>\n",
       "      <th>0</th>\n",
       "      <td>AT1G07430</td>\n",
       "      <td>13.56</td>\n",
       "      <td>0.0</td>\n",
       "      <td>up</td>\n",
       "      <td>['HAI2', 'HON', 'AtAIP1', 'AIP1']</td>\n",
       "    </tr>\n",
       "    <tr>\n",
       "      <th>1</th>\n",
       "      <td>AT3G51895</td>\n",
       "      <td>13.32</td>\n",
       "      <td>0.0</td>\n",
       "      <td>up</td>\n",
       "      <td>['AST12', 'SULTR3;1']</td>\n",
       "    </tr>\n",
       "    <tr>\n",
       "      <th>2</th>\n",
       "      <td>AT1G04560</td>\n",
       "      <td>12.71</td>\n",
       "      <td>0.0</td>\n",
       "      <td>up</td>\n",
       "      <td>['no symbol available']</td>\n",
       "    </tr>\n",
       "    <tr>\n",
       "      <th>3</th>\n",
       "      <td>AT2G40170</td>\n",
       "      <td>12.14</td>\n",
       "      <td>0.0</td>\n",
       "      <td>up</td>\n",
       "      <td>['GEA6', 'EM6', 'ATEM6']</td>\n",
       "    </tr>\n",
       "    <tr>\n",
       "      <th>4</th>\n",
       "      <td>AT5G52300</td>\n",
       "      <td>12.02</td>\n",
       "      <td>0.0</td>\n",
       "      <td>up</td>\n",
       "      <td>['RD29B', 'LTI65']</td>\n",
       "    </tr>\n",
       "    <tr>\n",
       "      <th>...</th>\n",
       "      <td>...</td>\n",
       "      <td>...</td>\n",
       "      <td>...</td>\n",
       "      <td>...</td>\n",
       "      <td>...</td>\n",
       "    </tr>\n",
       "    <tr>\n",
       "      <th>15193</th>\n",
       "      <td>AT5G11590</td>\n",
       "      <td>-8.21</td>\n",
       "      <td>0.0</td>\n",
       "      <td>na</td>\n",
       "      <td>['ERF041', 'TINY2']</td>\n",
       "    </tr>\n",
       "    <tr>\n",
       "      <th>15194</th>\n",
       "      <td>AT2G40330</td>\n",
       "      <td>-8.36</td>\n",
       "      <td>0.0</td>\n",
       "      <td>na</td>\n",
       "      <td>['RCAR9', 'PYL6']</td>\n",
       "    </tr>\n",
       "    <tr>\n",
       "      <th>15195</th>\n",
       "      <td>AT1G06830</td>\n",
       "      <td>-8.48</td>\n",
       "      <td>0.0</td>\n",
       "      <td>na</td>\n",
       "      <td>['ROXY6', 'CEPD1']</td>\n",
       "    </tr>\n",
       "    <tr>\n",
       "      <th>15196</th>\n",
       "      <td>AT3G27950</td>\n",
       "      <td>-8.92</td>\n",
       "      <td>0.0</td>\n",
       "      <td>na</td>\n",
       "      <td>['no symbol available']</td>\n",
       "    </tr>\n",
       "    <tr>\n",
       "      <th>15197</th>\n",
       "      <td>AT3G04290</td>\n",
       "      <td>-20.88</td>\n",
       "      <td>NaN</td>\n",
       "      <td>na</td>\n",
       "      <td>['LTL1', 'ATLTL1']</td>\n",
       "    </tr>\n",
       "  </tbody>\n",
       "</table>\n",
       "<p>15198 rows × 5 columns</p>\n",
       "</div>"
      ],
      "text/plain": [
       "          geneID    LFC  padj label                        gene_symbol\n",
       "0      AT1G07430  13.56   0.0    up  ['HAI2', 'HON', 'AtAIP1', 'AIP1']\n",
       "1      AT3G51895  13.32   0.0    up              ['AST12', 'SULTR3;1']\n",
       "2      AT1G04560  12.71   0.0    up            ['no symbol available']\n",
       "3      AT2G40170  12.14   0.0    up           ['GEA6', 'EM6', 'ATEM6']\n",
       "4      AT5G52300  12.02   0.0    up                 ['RD29B', 'LTI65']\n",
       "...          ...    ...   ...   ...                                ...\n",
       "15193  AT5G11590  -8.21   0.0    na                ['ERF041', 'TINY2']\n",
       "15194  AT2G40330  -8.36   0.0    na                  ['RCAR9', 'PYL6']\n",
       "15195  AT1G06830  -8.48   0.0    na                 ['ROXY6', 'CEPD1']\n",
       "15196  AT3G27950  -8.92   0.0    na            ['no symbol available']\n",
       "15197  AT3G04290 -20.88   NaN    na                 ['LTL1', 'ATLTL1']\n",
       "\n",
       "[15198 rows x 5 columns]"
      ]
     },
     "execution_count": 72,
     "metadata": {},
     "output_type": "execute_result"
    }
   ],
   "source": [
    "genes_LFC_pd"
   ]
  },
  {
   "cell_type": "markdown",
   "metadata": {},
   "source": [
    "### Check the LFC used to create the train test set of 2400"
   ]
  },
  {
   "cell_type": "code",
   "execution_count": 77,
   "metadata": {},
   "outputs": [
    {
     "data": {
      "text/plain": [
       "na     12798\n",
       "up      1200\n",
       "non     1200\n",
       "Name: label, dtype: int64"
      ]
     },
     "execution_count": 77,
     "metadata": {},
     "output_type": "execute_result"
    }
   ],
   "source": [
    "genes_LFC_pd.label.value_counts()"
   ]
  },
  {
   "cell_type": "code",
   "execution_count": 80,
   "metadata": {},
   "outputs": [
    {
     "name": "stdout",
     "output_type": "stream",
     "text": [
      " Lowest LFC in the UP set: 1.32\n"
     ]
    }
   ],
   "source": [
    "print(f\" Lowest LFC in the UP set: {genes_LFC_pd[genes_LFC_pd.label == 'up'].LFC.min()}\")"
   ]
  },
  {
   "cell_type": "markdown",
   "metadata": {},
   "source": [
    "## Find the sequences, prepare and predict"
   ]
  },
  {
   "cell_type": "code",
   "execution_count": 7,
   "metadata": {},
   "outputs": [],
   "source": [
    "from Bio import SeqIO\n",
    "\n",
    "sequence_list = []\n",
    "gene_id_list = []\n",
    "for chunk in range(1,201):\n",
    "\tfasta_path = f\"/group/transreg/heopd/dlpipe/code/Sander/data/promotors/chunked/promsFromGetfasta_500up100down.fa_c{chunk}\"\n",
    "\tfasta_sequences = SeqIO.parse(open(fasta_path),'fasta')\n",
    "\t\n",
    "\tfor fasta in fasta_sequences:\n",
    "\t\tname, sequence = fasta.id, str(fasta.seq)\n",
    "\t\tname = name.split(\":\")[0]\n",
    "\t\tif name in list(genes_LFC_pd.geneID):\n",
    "\t\t\tgene_id_list.append(name)\n",
    "\t\t\tsequence_list.append(sequence)"
   ]
  },
  {
   "cell_type": "code",
   "execution_count": 12,
   "metadata": {},
   "outputs": [],
   "source": [
    "ohe_df = one_hot_encode_series(pd.Series(sequence_list))"
   ]
  },
  {
   "cell_type": "code",
   "execution_count": 14,
   "metadata": {},
   "outputs": [],
   "source": [
    "rc_ohe_df = reverse_complement_series(ohe_df)"
   ]
  },
  {
   "cell_type": "code",
   "execution_count": 19,
   "metadata": {},
   "outputs": [],
   "source": [
    "ohe_np = np.stack(ohe_df)\n",
    "rc_ohe_np = np.stack(rc_ohe_df)"
   ]
  },
  {
   "cell_type": "code",
   "execution_count": 20,
   "metadata": {},
   "outputs": [],
   "source": [
    "ohe_np = evoaug_model._pad_end(ohe_np)\n",
    "rc_ohe_np = evoaug_model._pad_end(rc_ohe_np)"
   ]
  },
  {
   "cell_type": "code",
   "execution_count": 21,
   "metadata": {},
   "outputs": [
    {
     "name": "stdout",
     "output_type": "stream",
     "text": [
      "475/475 [==============================] - 32s 67ms/step\n"
     ]
    }
   ],
   "source": [
    "predictions_categories, predictions = post_hoc_conjoining(siamese_model, ohe_np, rc_ohe_np)\n"
   ]
  },
  {
   "cell_type": "markdown",
   "metadata": {},
   "source": [
    "Create df containing the geneIDs and their predictions"
   ]
  },
  {
   "cell_type": "code",
   "execution_count": 23,
   "metadata": {},
   "outputs": [],
   "source": [
    "prediction_df = pd.DataFrame({\"geneID\": gene_id_list, \"promotor_prediction\": predictions})"
   ]
  },
  {
   "cell_type": "markdown",
   "metadata": {},
   "source": [
    "## Label the greyzone"
   ]
  },
  {
   "cell_type": "code",
   "execution_count": 253,
   "metadata": {},
   "outputs": [],
   "source": [
    "promotor_prediction_df = pd.merge(prediction_df, genes_LFC_pd, how=\"inner\")"
   ]
  },
  {
   "cell_type": "code",
   "execution_count": 254,
   "metadata": {},
   "outputs": [
    {
     "data": {
      "text/html": [
       "<div>\n",
       "<style scoped>\n",
       "    .dataframe tbody tr th:only-of-type {\n",
       "        vertical-align: middle;\n",
       "    }\n",
       "\n",
       "    .dataframe tbody tr th {\n",
       "        vertical-align: top;\n",
       "    }\n",
       "\n",
       "    .dataframe thead th {\n",
       "        text-align: right;\n",
       "    }\n",
       "</style>\n",
       "<table border=\"1\" class=\"dataframe\">\n",
       "  <thead>\n",
       "    <tr style=\"text-align: right;\">\n",
       "      <th></th>\n",
       "      <th>geneID</th>\n",
       "      <th>promotor_prediction</th>\n",
       "      <th>LFC</th>\n",
       "      <th>padj</th>\n",
       "      <th>label</th>\n",
       "      <th>gene_symbol</th>\n",
       "    </tr>\n",
       "  </thead>\n",
       "  <tbody>\n",
       "    <tr>\n",
       "      <th>0</th>\n",
       "      <td>AT3G10940</td>\n",
       "      <td>0.069546</td>\n",
       "      <td>0.40</td>\n",
       "      <td>0.01</td>\n",
       "      <td>na</td>\n",
       "      <td>['LSF2']</td>\n",
       "    </tr>\n",
       "    <tr>\n",
       "      <th>1</th>\n",
       "      <td>AT3G18040</td>\n",
       "      <td>0.870054</td>\n",
       "      <td>0.97</td>\n",
       "      <td>0.00</td>\n",
       "      <td>na</td>\n",
       "      <td>['MPK9']</td>\n",
       "    </tr>\n",
       "    <tr>\n",
       "      <th>2</th>\n",
       "      <td>AT1G48110</td>\n",
       "      <td>0.202101</td>\n",
       "      <td>0.42</td>\n",
       "      <td>0.00</td>\n",
       "      <td>na</td>\n",
       "      <td>['ECT7']</td>\n",
       "    </tr>\n",
       "    <tr>\n",
       "      <th>3</th>\n",
       "      <td>AT5G15710</td>\n",
       "      <td>0.281345</td>\n",
       "      <td>0.28</td>\n",
       "      <td>0.18</td>\n",
       "      <td>na</td>\n",
       "      <td>['no symbol available']</td>\n",
       "    </tr>\n",
       "    <tr>\n",
       "      <th>4</th>\n",
       "      <td>AT3G05270</td>\n",
       "      <td>0.558580</td>\n",
       "      <td>0.59</td>\n",
       "      <td>0.00</td>\n",
       "      <td>na</td>\n",
       "      <td>['VETH1']</td>\n",
       "    </tr>\n",
       "    <tr>\n",
       "      <th>...</th>\n",
       "      <td>...</td>\n",
       "      <td>...</td>\n",
       "      <td>...</td>\n",
       "      <td>...</td>\n",
       "      <td>...</td>\n",
       "      <td>...</td>\n",
       "    </tr>\n",
       "    <tr>\n",
       "      <th>15192</th>\n",
       "      <td>AT1G63855</td>\n",
       "      <td>0.100398</td>\n",
       "      <td>0.31</td>\n",
       "      <td>0.88</td>\n",
       "      <td>na</td>\n",
       "      <td>['no symbol available']</td>\n",
       "    </tr>\n",
       "    <tr>\n",
       "      <th>15193</th>\n",
       "      <td>AT3G50590</td>\n",
       "      <td>0.078534</td>\n",
       "      <td>0.17</td>\n",
       "      <td>0.10</td>\n",
       "      <td>na</td>\n",
       "      <td>['TWD40-1']</td>\n",
       "    </tr>\n",
       "    <tr>\n",
       "      <th>15194</th>\n",
       "      <td>AT3G44340</td>\n",
       "      <td>0.226678</td>\n",
       "      <td>0.16</td>\n",
       "      <td>0.15</td>\n",
       "      <td>na</td>\n",
       "      <td>['CEF']</td>\n",
       "    </tr>\n",
       "    <tr>\n",
       "      <th>15195</th>\n",
       "      <td>AT1G63100</td>\n",
       "      <td>0.500387</td>\n",
       "      <td>-0.91</td>\n",
       "      <td>0.00</td>\n",
       "      <td>na</td>\n",
       "      <td>['SCL28']</td>\n",
       "    </tr>\n",
       "    <tr>\n",
       "      <th>15196</th>\n",
       "      <td>AT1G78980</td>\n",
       "      <td>0.475769</td>\n",
       "      <td>NaN</td>\n",
       "      <td>NaN</td>\n",
       "      <td>na</td>\n",
       "      <td>['SRF5']</td>\n",
       "    </tr>\n",
       "  </tbody>\n",
       "</table>\n",
       "<p>15197 rows × 6 columns</p>\n",
       "</div>"
      ],
      "text/plain": [
       "          geneID  promotor_prediction   LFC  padj label  \\\n",
       "0      AT3G10940             0.069546  0.40  0.01    na   \n",
       "1      AT3G18040             0.870054  0.97  0.00    na   \n",
       "2      AT1G48110             0.202101  0.42  0.00    na   \n",
       "3      AT5G15710             0.281345  0.28  0.18    na   \n",
       "4      AT3G05270             0.558580  0.59  0.00    na   \n",
       "...          ...                  ...   ...   ...   ...   \n",
       "15192  AT1G63855             0.100398  0.31  0.88    na   \n",
       "15193  AT3G50590             0.078534  0.17  0.10    na   \n",
       "15194  AT3G44340             0.226678  0.16  0.15    na   \n",
       "15195  AT1G63100             0.500387 -0.91  0.00    na   \n",
       "15196  AT1G78980             0.475769   NaN   NaN    na   \n",
       "\n",
       "                   gene_symbol  \n",
       "0                     ['LSF2']  \n",
       "1                     ['MPK9']  \n",
       "2                     ['ECT7']  \n",
       "3      ['no symbol available']  \n",
       "4                    ['VETH1']  \n",
       "...                        ...  \n",
       "15192  ['no symbol available']  \n",
       "15193              ['TWD40-1']  \n",
       "15194                  ['CEF']  \n",
       "15195                ['SCL28']  \n",
       "15196                 ['SRF5']  \n",
       "\n",
       "[15197 rows x 6 columns]"
      ]
     },
     "execution_count": 254,
     "metadata": {},
     "output_type": "execute_result"
    }
   ],
   "source": [
    "promotor_prediction_df"
   ]
  },
  {
   "cell_type": "code",
   "execution_count": 255,
   "metadata": {},
   "outputs": [
    {
     "data": {
      "text/plain": [
       "na     12797\n",
       "up      1200\n",
       "non     1200\n",
       "Name: label, dtype: int64"
      ]
     },
     "execution_count": 255,
     "metadata": {},
     "output_type": "execute_result"
    }
   ],
   "source": [
    "promotor_prediction_df.label.value_counts()"
   ]
  },
  {
   "cell_type": "code",
   "execution_count": 257,
   "metadata": {},
   "outputs": [],
   "source": [
    "promotor_prediction_df = pd.merge(prediction_df, genes_LFC_pd, how=\"inner\")\n",
    "promotor_prediction_df.loc[(promotor_prediction_df[\"label\"] == \"na\") & (promotor_prediction_df[\"padj\"] < 0.05) & (promotor_prediction_df[\"LFC\"] > 0.5), \"label\"] = \"greyzone_up\"\n",
    "promotor_prediction_df.loc[(promotor_prediction_df[\"label\"] == \"na\") & (promotor_prediction_df[\"padj\"] > 0.1) & (promotor_prediction_df[\"LFC\"] < 1), \"label\"] = \"greyzone_non\""
   ]
  },
  {
   "cell_type": "code",
   "execution_count": 287,
   "metadata": {},
   "outputs": [],
   "source": [
    "promotor_prediction_df = pd.merge(prediction_df, genes_LFC_pd, how=\"inner\")\n",
    "promotor_prediction_df.loc[(promotor_prediction_df[\"label\"] == \"na\") & (promotor_prediction_df[\"padj\"] < 0.05) & (promotor_prediction_df[\"LFC\"] > 1.1), \"label\"] = \"greyzone_up\"\n",
    "promotor_prediction_df.loc[(promotor_prediction_df[\"label\"] == \"na\") & (promotor_prediction_df[\"padj\"] > 0.1) & (promotor_prediction_df[\"LFC\"] < 0.1) & (promotor_prediction_df[\"LFC\"] > 0), \"label\"] = \"greyzone_non\""
   ]
  },
  {
   "cell_type": "code",
   "execution_count": 288,
   "metadata": {},
   "outputs": [
    {
     "data": {
      "text/plain": [
       "na              12275\n",
       "up               1200\n",
       "non              1200\n",
       "greyzone_up       274\n",
       "greyzone_non      248\n",
       "Name: label, dtype: int64"
      ]
     },
     "execution_count": 288,
     "metadata": {},
     "output_type": "execute_result"
    }
   ],
   "source": [
    "promotor_prediction_df.label.value_counts()"
   ]
  },
  {
   "cell_type": "code",
   "execution_count": 289,
   "metadata": {},
   "outputs": [
    {
     "data": {
      "text/html": [
       "<div>\n",
       "<style scoped>\n",
       "    .dataframe tbody tr th:only-of-type {\n",
       "        vertical-align: middle;\n",
       "    }\n",
       "\n",
       "    .dataframe tbody tr th {\n",
       "        vertical-align: top;\n",
       "    }\n",
       "\n",
       "    .dataframe thead th {\n",
       "        text-align: right;\n",
       "    }\n",
       "</style>\n",
       "<table border=\"1\" class=\"dataframe\">\n",
       "  <thead>\n",
       "    <tr style=\"text-align: right;\">\n",
       "      <th></th>\n",
       "      <th>geneID</th>\n",
       "      <th>promotor_prediction</th>\n",
       "      <th>LFC</th>\n",
       "      <th>padj</th>\n",
       "      <th>label</th>\n",
       "      <th>gene_symbol</th>\n",
       "    </tr>\n",
       "  </thead>\n",
       "  <tbody>\n",
       "    <tr>\n",
       "      <th>0</th>\n",
       "      <td>AT3G10940</td>\n",
       "      <td>0.069546</td>\n",
       "      <td>0.40</td>\n",
       "      <td>0.01</td>\n",
       "      <td>na</td>\n",
       "      <td>['LSF2']</td>\n",
       "    </tr>\n",
       "    <tr>\n",
       "      <th>1</th>\n",
       "      <td>AT3G18040</td>\n",
       "      <td>0.870054</td>\n",
       "      <td>0.97</td>\n",
       "      <td>0.00</td>\n",
       "      <td>na</td>\n",
       "      <td>['MPK9']</td>\n",
       "    </tr>\n",
       "    <tr>\n",
       "      <th>2</th>\n",
       "      <td>AT1G48110</td>\n",
       "      <td>0.202101</td>\n",
       "      <td>0.42</td>\n",
       "      <td>0.00</td>\n",
       "      <td>na</td>\n",
       "      <td>['ECT7']</td>\n",
       "    </tr>\n",
       "    <tr>\n",
       "      <th>3</th>\n",
       "      <td>AT5G15710</td>\n",
       "      <td>0.281345</td>\n",
       "      <td>0.28</td>\n",
       "      <td>0.18</td>\n",
       "      <td>na</td>\n",
       "      <td>['no symbol available']</td>\n",
       "    </tr>\n",
       "    <tr>\n",
       "      <th>4</th>\n",
       "      <td>AT3G05270</td>\n",
       "      <td>0.558580</td>\n",
       "      <td>0.59</td>\n",
       "      <td>0.00</td>\n",
       "      <td>na</td>\n",
       "      <td>['VETH1']</td>\n",
       "    </tr>\n",
       "    <tr>\n",
       "      <th>...</th>\n",
       "      <td>...</td>\n",
       "      <td>...</td>\n",
       "      <td>...</td>\n",
       "      <td>...</td>\n",
       "      <td>...</td>\n",
       "      <td>...</td>\n",
       "    </tr>\n",
       "    <tr>\n",
       "      <th>15192</th>\n",
       "      <td>AT1G63855</td>\n",
       "      <td>0.100398</td>\n",
       "      <td>0.31</td>\n",
       "      <td>0.88</td>\n",
       "      <td>na</td>\n",
       "      <td>['no symbol available']</td>\n",
       "    </tr>\n",
       "    <tr>\n",
       "      <th>15193</th>\n",
       "      <td>AT3G50590</td>\n",
       "      <td>0.078534</td>\n",
       "      <td>0.17</td>\n",
       "      <td>0.10</td>\n",
       "      <td>na</td>\n",
       "      <td>['TWD40-1']</td>\n",
       "    </tr>\n",
       "    <tr>\n",
       "      <th>15194</th>\n",
       "      <td>AT3G44340</td>\n",
       "      <td>0.226678</td>\n",
       "      <td>0.16</td>\n",
       "      <td>0.15</td>\n",
       "      <td>na</td>\n",
       "      <td>['CEF']</td>\n",
       "    </tr>\n",
       "    <tr>\n",
       "      <th>15195</th>\n",
       "      <td>AT1G63100</td>\n",
       "      <td>0.500387</td>\n",
       "      <td>-0.91</td>\n",
       "      <td>0.00</td>\n",
       "      <td>na</td>\n",
       "      <td>['SCL28']</td>\n",
       "    </tr>\n",
       "    <tr>\n",
       "      <th>15196</th>\n",
       "      <td>AT1G78980</td>\n",
       "      <td>0.475769</td>\n",
       "      <td>NaN</td>\n",
       "      <td>NaN</td>\n",
       "      <td>na</td>\n",
       "      <td>['SRF5']</td>\n",
       "    </tr>\n",
       "  </tbody>\n",
       "</table>\n",
       "<p>15197 rows × 6 columns</p>\n",
       "</div>"
      ],
      "text/plain": [
       "          geneID  promotor_prediction   LFC  padj label  \\\n",
       "0      AT3G10940             0.069546  0.40  0.01    na   \n",
       "1      AT3G18040             0.870054  0.97  0.00    na   \n",
       "2      AT1G48110             0.202101  0.42  0.00    na   \n",
       "3      AT5G15710             0.281345  0.28  0.18    na   \n",
       "4      AT3G05270             0.558580  0.59  0.00    na   \n",
       "...          ...                  ...   ...   ...   ...   \n",
       "15192  AT1G63855             0.100398  0.31  0.88    na   \n",
       "15193  AT3G50590             0.078534  0.17  0.10    na   \n",
       "15194  AT3G44340             0.226678  0.16  0.15    na   \n",
       "15195  AT1G63100             0.500387 -0.91  0.00    na   \n",
       "15196  AT1G78980             0.475769   NaN   NaN    na   \n",
       "\n",
       "                   gene_symbol  \n",
       "0                     ['LSF2']  \n",
       "1                     ['MPK9']  \n",
       "2                     ['ECT7']  \n",
       "3      ['no symbol available']  \n",
       "4                    ['VETH1']  \n",
       "...                        ...  \n",
       "15192  ['no symbol available']  \n",
       "15193              ['TWD40-1']  \n",
       "15194                  ['CEF']  \n",
       "15195                ['SCL28']  \n",
       "15196                 ['SRF5']  \n",
       "\n",
       "[15197 rows x 6 columns]"
      ]
     },
     "execution_count": 289,
     "metadata": {},
     "output_type": "execute_result"
    }
   ],
   "source": [
    "promotor_prediction_df"
   ]
  },
  {
   "cell_type": "code",
   "execution_count": 290,
   "metadata": {},
   "outputs": [],
   "source": [
    "# grey_zone_definition = pd.read_csv(\"/group/transreg/heopd/dlpipe/code/Sander/data/grey_zone_labels.csv\", delimiter=\",\")"
   ]
  },
  {
   "cell_type": "markdown",
   "metadata": {},
   "source": [
    "## Analysis"
   ]
  },
  {
   "cell_type": "code",
   "execution_count": 291,
   "metadata": {},
   "outputs": [
    {
     "data": {
      "text/html": [
       "<div>\n",
       "<style scoped>\n",
       "    .dataframe tbody tr th:only-of-type {\n",
       "        vertical-align: middle;\n",
       "    }\n",
       "\n",
       "    .dataframe tbody tr th {\n",
       "        vertical-align: top;\n",
       "    }\n",
       "\n",
       "    .dataframe thead th {\n",
       "        text-align: right;\n",
       "    }\n",
       "</style>\n",
       "<table border=\"1\" class=\"dataframe\">\n",
       "  <thead>\n",
       "    <tr style=\"text-align: right;\">\n",
       "      <th></th>\n",
       "      <th>geneID</th>\n",
       "      <th>promotor_prediction</th>\n",
       "      <th>LFC</th>\n",
       "      <th>padj</th>\n",
       "      <th>label</th>\n",
       "      <th>gene_symbol</th>\n",
       "    </tr>\n",
       "  </thead>\n",
       "  <tbody>\n",
       "    <tr>\n",
       "      <th>0</th>\n",
       "      <td>AT3G10940</td>\n",
       "      <td>0.069546</td>\n",
       "      <td>0.40</td>\n",
       "      <td>0.01</td>\n",
       "      <td>na</td>\n",
       "      <td>['LSF2']</td>\n",
       "    </tr>\n",
       "    <tr>\n",
       "      <th>1</th>\n",
       "      <td>AT3G18040</td>\n",
       "      <td>0.870054</td>\n",
       "      <td>0.97</td>\n",
       "      <td>0.00</td>\n",
       "      <td>na</td>\n",
       "      <td>['MPK9']</td>\n",
       "    </tr>\n",
       "    <tr>\n",
       "      <th>2</th>\n",
       "      <td>AT1G48110</td>\n",
       "      <td>0.202101</td>\n",
       "      <td>0.42</td>\n",
       "      <td>0.00</td>\n",
       "      <td>na</td>\n",
       "      <td>['ECT7']</td>\n",
       "    </tr>\n",
       "    <tr>\n",
       "      <th>3</th>\n",
       "      <td>AT5G15710</td>\n",
       "      <td>0.281345</td>\n",
       "      <td>0.28</td>\n",
       "      <td>0.18</td>\n",
       "      <td>na</td>\n",
       "      <td>['no symbol available']</td>\n",
       "    </tr>\n",
       "    <tr>\n",
       "      <th>4</th>\n",
       "      <td>AT3G05270</td>\n",
       "      <td>0.558580</td>\n",
       "      <td>0.59</td>\n",
       "      <td>0.00</td>\n",
       "      <td>na</td>\n",
       "      <td>['VETH1']</td>\n",
       "    </tr>\n",
       "    <tr>\n",
       "      <th>...</th>\n",
       "      <td>...</td>\n",
       "      <td>...</td>\n",
       "      <td>...</td>\n",
       "      <td>...</td>\n",
       "      <td>...</td>\n",
       "      <td>...</td>\n",
       "    </tr>\n",
       "    <tr>\n",
       "      <th>15192</th>\n",
       "      <td>AT1G63855</td>\n",
       "      <td>0.100398</td>\n",
       "      <td>0.31</td>\n",
       "      <td>0.88</td>\n",
       "      <td>na</td>\n",
       "      <td>['no symbol available']</td>\n",
       "    </tr>\n",
       "    <tr>\n",
       "      <th>15193</th>\n",
       "      <td>AT3G50590</td>\n",
       "      <td>0.078534</td>\n",
       "      <td>0.17</td>\n",
       "      <td>0.10</td>\n",
       "      <td>na</td>\n",
       "      <td>['TWD40-1']</td>\n",
       "    </tr>\n",
       "    <tr>\n",
       "      <th>15194</th>\n",
       "      <td>AT3G44340</td>\n",
       "      <td>0.226678</td>\n",
       "      <td>0.16</td>\n",
       "      <td>0.15</td>\n",
       "      <td>na</td>\n",
       "      <td>['CEF']</td>\n",
       "    </tr>\n",
       "    <tr>\n",
       "      <th>15195</th>\n",
       "      <td>AT1G63100</td>\n",
       "      <td>0.500387</td>\n",
       "      <td>-0.91</td>\n",
       "      <td>0.00</td>\n",
       "      <td>na</td>\n",
       "      <td>['SCL28']</td>\n",
       "    </tr>\n",
       "    <tr>\n",
       "      <th>15196</th>\n",
       "      <td>AT1G78980</td>\n",
       "      <td>0.475769</td>\n",
       "      <td>NaN</td>\n",
       "      <td>NaN</td>\n",
       "      <td>na</td>\n",
       "      <td>['SRF5']</td>\n",
       "    </tr>\n",
       "  </tbody>\n",
       "</table>\n",
       "<p>15197 rows × 6 columns</p>\n",
       "</div>"
      ],
      "text/plain": [
       "          geneID  promotor_prediction   LFC  padj label  \\\n",
       "0      AT3G10940             0.069546  0.40  0.01    na   \n",
       "1      AT3G18040             0.870054  0.97  0.00    na   \n",
       "2      AT1G48110             0.202101  0.42  0.00    na   \n",
       "3      AT5G15710             0.281345  0.28  0.18    na   \n",
       "4      AT3G05270             0.558580  0.59  0.00    na   \n",
       "...          ...                  ...   ...   ...   ...   \n",
       "15192  AT1G63855             0.100398  0.31  0.88    na   \n",
       "15193  AT3G50590             0.078534  0.17  0.10    na   \n",
       "15194  AT3G44340             0.226678  0.16  0.15    na   \n",
       "15195  AT1G63100             0.500387 -0.91  0.00    na   \n",
       "15196  AT1G78980             0.475769   NaN   NaN    na   \n",
       "\n",
       "                   gene_symbol  \n",
       "0                     ['LSF2']  \n",
       "1                     ['MPK9']  \n",
       "2                     ['ECT7']  \n",
       "3      ['no symbol available']  \n",
       "4                    ['VETH1']  \n",
       "...                        ...  \n",
       "15192  ['no symbol available']  \n",
       "15193              ['TWD40-1']  \n",
       "15194                  ['CEF']  \n",
       "15195                ['SCL28']  \n",
       "15196                 ['SRF5']  \n",
       "\n",
       "[15197 rows x 6 columns]"
      ]
     },
     "execution_count": 291,
     "metadata": {},
     "output_type": "execute_result"
    }
   ],
   "source": [
    "promotor_prediction_df"
   ]
  },
  {
   "cell_type": "code",
   "execution_count": 292,
   "metadata": {},
   "outputs": [],
   "source": [
    "all_greys = promotor_prediction_df[promotor_prediction_df[\"label\"].isin([\"greyzone_up\",\"greyzone_non\"])]\n",
    "grey_ups = promotor_prediction_df[promotor_prediction_df[\"label\"] == \"greyzone_up\"]"
   ]
  },
  {
   "cell_type": "code",
   "execution_count": 293,
   "metadata": {},
   "outputs": [],
   "source": [
    "train =  promotor_prediction_labeled[promotor_prediction_labeled[\"label\"].isin([\"up\", \"non\"])]"
   ]
  },
  {
   "cell_type": "code",
   "execution_count": 294,
   "metadata": {},
   "outputs": [
    {
     "data": {
      "text/plain": [
       "array([0.10720873, 0.4423063 , 0.6830853 , 0.7880863 , 0.5065927 ,\n",
       "       0.34662795, 0.6852087 , 0.10403113, 0.63151217, 0.8442372 ,\n",
       "       0.55199885, 0.5306281 , 0.6974691 , 0.6537688 , 0.5638112 ,\n",
       "       0.5846443 , 0.5860468 , 0.6086987 , 0.55504787, 0.7947632 ,\n",
       "       0.2952947 , 0.5253806 , 0.46064067, 0.4082296 , 0.16789302,\n",
       "       0.6489502 , 0.60615   , 0.50183386, 0.5529934 , 0.4756348 ,\n",
       "       0.41712525, 0.13773389, 0.62033397, 0.21951376, 0.12046449,\n",
       "       0.03557297, 0.41387463, 0.05162711, 0.48582318, 0.6181004 ,\n",
       "       0.27779144, 0.3182371 , 0.42814282, 0.44039077, 0.8189559 ,\n",
       "       0.66639507, 0.41182408, 0.08441326, 0.5779129 , 0.04449314,\n",
       "       0.6708173 , 0.6684936 , 0.438019  , 0.5663906 , 0.58313024,\n",
       "       0.4245956 , 0.4207699 , 0.39171135, 0.50745356, 0.6803018 ,\n",
       "       0.2936315 , 0.39083326, 0.18406436, 0.8336683 , 0.20007141,\n",
       "       0.50402856, 0.1766963 , 0.8645388 , 0.7676548 , 0.44262195,\n",
       "       0.76428854, 0.70773494, 0.5767878 , 0.3536427 , 0.6252425 ,\n",
       "       0.82278985, 0.7561748 , 0.67840564, 0.7125244 , 0.02271004,\n",
       "       0.1768792 , 0.6363398 , 0.60433906, 0.34315675, 0.22414298,\n",
       "       0.4021791 , 0.5213779 , 0.7411485 , 0.5724685 , 0.03265458,\n",
       "       0.13233213, 0.6718981 , 0.06042156, 0.14079854, 0.32205564,\n",
       "       0.3493113 , 0.22944437, 0.60752475, 0.03332461, 0.381377  ,\n",
       "       0.24463011, 0.77530086, 0.63682413, 0.45117688, 0.6822552 ,\n",
       "       0.67865264, 0.2978078 , 0.21059299, 0.6418974 , 0.5191383 ,\n",
       "       0.67974794, 0.6158488 , 0.55906993, 0.00810236, 0.44562   ,\n",
       "       0.69277865, 0.6118512 , 0.3287843 , 0.32111508, 0.8664087 ,\n",
       "       0.70574236, 0.66995585, 0.18413144, 0.10788405, 0.6069757 ,\n",
       "       0.30791622, 0.8172791 , 0.4514407 , 0.01968253, 0.47813267,\n",
       "       0.54539907, 0.16282511, 0.5837077 , 0.80004203, 0.49063528,\n",
       "       0.5837376 , 0.39431936, 0.21663049, 0.56873393, 0.44658643,\n",
       "       0.7179142 , 0.7538458 , 0.19381244, 0.323625  , 0.01301716,\n",
       "       0.45054647, 0.20417643, 0.30281538, 0.55356085, 0.581171  ,\n",
       "       0.302182  , 0.44537243, 0.6699475 , 0.08118234, 0.85506964,\n",
       "       0.03301713, 0.44719648, 0.09231287, 0.0491241 , 0.775666  ,\n",
       "       0.3794974 , 0.66437376, 0.2735061 , 0.68231845, 0.28469816,\n",
       "       0.193562  , 0.6306774 , 0.8177908 , 0.4267673 , 0.6962001 ,\n",
       "       0.28859833, 0.7815345 , 0.41389978, 0.47548813, 0.6008426 ,\n",
       "       0.1261023 , 0.502873  , 0.66109145, 0.14460912, 0.78886724,\n",
       "       0.43888777, 0.6050166 , 0.8943286 , 0.70900095, 0.77907634,\n",
       "       0.04984026, 0.5783689 , 0.92042536, 0.32712814, 0.68225825,\n",
       "       0.5637459 , 0.72954357, 0.01325283, 0.42778492, 0.79676294,\n",
       "       0.41936448, 0.8997317 , 0.649696  , 0.7075052 , 0.12159923,\n",
       "       0.37464678, 0.27642485, 0.68306077, 0.5961267 , 0.04103357,\n",
       "       0.75973845, 0.27181742, 0.5180437 , 0.44240043, 0.45493883,\n",
       "       0.4458003 , 0.7802733 , 0.8394221 , 0.8228663 , 0.27716935,\n",
       "       0.65354663, 0.6638486 , 0.35621968, 0.27136332, 0.8127302 ,\n",
       "       0.11952719, 0.23345044, 0.5936613 , 0.13882993, 0.2866549 ,\n",
       "       0.43760073, 0.6967865 , 0.6554018 , 0.09408902, 0.4446304 ,\n",
       "       0.29855335, 0.32523927, 0.06569201, 0.14581388, 0.68064296,\n",
       "       0.03965899, 0.03487881, 0.27080184, 0.5250273 , 0.5473573 ,\n",
       "       0.76860815, 0.13038787, 0.6541714 , 0.6364809 , 0.0468636 ,\n",
       "       0.7304866 , 0.27327535, 0.19902718, 0.2868225 , 0.5813872 ,\n",
       "       0.11147249, 0.22402725, 0.54127663, 0.02463955, 0.28381637,\n",
       "       0.7209401 , 0.11687668, 0.708431  , 0.3082274 , 0.56904113,\n",
       "       0.37391   , 0.2107329 , 0.37519422, 0.03055648, 0.21791437,\n",
       "       0.7737644 , 0.38989267, 0.5646119 , 0.93164325, 0.40755558,\n",
       "       0.11606666, 0.3001922 , 0.75033915, 0.44698668, 0.45498893,\n",
       "       0.62867653, 0.3241001 , 0.80472714, 0.40359196, 0.33676428,\n",
       "       0.20649868, 0.11322071, 0.1989783 , 0.5272789 , 0.10634367,\n",
       "       0.75980043, 0.06852828, 0.25831175, 0.7046312 , 0.7930852 ,\n",
       "       0.61861014, 0.66501486, 0.19563451, 0.69049215, 0.46643555,\n",
       "       0.66420734, 0.52797836, 0.6898329 , 0.12733892, 0.94865537,\n",
       "       0.8425347 , 0.21111557, 0.58309495, 0.03136538, 0.5146795 ,\n",
       "       0.6379317 , 0.72633594, 0.5347582 , 0.42288414, 0.144981  ,\n",
       "       0.15658212, 0.74101865, 0.43650943, 0.7510319 , 0.2578581 ,\n",
       "       0.57929873, 0.20668156, 0.40647832, 0.23469163, 0.5281819 ,\n",
       "       0.6280365 , 0.44011316, 0.19485167, 0.01517174, 0.61571956,\n",
       "       0.7084865 , 0.56168723, 0.8131244 , 0.17676143, 0.74030495,\n",
       "       0.14300892, 0.67535627, 0.8387787 , 0.29660875, 0.6465951 ,\n",
       "       0.75886357, 0.21083497, 0.03008179, 0.5200971 , 0.7968225 ,\n",
       "       0.77795064, 0.54784346, 0.1217621 , 0.668103  , 0.170486  ,\n",
       "       0.22012773, 0.37075606, 0.15960965, 0.45135787, 0.49511623,\n",
       "       0.61338997, 0.58234406, 0.4163764 , 0.25810975, 0.50232923,\n",
       "       0.33528453, 0.3486288 , 0.2044017 , 0.38940668, 0.54849046,\n",
       "       0.07063551, 0.42549336, 0.5556518 , 0.71998274, 0.48957998,\n",
       "       0.4383157 , 0.53885984, 0.5066973 , 0.6651982 , 0.31194508,\n",
       "       0.73494375, 0.196397  , 0.7562777 , 0.3413064 , 0.6651095 ,\n",
       "       0.50711936, 0.30161574, 0.41341466, 0.8737945 , 0.743428  ,\n",
       "       0.06247973, 0.36316672, 0.5436079 , 0.33373207, 0.07912789,\n",
       "       0.84305596, 0.26306874, 0.8426579 , 0.5111975 , 0.38713396,\n",
       "       0.8013691 , 0.51434743, 0.45605707, 0.16976903, 0.63832843,\n",
       "       0.4407307 , 0.26352054, 0.327457  , 0.56662446, 0.63205093,\n",
       "       0.85019016, 0.07684341, 0.6834506 , 0.5177387 , 0.55223936,\n",
       "       0.20391855, 0.86499774, 0.60294616, 0.6628846 , 0.75864357,\n",
       "       0.07041723, 0.5732068 , 0.55608356, 0.49438462, 0.22109741,\n",
       "       0.43288916, 0.15185015, 0.66872454, 0.45411187, 0.18569091,\n",
       "       0.30746007, 0.61776114, 0.7863208 , 0.49630177, 0.1949564 ,\n",
       "       0.78836393, 0.582234  , 0.5485031 , 0.8074931 , 0.6268138 ,\n",
       "       0.40137538, 0.6603054 , 0.7288134 , 0.5430308 , 0.37512112,\n",
       "       0.5320045 , 0.674223  , 0.6951319 , 0.60457456, 0.28295174,\n",
       "       0.08895422, 0.85886085, 0.01341054, 0.28607863, 0.79563093,\n",
       "       0.49000615, 0.6332071 , 0.493249  , 0.6092152 , 0.5680772 ,\n",
       "       0.22886866, 0.41728377, 0.8280997 , 0.24119471, 0.9385633 ,\n",
       "       0.21430072, 0.51198655, 0.4767396 , 0.02036108, 0.73174465,\n",
       "       0.0611916 , 0.4220982 , 0.42243406, 0.58219993, 0.66830456,\n",
       "       0.8109431 , 0.38526094, 0.82006204, 0.04178149, 0.6003741 ,\n",
       "       0.54557025, 0.11658064, 0.58574754, 0.36326653, 0.53859746,\n",
       "       0.61709857, 0.2517113 , 0.3146636 , 0.13204469, 0.48896837,\n",
       "       0.79380834, 0.8834187 , 0.3531301 , 0.4124154 , 0.44949424,\n",
       "       0.46770978, 0.26956964, 0.21920072, 0.2565481 , 0.20562375,\n",
       "       0.49555743, 0.6169818 , 0.34974974, 0.36173746, 0.6459488 ,\n",
       "       0.19535959, 0.225481  , 0.21008602, 0.38991034, 0.6597469 ,\n",
       "       0.6563321 , 0.32035   , 0.04969103, 0.43212044, 0.4050696 ,\n",
       "       0.75592804, 0.6365315 , 0.70381254, 0.5539747 , 0.53076565,\n",
       "       0.14129096, 0.3603956 , 0.4286484 , 0.46302772, 0.40935642,\n",
       "       0.37156504, 0.3289559 , 0.6870504 , 0.33810407, 0.07347869,\n",
       "       0.7159852 , 0.0862228 ], dtype=float32)"
      ]
     },
     "execution_count": 294,
     "metadata": {},
     "output_type": "execute_result"
    }
   ],
   "source": [
    "all_greys.promotor_prediction.unique()"
   ]
  },
  {
   "cell_type": "code",
   "execution_count": 295,
   "metadata": {},
   "outputs": [
    {
     "data": {
      "image/png": "[encoded data removed]",
      "text/plain": [
       "<Figure size 640x480 with 1 Axes>"
      ]
     },
     "metadata": {},
     "output_type": "display_data"
    }
   ],
   "source": [
    "import seaborn as sns\n",
    "import matplotlib.pyplot as plt\n",
    "\n",
    "from scipy.stats import pearsonr\n",
    "\n",
    "sns.scatterplot(data=all_greys, x='promotor_prediction', y='LFC', hue='label', hue_order=list(all_greys.label.unique()), palette='Accent', s=7)\n",
    "\n",
    "# Plot the regression line without considering the hue (label)\n",
    "sns.regplot(\n",
    "    data=all_greys, \n",
    "    x='promotor_prediction', \n",
    "    y='LFC', \n",
    "    scatter=False,  # No scatter points here since we already plotted them\n",
    "    color='black',  # Line color\n",
    "    line_kws={'lw': 1.5}  # Line width\n",
    ")\n",
    "\n",
    "# Calculate Pearson correlation coefficient and R^2\n",
    "pearson_corr, _ = pearsonr(all_greys['promotor_prediction'], all_greys['LFC'])\n",
    "r_squared = pearson_corr ** 2\n",
    "\n",
    "# Annotate the R^2 value on the plot\n",
    "plt.annotate(f'$R^2 = {r_squared:.2f}$', xy=(0.05, 0.95), xycoords='axes fraction', fontsize=12,\n",
    "             horizontalalignment='left', verticalalignment='top', bbox=dict(facecolor='white', alpha=0.5))\n",
    "\n",
    "up_count = all_greys[all_greys.label == 'greyzone_up'].shape[0]\n",
    "non_count = all_greys[all_greys.label == 'greyzone_non'].shape[0]\n",
    "\n",
    "plt.title(f\"Greyzone test set (up: {up_count}, non:{non_count})\")\n",
    "# Show the plot\n",
    "plt.show()"
   ]
  },
  {
   "cell_type": "code",
   "execution_count": 296,
   "metadata": {},
   "outputs": [
    {
     "data": {
      "image/png": "[encoded data removed]",
      "text/plain": [
       "<Figure size 640x480 with 1 Axes>"
      ]
     },
     "metadata": {},
     "output_type": "display_data"
    }
   ],
   "source": [
    "from scipy.stats import pearsonr\n",
    "\n",
    "sns.scatterplot(data=grey_ups, x='promotor_prediction', y='LFC', hue='label', hue_order=list(grey_ups.label.unique()), palette='Accent', s=7)\n",
    "\n",
    "# Plot the regression line without considering the hue (label)\n",
    "sns.regplot(\n",
    "    data=grey_ups, \n",
    "    x='promotor_prediction', \n",
    "    y='LFC', \n",
    "    scatter=False,  # No scatter points here since we already plotted them\n",
    "    color='black',  # Line color\n",
    "    line_kws={'lw': 1.5}  # Line width\n",
    ")\n",
    "\n",
    "# Calculate Pearson correlation coefficient and R^2\n",
    "pearson_corr, _ = pearsonr(grey_ups['promotor_prediction'], grey_ups['LFC'])\n",
    "r_squared = pearson_corr ** 2\n",
    "\n",
    "# Annotate the R^2 value on the plot\n",
    "plt.annotate(f'$R^2 = {r_squared:.2f}$', xy=(0.75, 0.95), xycoords='axes fraction', fontsize=12,\n",
    "             horizontalalignment='left', verticalalignment='top', bbox=dict(facecolor='white', alpha=0.5))\n",
    "\n",
    "up_count = all_greys[all_greys.label == 'greyzone_up'].shape[0]\n",
    "\n",
    "plt.title(f\"Greyzone upregulated ({up_count} samples)\")\n",
    "\n",
    "# Show the plot\n",
    "plt.show()"
   ]
  },
  {
   "cell_type": "markdown",
   "metadata": {},
   "source": [
    "### Plot distribution"
   ]
  },
  {
   "cell_type": "code",
   "execution_count": 297,
   "metadata": {},
   "outputs": [
    {
     "name": "stdout",
     "output_type": "stream",
     "text": [
      "Mean prediction probability greyzone up: 0.542816698551178\n"
     ]
    }
   ],
   "source": [
    "print(f\"Mean prediction probability greyzone up: {all_greys[all_greys['label'] == 'greyzone_up']['promotor_prediction'].mean()}\")"
   ]
  },
  {
   "cell_type": "code",
   "execution_count": 298,
   "metadata": {},
   "outputs": [
    {
     "name": "stdout",
     "output_type": "stream",
     "text": [
      "Mean prediction probability greyzone non: 0.3719463348388672\n"
     ]
    }
   ],
   "source": [
    "print(f\"Mean prediction probability greyzone non: {all_greys[all_greys['label'] == 'greyzone_non']['promotor_prediction'].mean()}\")"
   ]
  },
  {
   "cell_type": "code",
   "execution_count": 299,
   "metadata": {},
   "outputs": [
    {
     "data": {
      "text/plain": [
       "<Figure size 640x480 with 0 Axes>"
      ]
     },
     "metadata": {},
     "output_type": "display_data"
    },
    {
     "data": {
      "image/png": "[encoded data removed]",
      "text/plain": [
       "<Figure size 1000x600 with 1 Axes>"
      ]
     },
     "metadata": {},
     "output_type": "display_data"
    }
   ],
   "source": [
    "\n",
    "%matplotlib inline\n",
    "import matplotlib.pyplot as plt\n",
    "# Assuming scores_df is your DataFrame and you want to plot a histogram\n",
    "plt.clf()\n",
    "plt.figure(figsize=(10, 6))\n",
    "\n",
    "# Plot histogram for Column1\n",
    "plt.hist(all_greys[all_greys[\"label\"] == \"greyzone_up\"][\"promotor_prediction\"], bins=90, color='blue', alpha=0.7, label='greyzone_up')\n",
    "\n",
    "# Plot histogram for Column2\n",
    "plt.hist(all_greys[all_greys[\"label\"] == \"greyzone_non\"][\"promotor_prediction\"], bins=90, color='green', alpha=0.7, label='greyzone_non')\n",
    "\n",
    "# Add title and labels\n",
    "plt.title('Overlapping Histograms of greyzone up and non')\n",
    "plt.xlabel('Probability')\n",
    "plt.ylabel('Amount of predictions')\n",
    "\n",
    "# Add legend\n",
    "plt.legend(loc='upper right')\n",
    "plt.show()"
   ]
  },
  {
   "cell_type": "code",
   "execution_count": null,
   "metadata": {},
   "outputs": [],
   "source": []
  },
  {
   "cell_type": "code",
   "execution_count": null,
   "metadata": {},
   "outputs": [],
   "source": []
  }
 ],
 "metadata": {
  "kernelspec": {
   "display_name": "Python 3 (ipykernel)",
   "language": "python",
   "name": "python3"
  },
  "language_info": {
   "codemirror_mode": {
    "name": "ipython",
    "version": 3
   },
   "file_extension": ".py",
   "mimetype": "text/x-python",
   "name": "python",
   "nbconvert_exporter": "python",
   "pygments_lexer": "ipython3",
   "version": "3.8.0"
  }
 },
 "nbformat": 4,
 "nbformat_minor": 2
}
