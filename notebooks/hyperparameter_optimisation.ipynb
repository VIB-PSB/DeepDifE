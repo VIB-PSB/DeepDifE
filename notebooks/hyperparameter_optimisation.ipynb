{
 "cells": [
  {
   "cell_type": "code",
   "execution_count": 1,
   "metadata": {
    "tags": []
   },
   "outputs": [
    {
     "name": "stderr",
     "output_type": "stream",
     "text": [
      "2025-05-22 10:57:12.139252: I tensorflow/core/platform/cpu_feature_guard.cc:193] This TensorFlow binary is optimized with oneAPI Deep Neural Network Library (oneDNN) to use the following CPU instructions in performance-critical operations:  AVX2 AVX512F AVX512_VNNI AVX512_BF16 AVX_VNNI AMX_TILE AMX_INT8 AMX_BF16 FMA\n",
      "To enable them in other operations, rebuild TensorFlow with the appropriate compiler flags.\n",
      "2025-05-22 10:57:12.268541: I tensorflow/core/util/port.cc:104] oneDNN custom operations are on. You may see slightly different numerical results due to floating-point round-off errors from different computation orders. To turn them off, set the environment variable `TF_ENABLE_ONEDNN_OPTS=0`.\n",
      "2025-05-22 10:57:12.272894: W tensorflow/compiler/xla/stream_executor/platform/default/dso_loader.cc:64] Could not load dynamic library 'libcudart.so.11.0'; dlerror: libcudart.so.11.0: cannot open shared object file: No such file or directory; LD_LIBRARY_PATH: /mnt/modules/easybuild/software/Ghostscript/10.01.2-GCCcore-12.3.0/lib:/mnt/modules/easybuild/software/GTK3/3.24.37-GCCcore-12.3.0/lib:/mnt/modules/easybuild/software/Wayland/1.22.0-GCCcore-12.3.0/lib:/mnt/modules/easybuild/software/libepoxy/1.5.10-GCCcore-12.3.0/lib:/mnt/modules/easybuild/software/Mesa/23.1.4-GCCcore-12.3.0/lib:/mnt/modules/easybuild/software/LLVM/16.0.6-GCCcore-12.3.0/lib:/mnt/modules/easybuild/software/libunwind/1.6.2-GCCcore-12.3.0/lib:/mnt/modules/easybuild/software/libglvnd/1.6.0-GCCcore-12.3.0/lib:/mnt/modules/easybuild/software/libdrm/2.4.115-GCCcore-12.3.0/lib:/mnt/modules/easybuild/software/Pango/1.50.14-GCCcore-12.3.0/lib:/mnt/modules/easybuild/software/FriBidi/1.0.12-GCCcore-12.3.0/lib:/mnt/modules/easybuild/software/HarfBuzz/5.3.1-GCCcore-12.3.0/lib:/mnt/modules/easybuild/software/ICU/73.2-GCCcore-12.3.0/lib:/mnt/modules/easybuild/software/Gdk-Pixbuf/2.42.10-GCCcore-12.3.0/lib:/mnt/modules/easybuild/software/at-spi2-atk/2.38.0-GCCcore-12.3.0/lib:/mnt/modules/easybuild/software/at-spi2-core/2.49.91-GCCcore-12.3.0/lib:/mnt/modules/easybuild/software/DBus/1.15.4-GCCcore-12.3.0/lib:/mnt/modules/easybuild/software/ATK/2.38.0-GCCcore-12.3.0/lib:/mnt/modules/easybuild/software/LibTIFF/4.5.0-GCCcore-12.3.0/lib:/mnt/modules/easybuild/software/libdeflate/1.18-GCCcore-12.3.0/lib:/mnt/modules/easybuild/software/zstd/1.5.5-GCCcore-12.3.0/lib:/mnt/modules/easybuild/software/lz4/1.9.4-GCCcore-12.3.0/lib:/mnt/modules/easybuild/software/jbigkit/2.1-GCCcore-12.3.0/lib:/mnt/modules/easybuild/software/cairo/1.17.8-GCCcore-12.3.0/lib:/mnt/modules/easybuild/software/X11/20230603-GCCcore-12.3.0/lib:/mnt/modules/easybuild/software/fontconfig/2.14.2-GCCcore-12.3.0/lib:/mnt/modules/easybuild/software/pixman/0.42.2-GCCcore-12.3.0/lib:/mnt/modules/easybuild/software/GLib/2.77.1-GCCcore-12.3.0/lib:/mnt/modules/easybuild/software/util-linux/2.39-GCCcore-12.3.0/lib:/mnt/modules/easybuild/software/PCRE2/10.42-GCCcore-12.3.0/lib:/mnt/modules/easybuild/software/gettext/0.21.1-GCCcore-12.3.0/lib:/mnt/modules/easybuild/software/expat/2.5.0-GCCcore-12.3.0/lib:/mnt/modules/easybuild/software/libjpeg-turbo/2.1.5.1-GCCcore-12.3.0/lib:/mnt/modules/easybuild/software/freetype/2.13.0-GCCcore-12.3.0/lib:/mnt/modules/easybuild/software/Brotli/1.0.9-GCCcore-12.3.0/lib:/mnt/modules/easybuild/software/libpng/1.6.39-GCCcore-12.3.0/lib:/mnt/modules/easybuild/software/Python/3.11.3-GCCcore-12.3.0/lib:/mnt/modules/easybuild/software/libffi/3.4.4-GCCcore-12.3.0/lib64:/mnt/modules/easybuild/software/SQLite/3.42.0-GCCcore-12.3.0/lib:/mnt/modules/easybuild/software/Tcl/8.6.13-GCCcore-12.3.0/lib:/mnt/modules/easybuild/software/libreadline/8.2-GCCcore-12.3.0/lib:/mnt/modules/easybuild/software/ncurses/6.4-GCCcore-12.3.0/lib:/mnt/modules/easybuild/software/bzip2/1.0.8-GCCcore-12.3.0/lib:/mnt/modules/easybuild/software/libxslt/1.1.38-GCCcore-12.3.0/lib:/mnt/modules/easybuild/software/OpenMPI/4.1.5-GCC-12.3.0/lib:/mnt/modules/easybuild/software/UCC/1.2.0-GCCcore-12.3.0/lib:/mnt/modules/easybuild/software/PMIx/4.2.4-GCCcore-12.3.0/lib:/mnt/modules/easybuild/software/libfabric/1.18.0-GCCcore-12.3.0/lib:/mnt/modules/easybuild/software/UCX/1.14.1-GCCcore-12.3.0/lib:/mnt/modules/easybuild/software/libevent/2.1.12-GCCcore-12.3.0/lib:/mnt/modules/easybuild/software/OpenSSL/1.1/lib:/mnt/modules/easybuild/software/hwloc/2.9.1-GCCcore-12.3.0/lib:/mnt/modules/easybuild/software/libpciaccess/0.17-GCCcore-12.3.0/lib:/mnt/modules/easybuild/software/libxml2/2.11.4-GCCcore-12.3.0/lib:/mnt/modules/easybuild/software/XZ/5.4.2-GCCcore-12.3.0/lib:/mnt/modules/easybuild/software/numactl/2.0.16-GCCcore-12.3.0/lib:/mnt/modules/easybuild/software/binutils/2.40-GCCcore-12.3.0/lib:/mnt/modules/easybuild/software/zlib/1.2.13-GCCcore-12.3.0/lib:/mnt/modules/easybuild/software/GCCcore/12.3.0/lib64\n",
      "2025-05-22 10:57:12.272918: I tensorflow/compiler/xla/stream_executor/cuda/cudart_stub.cc:29] Ignore above cudart dlerror if you do not have a GPU set up on your machine.\n",
      "2025-05-22 10:57:15.281631: W tensorflow/compiler/xla/stream_executor/platform/default/dso_loader.cc:64] Could not load dynamic library 'libnvinfer.so.7'; dlerror: libnvinfer.so.7: cannot open shared object file: No such file or directory; LD_LIBRARY_PATH: /mnt/modules/easybuild/software/Ghostscript/10.01.2-GCCcore-12.3.0/lib:/mnt/modules/easybuild/software/GTK3/3.24.37-GCCcore-12.3.0/lib:/mnt/modules/easybuild/software/Wayland/1.22.0-GCCcore-12.3.0/lib:/mnt/modules/easybuild/software/libepoxy/1.5.10-GCCcore-12.3.0/lib:/mnt/modules/easybuild/software/Mesa/23.1.4-GCCcore-12.3.0/lib:/mnt/modules/easybuild/software/LLVM/16.0.6-GCCcore-12.3.0/lib:/mnt/modules/easybuild/software/libunwind/1.6.2-GCCcore-12.3.0/lib:/mnt/modules/easybuild/software/libglvnd/1.6.0-GCCcore-12.3.0/lib:/mnt/modules/easybuild/software/libdrm/2.4.115-GCCcore-12.3.0/lib:/mnt/modules/easybuild/software/Pango/1.50.14-GCCcore-12.3.0/lib:/mnt/modules/easybuild/software/FriBidi/1.0.12-GCCcore-12.3.0/lib:/mnt/modules/easybuild/software/HarfBuzz/5.3.1-GCCcore-12.3.0/lib:/mnt/modules/easybuild/software/ICU/73.2-GCCcore-12.3.0/lib:/mnt/modules/easybuild/software/Gdk-Pixbuf/2.42.10-GCCcore-12.3.0/lib:/mnt/modules/easybuild/software/at-spi2-atk/2.38.0-GCCcore-12.3.0/lib:/mnt/modules/easybuild/software/at-spi2-core/2.49.91-GCCcore-12.3.0/lib:/mnt/modules/easybuild/software/DBus/1.15.4-GCCcore-12.3.0/lib:/mnt/modules/easybuild/software/ATK/2.38.0-GCCcore-12.3.0/lib:/mnt/modules/easybuild/software/LibTIFF/4.5.0-GCCcore-12.3.0/lib:/mnt/modules/easybuild/software/libdeflate/1.18-GCCcore-12.3.0/lib:/mnt/modules/easybuild/software/zstd/1.5.5-GCCcore-12.3.0/lib:/mnt/modules/easybuild/software/lz4/1.9.4-GCCcore-12.3.0/lib:/mnt/modules/easybuild/software/jbigkit/2.1-GCCcore-12.3.0/lib:/mnt/modules/easybuild/software/cairo/1.17.8-GCCcore-12.3.0/lib:/mnt/modules/easybuild/software/X11/20230603-GCCcore-12.3.0/lib:/mnt/modules/easybuild/software/fontconfig/2.14.2-GCCcore-12.3.0/lib:/mnt/modules/easybuild/software/pixman/0.42.2-GCCcore-12.3.0/lib:/mnt/modules/easybuild/software/GLib/2.77.1-GCCcore-12.3.0/lib:/mnt/modules/easybuild/software/util-linux/2.39-GCCcore-12.3.0/lib:/mnt/modules/easybuild/software/PCRE2/10.42-GCCcore-12.3.0/lib:/mnt/modules/easybuild/software/gettext/0.21.1-GCCcore-12.3.0/lib:/mnt/modules/easybuild/software/expat/2.5.0-GCCcore-12.3.0/lib:/mnt/modules/easybuild/software/libjpeg-turbo/2.1.5.1-GCCcore-12.3.0/lib:/mnt/modules/easybuild/software/freetype/2.13.0-GCCcore-12.3.0/lib:/mnt/modules/easybuild/software/Brotli/1.0.9-GCCcore-12.3.0/lib:/mnt/modules/easybuild/software/libpng/1.6.39-GCCcore-12.3.0/lib:/mnt/modules/easybuild/software/Python/3.11.3-GCCcore-12.3.0/lib:/mnt/modules/easybuild/software/libffi/3.4.4-GCCcore-12.3.0/lib64:/mnt/modules/easybuild/software/SQLite/3.42.0-GCCcore-12.3.0/lib:/mnt/modules/easybuild/software/Tcl/8.6.13-GCCcore-12.3.0/lib:/mnt/modules/easybuild/software/libreadline/8.2-GCCcore-12.3.0/lib:/mnt/modules/easybuild/software/ncurses/6.4-GCCcore-12.3.0/lib:/mnt/modules/easybuild/software/bzip2/1.0.8-GCCcore-12.3.0/lib:/mnt/modules/easybuild/software/libxslt/1.1.38-GCCcore-12.3.0/lib:/mnt/modules/easybuild/software/OpenMPI/4.1.5-GCC-12.3.0/lib:/mnt/modules/easybuild/software/UCC/1.2.0-GCCcore-12.3.0/lib:/mnt/modules/easybuild/software/PMIx/4.2.4-GCCcore-12.3.0/lib:/mnt/modules/easybuild/software/libfabric/1.18.0-GCCcore-12.3.0/lib:/mnt/modules/easybuild/software/UCX/1.14.1-GCCcore-12.3.0/lib:/mnt/modules/easybuild/software/libevent/2.1.12-GCCcore-12.3.0/lib:/mnt/modules/easybuild/software/OpenSSL/1.1/lib:/mnt/modules/easybuild/software/hwloc/2.9.1-GCCcore-12.3.0/lib:/mnt/modules/easybuild/software/libpciaccess/0.17-GCCcore-12.3.0/lib:/mnt/modules/easybuild/software/libxml2/2.11.4-GCCcore-12.3.0/lib:/mnt/modules/easybuild/software/XZ/5.4.2-GCCcore-12.3.0/lib:/mnt/modules/easybuild/software/numactl/2.0.16-GCCcore-12.3.0/lib:/mnt/modules/easybuild/software/binutils/2.40-GCCcore-12.3.0/lib:/mnt/modules/easybuild/software/zlib/1.2.13-GCCcore-12.3.0/lib:/mnt/modules/easybuild/software/GCCcore/12.3.0/lib64\n",
      "2025-05-22 10:57:15.282084: W tensorflow/compiler/xla/stream_executor/platform/default/dso_loader.cc:64] Could not load dynamic library 'libnvinfer_plugin.so.7'; dlerror: libnvinfer_plugin.so.7: cannot open shared object file: No such file or directory; LD_LIBRARY_PATH: /mnt/modules/easybuild/software/Ghostscript/10.01.2-GCCcore-12.3.0/lib:/mnt/modules/easybuild/software/GTK3/3.24.37-GCCcore-12.3.0/lib:/mnt/modules/easybuild/software/Wayland/1.22.0-GCCcore-12.3.0/lib:/mnt/modules/easybuild/software/libepoxy/1.5.10-GCCcore-12.3.0/lib:/mnt/modules/easybuild/software/Mesa/23.1.4-GCCcore-12.3.0/lib:/mnt/modules/easybuild/software/LLVM/16.0.6-GCCcore-12.3.0/lib:/mnt/modules/easybuild/software/libunwind/1.6.2-GCCcore-12.3.0/lib:/mnt/modules/easybuild/software/libglvnd/1.6.0-GCCcore-12.3.0/lib:/mnt/modules/easybuild/software/libdrm/2.4.115-GCCcore-12.3.0/lib:/mnt/modules/easybuild/software/Pango/1.50.14-GCCcore-12.3.0/lib:/mnt/modules/easybuild/software/FriBidi/1.0.12-GCCcore-12.3.0/lib:/mnt/modules/easybuild/software/HarfBuzz/5.3.1-GCCcore-12.3.0/lib:/mnt/modules/easybuild/software/ICU/73.2-GCCcore-12.3.0/lib:/mnt/modules/easybuild/software/Gdk-Pixbuf/2.42.10-GCCcore-12.3.0/lib:/mnt/modules/easybuild/software/at-spi2-atk/2.38.0-GCCcore-12.3.0/lib:/mnt/modules/easybuild/software/at-spi2-core/2.49.91-GCCcore-12.3.0/lib:/mnt/modules/easybuild/software/DBus/1.15.4-GCCcore-12.3.0/lib:/mnt/modules/easybuild/software/ATK/2.38.0-GCCcore-12.3.0/lib:/mnt/modules/easybuild/software/LibTIFF/4.5.0-GCCcore-12.3.0/lib:/mnt/modules/easybuild/software/libdeflate/1.18-GCCcore-12.3.0/lib:/mnt/modules/easybuild/software/zstd/1.5.5-GCCcore-12.3.0/lib:/mnt/modules/easybuild/software/lz4/1.9.4-GCCcore-12.3.0/lib:/mnt/modules/easybuild/software/jbigkit/2.1-GCCcore-12.3.0/lib:/mnt/modules/easybuild/software/cairo/1.17.8-GCCcore-12.3.0/lib:/mnt/modules/easybuild/software/X11/20230603-GCCcore-12.3.0/lib:/mnt/modules/easybuild/software/fontconfig/2.14.2-GCCcore-12.3.0/lib:/mnt/modules/easybuild/software/pixman/0.42.2-GCCcore-12.3.0/lib:/mnt/modules/easybuild/software/GLib/2.77.1-GCCcore-12.3.0/lib:/mnt/modules/easybuild/software/util-linux/2.39-GCCcore-12.3.0/lib:/mnt/modules/easybuild/software/PCRE2/10.42-GCCcore-12.3.0/lib:/mnt/modules/easybuild/software/gettext/0.21.1-GCCcore-12.3.0/lib:/mnt/modules/easybuild/software/expat/2.5.0-GCCcore-12.3.0/lib:/mnt/modules/easybuild/software/libjpeg-turbo/2.1.5.1-GCCcore-12.3.0/lib:/mnt/modules/easybuild/software/freetype/2.13.0-GCCcore-12.3.0/lib:/mnt/modules/easybuild/software/Brotli/1.0.9-GCCcore-12.3.0/lib:/mnt/modules/easybuild/software/libpng/1.6.39-GCCcore-12.3.0/lib:/mnt/modules/easybuild/software/Python/3.11.3-GCCcore-12.3.0/lib:/mnt/modules/easybuild/software/libffi/3.4.4-GCCcore-12.3.0/lib64:/mnt/modules/easybuild/software/SQLite/3.42.0-GCCcore-12.3.0/lib:/mnt/modules/easybuild/software/Tcl/8.6.13-GCCcore-12.3.0/lib:/mnt/modules/easybuild/software/libreadline/8.2-GCCcore-12.3.0/lib:/mnt/modules/easybuild/software/ncurses/6.4-GCCcore-12.3.0/lib:/mnt/modules/easybuild/software/bzip2/1.0.8-GCCcore-12.3.0/lib:/mnt/modules/easybuild/software/libxslt/1.1.38-GCCcore-12.3.0/lib:/mnt/modules/easybuild/software/OpenMPI/4.1.5-GCC-12.3.0/lib:/mnt/modules/easybuild/software/UCC/1.2.0-GCCcore-12.3.0/lib:/mnt/modules/easybuild/software/PMIx/4.2.4-GCCcore-12.3.0/lib:/mnt/modules/easybuild/software/libfabric/1.18.0-GCCcore-12.3.0/lib:/mnt/modules/easybuild/software/UCX/1.14.1-GCCcore-12.3.0/lib:/mnt/modules/easybuild/software/libevent/2.1.12-GCCcore-12.3.0/lib:/mnt/modules/easybuild/software/OpenSSL/1.1/lib:/mnt/modules/easybuild/software/hwloc/2.9.1-GCCcore-12.3.0/lib:/mnt/modules/easybuild/software/libpciaccess/0.17-GCCcore-12.3.0/lib:/mnt/modules/easybuild/software/libxml2/2.11.4-GCCcore-12.3.0/lib:/mnt/modules/easybuild/software/XZ/5.4.2-GCCcore-12.3.0/lib:/mnt/modules/easybuild/software/numactl/2.0.16-GCCcore-12.3.0/lib:/mnt/modules/easybuild/software/binutils/2.40-GCCcore-12.3.0/lib:/mnt/modules/easybuild/software/zlib/1.2.13-GCCcore-12.3.0/lib:/mnt/modules/easybuild/software/GCCcore/12.3.0/lib64\n",
      "2025-05-22 10:57:15.282108: W tensorflow/compiler/tf2tensorrt/utils/py_utils.cc:38] TF-TRT Warning: Cannot dlopen some TensorRT libraries. If you would like to use Nvidia GPU with TensorRT, please make sure the missing libraries mentioned above are installed properly.\n"
     ]
    }
   ],
   "source": [
    "%load_ext autoreload\n",
    "%autoreload 2\n",
    "%cd -q ..\n",
    "\n",
    "import pickle\n",
    "import importlib\n",
    "import esparto\n",
    "import optuna\n",
    "import numpy as np\n",
    "import pandas as pd\n",
    "from evoaug_tf import evoaug, augment\n",
    "from src.diff_expression_model import get_model, get_siamese_model, post_hoc_conjoining, get_auroc\n",
    "from skopt.utils import use_named_args"
   ]
  },
  {
   "cell_type": "markdown",
   "metadata": {},
   "source": [
    "## Prepare the data"
   ]
  },
  {
   "cell_type": "markdown",
   "metadata": {},
   "source": [
    "For now we start from this data pickle as I'm not aware how Helder did DE analysis and generated the labels"
   ]
  },
  {
   "cell_type": "code",
   "execution_count": 2,
   "metadata": {
    "tags": []
   },
   "outputs": [],
   "source": [
    "ppath = \"data/dataset_solid_chrome.csv\"\n",
    "data = pd.read_csv(ppath)"
   ]
  },
  {
   "cell_type": "code",
   "execution_count": 3,
   "metadata": {
    "tags": []
   },
   "outputs": [
    {
     "data": {
      "text/plain": [
       "train    1900\n",
       "valid     257\n",
       "test      241\n",
       "Name: set, dtype: int64"
      ]
     },
     "execution_count": 3,
     "metadata": {},
     "output_type": "execute_result"
    }
   ],
   "source": [
    "data[\"set\"].value_counts()"
   ]
  },
  {
   "cell_type": "markdown",
   "metadata": {},
   "source": [
    "To show how to subdivide the dataset into train-test split we only take the following columns"
   ]
  },
  {
   "cell_type": "code",
   "execution_count": 4,
   "metadata": {
    "tags": []
   },
   "outputs": [],
   "source": [
    "dataset = data.reset_index()\n",
    "dataset = dataset[[\"geneID\", \"Category\", \"GeneFamily\", \"seqs\"]]\n",
    "dataset.rename(columns={\"geneID\":\"GeneID\", \"Category\":\"Label\", \"seqs\": \"Sequence\"}, inplace=True)"
   ]
  },
  {
   "cell_type": "code",
   "execution_count": 5,
   "metadata": {
    "tags": []
   },
   "outputs": [
    {
     "data": {
      "text/html": [
       "<div>\n",
       "<style scoped>\n",
       "    .dataframe tbody tr th:only-of-type {\n",
       "        vertical-align: middle;\n",
       "    }\n",
       "\n",
       "    .dataframe tbody tr th {\n",
       "        vertical-align: top;\n",
       "    }\n",
       "\n",
       "    .dataframe thead th {\n",
       "        text-align: right;\n",
       "    }\n",
       "</style>\n",
       "<table border=\"1\" class=\"dataframe\">\n",
       "  <thead>\n",
       "    <tr style=\"text-align: right;\">\n",
       "      <th></th>\n",
       "      <th>GeneID</th>\n",
       "      <th>Label</th>\n",
       "      <th>GeneFamily</th>\n",
       "      <th>Sequence</th>\n",
       "    </tr>\n",
       "  </thead>\n",
       "  <tbody>\n",
       "    <tr>\n",
       "      <th>0</th>\n",
       "      <td>AT4G27120</td>\n",
       "      <td>0</td>\n",
       "      <td>HOM04D000881</td>\n",
       "      <td>TAGAGAAGACAAGCGGTTATTTCGTAATTTCCCAGCGACTTTGAAA...</td>\n",
       "    </tr>\n",
       "    <tr>\n",
       "      <th>1</th>\n",
       "      <td>AT4G19600</td>\n",
       "      <td>0</td>\n",
       "      <td>HOM04D000740</td>\n",
       "      <td>GTCAAGTAGTGAAATCAAGGTGTGAAGTAAGCTGAGGACAGATAAT...</td>\n",
       "    </tr>\n",
       "    <tr>\n",
       "      <th>2</th>\n",
       "      <td>AT3G60880</td>\n",
       "      <td>0</td>\n",
       "      <td>HOM04D003119</td>\n",
       "      <td>AGTTGATATTGAATGAAATCTTCATGTTTTTTGATAAATGATTATA...</td>\n",
       "    </tr>\n",
       "    <tr>\n",
       "      <th>3</th>\n",
       "      <td>AT5G06960</td>\n",
       "      <td>0</td>\n",
       "      <td>HOM04D000319</td>\n",
       "      <td>CACTTGTCAGATTCTTCTTACCAAATCCATCAACAAATAAGCAAAT...</td>\n",
       "    </tr>\n",
       "    <tr>\n",
       "      <th>4</th>\n",
       "      <td>AT1G14890</td>\n",
       "      <td>0</td>\n",
       "      <td>HOM04D000273</td>\n",
       "      <td>TTGATATAACAGATTCAACACTAAAAATGAGTAAAATCTAAAAAAG...</td>\n",
       "    </tr>\n",
       "    <tr>\n",
       "      <th>...</th>\n",
       "      <td>...</td>\n",
       "      <td>...</td>\n",
       "      <td>...</td>\n",
       "      <td>...</td>\n",
       "    </tr>\n",
       "    <tr>\n",
       "      <th>2393</th>\n",
       "      <td>AT5G64230</td>\n",
       "      <td>1</td>\n",
       "      <td>HOM04D003278</td>\n",
       "      <td>AAGAAAGAAAAACCGTACATAAACACCCATCTGGTATACCATCGTC...</td>\n",
       "    </tr>\n",
       "    <tr>\n",
       "      <th>2394</th>\n",
       "      <td>AT5G64780</td>\n",
       "      <td>1</td>\n",
       "      <td>HOM04D002552</td>\n",
       "      <td>TTTTAGAAAGAAGAAGAAGGATTATTGCCTTATTGGTGAAGGGAAG...</td>\n",
       "    </tr>\n",
       "    <tr>\n",
       "      <th>2395</th>\n",
       "      <td>AT4G30470</td>\n",
       "      <td>1</td>\n",
       "      <td>HOM04D000082</td>\n",
       "      <td>TATGTACAGTCTCTACATTTTTTCAAATACATTTTTTTCTTTTTCA...</td>\n",
       "    </tr>\n",
       "    <tr>\n",
       "      <th>2396</th>\n",
       "      <td>AT3G51895</td>\n",
       "      <td>1</td>\n",
       "      <td>HOM04D000270</td>\n",
       "      <td>TGGTAAATAATTAAATATATAAGAACATTATTCTAAAGCGTTGAAT...</td>\n",
       "    </tr>\n",
       "    <tr>\n",
       "      <th>2397</th>\n",
       "      <td>AT2G35585</td>\n",
       "      <td>1</td>\n",
       "      <td>HOM04D004118</td>\n",
       "      <td>TTTTGCCACTGCTGGCTCTGATGGTGCTTTCAATTTCTAGGACAAG...</td>\n",
       "    </tr>\n",
       "  </tbody>\n",
       "</table>\n",
       "<p>2398 rows × 4 columns</p>\n",
       "</div>"
      ],
      "text/plain": [
       "         GeneID  Label    GeneFamily  \\\n",
       "0     AT4G27120      0  HOM04D000881   \n",
       "1     AT4G19600      0  HOM04D000740   \n",
       "2     AT3G60880      0  HOM04D003119   \n",
       "3     AT5G06960      0  HOM04D000319   \n",
       "4     AT1G14890      0  HOM04D000273   \n",
       "...         ...    ...           ...   \n",
       "2393  AT5G64230      1  HOM04D003278   \n",
       "2394  AT5G64780      1  HOM04D002552   \n",
       "2395  AT4G30470      1  HOM04D000082   \n",
       "2396  AT3G51895      1  HOM04D000270   \n",
       "2397  AT2G35585      1  HOM04D004118   \n",
       "\n",
       "                                               Sequence  \n",
       "0     TAGAGAAGACAAGCGGTTATTTCGTAATTTCCCAGCGACTTTGAAA...  \n",
       "1     GTCAAGTAGTGAAATCAAGGTGTGAAGTAAGCTGAGGACAGATAAT...  \n",
       "2     AGTTGATATTGAATGAAATCTTCATGTTTTTTGATAAATGATTATA...  \n",
       "3     CACTTGTCAGATTCTTCTTACCAAATCCATCAACAAATAAGCAAAT...  \n",
       "4     TTGATATAACAGATTCAACACTAAAAATGAGTAAAATCTAAAAAAG...  \n",
       "...                                                 ...  \n",
       "2393  AAGAAAGAAAAACCGTACATAAACACCCATCTGGTATACCATCGTC...  \n",
       "2394  TTTTAGAAAGAAGAAGAAGGATTATTGCCTTATTGGTGAAGGGAAG...  \n",
       "2395  TATGTACAGTCTCTACATTTTTTCAAATACATTTTTTTCTTTTTCA...  \n",
       "2396  TGGTAAATAATTAAATATATAAGAACATTATTCTAAAGCGTTGAAT...  \n",
       "2397  TTTTGCCACTGCTGGCTCTGATGGTGCTTTCAATTTCTAGGACAAG...  \n",
       "\n",
       "[2398 rows x 4 columns]"
      ]
     },
     "execution_count": 5,
     "metadata": {},
     "output_type": "execute_result"
    }
   ],
   "source": [
    "dataset"
   ]
  },
  {
   "cell_type": "markdown",
   "metadata": {},
   "source": [
    "### One-hot-encode & reverse-complement"
   ]
  },
  {
   "cell_type": "code",
   "execution_count": 6,
   "metadata": {
    "tags": []
   },
   "outputs": [],
   "source": [
    "from src.prepare_dataset import one_hot_encode_series, reverse_complement_series, reverse_complement_sequence\n",
    "dataset[\"One_hot_encoded\"] = one_hot_encode_series(dataset[\"Sequence\"])"
   ]
  },
  {
   "cell_type": "code",
   "execution_count": 7,
   "metadata": {
    "tags": []
   },
   "outputs": [],
   "source": [
    "dataset[\"RC_one_hot_encoded\"] = reverse_complement_series(dataset[\"One_hot_encoded\"])"
   ]
  },
  {
   "cell_type": "code",
   "execution_count": 8,
   "metadata": {
    "tags": []
   },
   "outputs": [
    {
     "data": {
      "text/html": [
       "<div>\n",
       "<style scoped>\n",
       "    .dataframe tbody tr th:only-of-type {\n",
       "        vertical-align: middle;\n",
       "    }\n",
       "\n",
       "    .dataframe tbody tr th {\n",
       "        vertical-align: top;\n",
       "    }\n",
       "\n",
       "    .dataframe thead th {\n",
       "        text-align: right;\n",
       "    }\n",
       "</style>\n",
       "<table border=\"1\" class=\"dataframe\">\n",
       "  <thead>\n",
       "    <tr style=\"text-align: right;\">\n",
       "      <th></th>\n",
       "      <th>GeneID</th>\n",
       "      <th>Label</th>\n",
       "      <th>GeneFamily</th>\n",
       "      <th>Sequence</th>\n",
       "      <th>One_hot_encoded</th>\n",
       "      <th>RC_one_hot_encoded</th>\n",
       "    </tr>\n",
       "  </thead>\n",
       "  <tbody>\n",
       "    <tr>\n",
       "      <th>0</th>\n",
       "      <td>AT4G27120</td>\n",
       "      <td>0</td>\n",
       "      <td>HOM04D000881</td>\n",
       "      <td>TAGAGAAGACAAGCGGTTATTTCGTAATTTCCCAGCGACTTTGAAA...</td>\n",
       "      <td>[[0, 0, 0, 1], [1, 0, 0, 0], [0, 0, 1, 0], [1,...</td>\n",
       "      <td>[[1, 0, 0, 0], [0, 0, 1, 0], [0, 0, 1, 0], [0,...</td>\n",
       "    </tr>\n",
       "    <tr>\n",
       "      <th>1</th>\n",
       "      <td>AT4G19600</td>\n",
       "      <td>0</td>\n",
       "      <td>HOM04D000740</td>\n",
       "      <td>GTCAAGTAGTGAAATCAAGGTGTGAAGTAAGCTGAGGACAGATAAT...</td>\n",
       "      <td>[[0, 0, 1, 0], [0, 0, 0, 1], [0, 1, 0, 0], [1,...</td>\n",
       "      <td>[[0, 0, 1, 0], [0, 0, 1, 0], [1, 0, 0, 0], [0,...</td>\n",
       "    </tr>\n",
       "    <tr>\n",
       "      <th>2</th>\n",
       "      <td>AT3G60880</td>\n",
       "      <td>0</td>\n",
       "      <td>HOM04D003119</td>\n",
       "      <td>AGTTGATATTGAATGAAATCTTCATGTTTTTTGATAAATGATTATA...</td>\n",
       "      <td>[[1, 0, 0, 0], [0, 0, 1, 0], [0, 0, 0, 1], [0,...</td>\n",
       "      <td>[[0, 0, 0, 1], [0, 0, 1, 0], [1, 0, 0, 0], [0,...</td>\n",
       "    </tr>\n",
       "    <tr>\n",
       "      <th>3</th>\n",
       "      <td>AT5G06960</td>\n",
       "      <td>0</td>\n",
       "      <td>HOM04D000319</td>\n",
       "      <td>CACTTGTCAGATTCTTCTTACCAAATCCATCAACAAATAAGCAAAT...</td>\n",
       "      <td>[[0, 1, 0, 0], [1, 0, 0, 0], [0, 1, 0, 0], [0,...</td>\n",
       "      <td>[[1, 0, 0, 0], [0, 1, 0, 0], [0, 0, 1, 0], [1,...</td>\n",
       "    </tr>\n",
       "    <tr>\n",
       "      <th>4</th>\n",
       "      <td>AT1G14890</td>\n",
       "      <td>0</td>\n",
       "      <td>HOM04D000273</td>\n",
       "      <td>TTGATATAACAGATTCAACACTAAAAATGAGTAAAATCTAAAAAAG...</td>\n",
       "      <td>[[0, 0, 0, 1], [0, 0, 0, 1], [0, 0, 1, 0], [1,...</td>\n",
       "      <td>[[0, 0, 0, 1], [1, 0, 0, 0], [0, 0, 0, 1], [1,...</td>\n",
       "    </tr>\n",
       "    <tr>\n",
       "      <th>...</th>\n",
       "      <td>...</td>\n",
       "      <td>...</td>\n",
       "      <td>...</td>\n",
       "      <td>...</td>\n",
       "      <td>...</td>\n",
       "      <td>...</td>\n",
       "    </tr>\n",
       "    <tr>\n",
       "      <th>2393</th>\n",
       "      <td>AT5G64230</td>\n",
       "      <td>1</td>\n",
       "      <td>HOM04D003278</td>\n",
       "      <td>AAGAAAGAAAAACCGTACATAAACACCCATCTGGTATACCATCGTC...</td>\n",
       "      <td>[[1, 0, 0, 0], [1, 0, 0, 0], [0, 0, 1, 0], [1,...</td>\n",
       "      <td>[[0, 1, 0, 0], [0, 0, 1, 0], [0, 0, 0, 1], [0,...</td>\n",
       "    </tr>\n",
       "    <tr>\n",
       "      <th>2394</th>\n",
       "      <td>AT5G64780</td>\n",
       "      <td>1</td>\n",
       "      <td>HOM04D002552</td>\n",
       "      <td>TTTTAGAAAGAAGAAGAAGGATTATTGCCTTATTGGTGAAGGGAAG...</td>\n",
       "      <td>[[0, 0, 0, 1], [0, 0, 0, 1], [0, 0, 0, 1], [0,...</td>\n",
       "      <td>[[0, 0, 0, 1], [0, 0, 1, 0], [1, 0, 0, 0], [0,...</td>\n",
       "    </tr>\n",
       "    <tr>\n",
       "      <th>2395</th>\n",
       "      <td>AT4G30470</td>\n",
       "      <td>1</td>\n",
       "      <td>HOM04D000082</td>\n",
       "      <td>TATGTACAGTCTCTACATTTTTTCAAATACATTTTTTTCTTTTTCA...</td>\n",
       "      <td>[[0, 0, 0, 1], [1, 0, 0, 0], [0, 0, 0, 1], [0,...</td>\n",
       "      <td>[[1, 0, 0, 0], [0, 0, 1, 0], [0, 0, 1, 0], [0,...</td>\n",
       "    </tr>\n",
       "    <tr>\n",
       "      <th>2396</th>\n",
       "      <td>AT3G51895</td>\n",
       "      <td>1</td>\n",
       "      <td>HOM04D000270</td>\n",
       "      <td>TGGTAAATAATTAAATATATAAGAACATTATTCTAAAGCGTTGAAT...</td>\n",
       "      <td>[[0, 0, 0, 1], [0, 0, 1, 0], [0, 0, 1, 0], [0,...</td>\n",
       "      <td>[[0, 0, 0, 1], [0, 0, 0, 1], [0, 0, 1, 0], [1,...</td>\n",
       "    </tr>\n",
       "    <tr>\n",
       "      <th>2397</th>\n",
       "      <td>AT2G35585</td>\n",
       "      <td>1</td>\n",
       "      <td>HOM04D004118</td>\n",
       "      <td>TTTTGCCACTGCTGGCTCTGATGGTGCTTTCAATTTCTAGGACAAG...</td>\n",
       "      <td>[[0, 0, 0, 1], [0, 0, 0, 1], [0, 0, 0, 1], [0,...</td>\n",
       "      <td>[[0, 0, 1, 0], [0, 0, 1, 0], [0, 1, 0, 0], [0,...</td>\n",
       "    </tr>\n",
       "  </tbody>\n",
       "</table>\n",
       "<p>2398 rows × 6 columns</p>\n",
       "</div>"
      ],
      "text/plain": [
       "         GeneID  Label    GeneFamily  \\\n",
       "0     AT4G27120      0  HOM04D000881   \n",
       "1     AT4G19600      0  HOM04D000740   \n",
       "2     AT3G60880      0  HOM04D003119   \n",
       "3     AT5G06960      0  HOM04D000319   \n",
       "4     AT1G14890      0  HOM04D000273   \n",
       "...         ...    ...           ...   \n",
       "2393  AT5G64230      1  HOM04D003278   \n",
       "2394  AT5G64780      1  HOM04D002552   \n",
       "2395  AT4G30470      1  HOM04D000082   \n",
       "2396  AT3G51895      1  HOM04D000270   \n",
       "2397  AT2G35585      1  HOM04D004118   \n",
       "\n",
       "                                               Sequence  \\\n",
       "0     TAGAGAAGACAAGCGGTTATTTCGTAATTTCCCAGCGACTTTGAAA...   \n",
       "1     GTCAAGTAGTGAAATCAAGGTGTGAAGTAAGCTGAGGACAGATAAT...   \n",
       "2     AGTTGATATTGAATGAAATCTTCATGTTTTTTGATAAATGATTATA...   \n",
       "3     CACTTGTCAGATTCTTCTTACCAAATCCATCAACAAATAAGCAAAT...   \n",
       "4     TTGATATAACAGATTCAACACTAAAAATGAGTAAAATCTAAAAAAG...   \n",
       "...                                                 ...   \n",
       "2393  AAGAAAGAAAAACCGTACATAAACACCCATCTGGTATACCATCGTC...   \n",
       "2394  TTTTAGAAAGAAGAAGAAGGATTATTGCCTTATTGGTGAAGGGAAG...   \n",
       "2395  TATGTACAGTCTCTACATTTTTTCAAATACATTTTTTTCTTTTTCA...   \n",
       "2396  TGGTAAATAATTAAATATATAAGAACATTATTCTAAAGCGTTGAAT...   \n",
       "2397  TTTTGCCACTGCTGGCTCTGATGGTGCTTTCAATTTCTAGGACAAG...   \n",
       "\n",
       "                                        One_hot_encoded  \\\n",
       "0     [[0, 0, 0, 1], [1, 0, 0, 0], [0, 0, 1, 0], [1,...   \n",
       "1     [[0, 0, 1, 0], [0, 0, 0, 1], [0, 1, 0, 0], [1,...   \n",
       "2     [[1, 0, 0, 0], [0, 0, 1, 0], [0, 0, 0, 1], [0,...   \n",
       "3     [[0, 1, 0, 0], [1, 0, 0, 0], [0, 1, 0, 0], [0,...   \n",
       "4     [[0, 0, 0, 1], [0, 0, 0, 1], [0, 0, 1, 0], [1,...   \n",
       "...                                                 ...   \n",
       "2393  [[1, 0, 0, 0], [1, 0, 0, 0], [0, 0, 1, 0], [1,...   \n",
       "2394  [[0, 0, 0, 1], [0, 0, 0, 1], [0, 0, 0, 1], [0,...   \n",
       "2395  [[0, 0, 0, 1], [1, 0, 0, 0], [0, 0, 0, 1], [0,...   \n",
       "2396  [[0, 0, 0, 1], [0, 0, 1, 0], [0, 0, 1, 0], [0,...   \n",
       "2397  [[0, 0, 0, 1], [0, 0, 0, 1], [0, 0, 0, 1], [0,...   \n",
       "\n",
       "                                     RC_one_hot_encoded  \n",
       "0     [[1, 0, 0, 0], [0, 0, 1, 0], [0, 0, 1, 0], [0,...  \n",
       "1     [[0, 0, 1, 0], [0, 0, 1, 0], [1, 0, 0, 0], [0,...  \n",
       "2     [[0, 0, 0, 1], [0, 0, 1, 0], [1, 0, 0, 0], [0,...  \n",
       "3     [[1, 0, 0, 0], [0, 1, 0, 0], [0, 0, 1, 0], [1,...  \n",
       "4     [[0, 0, 0, 1], [1, 0, 0, 0], [0, 0, 0, 1], [1,...  \n",
       "...                                                 ...  \n",
       "2393  [[0, 1, 0, 0], [0, 0, 1, 0], [0, 0, 0, 1], [0,...  \n",
       "2394  [[0, 0, 0, 1], [0, 0, 1, 0], [1, 0, 0, 0], [0,...  \n",
       "2395  [[1, 0, 0, 0], [0, 0, 1, 0], [0, 0, 1, 0], [0,...  \n",
       "2396  [[0, 0, 0, 1], [0, 0, 0, 1], [0, 0, 1, 0], [1,...  \n",
       "2397  [[0, 0, 1, 0], [0, 0, 1, 0], [0, 1, 0, 0], [0,...  \n",
       "\n",
       "[2398 rows x 6 columns]"
      ]
     },
     "execution_count": 8,
     "metadata": {},
     "output_type": "execute_result"
    }
   ],
   "source": [
    "dataset"
   ]
  },
  {
   "cell_type": "markdown",
   "metadata": {},
   "source": [
    "### Train-test split"
   ]
  },
  {
   "cell_type": "code",
   "execution_count": 9,
   "metadata": {
    "tags": []
   },
   "outputs": [],
   "source": [
    "from src.prepare_dataset import grouped_shuffle_split\n",
    "train_df, test_df = grouped_shuffle_split(dataset, dataset[\"GeneFamily\"], 0.2)"
   ]
  },
  {
   "cell_type": "code",
   "execution_count": 10,
   "metadata": {
    "tags": []
   },
   "outputs": [
    {
     "name": "stdout",
     "output_type": "stream",
     "text": [
      "Length of training set: 1900\n",
      "Length of test set: 498\n"
     ]
    }
   ],
   "source": [
    "print(f\"Length of training set: {train_df.shape[0]}\")\n",
    "print(f\"Length of test set: {test_df.shape[0]}\")"
   ]
  },
  {
   "cell_type": "markdown",
   "metadata": {},
   "source": [
    "## Cross validation"
   ]
  },
  {
   "cell_type": "markdown",
   "metadata": {},
   "source": [
    "We first initialize the object that are static throughout the cross validation"
   ]
  },
  {
   "cell_type": "code",
   "execution_count": 11,
   "metadata": {
    "tags": []
   },
   "outputs": [
    {
     "name": "stderr",
     "output_type": "stream",
     "text": [
      "2025-05-22 10:57:24.224762: W tensorflow/compiler/xla/stream_executor/platform/default/dso_loader.cc:64] Could not load dynamic library 'libcuda.so.1'; dlerror: libcuda.so.1: cannot open shared object file: No such file or directory; LD_LIBRARY_PATH: /mnt/modules/easybuild/software/Ghostscript/10.01.2-GCCcore-12.3.0/lib:/mnt/modules/easybuild/software/GTK3/3.24.37-GCCcore-12.3.0/lib:/mnt/modules/easybuild/software/Wayland/1.22.0-GCCcore-12.3.0/lib:/mnt/modules/easybuild/software/libepoxy/1.5.10-GCCcore-12.3.0/lib:/mnt/modules/easybuild/software/Mesa/23.1.4-GCCcore-12.3.0/lib:/mnt/modules/easybuild/software/LLVM/16.0.6-GCCcore-12.3.0/lib:/mnt/modules/easybuild/software/libunwind/1.6.2-GCCcore-12.3.0/lib:/mnt/modules/easybuild/software/libglvnd/1.6.0-GCCcore-12.3.0/lib:/mnt/modules/easybuild/software/libdrm/2.4.115-GCCcore-12.3.0/lib:/mnt/modules/easybuild/software/Pango/1.50.14-GCCcore-12.3.0/lib:/mnt/modules/easybuild/software/FriBidi/1.0.12-GCCcore-12.3.0/lib:/mnt/modules/easybuild/software/HarfBuzz/5.3.1-GCCcore-12.3.0/lib:/mnt/modules/easybuild/software/ICU/73.2-GCCcore-12.3.0/lib:/mnt/modules/easybuild/software/Gdk-Pixbuf/2.42.10-GCCcore-12.3.0/lib:/mnt/modules/easybuild/software/at-spi2-atk/2.38.0-GCCcore-12.3.0/lib:/mnt/modules/easybuild/software/at-spi2-core/2.49.91-GCCcore-12.3.0/lib:/mnt/modules/easybuild/software/DBus/1.15.4-GCCcore-12.3.0/lib:/mnt/modules/easybuild/software/ATK/2.38.0-GCCcore-12.3.0/lib:/mnt/modules/easybuild/software/LibTIFF/4.5.0-GCCcore-12.3.0/lib:/mnt/modules/easybuild/software/libdeflate/1.18-GCCcore-12.3.0/lib:/mnt/modules/easybuild/software/zstd/1.5.5-GCCcore-12.3.0/lib:/mnt/modules/easybuild/software/lz4/1.9.4-GCCcore-12.3.0/lib:/mnt/modules/easybuild/software/jbigkit/2.1-GCCcore-12.3.0/lib:/mnt/modules/easybuild/software/cairo/1.17.8-GCCcore-12.3.0/lib:/mnt/modules/easybuild/software/X11/20230603-GCCcore-12.3.0/lib:/mnt/modules/easybuild/software/fontconfig/2.14.2-GCCcore-12.3.0/lib:/mnt/modules/easybuild/software/pixman/0.42.2-GCCcore-12.3.0/lib:/mnt/modules/easybuild/software/GLib/2.77.1-GCCcore-12.3.0/lib:/mnt/modules/easybuild/software/util-linux/2.39-GCCcore-12.3.0/lib:/mnt/modules/easybuild/software/PCRE2/10.42-GCCcore-12.3.0/lib:/mnt/modules/easybuild/software/gettext/0.21.1-GCCcore-12.3.0/lib:/mnt/modules/easybuild/software/expat/2.5.0-GCCcore-12.3.0/lib:/mnt/modules/easybuild/software/libjpeg-turbo/2.1.5.1-GCCcore-12.3.0/lib:/mnt/modules/easybuild/software/freetype/2.13.0-GCCcore-12.3.0/lib:/mnt/modules/easybuild/software/Brotli/1.0.9-GCCcore-12.3.0/lib:/mnt/modules/easybuild/software/libpng/1.6.39-GCCcore-12.3.0/lib:/mnt/modules/easybuild/software/Python/3.11.3-GCCcore-12.3.0/lib:/mnt/modules/easybuild/software/libffi/3.4.4-GCCcore-12.3.0/lib64:/mnt/modules/easybuild/software/SQLite/3.42.0-GCCcore-12.3.0/lib:/mnt/modules/easybuild/software/Tcl/8.6.13-GCCcore-12.3.0/lib:/mnt/modules/easybuild/software/libreadline/8.2-GCCcore-12.3.0/lib:/mnt/modules/easybuild/software/ncurses/6.4-GCCcore-12.3.0/lib:/mnt/modules/easybuild/software/bzip2/1.0.8-GCCcore-12.3.0/lib:/mnt/modules/easybuild/software/libxslt/1.1.38-GCCcore-12.3.0/lib:/mnt/modules/easybuild/software/OpenMPI/4.1.5-GCC-12.3.0/lib:/mnt/modules/easybuild/software/UCC/1.2.0-GCCcore-12.3.0/lib:/mnt/modules/easybuild/software/PMIx/4.2.4-GCCcore-12.3.0/lib:/mnt/modules/easybuild/software/libfabric/1.18.0-GCCcore-12.3.0/lib:/mnt/modules/easybuild/software/UCX/1.14.1-GCCcore-12.3.0/lib:/mnt/modules/easybuild/software/libevent/2.1.12-GCCcore-12.3.0/lib:/mnt/modules/easybuild/software/OpenSSL/1.1/lib:/mnt/modules/easybuild/software/hwloc/2.9.1-GCCcore-12.3.0/lib:/mnt/modules/easybuild/software/libpciaccess/0.17-GCCcore-12.3.0/lib:/mnt/modules/easybuild/software/libxml2/2.11.4-GCCcore-12.3.0/lib:/mnt/modules/easybuild/software/XZ/5.4.2-GCCcore-12.3.0/lib:/mnt/modules/easybuild/software/numactl/2.0.16-GCCcore-12.3.0/lib:/mnt/modules/easybuild/software/binutils/2.40-GCCcore-12.3.0/lib:/mnt/modules/easybuild/software/zlib/1.2.13-GCCcore-12.3.0/lib:/mnt/modules/easybuild/software/GCCcore/12.3.0/lib64\n",
      "2025-05-22 10:57:24.224793: W tensorflow/compiler/xla/stream_executor/cuda/cuda_driver.cc:265] failed call to cuInit: UNKNOWN ERROR (303)\n",
      "2025-05-22 10:57:24.224816: I tensorflow/compiler/xla/stream_executor/cuda/cuda_diagnostics.cc:156] kernel driver does not appear to be running on this host (p-computehmem-1.vib.local): /proc/driver/nvidia/version does not exist\n",
      "2025-05-22 10:57:24.225133: I tensorflow/core/platform/cpu_feature_guard.cc:193] This TensorFlow binary is optimized with oneAPI Deep Neural Network Library (oneDNN) to use the following CPU instructions in performance-critical operations:  AVX2 AVX512F AVX512_VNNI AVX512_BF16 AVX_VNNI AMX_TILE AMX_INT8 AMX_BF16 FMA\n",
      "To enable them in other operations, rebuild TensorFlow with the appropriate compiler flags.\n"
     ]
    }
   ],
   "source": [
    "augment_list = [\n",
    "    augment.RandomRC(rc_prob=0.5),\n",
    "    augment.RandomInsertionBatch(insert_min=0, insert_max=20),\n",
    "    augment.RandomDeletion(delete_min=0, delete_max=30),\n",
    "    augment.RandomTranslocationBatch(shift_min=0, shift_max=20),\n",
    "    augment.RandomMutation(mutate_frac=0.05),\n",
    "    augment.RandomNoise()\n",
    "]"
   ]
  },
  {
   "cell_type": "code",
   "execution_count": 12,
   "metadata": {
    "tags": []
   },
   "outputs": [],
   "source": [
    "# early stopping callback\n",
    "import tensorflow as tf\n",
    "\n",
    "early_stopping_callback = tf.keras.callbacks.EarlyStopping(monitor='val_loss',\n",
    "\t\t\t\t\t\t\t\t\t\t\tpatience=20,\n",
    "\t\t\t\t\t\t\t\t\t\t\tverbose=1,\n",
    "\t\t\t\t\t\t\t\t\t\t\tmode='min',\n",
    "\t\t\t\t\t\t\t\t\t\t\trestore_best_weights=True)\n",
    "# reduce learning rate callback\n",
    "reduce_lr = tf.keras.callbacks.ReduceLROnPlateau(monitor='val_loss',\n",
    "\t\t\t\t\t\t\t\t\t\t\t\tfactor=0.1,\n",
    "\t\t\t\t\t\t\t\t\t\t\t\tpatience=5,\n",
    "\t\t\t\t\t\t\t\t\t\t\t\tmin_lr=1e-7,\n",
    "\t\t\t\t\t\t\t\t\t\t\t\tmode='min',\n",
    "\t\t\t\t\t\t\t\t\t\t\t\tverbose=1)\n",
    "callbacks = [early_stopping_callback, reduce_lr]"
   ]
  },
  {
   "cell_type": "code",
   "execution_count": 13,
   "metadata": {
    "tags": []
   },
   "outputs": [],
   "source": [
    "input_shape = train_df[\"One_hot_encoded\"].iloc[0].shape"
   ]
  },
  {
   "cell_type": "markdown",
   "metadata": {},
   "source": [
    "We prepare the data"
   ]
  },
  {
   "cell_type": "code",
   "execution_count": 14,
   "metadata": {
    "tags": []
   },
   "outputs": [],
   "source": [
    "def get_input_and_labels(df):\n",
    "\tohe_np = np.stack(df[\"One_hot_encoded\"])\n",
    "\trc_np = np.stack(df[\"RC_one_hot_encoded\"])\n",
    "\n",
    "\tx = np.append(ohe_np, rc_np, axis=0)\n",
    "\tx = x.astype('float32')\n",
    "\ty = np.append(df[\"Label\"], df[\"Label\"])\n",
    "\treturn x, y"
   ]
  },
  {
   "cell_type": "code",
   "execution_count": 15,
   "metadata": {
    "tags": []
   },
   "outputs": [],
   "source": [
    "X, Y = get_input_and_labels(train_df)"
   ]
  },
  {
   "cell_type": "markdown",
   "metadata": {},
   "source": [
    "We will now create the groups. Because we are using both forward and reverse complement we have to concat them with itself"
   ]
  },
  {
   "cell_type": "code",
   "execution_count": 16,
   "metadata": {
    "tags": []
   },
   "outputs": [],
   "source": [
    "groups = pd.concat([train_df[\"GeneFamily\"], train_df[\"GeneFamily\"]], axis = 0) "
   ]
  },
  {
   "cell_type": "markdown",
   "metadata": {},
   "source": [
    "Initialize the splitter"
   ]
  },
  {
   "cell_type": "code",
   "execution_count": 17,
   "metadata": {
    "tags": []
   },
   "outputs": [],
   "source": [
    "def objective(trial, x_train, y_train, x_val, y_val, i):\n",
    "\tlearning_rate = trial.suggest_float(\"learning_rate\", 1e-5, 1e-1, log=True)\n",
    "\tkernel_size = trial.suggest_categorical('kernel_size', [(8,4), (12,4), (16,4), (20,4), (24,4)])\n",
    "\tbatch_size_trial = trial.suggest_int(\"batch_size\", 50, 200, 25)\n",
    "\tnumber_of_convolutions = trial.suggest_int(\"number_of_convolutions\", 2,3,1)\n",
    "\n",
    "\tmodel = get_model(input_shape=input_shape, \n",
    "\t\t\t\t   perform_evoaug=True, \n",
    "\t\t\t\t   augment_list=augment_list, \n",
    "\t\t\t\t   learning_rate=learning_rate, \n",
    "\t\t\t\t   kernel_size=kernel_size,\n",
    "\t\t\t\t   number_of_convolutions=number_of_convolutions)\n",
    "\n",
    "\t# We add validation here, because one of the callbacks relies on val_loss metric\n",
    "\tmodel.fit(x_train,\n",
    "\t\t\ty_train,\n",
    "\t\t\tepochs=1,\t\n",
    "\t\t\tbatch_size=batch_size_trial,\n",
    "\t\t\tvalidation_data=(x_val, y_val),\n",
    "\t\t\tcallbacks=callbacks\n",
    "\t\t\t)\n",
    "\tscore = model.evaluate(x_val, y_val, verbose=0)\n",
    "\treturn score[0]"
   ]
  },
  {
   "cell_type": "code",
   "execution_count": 18,
   "metadata": {
    "tags": []
   },
   "outputs": [],
   "source": [
    "from sklearn.model_selection import GroupKFold\n",
    "\n",
    "def objective_cv(trial):\n",
    "\n",
    "\t# Get the MNIST dataset.\n",
    "\tgroup_kfold = GroupKFold(n_splits=5)\n",
    "\t\n",
    "\tscores = []\n",
    "\tfor i, (train_index, validation_index) in enumerate(group_kfold.split(X, Y, groups)):\n",
    "\t\tx_train = X[train_index]\n",
    "\t\ty_train = Y[train_index]\n",
    "\n",
    "\t\tx_val = X[validation_index]\n",
    "\t\ty_val = Y[validation_index]\n",
    "\n",
    "\t\tloss = objective(trial, x_train, y_train, x_val, y_val, i)\n",
    "\t\tscores.append(loss)\n",
    "\treturn np.mean(scores)"
   ]
  },
  {
   "cell_type": "code",
   "execution_count": 19,
   "metadata": {
    "tags": []
   },
   "outputs": [
    {
     "name": "stderr",
     "output_type": "stream",
     "text": [
      "[I 2025-05-22 10:57:24,631] A new study created in memory with name: no-name-fc20f370-2752-4e51-8dee-2139889ddf01\n",
      "/home/VIB.LOCAL/sander.thierens/.conda/envs/DeepDifE/lib/python3.8/site-packages/optuna/distributions.py:524: UserWarning: Choices for a categorical distribution should be a tuple of None, bool, int, float and str for persistent storage but contains (8, 4) which is of type tuple.\n",
      "  warnings.warn(message)\n",
      "/home/VIB.LOCAL/sander.thierens/.conda/envs/DeepDifE/lib/python3.8/site-packages/optuna/distributions.py:524: UserWarning: Choices for a categorical distribution should be a tuple of None, bool, int, float and str for persistent storage but contains (12, 4) which is of type tuple.\n",
      "  warnings.warn(message)\n",
      "/home/VIB.LOCAL/sander.thierens/.conda/envs/DeepDifE/lib/python3.8/site-packages/optuna/distributions.py:524: UserWarning: Choices for a categorical distribution should be a tuple of None, bool, int, float and str for persistent storage but contains (16, 4) which is of type tuple.\n",
      "  warnings.warn(message)\n",
      "/home/VIB.LOCAL/sander.thierens/.conda/envs/DeepDifE/lib/python3.8/site-packages/optuna/distributions.py:524: UserWarning: Choices for a categorical distribution should be a tuple of None, bool, int, float and str for persistent storage but contains (20, 4) which is of type tuple.\n",
      "  warnings.warn(message)\n",
      "/home/VIB.LOCAL/sander.thierens/.conda/envs/DeepDifE/lib/python3.8/site-packages/optuna/distributions.py:524: UserWarning: Choices for a categorical distribution should be a tuple of None, bool, int, float and str for persistent storage but contains (24, 4) which is of type tuple.\n",
      "  warnings.warn(message)\n",
      "/data/tmp/105019/ipykernel_1706976/1642885519.py:4: FutureWarning: suggest_int() got {'step'} as positional arguments but they were expected to be given as keyword arguments.\n",
      "  batch_size_trial = trial.suggest_int(\"batch_size\", 50, 200, 25)\n",
      "/data/tmp/105019/ipykernel_1706976/1642885519.py:5: FutureWarning: suggest_int() got {'step'} as positional arguments but they were expected to be given as keyword arguments.\n",
      "  number_of_convolutions = trial.suggest_int(\"number_of_convolutions\", 2,3,1)\n"
     ]
    },
    {
     "name": "stdout",
     "output_type": "stream",
     "text": [
      "WARNING:tensorflow:From /home/VIB.LOCAL/sander.thierens/.conda/envs/DeepDifE/lib/python3.8/site-packages/tensorflow/python/autograph/pyct/static_analysis/liveness.py:83: Analyzer.lamba_check (from tensorflow.python.autograph.pyct.static_analysis.liveness) is deprecated and will be removed after 2023-09-23.\n",
      "Instructions for updating:\n",
      "Lambda fuctions will be no more assumed to be used in the statement where they are used, or at least in the same block. https://github.com/tensorflow/tensorflow/issues/56089\n",
      "31/31 [==============================] - 5s 47ms/step - loss: 0.6939 - acc: 0.4954 - auROC: 0.5038 - auPRC: 0.4892 - true_positives: 618.0000 - precision: 0.4858 - recall: 0.4126 - val_loss: 0.6937 - val_acc: 0.4697 - val_auROC: 0.4938 - val_auPRC: 0.4967 - val_true_positives: 107.0000 - val_precision: 0.4553 - val_recall: 0.2801 - lr: 3.8794e-05\n",
      "31/31 [==============================] - 2s 42ms/step - loss: 0.6935 - acc: 0.4947 - auROC: 0.4971 - auPRC: 0.4849 - true_positives_1: 477.0000 - precision_1: 0.4732 - recall_1: 0.3219 - val_loss: 0.6941 - val_acc: 0.4711 - val_auROC: 0.4795 - val_auPRC: 0.5010 - val_true_positives_1: 62.0000 - val_precision_1: 0.4844 - val_recall_1: 0.1558 - lr: 3.8794e-05\n",
      "31/31 [==============================] - 2s 41ms/step - loss: 0.6941 - acc: 0.4954 - auROC: 0.5003 - auPRC: 0.4842 - true_positives_2: 117.0000 - precision_2: 0.4366 - recall_2: 0.0780 - val_loss: 0.6933 - val_acc: 0.5000 - val_auROC: 0.5248 - val_auPRC: 0.5090 - val_true_positives_2: 0.0000e+00 - val_precision_2: 0.0000e+00 - val_recall_2: 0.0000e+00 - lr: 3.8794e-05\n",
      "31/31 [==============================] - 3s 42ms/step - loss: 0.6932 - acc: 0.5072 - auROC: 0.5106 - auPRC: 0.5015 - true_positives_3: 127.0000 - precision_3: 0.4922 - recall_3: 0.0850 - val_loss: 0.6934 - val_acc: 0.4947 - val_auROC: 0.5470 - val_auPRC: 0.5409 - val_true_positives_3: 4.0000 - val_precision_3: 0.6667 - val_recall_3: 0.0104 - lr: 3.8794e-05\n",
      "31/31 [==============================] - 2s 44ms/step - loss: 0.6936 - acc: 0.5026 - auROC: 0.4998 - auPRC: 0.5078 - true_positives_4: 1316.0000 - precision_4: 0.5065 - recall_4: 0.8512 - val_loss: 0.6943 - val_acc: 0.4329 - val_auROC: 0.5068 - val_auPRC: 0.4436 - val_true_positives_4: 319.0000 - val_precision_4: 0.4340 - val_recall_4: 0.9551 - lr: 3.8794e-05\n"
     ]
    },
    {
     "name": "stderr",
     "output_type": "stream",
     "text": [
      "[I 2025-05-22 10:57:45,148] Trial 0 finished with value: 0.6937584996223449 and parameters: {'learning_rate': 3.879388960285182e-05, 'kernel_size': (8, 4), 'batch_size': 100, 'number_of_convolutions': 3}. Best is trial 0 with value: 0.6937584996223449.\n",
      "/home/VIB.LOCAL/sander.thierens/.conda/envs/DeepDifE/lib/python3.8/site-packages/optuna/distributions.py:524: UserWarning: Choices for a categorical distribution should be a tuple of None, bool, int, float and str for persistent storage but contains (8, 4) which is of type tuple.\n",
      "  warnings.warn(message)\n",
      "/home/VIB.LOCAL/sander.thierens/.conda/envs/DeepDifE/lib/python3.8/site-packages/optuna/distributions.py:524: UserWarning: Choices for a categorical distribution should be a tuple of None, bool, int, float and str for persistent storage but contains (12, 4) which is of type tuple.\n",
      "  warnings.warn(message)\n",
      "/home/VIB.LOCAL/sander.thierens/.conda/envs/DeepDifE/lib/python3.8/site-packages/optuna/distributions.py:524: UserWarning: Choices for a categorical distribution should be a tuple of None, bool, int, float and str for persistent storage but contains (16, 4) which is of type tuple.\n",
      "  warnings.warn(message)\n",
      "/home/VIB.LOCAL/sander.thierens/.conda/envs/DeepDifE/lib/python3.8/site-packages/optuna/distributions.py:524: UserWarning: Choices for a categorical distribution should be a tuple of None, bool, int, float and str for persistent storage but contains (20, 4) which is of type tuple.\n",
      "  warnings.warn(message)\n",
      "/home/VIB.LOCAL/sander.thierens/.conda/envs/DeepDifE/lib/python3.8/site-packages/optuna/distributions.py:524: UserWarning: Choices for a categorical distribution should be a tuple of None, bool, int, float and str for persistent storage but contains (24, 4) which is of type tuple.\n",
      "  warnings.warn(message)\n",
      "/data/tmp/105019/ipykernel_1706976/1642885519.py:4: FutureWarning: suggest_int() got {'step'} as positional arguments but they were expected to be given as keyword arguments.\n",
      "  batch_size_trial = trial.suggest_int(\"batch_size\", 50, 200, 25)\n",
      "/data/tmp/105019/ipykernel_1706976/1642885519.py:5: FutureWarning: suggest_int() got {'step'} as positional arguments but they were expected to be given as keyword arguments.\n",
      "  number_of_convolutions = trial.suggest_int(\"number_of_convolutions\", 2,3,1)\n"
     ]
    },
    {
     "name": "stdout",
     "output_type": "stream",
     "text": [
      "31/31 [==============================] - 3s 52ms/step - loss: 0.6943 - acc: 0.5056 - auROC: 0.5032 - auPRC: 0.5028 - true_positives_5: 478.0000 - precision_5: 0.4974 - recall_5: 0.3191 - val_loss: 0.6933 - val_acc: 0.5026 - val_auROC: 0.5315 - val_auPRC: 0.5182 - val_true_positives_5: 382.0000 - val_precision_5: 0.5026 - val_recall_5: 1.0000 - lr: 7.9791e-04\n",
      "31/31 [==============================] - 3s 63ms/step - loss: 0.6958 - acc: 0.5118 - auROC: 0.5131 - auPRC: 0.5028 - true_positives_6: 791.0000 - precision_6: 0.4994 - recall_6: 0.5337 - val_loss: 0.6931 - val_acc: 0.5237 - val_auROC: 0.5181 - val_auPRC: 0.5262 - val_true_positives_6: 381.0000 - val_precision_6: 0.5248 - val_recall_6: 0.9573 - lr: 7.9791e-04\n",
      "31/31 [==============================] - 3s 53ms/step - loss: 0.6947 - acc: 0.5013 - auROC: 0.5047 - auPRC: 0.4948 - true_positives_7: 658.0000 - precision_7: 0.4940 - recall_7: 0.4387 - val_loss: 0.6937 - val_acc: 0.5053 - val_auROC: 0.5127 - val_auPRC: 0.5067 - val_true_positives_7: 13.0000 - val_precision_7: 0.5909 - val_recall_7: 0.0342 - lr: 7.9791e-04\n",
      "31/31 [==============================] - 3s 55ms/step - loss: 0.6953 - acc: 0.5003 - auROC: 0.4977 - auPRC: 0.4888 - true_positives_8: 435.0000 - precision_8: 0.4860 - recall_8: 0.2912 - val_loss: 0.6955 - val_acc: 0.4921 - val_auROC: 0.5211 - val_auPRC: 0.5380 - val_true_positives_8: 0.0000e+00 - val_precision_8: 0.0000e+00 - val_recall_8: 0.0000e+00 - lr: 7.9791e-04\n",
      "31/31 [==============================] - 3s 52ms/step - loss: 0.6938 - acc: 0.5102 - auROC: 0.5096 - auPRC: 0.5111 - true_positives_9: 1416.0000 - precision_9: 0.5103 - recall_9: 0.9159 - val_loss: 0.6895 - val_acc: 0.5605 - val_auROC: 0.5297 - val_auPRC: 0.4560 - val_true_positives_9: 0.0000e+00 - val_precision_9: 0.0000e+00 - val_recall_9: 0.0000e+00 - lr: 7.9791e-04\n"
     ]
    },
    {
     "name": "stderr",
     "output_type": "stream",
     "text": [
      "[I 2025-05-22 10:58:02,642] Trial 1 finished with value: 0.6929933667182923 and parameters: {'learning_rate': 0.0007979132423974926, 'kernel_size': (20, 4), 'batch_size': 100, 'number_of_convolutions': 3}. Best is trial 1 with value: 0.6929933667182923.\n"
     ]
    },
    {
     "name": "stdout",
     "output_type": "stream",
     "text": [
      "{'learning_rate': 0.0007979132423974926, 'kernel_size': (20, 4), 'batch_size': 100, 'number_of_convolutions': 3}\n"
     ]
    }
   ],
   "source": [
    "study = optuna.create_study(direction='minimize')\n",
    "study.optimize(objective_cv, n_trials=2)\n",
    "best_params = study.best_params\n",
    "print(best_params)"
   ]
  }
 ],
 "metadata": {
  "kernelspec": {
   "display_name": "Python 3 (ipykernel)",
   "language": "python",
   "name": "python3"
  },
  "language_info": {
   "codemirror_mode": {
    "name": "ipython",
    "version": 3
   },
   "file_extension": ".py",
   "mimetype": "text/x-python",
   "name": "python",
   "nbconvert_exporter": "python",
   "pygments_lexer": "ipython3",
   "version": "3.8.0"
  }
 },
 "nbformat": 4,
 "nbformat_minor": 4
}
