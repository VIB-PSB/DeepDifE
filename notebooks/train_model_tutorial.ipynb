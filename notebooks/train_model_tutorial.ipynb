{
 "cells": [
  {
   "cell_type": "code",
   "execution_count": 193,
   "metadata": {},
   "outputs": [
    {
     "name": "stdout",
     "output_type": "stream",
     "text": [
      "The autoreload extension is already loaded. To reload it, use:\n",
      "  %reload_ext autoreload\n",
      "/storage/nas6/group/biocomp/projects/transreg/sathi/DeepDifE\n"
     ]
    }
   ],
   "source": [
    "%load_ext autoreload\n",
    "%autoreload 2\n",
    "%cd /group/transreg/sathi/DeepDifE \n",
    "\n",
    "import pickle\n",
    "import importlib\n",
    "import esparto\n",
    "import optuna\n",
    "import numpy as np\n",
    "import pandas as pd\n",
    "from evoaug_tf import evoaug, augment\n",
    "from src.diff_expression_model import get_model, get_siamese_model, post_hoc_conjoining, get_auroc\n",
    "from skopt.utils import use_named_args"
   ]
  },
  {
   "cell_type": "markdown",
   "metadata": {},
   "source": [
    "## Prepare the data"
   ]
  },
  {
   "cell_type": "markdown",
   "metadata": {},
   "source": [
    "For now we start from this data pickle as I'm not aware how Helder did DE analysis and generated the labels"
   ]
  },
  {
   "cell_type": "code",
   "execution_count": 8,
   "metadata": {},
   "outputs": [],
   "source": [
    "ppath = \"/group/transreg/heopd/dlpipe/results/ath/aba/dlresults/predetermined_dataset/dataset_solid_chrome.pkl\"\n",
    "with open(ppath, 'rb') as f:\n",
    "    data = pickle.load(f)"
   ]
  },
  {
   "cell_type": "code",
   "execution_count": 12,
   "metadata": {},
   "outputs": [
    {
     "data": {
      "text/plain": [
       "Index(['Category', 'GeneFamily', 'seqs', 'ohs', 'rcohs', 'ohsDuo',\n",
       "       'in_original_balanced', 'set', 'npshap-single', 'npshap-posthoc'],\n",
       "      dtype='object')"
      ]
     },
     "execution_count": 12,
     "metadata": {},
     "output_type": "execute_result"
    }
   ],
   "source": [
    "data.columns"
   ]
  },
  {
   "cell_type": "code",
   "execution_count": 69,
   "metadata": {},
   "outputs": [
    {
     "data": {
      "text/plain": [
       "train    1900\n",
       "valid     257\n",
       "test      241\n",
       "Name: set, dtype: int64"
      ]
     },
     "execution_count": 69,
     "metadata": {},
     "output_type": "execute_result"
    }
   ],
   "source": [
    "data[\"set\"].value_counts()"
   ]
  },
  {
   "cell_type": "markdown",
   "metadata": {},
   "source": [
    "To show how to subdivide the dataset into train-test split we only take the following columns"
   ]
  },
  {
   "cell_type": "code",
   "execution_count": 17,
   "metadata": {},
   "outputs": [],
   "source": [
    "dataset = data.reset_index()\n",
    "dataset = dataset[[\"geneID\", \"Category\", \"GeneFamily\", \"seqs\"]]\n",
    "dataset.rename(columns={\"geneID\":\"GeneID\", \"Category\":\"Label\", \"seqs\": \"Sequence\"}, inplace=True)"
   ]
  },
  {
   "cell_type": "code",
   "execution_count": 18,
   "metadata": {},
   "outputs": [
    {
     "data": {
      "text/html": [
       "<div>\n",
       "<style scoped>\n",
       "    .dataframe tbody tr th:only-of-type {\n",
       "        vertical-align: middle;\n",
       "    }\n",
       "\n",
       "    .dataframe tbody tr th {\n",
       "        vertical-align: top;\n",
       "    }\n",
       "\n",
       "    .dataframe thead th {\n",
       "        text-align: right;\n",
       "    }\n",
       "</style>\n",
       "<table border=\"1\" class=\"dataframe\">\n",
       "  <thead>\n",
       "    <tr style=\"text-align: right;\">\n",
       "      <th></th>\n",
       "      <th>GeneID</th>\n",
       "      <th>Label</th>\n",
       "      <th>GeneFamily</th>\n",
       "      <th>Sequence</th>\n",
       "    </tr>\n",
       "  </thead>\n",
       "  <tbody>\n",
       "    <tr>\n",
       "      <th>0</th>\n",
       "      <td>AT4G27120</td>\n",
       "      <td>0</td>\n",
       "      <td>HOM04D000881</td>\n",
       "      <td>TAGAGAAGACAAGCGGTTATTTCGTAATTTCCCAGCGACTTTGAAA...</td>\n",
       "    </tr>\n",
       "    <tr>\n",
       "      <th>1</th>\n",
       "      <td>AT4G19600</td>\n",
       "      <td>0</td>\n",
       "      <td>HOM04D000740</td>\n",
       "      <td>GTCAAGTAGTGAAATCAAGGTGTGAAGTAAGCTGAGGACAGATAAT...</td>\n",
       "    </tr>\n",
       "    <tr>\n",
       "      <th>2</th>\n",
       "      <td>AT3G60880</td>\n",
       "      <td>0</td>\n",
       "      <td>HOM04D003119</td>\n",
       "      <td>AGTTGATATTGAATGAAATCTTCATGTTTTTTGATAAATGATTATA...</td>\n",
       "    </tr>\n",
       "    <tr>\n",
       "      <th>3</th>\n",
       "      <td>AT5G06960</td>\n",
       "      <td>0</td>\n",
       "      <td>HOM04D000319</td>\n",
       "      <td>CACTTGTCAGATTCTTCTTACCAAATCCATCAACAAATAAGCAAAT...</td>\n",
       "    </tr>\n",
       "    <tr>\n",
       "      <th>4</th>\n",
       "      <td>AT1G14890</td>\n",
       "      <td>0</td>\n",
       "      <td>HOM04D000273</td>\n",
       "      <td>TTGATATAACAGATTCAACACTAAAAATGAGTAAAATCTAAAAAAG...</td>\n",
       "    </tr>\n",
       "    <tr>\n",
       "      <th>...</th>\n",
       "      <td>...</td>\n",
       "      <td>...</td>\n",
       "      <td>...</td>\n",
       "      <td>...</td>\n",
       "    </tr>\n",
       "    <tr>\n",
       "      <th>2393</th>\n",
       "      <td>AT5G64230</td>\n",
       "      <td>1</td>\n",
       "      <td>HOM04D003278</td>\n",
       "      <td>AAGAAAGAAAAACCGTACATAAACACCCATCTGGTATACCATCGTC...</td>\n",
       "    </tr>\n",
       "    <tr>\n",
       "      <th>2394</th>\n",
       "      <td>AT5G64780</td>\n",
       "      <td>1</td>\n",
       "      <td>HOM04D002552</td>\n",
       "      <td>TTTTAGAAAGAAGAAGAAGGATTATTGCCTTATTGGTGAAGGGAAG...</td>\n",
       "    </tr>\n",
       "    <tr>\n",
       "      <th>2395</th>\n",
       "      <td>AT4G30470</td>\n",
       "      <td>1</td>\n",
       "      <td>HOM04D000082</td>\n",
       "      <td>TATGTACAGTCTCTACATTTTTTCAAATACATTTTTTTCTTTTTCA...</td>\n",
       "    </tr>\n",
       "    <tr>\n",
       "      <th>2396</th>\n",
       "      <td>AT3G51895</td>\n",
       "      <td>1</td>\n",
       "      <td>HOM04D000270</td>\n",
       "      <td>TGGTAAATAATTAAATATATAAGAACATTATTCTAAAGCGTTGAAT...</td>\n",
       "    </tr>\n",
       "    <tr>\n",
       "      <th>2397</th>\n",
       "      <td>AT2G35585</td>\n",
       "      <td>1</td>\n",
       "      <td>HOM04D004118</td>\n",
       "      <td>TTTTGCCACTGCTGGCTCTGATGGTGCTTTCAATTTCTAGGACAAG...</td>\n",
       "    </tr>\n",
       "  </tbody>\n",
       "</table>\n",
       "<p>2398 rows × 4 columns</p>\n",
       "</div>"
      ],
      "text/plain": [
       "         GeneID Label    GeneFamily  \\\n",
       "0     AT4G27120     0  HOM04D000881   \n",
       "1     AT4G19600     0  HOM04D000740   \n",
       "2     AT3G60880     0  HOM04D003119   \n",
       "3     AT5G06960     0  HOM04D000319   \n",
       "4     AT1G14890     0  HOM04D000273   \n",
       "...         ...   ...           ...   \n",
       "2393  AT5G64230     1  HOM04D003278   \n",
       "2394  AT5G64780     1  HOM04D002552   \n",
       "2395  AT4G30470     1  HOM04D000082   \n",
       "2396  AT3G51895     1  HOM04D000270   \n",
       "2397  AT2G35585     1  HOM04D004118   \n",
       "\n",
       "                                               Sequence  \n",
       "0     TAGAGAAGACAAGCGGTTATTTCGTAATTTCCCAGCGACTTTGAAA...  \n",
       "1     GTCAAGTAGTGAAATCAAGGTGTGAAGTAAGCTGAGGACAGATAAT...  \n",
       "2     AGTTGATATTGAATGAAATCTTCATGTTTTTTGATAAATGATTATA...  \n",
       "3     CACTTGTCAGATTCTTCTTACCAAATCCATCAACAAATAAGCAAAT...  \n",
       "4     TTGATATAACAGATTCAACACTAAAAATGAGTAAAATCTAAAAAAG...  \n",
       "...                                                 ...  \n",
       "2393  AAGAAAGAAAAACCGTACATAAACACCCATCTGGTATACCATCGTC...  \n",
       "2394  TTTTAGAAAGAAGAAGAAGGATTATTGCCTTATTGGTGAAGGGAAG...  \n",
       "2395  TATGTACAGTCTCTACATTTTTTCAAATACATTTTTTTCTTTTTCA...  \n",
       "2396  TGGTAAATAATTAAATATATAAGAACATTATTCTAAAGCGTTGAAT...  \n",
       "2397  TTTTGCCACTGCTGGCTCTGATGGTGCTTTCAATTTCTAGGACAAG...  \n",
       "\n",
       "[2398 rows x 4 columns]"
      ]
     },
     "execution_count": 18,
     "metadata": {},
     "output_type": "execute_result"
    }
   ],
   "source": [
    "dataset"
   ]
  },
  {
   "cell_type": "markdown",
   "metadata": {},
   "source": [
    "### One-hot-encode & reverse-complement"
   ]
  },
  {
   "cell_type": "code",
   "execution_count": 184,
   "metadata": {},
   "outputs": [],
   "source": [
    "from src.prepare_dataset import one_hot_encode_series, reverse_complement_series, reverse_complement_sequence\n",
    "dataset[\"One_hot_encoded\"] = one_hot_encode_series(dataset[\"Sequence\"])"
   ]
  },
  {
   "cell_type": "code",
   "execution_count": 39,
   "metadata": {},
   "outputs": [],
   "source": [
    "dataset[\"RC_one_hot_encoded\"] = reverse_complement_series(dataset[\"One_hot_encoded\"])"
   ]
  },
  {
   "cell_type": "code",
   "execution_count": 106,
   "metadata": {},
   "outputs": [
    {
     "data": {
      "text/html": [
       "<div>\n",
       "<style scoped>\n",
       "    .dataframe tbody tr th:only-of-type {\n",
       "        vertical-align: middle;\n",
       "    }\n",
       "\n",
       "    .dataframe tbody tr th {\n",
       "        vertical-align: top;\n",
       "    }\n",
       "\n",
       "    .dataframe thead th {\n",
       "        text-align: right;\n",
       "    }\n",
       "</style>\n",
       "<table border=\"1\" class=\"dataframe\">\n",
       "  <thead>\n",
       "    <tr style=\"text-align: right;\">\n",
       "      <th></th>\n",
       "      <th>GeneID</th>\n",
       "      <th>Label</th>\n",
       "      <th>GeneFamily</th>\n",
       "      <th>Sequence</th>\n",
       "      <th>One_hot_encoded</th>\n",
       "      <th>RC_one_hot_encoded</th>\n",
       "    </tr>\n",
       "  </thead>\n",
       "  <tbody>\n",
       "    <tr>\n",
       "      <th>0</th>\n",
       "      <td>AT4G27120</td>\n",
       "      <td>0</td>\n",
       "      <td>HOM04D000881</td>\n",
       "      <td>TAGAGAAGACAAGCGGTTATTTCGTAATTTCCCAGCGACTTTGAAA...</td>\n",
       "      <td>[[0, 0, 0, 1], [1, 0, 0, 0], [0, 0, 1, 0], [1,...</td>\n",
       "      <td>[[1, 0, 0, 0], [0, 0, 1, 0], [0, 0, 1, 0], [0,...</td>\n",
       "    </tr>\n",
       "    <tr>\n",
       "      <th>1</th>\n",
       "      <td>AT4G19600</td>\n",
       "      <td>0</td>\n",
       "      <td>HOM04D000740</td>\n",
       "      <td>GTCAAGTAGTGAAATCAAGGTGTGAAGTAAGCTGAGGACAGATAAT...</td>\n",
       "      <td>[[0, 0, 1, 0], [0, 0, 0, 1], [0, 1, 0, 0], [1,...</td>\n",
       "      <td>[[0, 0, 1, 0], [0, 0, 1, 0], [1, 0, 0, 0], [0,...</td>\n",
       "    </tr>\n",
       "    <tr>\n",
       "      <th>2</th>\n",
       "      <td>AT3G60880</td>\n",
       "      <td>0</td>\n",
       "      <td>HOM04D003119</td>\n",
       "      <td>AGTTGATATTGAATGAAATCTTCATGTTTTTTGATAAATGATTATA...</td>\n",
       "      <td>[[1, 0, 0, 0], [0, 0, 1, 0], [0, 0, 0, 1], [0,...</td>\n",
       "      <td>[[0, 0, 0, 1], [0, 0, 1, 0], [1, 0, 0, 0], [0,...</td>\n",
       "    </tr>\n",
       "    <tr>\n",
       "      <th>3</th>\n",
       "      <td>AT5G06960</td>\n",
       "      <td>0</td>\n",
       "      <td>HOM04D000319</td>\n",
       "      <td>CACTTGTCAGATTCTTCTTACCAAATCCATCAACAAATAAGCAAAT...</td>\n",
       "      <td>[[0, 1, 0, 0], [1, 0, 0, 0], [0, 1, 0, 0], [0,...</td>\n",
       "      <td>[[1, 0, 0, 0], [0, 1, 0, 0], [0, 0, 1, 0], [1,...</td>\n",
       "    </tr>\n",
       "    <tr>\n",
       "      <th>4</th>\n",
       "      <td>AT1G14890</td>\n",
       "      <td>0</td>\n",
       "      <td>HOM04D000273</td>\n",
       "      <td>TTGATATAACAGATTCAACACTAAAAATGAGTAAAATCTAAAAAAG...</td>\n",
       "      <td>[[0, 0, 0, 1], [0, 0, 0, 1], [0, 0, 1, 0], [1,...</td>\n",
       "      <td>[[0, 0, 0, 1], [1, 0, 0, 0], [0, 0, 0, 1], [1,...</td>\n",
       "    </tr>\n",
       "    <tr>\n",
       "      <th>...</th>\n",
       "      <td>...</td>\n",
       "      <td>...</td>\n",
       "      <td>...</td>\n",
       "      <td>...</td>\n",
       "      <td>...</td>\n",
       "      <td>...</td>\n",
       "    </tr>\n",
       "    <tr>\n",
       "      <th>2393</th>\n",
       "      <td>AT5G64230</td>\n",
       "      <td>1</td>\n",
       "      <td>HOM04D003278</td>\n",
       "      <td>AAGAAAGAAAAACCGTACATAAACACCCATCTGGTATACCATCGTC...</td>\n",
       "      <td>[[1, 0, 0, 0], [1, 0, 0, 0], [0, 0, 1, 0], [1,...</td>\n",
       "      <td>[[0, 1, 0, 0], [0, 0, 1, 0], [0, 0, 0, 1], [0,...</td>\n",
       "    </tr>\n",
       "    <tr>\n",
       "      <th>2394</th>\n",
       "      <td>AT5G64780</td>\n",
       "      <td>1</td>\n",
       "      <td>HOM04D002552</td>\n",
       "      <td>TTTTAGAAAGAAGAAGAAGGATTATTGCCTTATTGGTGAAGGGAAG...</td>\n",
       "      <td>[[0, 0, 0, 1], [0, 0, 0, 1], [0, 0, 0, 1], [0,...</td>\n",
       "      <td>[[0, 0, 0, 1], [0, 0, 1, 0], [1, 0, 0, 0], [0,...</td>\n",
       "    </tr>\n",
       "    <tr>\n",
       "      <th>2395</th>\n",
       "      <td>AT4G30470</td>\n",
       "      <td>1</td>\n",
       "      <td>HOM04D000082</td>\n",
       "      <td>TATGTACAGTCTCTACATTTTTTCAAATACATTTTTTTCTTTTTCA...</td>\n",
       "      <td>[[0, 0, 0, 1], [1, 0, 0, 0], [0, 0, 0, 1], [0,...</td>\n",
       "      <td>[[1, 0, 0, 0], [0, 0, 1, 0], [0, 0, 1, 0], [0,...</td>\n",
       "    </tr>\n",
       "    <tr>\n",
       "      <th>2396</th>\n",
       "      <td>AT3G51895</td>\n",
       "      <td>1</td>\n",
       "      <td>HOM04D000270</td>\n",
       "      <td>TGGTAAATAATTAAATATATAAGAACATTATTCTAAAGCGTTGAAT...</td>\n",
       "      <td>[[0, 0, 0, 1], [0, 0, 1, 0], [0, 0, 1, 0], [0,...</td>\n",
       "      <td>[[0, 0, 0, 1], [0, 0, 0, 1], [0, 0, 1, 0], [1,...</td>\n",
       "    </tr>\n",
       "    <tr>\n",
       "      <th>2397</th>\n",
       "      <td>AT2G35585</td>\n",
       "      <td>1</td>\n",
       "      <td>HOM04D004118</td>\n",
       "      <td>TTTTGCCACTGCTGGCTCTGATGGTGCTTTCAATTTCTAGGACAAG...</td>\n",
       "      <td>[[0, 0, 0, 1], [0, 0, 0, 1], [0, 0, 0, 1], [0,...</td>\n",
       "      <td>[[0, 0, 1, 0], [0, 0, 1, 0], [0, 1, 0, 0], [0,...</td>\n",
       "    </tr>\n",
       "  </tbody>\n",
       "</table>\n",
       "<p>2398 rows × 6 columns</p>\n",
       "</div>"
      ],
      "text/plain": [
       "         GeneID Label    GeneFamily  \\\n",
       "0     AT4G27120     0  HOM04D000881   \n",
       "1     AT4G19600     0  HOM04D000740   \n",
       "2     AT3G60880     0  HOM04D003119   \n",
       "3     AT5G06960     0  HOM04D000319   \n",
       "4     AT1G14890     0  HOM04D000273   \n",
       "...         ...   ...           ...   \n",
       "2393  AT5G64230     1  HOM04D003278   \n",
       "2394  AT5G64780     1  HOM04D002552   \n",
       "2395  AT4G30470     1  HOM04D000082   \n",
       "2396  AT3G51895     1  HOM04D000270   \n",
       "2397  AT2G35585     1  HOM04D004118   \n",
       "\n",
       "                                               Sequence  \\\n",
       "0     TAGAGAAGACAAGCGGTTATTTCGTAATTTCCCAGCGACTTTGAAA...   \n",
       "1     GTCAAGTAGTGAAATCAAGGTGTGAAGTAAGCTGAGGACAGATAAT...   \n",
       "2     AGTTGATATTGAATGAAATCTTCATGTTTTTTGATAAATGATTATA...   \n",
       "3     CACTTGTCAGATTCTTCTTACCAAATCCATCAACAAATAAGCAAAT...   \n",
       "4     TTGATATAACAGATTCAACACTAAAAATGAGTAAAATCTAAAAAAG...   \n",
       "...                                                 ...   \n",
       "2393  AAGAAAGAAAAACCGTACATAAACACCCATCTGGTATACCATCGTC...   \n",
       "2394  TTTTAGAAAGAAGAAGAAGGATTATTGCCTTATTGGTGAAGGGAAG...   \n",
       "2395  TATGTACAGTCTCTACATTTTTTCAAATACATTTTTTTCTTTTTCA...   \n",
       "2396  TGGTAAATAATTAAATATATAAGAACATTATTCTAAAGCGTTGAAT...   \n",
       "2397  TTTTGCCACTGCTGGCTCTGATGGTGCTTTCAATTTCTAGGACAAG...   \n",
       "\n",
       "                                        One_hot_encoded  \\\n",
       "0     [[0, 0, 0, 1], [1, 0, 0, 0], [0, 0, 1, 0], [1,...   \n",
       "1     [[0, 0, 1, 0], [0, 0, 0, 1], [0, 1, 0, 0], [1,...   \n",
       "2     [[1, 0, 0, 0], [0, 0, 1, 0], [0, 0, 0, 1], [0,...   \n",
       "3     [[0, 1, 0, 0], [1, 0, 0, 0], [0, 1, 0, 0], [0,...   \n",
       "4     [[0, 0, 0, 1], [0, 0, 0, 1], [0, 0, 1, 0], [1,...   \n",
       "...                                                 ...   \n",
       "2393  [[1, 0, 0, 0], [1, 0, 0, 0], [0, 0, 1, 0], [1,...   \n",
       "2394  [[0, 0, 0, 1], [0, 0, 0, 1], [0, 0, 0, 1], [0,...   \n",
       "2395  [[0, 0, 0, 1], [1, 0, 0, 0], [0, 0, 0, 1], [0,...   \n",
       "2396  [[0, 0, 0, 1], [0, 0, 1, 0], [0, 0, 1, 0], [0,...   \n",
       "2397  [[0, 0, 0, 1], [0, 0, 0, 1], [0, 0, 0, 1], [0,...   \n",
       "\n",
       "                                     RC_one_hot_encoded  \n",
       "0     [[1, 0, 0, 0], [0, 0, 1, 0], [0, 0, 1, 0], [0,...  \n",
       "1     [[0, 0, 1, 0], [0, 0, 1, 0], [1, 0, 0, 0], [0,...  \n",
       "2     [[0, 0, 0, 1], [0, 0, 1, 0], [1, 0, 0, 0], [0,...  \n",
       "3     [[1, 0, 0, 0], [0, 1, 0, 0], [0, 0, 1, 0], [1,...  \n",
       "4     [[0, 0, 0, 1], [1, 0, 0, 0], [0, 0, 0, 1], [1,...  \n",
       "...                                                 ...  \n",
       "2393  [[0, 1, 0, 0], [0, 0, 1, 0], [0, 0, 0, 1], [0,...  \n",
       "2394  [[0, 0, 0, 1], [0, 0, 1, 0], [1, 0, 0, 0], [0,...  \n",
       "2395  [[1, 0, 0, 0], [0, 0, 1, 0], [0, 0, 1, 0], [0,...  \n",
       "2396  [[0, 0, 0, 1], [0, 0, 0, 1], [0, 0, 1, 0], [1,...  \n",
       "2397  [[0, 0, 1, 0], [0, 0, 1, 0], [0, 1, 0, 0], [0,...  \n",
       "\n",
       "[2398 rows x 6 columns]"
      ]
     },
     "execution_count": 106,
     "metadata": {},
     "output_type": "execute_result"
    }
   ],
   "source": [
    "dataset"
   ]
  },
  {
   "cell_type": "markdown",
   "metadata": {},
   "source": [
    "### Train-test split"
   ]
  },
  {
   "cell_type": "code",
   "execution_count": 85,
   "metadata": {},
   "outputs": [],
   "source": [
    "from src.prepare_dataset import grouped_shuffle_split\n",
    "train_df, validation_test_df = grouped_shuffle_split(dataset, dataset[\"GeneFamily\"], 0.2)"
   ]
  },
  {
   "cell_type": "code",
   "execution_count": 86,
   "metadata": {},
   "outputs": [],
   "source": [
    "validation_df, test_df  = grouped_shuffle_split(validation_test_df, validation_test_df[\"GeneFamily\"], 0.5)"
   ]
  },
  {
   "cell_type": "code",
   "execution_count": 87,
   "metadata": {},
   "outputs": [
    {
     "name": "stdout",
     "output_type": "stream",
     "text": [
      "Length of training set: 1900\n",
      "Length of validation set: 257\n",
      "Length of test set: 241\n"
     ]
    }
   ],
   "source": [
    "print(f\"Length of training set: {train_df.shape[0]}\")\n",
    "print(f\"Length of validation set: {validation_df.shape[0]}\")\n",
    "print(f\"Length of test set: {test_df.shape[0]}\")"
   ]
  },
  {
   "cell_type": "code",
   "execution_count": 162,
   "metadata": {},
   "outputs": [],
   "source": [
    "def get_input_and_labels(df):\n",
    "\tohe_np = np.stack(df[\"One_hot_encoded\"])\n",
    "\trc_np = np.stack(df[\"RC_one_hot_encoded\"])\n",
    "\n",
    "\tx = np.append(ohe_np, rc_np, axis=0)\n",
    "\tx = x.astype('float32')\n",
    "\ty = np.append(df[\"Label\"], df[\"Label\"])\n",
    "\treturn x, y"
   ]
  },
  {
   "cell_type": "code",
   "execution_count": 163,
   "metadata": {},
   "outputs": [],
   "source": [
    "x_train, y_train = get_input_and_labels(train_df)\n",
    "x_validation, y_validation = get_input_and_labels(validation_df)"
   ]
  },
  {
   "cell_type": "markdown",
   "metadata": {},
   "source": [
    "## Prepare model"
   ]
  },
  {
   "cell_type": "markdown",
   "metadata": {},
   "source": [
    "As the model uses evo augmentation, a list of possible nucleotide operations needs to be given"
   ]
  },
  {
   "cell_type": "code",
   "execution_count": 164,
   "metadata": {},
   "outputs": [],
   "source": [
    "augment_list = [\n",
    "    augment.RandomRC(rc_prob=0.5),\n",
    "    augment.RandomInsertionBatch(insert_min=0, insert_max=20),\n",
    "    augment.RandomDeletion(delete_min=0, delete_max=30),\n",
    "    augment.RandomTranslocationBatch(shift_min=0, shift_max=20),\n",
    "    augment.RandomMutation(mutate_frac=0.05),\n",
    "    augment.RandomNoise()\n",
    "]"
   ]
  },
  {
   "cell_type": "markdown",
   "metadata": {},
   "source": [
    "Get the shape of the input data"
   ]
  },
  {
   "cell_type": "code",
   "execution_count": 165,
   "metadata": {},
   "outputs": [],
   "source": [
    "input_shape = train_df[\"One_hot_encoded\"].iloc[0].shape"
   ]
  },
  {
   "cell_type": "markdown",
   "metadata": {},
   "source": [
    "Initialize the model"
   ]
  },
  {
   "cell_type": "code",
   "execution_count": 166,
   "metadata": {},
   "outputs": [],
   "source": [
    "model = get_model(input_shape=input_shape, perform_evoaug=True, augment_list=augment_list ,learning_rate=0.001)"
   ]
  },
  {
   "cell_type": "markdown",
   "metadata": {},
   "source": [
    "## Train the model"
   ]
  },
  {
   "cell_type": "markdown",
   "metadata": {},
   "source": [
    "Define the callback"
   ]
  },
  {
   "cell_type": "code",
   "execution_count": 167,
   "metadata": {},
   "outputs": [],
   "source": [
    "# early stopping callback\n",
    "import tensorflow as tf\n",
    "\n",
    "early_stopping_callback = tf.keras.callbacks.EarlyStopping(monitor='val_loss',\n",
    "\t\t\t\t\t\t\t\t\t\t\tpatience=20,\n",
    "\t\t\t\t\t\t\t\t\t\t\tverbose=1,\n",
    "\t\t\t\t\t\t\t\t\t\t\tmode='min',\n",
    "\t\t\t\t\t\t\t\t\t\t\trestore_best_weights=True)\n",
    "# reduce learning rate callback\n",
    "reduce_lr = tf.keras.callbacks.ReduceLROnPlateau(monitor='val_loss',\n",
    "\t\t\t\t\t\t\t\t\t\t\t\tfactor=0.1,\n",
    "\t\t\t\t\t\t\t\t\t\t\t\tpatience=5,\n",
    "\t\t\t\t\t\t\t\t\t\t\t\tmin_lr=1e-7,\n",
    "\t\t\t\t\t\t\t\t\t\t\t\tmode='min',\n",
    "\t\t\t\t\t\t\t\t\t\t\t\tverbose=1)\n",
    "callbacks = [early_stopping_callback, reduce_lr]"
   ]
  },
  {
   "cell_type": "code",
   "execution_count": 171,
   "metadata": {},
   "outputs": [
    {
     "name": "stdout",
     "output_type": "stream",
     "text": [
      "Epoch 1/100\n",
      "38/38 [==============================] - 24s 414ms/step - loss: 0.6951 - acc: 0.5074 - auROC: 0.5038 - auPRC: 0.4999 - true_positives_1: 864.0000 - auroc: 0.5038 - val_loss: 0.6937 - val_acc: 0.5019 - val_auROC: 0.5123 - val_auPRC: 0.5023 - val_true_positives_1: 258.0000 - val_auroc: 0.5123 - lr: 0.0010\n",
      "Epoch 2/100\n",
      "38/38 [==============================] - 14s 372ms/step - loss: 0.6933 - acc: 0.5108 - auROC: 0.5146 - auPRC: 0.5099 - true_positives_1: 266.0000 - auroc: 0.5146 - val_loss: 0.6933 - val_acc: 0.5019 - val_auROC: 0.5445 - val_auPRC: 0.5344 - val_true_positives_1: 258.0000 - val_auroc: 0.5445 - lr: 0.0010\n",
      "Epoch 3/100\n",
      "38/38 [==============================] - 14s 359ms/step - loss: 0.6942 - acc: 0.5032 - auROC: 0.4995 - auPRC: 0.4937 - true_positives_1: 844.0000 - auroc: 0.4995 - val_loss: 0.6937 - val_acc: 0.5019 - val_auROC: 0.5035 - val_auPRC: 0.4951 - val_true_positives_1: 258.0000 - val_auroc: 0.5035 - lr: 0.0010\n",
      "Epoch 4/100\n",
      "38/38 [==============================] - 14s 372ms/step - loss: 0.6939 - acc: 0.5016 - auROC: 0.4974 - auPRC: 0.4927 - true_positives_1: 823.0000 - auroc: 0.4974 - val_loss: 0.6931 - val_acc: 0.5292 - val_auROC: 0.5507 - val_auPRC: 0.5331 - val_true_positives_1: 61.0000 - val_auroc: 0.5507 - lr: 0.0010\n",
      "Epoch 5/100\n",
      "38/38 [==============================] - 14s 369ms/step - loss: 0.6930 - acc: 0.5195 - auROC: 0.5198 - auPRC: 0.5167 - true_positives_1: 783.0000 - auroc: 0.5198 - val_loss: 0.6909 - val_acc: 0.5817 - val_auROC: 0.6000 - val_auPRC: 0.5642 - val_true_positives_1: 167.0000 - val_auroc: 0.6000 - lr: 0.0010\n",
      "Epoch 6/100\n",
      "38/38 [==============================] - 14s 381ms/step - loss: 0.6923 - acc: 0.5211 - auROC: 0.5269 - auPRC: 0.5125 - true_positives_1: 1061.0000 - auroc: 0.5269 - val_loss: 0.6905 - val_acc: 0.5642 - val_auROC: 0.6004 - val_auPRC: 0.5897 - val_true_positives_1: 223.0000 - val_auroc: 0.6004 - lr: 0.0010\n",
      "Epoch 7/100\n",
      "38/38 [==============================] - 14s 363ms/step - loss: 0.6894 - acc: 0.5384 - auROC: 0.5551 - auPRC: 0.5321 - true_positives_1: 856.0000 - auroc: 0.5551 - val_loss: 0.6835 - val_acc: 0.5798 - val_auROC: 0.6234 - val_auPRC: 0.5994 - val_true_positives_1: 212.0000 - val_auroc: 0.6234 - lr: 0.0010\n",
      "Epoch 8/100\n",
      "38/38 [==============================] - 14s 377ms/step - loss: 0.6809 - acc: 0.5647 - auROC: 0.5885 - auPRC: 0.5568 - true_positives_1: 1190.0000 - auroc: 0.5885 - val_loss: 0.6803 - val_acc: 0.5817 - val_auROC: 0.6453 - val_auPRC: 0.6268 - val_true_positives_1: 83.0000 - val_auroc: 0.6453 - lr: 0.0010\n",
      "Epoch 9/100\n",
      "38/38 [==============================] - 14s 362ms/step - loss: 0.6784 - acc: 0.5700 - auROC: 0.5986 - auPRC: 0.5727 - true_positives_1: 1091.0000 - auroc: 0.5986 - val_loss: 0.6649 - val_acc: 0.6051 - val_auROC: 0.6429 - val_auPRC: 0.6008 - val_true_positives_1: 180.0000 - val_auroc: 0.6429 - lr: 0.0010\n",
      "Epoch 10/100\n",
      "38/38 [==============================] - 19s 518ms/step - loss: 0.6700 - acc: 0.5897 - auROC: 0.6206 - auPRC: 0.5828 - true_positives_1: 1238.0000 - auroc: 0.6206 - val_loss: 0.6681 - val_acc: 0.6070 - val_auROC: 0.6404 - val_auPRC: 0.5999 - val_true_positives_1: 201.0000 - val_auroc: 0.6404 - lr: 0.0010\n",
      "Epoch 11/100\n",
      "38/38 [==============================] - 14s 360ms/step - loss: 0.6656 - acc: 0.5966 - auROC: 0.6266 - auPRC: 0.5909 - true_positives_1: 1307.0000 - auroc: 0.6266 - val_loss: 0.6619 - val_acc: 0.6070 - val_auROC: 0.6553 - val_auPRC: 0.6062 - val_true_positives_1: 154.0000 - val_auroc: 0.6553 - lr: 0.0010\n",
      "Epoch 12/100\n",
      "38/38 [==============================] - 14s 367ms/step - loss: 0.6594 - acc: 0.6118 - auROC: 0.6436 - auPRC: 0.6056 - true_positives_1: 1193.0000 - auroc: 0.6436 - val_loss: 0.6579 - val_acc: 0.6284 - val_auROC: 0.6651 - val_auPRC: 0.6173 - val_true_positives_1: 204.0000 - val_auroc: 0.6651 - lr: 0.0010\n",
      "Epoch 13/100\n",
      "38/38 [==============================] - 17s 457ms/step - loss: 0.6613 - acc: 0.6055 - auROC: 0.6412 - auPRC: 0.6090 - true_positives_1: 1341.0000 - auroc: 0.6412 - val_loss: 0.6716 - val_acc: 0.5759 - val_auROC: 0.6663 - val_auPRC: 0.6163 - val_true_positives_1: 229.0000 - val_auroc: 0.6663 - lr: 0.0010\n",
      "Epoch 14/100\n",
      "38/38 [==============================] - 13s 352ms/step - loss: 0.6539 - acc: 0.6111 - auROC: 0.6522 - auPRC: 0.6098 - true_positives_1: 1304.0000 - auroc: 0.6522 - val_loss: 0.6503 - val_acc: 0.6381 - val_auROC: 0.6877 - val_auPRC: 0.6618 - val_true_positives_1: 198.0000 - val_auroc: 0.6877 - lr: 0.0010\n",
      "Epoch 15/100\n",
      "38/38 [==============================] - 13s 350ms/step - loss: 0.6467 - acc: 0.6203 - auROC: 0.6640 - auPRC: 0.6243 - true_positives_1: 1290.0000 - auroc: 0.6640 - val_loss: 0.6511 - val_acc: 0.6109 - val_auROC: 0.6969 - val_auPRC: 0.6481 - val_true_positives_1: 215.0000 - val_auroc: 0.6969 - lr: 0.0010\n",
      "Epoch 16/100\n",
      "38/38 [==============================] - 13s 352ms/step - loss: 0.6389 - acc: 0.6347 - auROC: 0.6789 - auPRC: 0.6433 - true_positives_1: 1375.0000 - auroc: 0.6789 - val_loss: 0.6401 - val_acc: 0.6459 - val_auROC: 0.7090 - val_auPRC: 0.6956 - val_true_positives_1: 201.0000 - val_auroc: 0.7090 - lr: 0.0010\n",
      "Epoch 17/100\n",
      "38/38 [==============================] - 13s 341ms/step - loss: 0.6460 - acc: 0.6184 - auROC: 0.6625 - auPRC: 0.6271 - true_positives_1: 1318.0000 - auroc: 0.6625 - val_loss: 0.6417 - val_acc: 0.6304 - val_auROC: 0.7010 - val_auPRC: 0.6735 - val_true_positives_1: 206.0000 - val_auroc: 0.7010 - lr: 0.0010\n",
      "Epoch 18/100\n",
      "38/38 [==============================] - 14s 353ms/step - loss: 0.6302 - acc: 0.6468 - auROC: 0.6935 - auPRC: 0.6439 - true_positives_1: 1334.0000 - auroc: 0.6935 - val_loss: 0.6502 - val_acc: 0.6206 - val_auROC: 0.6999 - val_auPRC: 0.6611 - val_true_positives_1: 221.0000 - val_auroc: 0.6999 - lr: 0.0010\n",
      "Epoch 19/100\n",
      "38/38 [==============================] - 13s 348ms/step - loss: 0.6285 - acc: 0.6450 - auROC: 0.6993 - auPRC: 0.6666 - true_positives_1: 1362.0000 - auroc: 0.6993 - val_loss: 0.6328 - val_acc: 0.6595 - val_auROC: 0.7113 - val_auPRC: 0.6984 - val_true_positives_1: 173.0000 - val_auroc: 0.7113 - lr: 0.0010\n",
      "Epoch 20/100\n",
      "38/38 [==============================] - 13s 346ms/step - loss: 0.6202 - acc: 0.6505 - auROC: 0.7085 - auPRC: 0.6761 - true_positives_1: 1323.0000 - auroc: 0.7085 - val_loss: 0.6349 - val_acc: 0.6381 - val_auROC: 0.7021 - val_auPRC: 0.6767 - val_true_positives_1: 197.0000 - val_auroc: 0.7021 - lr: 0.0010\n",
      "Epoch 21/100\n",
      "38/38 [==============================] - 13s 352ms/step - loss: 0.6158 - acc: 0.6618 - auROC: 0.7202 - auPRC: 0.6872 - true_positives_1: 1307.0000 - auroc: 0.7202 - val_loss: 0.6283 - val_acc: 0.6479 - val_auROC: 0.7110 - val_auPRC: 0.7028 - val_true_positives_1: 183.0000 - val_auroc: 0.7110 - lr: 0.0010\n",
      "Epoch 22/100\n",
      "38/38 [==============================] - 13s 347ms/step - loss: 0.6229 - acc: 0.6482 - auROC: 0.7034 - auPRC: 0.6631 - true_positives_1: 1363.0000 - auroc: 0.7034 - val_loss: 0.6444 - val_acc: 0.6342 - val_auROC: 0.7017 - val_auPRC: 0.6715 - val_true_positives_1: 220.0000 - val_auroc: 0.7017 - lr: 0.0010\n",
      "Epoch 23/100\n",
      "38/38 [==============================] - 13s 331ms/step - loss: 0.6203 - acc: 0.6442 - auROC: 0.7132 - auPRC: 0.6880 - true_positives_1: 1290.0000 - auroc: 0.7132 - val_loss: 0.6197 - val_acc: 0.6576 - val_auROC: 0.7257 - val_auPRC: 0.7060 - val_true_positives_1: 165.0000 - val_auroc: 0.7257 - lr: 0.0010\n",
      "Epoch 24/100\n",
      "38/38 [==============================] - 25s 670ms/step - loss: 0.6103 - acc: 0.6718 - auROC: 0.7245 - auPRC: 0.7001 - true_positives_1: 1343.0000 - auroc: 0.7245 - val_loss: 0.6214 - val_acc: 0.6732 - val_auROC: 0.7194 - val_auPRC: 0.6932 - val_true_positives_1: 185.0000 - val_auroc: 0.7194 - lr: 0.0010\n",
      "Epoch 25/100\n",
      "38/38 [==============================] - 13s 346ms/step - loss: 0.6091 - acc: 0.6645 - auROC: 0.7244 - auPRC: 0.6952 - true_positives_1: 1328.0000 - auroc: 0.7244 - val_loss: 0.6355 - val_acc: 0.6518 - val_auROC: 0.7190 - val_auPRC: 0.7011 - val_true_positives_1: 228.0000 - val_auroc: 0.7190 - lr: 0.0010\n",
      "Epoch 26/100\n",
      "38/38 [==============================] - 13s 348ms/step - loss: 0.6076 - acc: 0.6737 - auROC: 0.7285 - auPRC: 0.6909 - true_positives_1: 1350.0000 - auroc: 0.7285 - val_loss: 0.6335 - val_acc: 0.6440 - val_auROC: 0.7311 - val_auPRC: 0.7160 - val_true_positives_1: 128.0000 - val_auroc: 0.7311 - lr: 0.0010\n",
      "Epoch 27/100\n",
      "38/38 [==============================] - 13s 348ms/step - loss: 0.6135 - acc: 0.6671 - auROC: 0.7220 - auPRC: 0.6889 - true_positives_1: 1330.0000 - auroc: 0.7220 - val_loss: 0.6195 - val_acc: 0.6518 - val_auROC: 0.7230 - val_auPRC: 0.7118 - val_true_positives_1: 198.0000 - val_auroc: 0.7230 - lr: 0.0010\n",
      "Epoch 28/100\n",
      "38/38 [==============================] - 13s 343ms/step - loss: 0.6016 - acc: 0.6708 - auROC: 0.7361 - auPRC: 0.7054 - true_positives_1: 1367.0000 - auroc: 0.7361 - val_loss: 0.6336 - val_acc: 0.6401 - val_auROC: 0.7145 - val_auPRC: 0.7043 - val_true_positives_1: 223.0000 - val_auroc: 0.7145 - lr: 0.0010\n",
      "Epoch 29/100\n",
      "38/38 [==============================] - 13s 348ms/step - loss: 0.5973 - acc: 0.6811 - auROC: 0.7428 - auPRC: 0.7190 - true_positives_1: 1371.0000 - auroc: 0.7428 - val_loss: 0.6142 - val_acc: 0.6907 - val_auROC: 0.7314 - val_auPRC: 0.7218 - val_true_positives_1: 176.0000 - val_auroc: 0.7314 - lr: 0.0010\n",
      "Epoch 30/100\n",
      "38/38 [==============================] - 13s 337ms/step - loss: 0.5796 - acc: 0.6987 - auROC: 0.7619 - auPRC: 0.7372 - true_positives_1: 1343.0000 - auroc: 0.7619 - val_loss: 0.6337 - val_acc: 0.6537 - val_auROC: 0.7067 - val_auPRC: 0.6931 - val_true_positives_1: 226.0000 - val_auroc: 0.7067 - lr: 0.0010\n",
      "Epoch 31/100\n",
      "38/38 [==============================] - 13s 349ms/step - loss: 0.5851 - acc: 0.6913 - auROC: 0.7573 - auPRC: 0.7381 - true_positives_1: 1333.0000 - auroc: 0.7573 - val_loss: 0.5971 - val_acc: 0.6732 - val_auROC: 0.7469 - val_auPRC: 0.7314 - val_true_positives_1: 172.0000 - val_auroc: 0.7469 - lr: 0.0010\n",
      "Epoch 32/100\n",
      "38/38 [==============================] - 13s 347ms/step - loss: 0.5727 - acc: 0.7024 - auROC: 0.7698 - auPRC: 0.7488 - true_positives_1: 1364.0000 - auroc: 0.7698 - val_loss: 0.6105 - val_acc: 0.6712 - val_auROC: 0.7249 - val_auPRC: 0.7029 - val_true_positives_1: 207.0000 - val_auroc: 0.7249 - lr: 0.0010\n",
      "Epoch 33/100\n",
      "38/38 [==============================] - 18s 465ms/step - loss: 0.5794 - acc: 0.6921 - auROC: 0.7613 - auPRC: 0.7463 - true_positives_1: 1341.0000 - auroc: 0.7613 - val_loss: 0.5980 - val_acc: 0.6770 - val_auROC: 0.7399 - val_auPRC: 0.7214 - val_true_positives_1: 177.0000 - val_auroc: 0.7399 - lr: 0.0010\n",
      "Epoch 34/100\n",
      "38/38 [==============================] - 13s 340ms/step - loss: 0.5788 - acc: 0.6961 - auROC: 0.7630 - auPRC: 0.7413 - true_positives_1: 1351.0000 - auroc: 0.7630 - val_loss: 0.6064 - val_acc: 0.6848 - val_auROC: 0.7318 - val_auPRC: 0.7114 - val_true_positives_1: 214.0000 - val_auroc: 0.7318 - lr: 0.0010\n",
      "Epoch 35/100\n",
      "38/38 [==============================] - 13s 350ms/step - loss: 0.5731 - acc: 0.7026 - auROC: 0.7671 - auPRC: 0.7517 - true_positives_1: 1385.0000 - auroc: 0.7671 - val_loss: 0.5999 - val_acc: 0.6809 - val_auROC: 0.7429 - val_auPRC: 0.7241 - val_true_positives_1: 218.0000 - val_auroc: 0.7429 - lr: 0.0010\n",
      "Epoch 36/100\n",
      "38/38 [==============================] - ETA: 0s - loss: 0.5784 - acc: 0.6866 - auROC: 0.7629 - auPRC: 0.7459 - true_positives_1: 1368.0000 - auroc: 0.7629\n",
      "Epoch 36: ReduceLROnPlateau reducing learning rate to 0.00010000000474974513.\n",
      "38/38 [==============================] - 13s 341ms/step - loss: 0.5784 - acc: 0.6866 - auROC: 0.7629 - auPRC: 0.7459 - true_positives_1: 1368.0000 - auroc: 0.7629 - val_loss: 0.6073 - val_acc: 0.6712 - val_auROC: 0.7282 - val_auPRC: 0.7104 - val_true_positives_1: 174.0000 - val_auroc: 0.7282 - lr: 0.0010\n",
      "Epoch 37/100\n",
      "38/38 [==============================] - 13s 339ms/step - loss: 0.5669 - acc: 0.7071 - auROC: 0.7781 - auPRC: 0.7580 - true_positives_1: 1352.0000 - auroc: 0.7781 - val_loss: 0.5992 - val_acc: 0.6829 - val_auROC: 0.7334 - val_auPRC: 0.7173 - val_true_positives_1: 199.0000 - val_auroc: 0.7334 - lr: 1.0000e-04\n",
      "Epoch 38/100\n",
      "38/38 [==============================] - 13s 349ms/step - loss: 0.5626 - acc: 0.7058 - auROC: 0.7788 - auPRC: 0.7643 - true_positives_1: 1360.0000 - auroc: 0.7788 - val_loss: 0.5888 - val_acc: 0.6770 - val_auROC: 0.7468 - val_auPRC: 0.7300 - val_true_positives_1: 190.0000 - val_auroc: 0.7468 - lr: 1.0000e-04\n",
      "Epoch 39/100\n",
      "38/38 [==============================] - 13s 339ms/step - loss: 0.5632 - acc: 0.7053 - auROC: 0.7773 - auPRC: 0.7623 - true_positives_1: 1388.0000 - auroc: 0.7773 - val_loss: 0.5905 - val_acc: 0.6770 - val_auROC: 0.7442 - val_auPRC: 0.7266 - val_true_positives_1: 203.0000 - val_auroc: 0.7442 - lr: 1.0000e-04\n",
      "Epoch 40/100\n",
      "38/38 [==============================] - 19s 502ms/step - loss: 0.5695 - acc: 0.7034 - auROC: 0.7731 - auPRC: 0.7571 - true_positives_1: 1365.0000 - auroc: 0.7731 - val_loss: 0.5919 - val_acc: 0.6576 - val_auROC: 0.7437 - val_auPRC: 0.7288 - val_true_positives_1: 187.0000 - val_auroc: 0.7437 - lr: 1.0000e-04\n",
      "Epoch 41/100\n",
      "38/38 [==============================] - 13s 344ms/step - loss: 0.5593 - acc: 0.7129 - auROC: 0.7830 - auPRC: 0.7621 - true_positives_1: 1381.0000 - auroc: 0.7830 - val_loss: 0.5904 - val_acc: 0.6751 - val_auROC: 0.7448 - val_auPRC: 0.7283 - val_true_positives_1: 197.0000 - val_auroc: 0.7448 - lr: 1.0000e-04\n",
      "Epoch 42/100\n",
      "38/38 [==============================] - 14s 359ms/step - loss: 0.5625 - acc: 0.7108 - auROC: 0.7801 - auPRC: 0.7535 - true_positives_1: 1421.0000 - auroc: 0.7801 - val_loss: 0.5923 - val_acc: 0.6809 - val_auROC: 0.7407 - val_auPRC: 0.7256 - val_true_positives_1: 205.0000 - val_auroc: 0.7407 - lr: 1.0000e-04\n",
      "Epoch 43/100\n",
      "38/38 [==============================] - ETA: 0s - loss: 0.5584 - acc: 0.7203 - auROC: 0.7847 - auPRC: 0.7606 - true_positives_1: 1420.0000 - auroc: 0.7847\n",
      "Epoch 43: ReduceLROnPlateau reducing learning rate to 1.0000000474974514e-05.\n",
      "38/38 [==============================] - 13s 347ms/step - loss: 0.5584 - acc: 0.7203 - auROC: 0.7847 - auPRC: 0.7606 - true_positives_1: 1420.0000 - auroc: 0.7847 - val_loss: 0.5952 - val_acc: 0.6848 - val_auROC: 0.7393 - val_auPRC: 0.7237 - val_true_positives_1: 214.0000 - val_auroc: 0.7393 - lr: 1.0000e-04\n",
      "Epoch 44/100\n",
      "38/38 [==============================] - 18s 490ms/step - loss: 0.5594 - acc: 0.7108 - auROC: 0.7826 - auPRC: 0.7652 - true_positives_1: 1459.0000 - auroc: 0.7826 - val_loss: 0.5905 - val_acc: 0.6770 - val_auROC: 0.7441 - val_auPRC: 0.7248 - val_true_positives_1: 206.0000 - val_auroc: 0.7441 - lr: 1.0000e-05\n",
      "Epoch 45/100\n",
      "38/38 [==============================] - 13s 349ms/step - loss: 0.5543 - acc: 0.7239 - auROC: 0.7874 - auPRC: 0.7639 - true_positives_1: 1426.0000 - auroc: 0.7874 - val_loss: 0.5893 - val_acc: 0.6809 - val_auROC: 0.7453 - val_auPRC: 0.7287 - val_true_positives_1: 204.0000 - val_auroc: 0.7453 - lr: 1.0000e-05\n",
      "Epoch 46/100\n",
      "38/38 [==============================] - 14s 358ms/step - loss: 0.5539 - acc: 0.7187 - auROC: 0.7881 - auPRC: 0.7754 - true_positives_1: 1416.0000 - auroc: 0.7881 - val_loss: 0.5906 - val_acc: 0.6673 - val_auROC: 0.7443 - val_auPRC: 0.7260 - val_true_positives_1: 198.0000 - val_auroc: 0.7443 - lr: 1.0000e-05\n",
      "Epoch 47/100\n",
      "38/38 [==============================] - 13s 350ms/step - loss: 0.5636 - acc: 0.7105 - auROC: 0.7799 - auPRC: 0.7567 - true_positives_1: 1384.0000 - auroc: 0.7799 - val_loss: 0.5912 - val_acc: 0.6770 - val_auROC: 0.7427 - val_auPRC: 0.7260 - val_true_positives_1: 203.0000 - val_auroc: 0.7427 - lr: 1.0000e-05\n",
      "Epoch 48/100\n",
      "38/38 [==============================] - ETA: 0s - loss: 0.5585 - acc: 0.7192 - auROC: 0.7858 - auPRC: 0.7655 - true_positives_1: 1396.0000 - auroc: 0.7858\n",
      "Epoch 48: ReduceLROnPlateau reducing learning rate to 1.0000000656873453e-06.\n",
      "38/38 [==============================] - 14s 358ms/step - loss: 0.5585 - acc: 0.7192 - auROC: 0.7858 - auPRC: 0.7655 - true_positives_1: 1396.0000 - auroc: 0.7858 - val_loss: 0.5919 - val_acc: 0.6751 - val_auROC: 0.7427 - val_auPRC: 0.7263 - val_true_positives_1: 200.0000 - val_auroc: 0.7427 - lr: 1.0000e-05\n",
      "Epoch 49/100\n",
      "38/38 [==============================] - 13s 352ms/step - loss: 0.5583 - acc: 0.7032 - auROC: 0.7850 - auPRC: 0.7713 - true_positives_1: 1368.0000 - auroc: 0.7850 - val_loss: 0.5911 - val_acc: 0.6790 - val_auROC: 0.7425 - val_auPRC: 0.7279 - val_true_positives_1: 202.0000 - val_auroc: 0.7425 - lr: 1.0000e-06\n",
      "Epoch 50/100\n",
      "38/38 [==============================] - 18s 481ms/step - loss: 0.5593 - acc: 0.7095 - auROC: 0.7817 - auPRC: 0.7659 - true_positives_1: 1377.0000 - auroc: 0.7817 - val_loss: 0.5924 - val_acc: 0.6790 - val_auROC: 0.7421 - val_auPRC: 0.7262 - val_true_positives_1: 204.0000 - val_auroc: 0.7421 - lr: 1.0000e-06\n",
      "Epoch 51/100\n",
      "38/38 [==============================] - 13s 333ms/step - loss: 0.5572 - acc: 0.7158 - auROC: 0.7852 - auPRC: 0.7684 - true_positives_1: 1389.0000 - auroc: 0.7852 - val_loss: 0.5940 - val_acc: 0.6595 - val_auROC: 0.7392 - val_auPRC: 0.7231 - val_true_positives_1: 197.0000 - val_auroc: 0.7392 - lr: 1.0000e-06\n",
      "Epoch 52/100\n",
      "38/38 [==============================] - 13s 343ms/step - loss: 0.5589 - acc: 0.7053 - auROC: 0.7829 - auPRC: 0.7704 - true_positives_1: 1386.0000 - auroc: 0.7829 - val_loss: 0.5890 - val_acc: 0.6712 - val_auROC: 0.7445 - val_auPRC: 0.7284 - val_true_positives_1: 200.0000 - val_auroc: 0.7445 - lr: 1.0000e-06\n",
      "Epoch 53/100\n",
      "38/38 [==============================] - ETA: 0s - loss: 0.5521 - acc: 0.7234 - auROC: 0.7896 - auPRC: 0.7732 - true_positives_1: 1416.0000 - auroc: 0.7896\n",
      "Epoch 53: ReduceLROnPlateau reducing learning rate to 1.0000001111620805e-07.\n",
      "38/38 [==============================] - 13s 339ms/step - loss: 0.5521 - acc: 0.7234 - auROC: 0.7896 - auPRC: 0.7732 - true_positives_1: 1416.0000 - auroc: 0.7896 - val_loss: 0.5901 - val_acc: 0.6829 - val_auROC: 0.7447 - val_auPRC: 0.7273 - val_true_positives_1: 203.0000 - val_auroc: 0.7447 - lr: 1.0000e-06\n",
      "Epoch 54/100\n",
      "38/38 [==============================] - 22s 571ms/step - loss: 0.5548 - acc: 0.7129 - auROC: 0.7888 - auPRC: 0.7699 - true_positives_1: 1395.0000 - auroc: 0.7888 - val_loss: 0.5949 - val_acc: 0.6673 - val_auROC: 0.7382 - val_auPRC: 0.7216 - val_true_positives_1: 199.0000 - val_auroc: 0.7382 - lr: 1.0000e-07\n",
      "Epoch 55/100\n",
      "38/38 [==============================] - 14s 359ms/step - loss: 0.5735 - acc: 0.7055 - auROC: 0.7702 - auPRC: 0.7487 - true_positives_1: 1373.0000 - auroc: 0.7702 - val_loss: 0.5896 - val_acc: 0.6732 - val_auROC: 0.7460 - val_auPRC: 0.7281 - val_true_positives_1: 199.0000 - val_auroc: 0.7460 - lr: 1.0000e-07\n",
      "Epoch 56/100\n",
      "38/38 [==============================] - 14s 366ms/step - loss: 0.5541 - acc: 0.7092 - auROC: 0.7858 - auPRC: 0.7719 - true_positives_1: 1407.0000 - auroc: 0.7858 - val_loss: 0.5926 - val_acc: 0.6732 - val_auROC: 0.7421 - val_auPRC: 0.7257 - val_true_positives_1: 201.0000 - val_auroc: 0.7421 - lr: 1.0000e-07\n",
      "Epoch 57/100\n",
      "38/38 [==============================] - 13s 352ms/step - loss: 0.5598 - acc: 0.7100 - auROC: 0.7828 - auPRC: 0.7602 - true_positives_1: 1377.0000 - auroc: 0.7828 - val_loss: 0.5929 - val_acc: 0.6712 - val_auROC: 0.7410 - val_auPRC: 0.7265 - val_true_positives_1: 201.0000 - val_auroc: 0.7410 - lr: 1.0000e-07\n",
      "Epoch 58/100\n",
      "38/38 [==============================] - ETA: 0s - loss: 0.5590 - acc: 0.7105 - auROC: 0.7809 - auPRC: 0.7608 - true_positives_1: 1382.0000 - auroc: 0.7809Restoring model weights from the end of the best epoch: 38.\n",
      "\n",
      "Epoch 58: ReduceLROnPlateau reducing learning rate to 1e-07.\n",
      "38/38 [==============================] - 14s 359ms/step - loss: 0.5590 - acc: 0.7105 - auROC: 0.7809 - auPRC: 0.7608 - true_positives_1: 1382.0000 - auroc: 0.7809 - val_loss: 0.5915 - val_acc: 0.6693 - val_auROC: 0.7423 - val_auPRC: 0.7225 - val_true_positives_1: 202.0000 - val_auroc: 0.7423 - lr: 1.0000e-07\n",
      "Epoch 58: early stopping\n"
     ]
    }
   ],
   "source": [
    "history = model.fit(x_train,\n",
    "\t\t\t\t\ty_train,\n",
    "\t\t\t\t\tepochs=100,\n",
    "\t\t\t\t\tbatch_size=100,\n",
    "\t\t\t\t\tvalidation_data=(x_validation, y_validation),\n",
    "\t\t\t\t\tcallbacks=callbacks\n",
    "\t\t\t\t\t)"
   ]
  },
  {
   "cell_type": "markdown",
   "metadata": {},
   "source": [
    "## Test set"
   ]
  },
  {
   "cell_type": "markdown",
   "metadata": {},
   "source": [
    "We perform post-hoc conjoing"
   ]
  },
  {
   "cell_type": "code",
   "execution_count": 181,
   "metadata": {},
   "outputs": [],
   "source": [
    "siamese_model = get_siamese_model(model.model)"
   ]
  },
  {
   "cell_type": "markdown",
   "metadata": {},
   "source": [
    "Prepare the test set data"
   ]
  },
  {
   "cell_type": "code",
   "execution_count": 203,
   "metadata": {},
   "outputs": [],
   "source": [
    "x_test = np.stack(test_df[\"One_hot_encoded\"])\n",
    "x_test_rc = np.stack(test_df[\"RC_one_hot_encoded\"])"
   ]
  },
  {
   "cell_type": "code",
   "execution_count": 209,
   "metadata": {},
   "outputs": [],
   "source": [
    "y_test = test_df[\"Label\"].to_numpy()"
   ]
  },
  {
   "cell_type": "markdown",
   "metadata": {},
   "source": [
    "As we used evo aug in our model all the sequences which were trained on, were of length 620. We use the evoaug padding function to pad the test set to the same length"
   ]
  },
  {
   "cell_type": "code",
   "execution_count": 204,
   "metadata": {},
   "outputs": [],
   "source": [
    "x_test = model._pad_end(x_test)\n",
    "x_test_rc = model._pad_end(x_test_rc)"
   ]
  },
  {
   "cell_type": "code",
   "execution_count": 206,
   "metadata": {},
   "outputs": [
    {
     "name": "stdout",
     "output_type": "stream",
     "text": [
      "8/8 [==============================] - 1s 118ms/step\n"
     ]
    }
   ],
   "source": [
    "predictions_categories, predictions = post_hoc_conjoining(siamese_model, x_test, x_test_rc)"
   ]
  },
  {
   "cell_type": "code",
   "execution_count": 211,
   "metadata": {},
   "outputs": [
    {
     "data": {
      "text/plain": [
       "0.8308385308385308"
      ]
     },
     "execution_count": 211,
     "metadata": {},
     "output_type": "execute_result"
    }
   ],
   "source": [
    "get_auroc(y_test, predictions)"
   ]
  },
  {
   "cell_type": "code",
   "execution_count": 212,
   "metadata": {},
   "outputs": [],
   "source": [
    "a=1"
   ]
  }
 ],
 "metadata": {
  "kernelspec": {
   "display_name": "Python 3 (ipykernel)",
   "language": "python",
   "name": "python3"
  },
  "language_info": {
   "codemirror_mode": {
    "name": "ipython",
    "version": 3
   },
   "file_extension": ".py",
   "mimetype": "text/x-python",
   "name": "python",
   "nbconvert_exporter": "python",
   "pygments_lexer": "ipython3",
   "version": "3.8.0"
  }
 },
 "nbformat": 4,
 "nbformat_minor": 2
}
