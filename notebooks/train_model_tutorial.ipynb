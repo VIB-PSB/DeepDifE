{
 "cells": [
  {
   "cell_type": "code",
   "execution_count": 1,
   "metadata": {
    "tags": []
   },
   "outputs": [
    {
     "name": "stdout",
     "output_type": "stream",
     "text": [
      "/data/projects/c02/sander.thierens/DeepDifEGithub2\n"
     ]
    },
    {
     "name": "stderr",
     "output_type": "stream",
     "text": [
      "2025-05-22 11:20:27.642680: I tensorflow/core/platform/cpu_feature_guard.cc:193] This TensorFlow binary is optimized with oneAPI Deep Neural Network Library (oneDNN) to use the following CPU instructions in performance-critical operations:  AVX2 AVX512F AVX512_VNNI AVX512_BF16 AVX_VNNI AMX_TILE AMX_INT8 AMX_BF16 FMA\n",
      "To enable them in other operations, rebuild TensorFlow with the appropriate compiler flags.\n",
      "2025-05-22 11:20:27.767682: I tensorflow/core/util/port.cc:104] oneDNN custom operations are on. You may see slightly different numerical results due to floating-point round-off errors from different computation orders. To turn them off, set the environment variable `TF_ENABLE_ONEDNN_OPTS=0`.\n",
      "2025-05-22 11:20:27.772325: W tensorflow/compiler/xla/stream_executor/platform/default/dso_loader.cc:64] Could not load dynamic library 'libcudart.so.11.0'; dlerror: libcudart.so.11.0: cannot open shared object file: No such file or directory; LD_LIBRARY_PATH: /mnt/modules/easybuild/software/Ghostscript/10.01.2-GCCcore-12.3.0/lib:/mnt/modules/easybuild/software/GTK3/3.24.37-GCCcore-12.3.0/lib:/mnt/modules/easybuild/software/Wayland/1.22.0-GCCcore-12.3.0/lib:/mnt/modules/easybuild/software/libepoxy/1.5.10-GCCcore-12.3.0/lib:/mnt/modules/easybuild/software/Mesa/23.1.4-GCCcore-12.3.0/lib:/mnt/modules/easybuild/software/LLVM/16.0.6-GCCcore-12.3.0/lib:/mnt/modules/easybuild/software/libunwind/1.6.2-GCCcore-12.3.0/lib:/mnt/modules/easybuild/software/libglvnd/1.6.0-GCCcore-12.3.0/lib:/mnt/modules/easybuild/software/libdrm/2.4.115-GCCcore-12.3.0/lib:/mnt/modules/easybuild/software/Pango/1.50.14-GCCcore-12.3.0/lib:/mnt/modules/easybuild/software/FriBidi/1.0.12-GCCcore-12.3.0/lib:/mnt/modules/easybuild/software/HarfBuzz/5.3.1-GCCcore-12.3.0/lib:/mnt/modules/easybuild/software/ICU/73.2-GCCcore-12.3.0/lib:/mnt/modules/easybuild/software/Gdk-Pixbuf/2.42.10-GCCcore-12.3.0/lib:/mnt/modules/easybuild/software/at-spi2-atk/2.38.0-GCCcore-12.3.0/lib:/mnt/modules/easybuild/software/at-spi2-core/2.49.91-GCCcore-12.3.0/lib:/mnt/modules/easybuild/software/DBus/1.15.4-GCCcore-12.3.0/lib:/mnt/modules/easybuild/software/ATK/2.38.0-GCCcore-12.3.0/lib:/mnt/modules/easybuild/software/LibTIFF/4.5.0-GCCcore-12.3.0/lib:/mnt/modules/easybuild/software/libdeflate/1.18-GCCcore-12.3.0/lib:/mnt/modules/easybuild/software/zstd/1.5.5-GCCcore-12.3.0/lib:/mnt/modules/easybuild/software/lz4/1.9.4-GCCcore-12.3.0/lib:/mnt/modules/easybuild/software/jbigkit/2.1-GCCcore-12.3.0/lib:/mnt/modules/easybuild/software/cairo/1.17.8-GCCcore-12.3.0/lib:/mnt/modules/easybuild/software/X11/20230603-GCCcore-12.3.0/lib:/mnt/modules/easybuild/software/fontconfig/2.14.2-GCCcore-12.3.0/lib:/mnt/modules/easybuild/software/pixman/0.42.2-GCCcore-12.3.0/lib:/mnt/modules/easybuild/software/GLib/2.77.1-GCCcore-12.3.0/lib:/mnt/modules/easybuild/software/util-linux/2.39-GCCcore-12.3.0/lib:/mnt/modules/easybuild/software/PCRE2/10.42-GCCcore-12.3.0/lib:/mnt/modules/easybuild/software/gettext/0.21.1-GCCcore-12.3.0/lib:/mnt/modules/easybuild/software/expat/2.5.0-GCCcore-12.3.0/lib:/mnt/modules/easybuild/software/libjpeg-turbo/2.1.5.1-GCCcore-12.3.0/lib:/mnt/modules/easybuild/software/freetype/2.13.0-GCCcore-12.3.0/lib:/mnt/modules/easybuild/software/Brotli/1.0.9-GCCcore-12.3.0/lib:/mnt/modules/easybuild/software/libpng/1.6.39-GCCcore-12.3.0/lib:/mnt/modules/easybuild/software/Python/3.11.3-GCCcore-12.3.0/lib:/mnt/modules/easybuild/software/libffi/3.4.4-GCCcore-12.3.0/lib64:/mnt/modules/easybuild/software/SQLite/3.42.0-GCCcore-12.3.0/lib:/mnt/modules/easybuild/software/Tcl/8.6.13-GCCcore-12.3.0/lib:/mnt/modules/easybuild/software/libreadline/8.2-GCCcore-12.3.0/lib:/mnt/modules/easybuild/software/ncurses/6.4-GCCcore-12.3.0/lib:/mnt/modules/easybuild/software/bzip2/1.0.8-GCCcore-12.3.0/lib:/mnt/modules/easybuild/software/libxslt/1.1.38-GCCcore-12.3.0/lib:/mnt/modules/easybuild/software/OpenMPI/4.1.5-GCC-12.3.0/lib:/mnt/modules/easybuild/software/UCC/1.2.0-GCCcore-12.3.0/lib:/mnt/modules/easybuild/software/PMIx/4.2.4-GCCcore-12.3.0/lib:/mnt/modules/easybuild/software/libfabric/1.18.0-GCCcore-12.3.0/lib:/mnt/modules/easybuild/software/UCX/1.14.1-GCCcore-12.3.0/lib:/mnt/modules/easybuild/software/libevent/2.1.12-GCCcore-12.3.0/lib:/mnt/modules/easybuild/software/OpenSSL/1.1/lib:/mnt/modules/easybuild/software/hwloc/2.9.1-GCCcore-12.3.0/lib:/mnt/modules/easybuild/software/libpciaccess/0.17-GCCcore-12.3.0/lib:/mnt/modules/easybuild/software/libxml2/2.11.4-GCCcore-12.3.0/lib:/mnt/modules/easybuild/software/XZ/5.4.2-GCCcore-12.3.0/lib:/mnt/modules/easybuild/software/numactl/2.0.16-GCCcore-12.3.0/lib:/mnt/modules/easybuild/software/binutils/2.40-GCCcore-12.3.0/lib:/mnt/modules/easybuild/software/zlib/1.2.13-GCCcore-12.3.0/lib:/mnt/modules/easybuild/software/GCCcore/12.3.0/lib64\n",
      "2025-05-22 11:20:27.772343: I tensorflow/compiler/xla/stream_executor/cuda/cudart_stub.cc:29] Ignore above cudart dlerror if you do not have a GPU set up on your machine.\n",
      "2025-05-22 11:20:31.081197: W tensorflow/compiler/xla/stream_executor/platform/default/dso_loader.cc:64] Could not load dynamic library 'libnvinfer.so.7'; dlerror: libnvinfer.so.7: cannot open shared object file: No such file or directory; LD_LIBRARY_PATH: /mnt/modules/easybuild/software/Ghostscript/10.01.2-GCCcore-12.3.0/lib:/mnt/modules/easybuild/software/GTK3/3.24.37-GCCcore-12.3.0/lib:/mnt/modules/easybuild/software/Wayland/1.22.0-GCCcore-12.3.0/lib:/mnt/modules/easybuild/software/libepoxy/1.5.10-GCCcore-12.3.0/lib:/mnt/modules/easybuild/software/Mesa/23.1.4-GCCcore-12.3.0/lib:/mnt/modules/easybuild/software/LLVM/16.0.6-GCCcore-12.3.0/lib:/mnt/modules/easybuild/software/libunwind/1.6.2-GCCcore-12.3.0/lib:/mnt/modules/easybuild/software/libglvnd/1.6.0-GCCcore-12.3.0/lib:/mnt/modules/easybuild/software/libdrm/2.4.115-GCCcore-12.3.0/lib:/mnt/modules/easybuild/software/Pango/1.50.14-GCCcore-12.3.0/lib:/mnt/modules/easybuild/software/FriBidi/1.0.12-GCCcore-12.3.0/lib:/mnt/modules/easybuild/software/HarfBuzz/5.3.1-GCCcore-12.3.0/lib:/mnt/modules/easybuild/software/ICU/73.2-GCCcore-12.3.0/lib:/mnt/modules/easybuild/software/Gdk-Pixbuf/2.42.10-GCCcore-12.3.0/lib:/mnt/modules/easybuild/software/at-spi2-atk/2.38.0-GCCcore-12.3.0/lib:/mnt/modules/easybuild/software/at-spi2-core/2.49.91-GCCcore-12.3.0/lib:/mnt/modules/easybuild/software/DBus/1.15.4-GCCcore-12.3.0/lib:/mnt/modules/easybuild/software/ATK/2.38.0-GCCcore-12.3.0/lib:/mnt/modules/easybuild/software/LibTIFF/4.5.0-GCCcore-12.3.0/lib:/mnt/modules/easybuild/software/libdeflate/1.18-GCCcore-12.3.0/lib:/mnt/modules/easybuild/software/zstd/1.5.5-GCCcore-12.3.0/lib:/mnt/modules/easybuild/software/lz4/1.9.4-GCCcore-12.3.0/lib:/mnt/modules/easybuild/software/jbigkit/2.1-GCCcore-12.3.0/lib:/mnt/modules/easybuild/software/cairo/1.17.8-GCCcore-12.3.0/lib:/mnt/modules/easybuild/software/X11/20230603-GCCcore-12.3.0/lib:/mnt/modules/easybuild/software/fontconfig/2.14.2-GCCcore-12.3.0/lib:/mnt/modules/easybuild/software/pixman/0.42.2-GCCcore-12.3.0/lib:/mnt/modules/easybuild/software/GLib/2.77.1-GCCcore-12.3.0/lib:/mnt/modules/easybuild/software/util-linux/2.39-GCCcore-12.3.0/lib:/mnt/modules/easybuild/software/PCRE2/10.42-GCCcore-12.3.0/lib:/mnt/modules/easybuild/software/gettext/0.21.1-GCCcore-12.3.0/lib:/mnt/modules/easybuild/software/expat/2.5.0-GCCcore-12.3.0/lib:/mnt/modules/easybuild/software/libjpeg-turbo/2.1.5.1-GCCcore-12.3.0/lib:/mnt/modules/easybuild/software/freetype/2.13.0-GCCcore-12.3.0/lib:/mnt/modules/easybuild/software/Brotli/1.0.9-GCCcore-12.3.0/lib:/mnt/modules/easybuild/software/libpng/1.6.39-GCCcore-12.3.0/lib:/mnt/modules/easybuild/software/Python/3.11.3-GCCcore-12.3.0/lib:/mnt/modules/easybuild/software/libffi/3.4.4-GCCcore-12.3.0/lib64:/mnt/modules/easybuild/software/SQLite/3.42.0-GCCcore-12.3.0/lib:/mnt/modules/easybuild/software/Tcl/8.6.13-GCCcore-12.3.0/lib:/mnt/modules/easybuild/software/libreadline/8.2-GCCcore-12.3.0/lib:/mnt/modules/easybuild/software/ncurses/6.4-GCCcore-12.3.0/lib:/mnt/modules/easybuild/software/bzip2/1.0.8-GCCcore-12.3.0/lib:/mnt/modules/easybuild/software/libxslt/1.1.38-GCCcore-12.3.0/lib:/mnt/modules/easybuild/software/OpenMPI/4.1.5-GCC-12.3.0/lib:/mnt/modules/easybuild/software/UCC/1.2.0-GCCcore-12.3.0/lib:/mnt/modules/easybuild/software/PMIx/4.2.4-GCCcore-12.3.0/lib:/mnt/modules/easybuild/software/libfabric/1.18.0-GCCcore-12.3.0/lib:/mnt/modules/easybuild/software/UCX/1.14.1-GCCcore-12.3.0/lib:/mnt/modules/easybuild/software/libevent/2.1.12-GCCcore-12.3.0/lib:/mnt/modules/easybuild/software/OpenSSL/1.1/lib:/mnt/modules/easybuild/software/hwloc/2.9.1-GCCcore-12.3.0/lib:/mnt/modules/easybuild/software/libpciaccess/0.17-GCCcore-12.3.0/lib:/mnt/modules/easybuild/software/libxml2/2.11.4-GCCcore-12.3.0/lib:/mnt/modules/easybuild/software/XZ/5.4.2-GCCcore-12.3.0/lib:/mnt/modules/easybuild/software/numactl/2.0.16-GCCcore-12.3.0/lib:/mnt/modules/easybuild/software/binutils/2.40-GCCcore-12.3.0/lib:/mnt/modules/easybuild/software/zlib/1.2.13-GCCcore-12.3.0/lib:/mnt/modules/easybuild/software/GCCcore/12.3.0/lib64\n",
      "2025-05-22 11:20:31.081544: W tensorflow/compiler/xla/stream_executor/platform/default/dso_loader.cc:64] Could not load dynamic library 'libnvinfer_plugin.so.7'; dlerror: libnvinfer_plugin.so.7: cannot open shared object file: No such file or directory; LD_LIBRARY_PATH: /mnt/modules/easybuild/software/Ghostscript/10.01.2-GCCcore-12.3.0/lib:/mnt/modules/easybuild/software/GTK3/3.24.37-GCCcore-12.3.0/lib:/mnt/modules/easybuild/software/Wayland/1.22.0-GCCcore-12.3.0/lib:/mnt/modules/easybuild/software/libepoxy/1.5.10-GCCcore-12.3.0/lib:/mnt/modules/easybuild/software/Mesa/23.1.4-GCCcore-12.3.0/lib:/mnt/modules/easybuild/software/LLVM/16.0.6-GCCcore-12.3.0/lib:/mnt/modules/easybuild/software/libunwind/1.6.2-GCCcore-12.3.0/lib:/mnt/modules/easybuild/software/libglvnd/1.6.0-GCCcore-12.3.0/lib:/mnt/modules/easybuild/software/libdrm/2.4.115-GCCcore-12.3.0/lib:/mnt/modules/easybuild/software/Pango/1.50.14-GCCcore-12.3.0/lib:/mnt/modules/easybuild/software/FriBidi/1.0.12-GCCcore-12.3.0/lib:/mnt/modules/easybuild/software/HarfBuzz/5.3.1-GCCcore-12.3.0/lib:/mnt/modules/easybuild/software/ICU/73.2-GCCcore-12.3.0/lib:/mnt/modules/easybuild/software/Gdk-Pixbuf/2.42.10-GCCcore-12.3.0/lib:/mnt/modules/easybuild/software/at-spi2-atk/2.38.0-GCCcore-12.3.0/lib:/mnt/modules/easybuild/software/at-spi2-core/2.49.91-GCCcore-12.3.0/lib:/mnt/modules/easybuild/software/DBus/1.15.4-GCCcore-12.3.0/lib:/mnt/modules/easybuild/software/ATK/2.38.0-GCCcore-12.3.0/lib:/mnt/modules/easybuild/software/LibTIFF/4.5.0-GCCcore-12.3.0/lib:/mnt/modules/easybuild/software/libdeflate/1.18-GCCcore-12.3.0/lib:/mnt/modules/easybuild/software/zstd/1.5.5-GCCcore-12.3.0/lib:/mnt/modules/easybuild/software/lz4/1.9.4-GCCcore-12.3.0/lib:/mnt/modules/easybuild/software/jbigkit/2.1-GCCcore-12.3.0/lib:/mnt/modules/easybuild/software/cairo/1.17.8-GCCcore-12.3.0/lib:/mnt/modules/easybuild/software/X11/20230603-GCCcore-12.3.0/lib:/mnt/modules/easybuild/software/fontconfig/2.14.2-GCCcore-12.3.0/lib:/mnt/modules/easybuild/software/pixman/0.42.2-GCCcore-12.3.0/lib:/mnt/modules/easybuild/software/GLib/2.77.1-GCCcore-12.3.0/lib:/mnt/modules/easybuild/software/util-linux/2.39-GCCcore-12.3.0/lib:/mnt/modules/easybuild/software/PCRE2/10.42-GCCcore-12.3.0/lib:/mnt/modules/easybuild/software/gettext/0.21.1-GCCcore-12.3.0/lib:/mnt/modules/easybuild/software/expat/2.5.0-GCCcore-12.3.0/lib:/mnt/modules/easybuild/software/libjpeg-turbo/2.1.5.1-GCCcore-12.3.0/lib:/mnt/modules/easybuild/software/freetype/2.13.0-GCCcore-12.3.0/lib:/mnt/modules/easybuild/software/Brotli/1.0.9-GCCcore-12.3.0/lib:/mnt/modules/easybuild/software/libpng/1.6.39-GCCcore-12.3.0/lib:/mnt/modules/easybuild/software/Python/3.11.3-GCCcore-12.3.0/lib:/mnt/modules/easybuild/software/libffi/3.4.4-GCCcore-12.3.0/lib64:/mnt/modules/easybuild/software/SQLite/3.42.0-GCCcore-12.3.0/lib:/mnt/modules/easybuild/software/Tcl/8.6.13-GCCcore-12.3.0/lib:/mnt/modules/easybuild/software/libreadline/8.2-GCCcore-12.3.0/lib:/mnt/modules/easybuild/software/ncurses/6.4-GCCcore-12.3.0/lib:/mnt/modules/easybuild/software/bzip2/1.0.8-GCCcore-12.3.0/lib:/mnt/modules/easybuild/software/libxslt/1.1.38-GCCcore-12.3.0/lib:/mnt/modules/easybuild/software/OpenMPI/4.1.5-GCC-12.3.0/lib:/mnt/modules/easybuild/software/UCC/1.2.0-GCCcore-12.3.0/lib:/mnt/modules/easybuild/software/PMIx/4.2.4-GCCcore-12.3.0/lib:/mnt/modules/easybuild/software/libfabric/1.18.0-GCCcore-12.3.0/lib:/mnt/modules/easybuild/software/UCX/1.14.1-GCCcore-12.3.0/lib:/mnt/modules/easybuild/software/libevent/2.1.12-GCCcore-12.3.0/lib:/mnt/modules/easybuild/software/OpenSSL/1.1/lib:/mnt/modules/easybuild/software/hwloc/2.9.1-GCCcore-12.3.0/lib:/mnt/modules/easybuild/software/libpciaccess/0.17-GCCcore-12.3.0/lib:/mnt/modules/easybuild/software/libxml2/2.11.4-GCCcore-12.3.0/lib:/mnt/modules/easybuild/software/XZ/5.4.2-GCCcore-12.3.0/lib:/mnt/modules/easybuild/software/numactl/2.0.16-GCCcore-12.3.0/lib:/mnt/modules/easybuild/software/binutils/2.40-GCCcore-12.3.0/lib:/mnt/modules/easybuild/software/zlib/1.2.13-GCCcore-12.3.0/lib:/mnt/modules/easybuild/software/GCCcore/12.3.0/lib64\n",
      "2025-05-22 11:20:31.081563: W tensorflow/compiler/tf2tensorrt/utils/py_utils.cc:38] TF-TRT Warning: Cannot dlopen some TensorRT libraries. If you would like to use Nvidia GPU with TensorRT, please make sure the missing libraries mentioned above are installed properly.\n"
     ]
    }
   ],
   "source": [
    "%load_ext autoreload\n",
    "%autoreload 2\n",
    "%cd ..\n",
    "\n",
    "import pickle\n",
    "import importlib\n",
    "import esparto\n",
    "import optuna\n",
    "import numpy as np\n",
    "import pandas as pd\n",
    "from evoaug_tf import evoaug, augment\n",
    "from src.diff_expression_model import get_model, get_siamese_model, post_hoc_conjoining, get_auroc\n",
    "from skopt.utils import use_named_args"
   ]
  },
  {
   "cell_type": "markdown",
   "metadata": {},
   "source": [
    "## Prepare the data"
   ]
  },
  {
   "cell_type": "markdown",
   "metadata": {},
   "source": [
    "For now we start from this data pickle as I'm not aware how Helder did DE analysis and generated the labels"
   ]
  },
  {
   "cell_type": "code",
   "execution_count": 2,
   "metadata": {
    "tags": []
   },
   "outputs": [],
   "source": [
    "ppath = \"data/dataset_solid_chrome.csv\"\n",
    "data = pd.read_csv(ppath)"
   ]
  },
  {
   "cell_type": "code",
   "execution_count": 4,
   "metadata": {},
   "outputs": [
    {
     "data": {
      "text/plain": [
       "train    1900\n",
       "valid     257\n",
       "test      241\n",
       "Name: set, dtype: int64"
      ]
     },
     "execution_count": 4,
     "metadata": {},
     "output_type": "execute_result"
    }
   ],
   "source": [
    "data[\"set\"].value_counts()"
   ]
  },
  {
   "cell_type": "markdown",
   "metadata": {},
   "source": [
    "To show how to subdivide the dataset into train-test split we only take the following columns"
   ]
  },
  {
   "cell_type": "code",
   "execution_count": 5,
   "metadata": {},
   "outputs": [],
   "source": [
    "dataset = data.reset_index()\n",
    "dataset = dataset[[\"geneID\", \"Category\", \"GeneFamily\", \"seqs\"]]\n",
    "dataset.rename(columns={\"geneID\":\"GeneID\", \"Category\":\"Label\", \"seqs\": \"Sequence\"}, inplace=True)"
   ]
  },
  {
   "cell_type": "code",
   "execution_count": 6,
   "metadata": {},
   "outputs": [
    {
     "data": {
      "text/html": [
       "<div>\n",
       "<style scoped>\n",
       "    .dataframe tbody tr th:only-of-type {\n",
       "        vertical-align: middle;\n",
       "    }\n",
       "\n",
       "    .dataframe tbody tr th {\n",
       "        vertical-align: top;\n",
       "    }\n",
       "\n",
       "    .dataframe thead th {\n",
       "        text-align: right;\n",
       "    }\n",
       "</style>\n",
       "<table border=\"1\" class=\"dataframe\">\n",
       "  <thead>\n",
       "    <tr style=\"text-align: right;\">\n",
       "      <th></th>\n",
       "      <th>GeneID</th>\n",
       "      <th>Label</th>\n",
       "      <th>GeneFamily</th>\n",
       "      <th>Sequence</th>\n",
       "    </tr>\n",
       "  </thead>\n",
       "  <tbody>\n",
       "    <tr>\n",
       "      <th>0</th>\n",
       "      <td>AT4G27120</td>\n",
       "      <td>0</td>\n",
       "      <td>HOM04D000881</td>\n",
       "      <td>TAGAGAAGACAAGCGGTTATTTCGTAATTTCCCAGCGACTTTGAAA...</td>\n",
       "    </tr>\n",
       "    <tr>\n",
       "      <th>1</th>\n",
       "      <td>AT4G19600</td>\n",
       "      <td>0</td>\n",
       "      <td>HOM04D000740</td>\n",
       "      <td>GTCAAGTAGTGAAATCAAGGTGTGAAGTAAGCTGAGGACAGATAAT...</td>\n",
       "    </tr>\n",
       "    <tr>\n",
       "      <th>2</th>\n",
       "      <td>AT3G60880</td>\n",
       "      <td>0</td>\n",
       "      <td>HOM04D003119</td>\n",
       "      <td>AGTTGATATTGAATGAAATCTTCATGTTTTTTGATAAATGATTATA...</td>\n",
       "    </tr>\n",
       "    <tr>\n",
       "      <th>3</th>\n",
       "      <td>AT5G06960</td>\n",
       "      <td>0</td>\n",
       "      <td>HOM04D000319</td>\n",
       "      <td>CACTTGTCAGATTCTTCTTACCAAATCCATCAACAAATAAGCAAAT...</td>\n",
       "    </tr>\n",
       "    <tr>\n",
       "      <th>4</th>\n",
       "      <td>AT1G14890</td>\n",
       "      <td>0</td>\n",
       "      <td>HOM04D000273</td>\n",
       "      <td>TTGATATAACAGATTCAACACTAAAAATGAGTAAAATCTAAAAAAG...</td>\n",
       "    </tr>\n",
       "    <tr>\n",
       "      <th>...</th>\n",
       "      <td>...</td>\n",
       "      <td>...</td>\n",
       "      <td>...</td>\n",
       "      <td>...</td>\n",
       "    </tr>\n",
       "    <tr>\n",
       "      <th>2393</th>\n",
       "      <td>AT5G64230</td>\n",
       "      <td>1</td>\n",
       "      <td>HOM04D003278</td>\n",
       "      <td>AAGAAAGAAAAACCGTACATAAACACCCATCTGGTATACCATCGTC...</td>\n",
       "    </tr>\n",
       "    <tr>\n",
       "      <th>2394</th>\n",
       "      <td>AT5G64780</td>\n",
       "      <td>1</td>\n",
       "      <td>HOM04D002552</td>\n",
       "      <td>TTTTAGAAAGAAGAAGAAGGATTATTGCCTTATTGGTGAAGGGAAG...</td>\n",
       "    </tr>\n",
       "    <tr>\n",
       "      <th>2395</th>\n",
       "      <td>AT4G30470</td>\n",
       "      <td>1</td>\n",
       "      <td>HOM04D000082</td>\n",
       "      <td>TATGTACAGTCTCTACATTTTTTCAAATACATTTTTTTCTTTTTCA...</td>\n",
       "    </tr>\n",
       "    <tr>\n",
       "      <th>2396</th>\n",
       "      <td>AT3G51895</td>\n",
       "      <td>1</td>\n",
       "      <td>HOM04D000270</td>\n",
       "      <td>TGGTAAATAATTAAATATATAAGAACATTATTCTAAAGCGTTGAAT...</td>\n",
       "    </tr>\n",
       "    <tr>\n",
       "      <th>2397</th>\n",
       "      <td>AT2G35585</td>\n",
       "      <td>1</td>\n",
       "      <td>HOM04D004118</td>\n",
       "      <td>TTTTGCCACTGCTGGCTCTGATGGTGCTTTCAATTTCTAGGACAAG...</td>\n",
       "    </tr>\n",
       "  </tbody>\n",
       "</table>\n",
       "<p>2398 rows × 4 columns</p>\n",
       "</div>"
      ],
      "text/plain": [
       "         GeneID  Label    GeneFamily  \\\n",
       "0     AT4G27120      0  HOM04D000881   \n",
       "1     AT4G19600      0  HOM04D000740   \n",
       "2     AT3G60880      0  HOM04D003119   \n",
       "3     AT5G06960      0  HOM04D000319   \n",
       "4     AT1G14890      0  HOM04D000273   \n",
       "...         ...    ...           ...   \n",
       "2393  AT5G64230      1  HOM04D003278   \n",
       "2394  AT5G64780      1  HOM04D002552   \n",
       "2395  AT4G30470      1  HOM04D000082   \n",
       "2396  AT3G51895      1  HOM04D000270   \n",
       "2397  AT2G35585      1  HOM04D004118   \n",
       "\n",
       "                                               Sequence  \n",
       "0     TAGAGAAGACAAGCGGTTATTTCGTAATTTCCCAGCGACTTTGAAA...  \n",
       "1     GTCAAGTAGTGAAATCAAGGTGTGAAGTAAGCTGAGGACAGATAAT...  \n",
       "2     AGTTGATATTGAATGAAATCTTCATGTTTTTTGATAAATGATTATA...  \n",
       "3     CACTTGTCAGATTCTTCTTACCAAATCCATCAACAAATAAGCAAAT...  \n",
       "4     TTGATATAACAGATTCAACACTAAAAATGAGTAAAATCTAAAAAAG...  \n",
       "...                                                 ...  \n",
       "2393  AAGAAAGAAAAACCGTACATAAACACCCATCTGGTATACCATCGTC...  \n",
       "2394  TTTTAGAAAGAAGAAGAAGGATTATTGCCTTATTGGTGAAGGGAAG...  \n",
       "2395  TATGTACAGTCTCTACATTTTTTCAAATACATTTTTTTCTTTTTCA...  \n",
       "2396  TGGTAAATAATTAAATATATAAGAACATTATTCTAAAGCGTTGAAT...  \n",
       "2397  TTTTGCCACTGCTGGCTCTGATGGTGCTTTCAATTTCTAGGACAAG...  \n",
       "\n",
       "[2398 rows x 4 columns]"
      ]
     },
     "execution_count": 6,
     "metadata": {},
     "output_type": "execute_result"
    }
   ],
   "source": [
    "dataset"
   ]
  },
  {
   "cell_type": "markdown",
   "metadata": {},
   "source": [
    "### One-hot-encode & reverse-complement"
   ]
  },
  {
   "cell_type": "code",
   "execution_count": 7,
   "metadata": {},
   "outputs": [],
   "source": [
    "from src.prepare_dataset import one_hot_encode_series, reverse_complement_series, reverse_complement_sequence\n",
    "dataset[\"One_hot_encoded\"] = one_hot_encode_series(dataset[\"Sequence\"])"
   ]
  },
  {
   "cell_type": "code",
   "execution_count": 8,
   "metadata": {},
   "outputs": [],
   "source": [
    "dataset[\"RC_one_hot_encoded\"] = reverse_complement_series(dataset[\"One_hot_encoded\"])"
   ]
  },
  {
   "cell_type": "code",
   "execution_count": 9,
   "metadata": {},
   "outputs": [
    {
     "data": {
      "text/html": [
       "<div>\n",
       "<style scoped>\n",
       "    .dataframe tbody tr th:only-of-type {\n",
       "        vertical-align: middle;\n",
       "    }\n",
       "\n",
       "    .dataframe tbody tr th {\n",
       "        vertical-align: top;\n",
       "    }\n",
       "\n",
       "    .dataframe thead th {\n",
       "        text-align: right;\n",
       "    }\n",
       "</style>\n",
       "<table border=\"1\" class=\"dataframe\">\n",
       "  <thead>\n",
       "    <tr style=\"text-align: right;\">\n",
       "      <th></th>\n",
       "      <th>GeneID</th>\n",
       "      <th>Label</th>\n",
       "      <th>GeneFamily</th>\n",
       "      <th>Sequence</th>\n",
       "      <th>One_hot_encoded</th>\n",
       "      <th>RC_one_hot_encoded</th>\n",
       "    </tr>\n",
       "  </thead>\n",
       "  <tbody>\n",
       "    <tr>\n",
       "      <th>0</th>\n",
       "      <td>AT4G27120</td>\n",
       "      <td>0</td>\n",
       "      <td>HOM04D000881</td>\n",
       "      <td>TAGAGAAGACAAGCGGTTATTTCGTAATTTCCCAGCGACTTTGAAA...</td>\n",
       "      <td>[[0, 0, 0, 1], [1, 0, 0, 0], [0, 0, 1, 0], [1,...</td>\n",
       "      <td>[[1, 0, 0, 0], [0, 0, 1, 0], [0, 0, 1, 0], [0,...</td>\n",
       "    </tr>\n",
       "    <tr>\n",
       "      <th>1</th>\n",
       "      <td>AT4G19600</td>\n",
       "      <td>0</td>\n",
       "      <td>HOM04D000740</td>\n",
       "      <td>GTCAAGTAGTGAAATCAAGGTGTGAAGTAAGCTGAGGACAGATAAT...</td>\n",
       "      <td>[[0, 0, 1, 0], [0, 0, 0, 1], [0, 1, 0, 0], [1,...</td>\n",
       "      <td>[[0, 0, 1, 0], [0, 0, 1, 0], [1, 0, 0, 0], [0,...</td>\n",
       "    </tr>\n",
       "    <tr>\n",
       "      <th>2</th>\n",
       "      <td>AT3G60880</td>\n",
       "      <td>0</td>\n",
       "      <td>HOM04D003119</td>\n",
       "      <td>AGTTGATATTGAATGAAATCTTCATGTTTTTTGATAAATGATTATA...</td>\n",
       "      <td>[[1, 0, 0, 0], [0, 0, 1, 0], [0, 0, 0, 1], [0,...</td>\n",
       "      <td>[[0, 0, 0, 1], [0, 0, 1, 0], [1, 0, 0, 0], [0,...</td>\n",
       "    </tr>\n",
       "    <tr>\n",
       "      <th>3</th>\n",
       "      <td>AT5G06960</td>\n",
       "      <td>0</td>\n",
       "      <td>HOM04D000319</td>\n",
       "      <td>CACTTGTCAGATTCTTCTTACCAAATCCATCAACAAATAAGCAAAT...</td>\n",
       "      <td>[[0, 1, 0, 0], [1, 0, 0, 0], [0, 1, 0, 0], [0,...</td>\n",
       "      <td>[[1, 0, 0, 0], [0, 1, 0, 0], [0, 0, 1, 0], [1,...</td>\n",
       "    </tr>\n",
       "    <tr>\n",
       "      <th>4</th>\n",
       "      <td>AT1G14890</td>\n",
       "      <td>0</td>\n",
       "      <td>HOM04D000273</td>\n",
       "      <td>TTGATATAACAGATTCAACACTAAAAATGAGTAAAATCTAAAAAAG...</td>\n",
       "      <td>[[0, 0, 0, 1], [0, 0, 0, 1], [0, 0, 1, 0], [1,...</td>\n",
       "      <td>[[0, 0, 0, 1], [1, 0, 0, 0], [0, 0, 0, 1], [1,...</td>\n",
       "    </tr>\n",
       "    <tr>\n",
       "      <th>...</th>\n",
       "      <td>...</td>\n",
       "      <td>...</td>\n",
       "      <td>...</td>\n",
       "      <td>...</td>\n",
       "      <td>...</td>\n",
       "      <td>...</td>\n",
       "    </tr>\n",
       "    <tr>\n",
       "      <th>2393</th>\n",
       "      <td>AT5G64230</td>\n",
       "      <td>1</td>\n",
       "      <td>HOM04D003278</td>\n",
       "      <td>AAGAAAGAAAAACCGTACATAAACACCCATCTGGTATACCATCGTC...</td>\n",
       "      <td>[[1, 0, 0, 0], [1, 0, 0, 0], [0, 0, 1, 0], [1,...</td>\n",
       "      <td>[[0, 1, 0, 0], [0, 0, 1, 0], [0, 0, 0, 1], [0,...</td>\n",
       "    </tr>\n",
       "    <tr>\n",
       "      <th>2394</th>\n",
       "      <td>AT5G64780</td>\n",
       "      <td>1</td>\n",
       "      <td>HOM04D002552</td>\n",
       "      <td>TTTTAGAAAGAAGAAGAAGGATTATTGCCTTATTGGTGAAGGGAAG...</td>\n",
       "      <td>[[0, 0, 0, 1], [0, 0, 0, 1], [0, 0, 0, 1], [0,...</td>\n",
       "      <td>[[0, 0, 0, 1], [0, 0, 1, 0], [1, 0, 0, 0], [0,...</td>\n",
       "    </tr>\n",
       "    <tr>\n",
       "      <th>2395</th>\n",
       "      <td>AT4G30470</td>\n",
       "      <td>1</td>\n",
       "      <td>HOM04D000082</td>\n",
       "      <td>TATGTACAGTCTCTACATTTTTTCAAATACATTTTTTTCTTTTTCA...</td>\n",
       "      <td>[[0, 0, 0, 1], [1, 0, 0, 0], [0, 0, 0, 1], [0,...</td>\n",
       "      <td>[[1, 0, 0, 0], [0, 0, 1, 0], [0, 0, 1, 0], [0,...</td>\n",
       "    </tr>\n",
       "    <tr>\n",
       "      <th>2396</th>\n",
       "      <td>AT3G51895</td>\n",
       "      <td>1</td>\n",
       "      <td>HOM04D000270</td>\n",
       "      <td>TGGTAAATAATTAAATATATAAGAACATTATTCTAAAGCGTTGAAT...</td>\n",
       "      <td>[[0, 0, 0, 1], [0, 0, 1, 0], [0, 0, 1, 0], [0,...</td>\n",
       "      <td>[[0, 0, 0, 1], [0, 0, 0, 1], [0, 0, 1, 0], [1,...</td>\n",
       "    </tr>\n",
       "    <tr>\n",
       "      <th>2397</th>\n",
       "      <td>AT2G35585</td>\n",
       "      <td>1</td>\n",
       "      <td>HOM04D004118</td>\n",
       "      <td>TTTTGCCACTGCTGGCTCTGATGGTGCTTTCAATTTCTAGGACAAG...</td>\n",
       "      <td>[[0, 0, 0, 1], [0, 0, 0, 1], [0, 0, 0, 1], [0,...</td>\n",
       "      <td>[[0, 0, 1, 0], [0, 0, 1, 0], [0, 1, 0, 0], [0,...</td>\n",
       "    </tr>\n",
       "  </tbody>\n",
       "</table>\n",
       "<p>2398 rows × 6 columns</p>\n",
       "</div>"
      ],
      "text/plain": [
       "         GeneID  Label    GeneFamily  \\\n",
       "0     AT4G27120      0  HOM04D000881   \n",
       "1     AT4G19600      0  HOM04D000740   \n",
       "2     AT3G60880      0  HOM04D003119   \n",
       "3     AT5G06960      0  HOM04D000319   \n",
       "4     AT1G14890      0  HOM04D000273   \n",
       "...         ...    ...           ...   \n",
       "2393  AT5G64230      1  HOM04D003278   \n",
       "2394  AT5G64780      1  HOM04D002552   \n",
       "2395  AT4G30470      1  HOM04D000082   \n",
       "2396  AT3G51895      1  HOM04D000270   \n",
       "2397  AT2G35585      1  HOM04D004118   \n",
       "\n",
       "                                               Sequence  \\\n",
       "0     TAGAGAAGACAAGCGGTTATTTCGTAATTTCCCAGCGACTTTGAAA...   \n",
       "1     GTCAAGTAGTGAAATCAAGGTGTGAAGTAAGCTGAGGACAGATAAT...   \n",
       "2     AGTTGATATTGAATGAAATCTTCATGTTTTTTGATAAATGATTATA...   \n",
       "3     CACTTGTCAGATTCTTCTTACCAAATCCATCAACAAATAAGCAAAT...   \n",
       "4     TTGATATAACAGATTCAACACTAAAAATGAGTAAAATCTAAAAAAG...   \n",
       "...                                                 ...   \n",
       "2393  AAGAAAGAAAAACCGTACATAAACACCCATCTGGTATACCATCGTC...   \n",
       "2394  TTTTAGAAAGAAGAAGAAGGATTATTGCCTTATTGGTGAAGGGAAG...   \n",
       "2395  TATGTACAGTCTCTACATTTTTTCAAATACATTTTTTTCTTTTTCA...   \n",
       "2396  TGGTAAATAATTAAATATATAAGAACATTATTCTAAAGCGTTGAAT...   \n",
       "2397  TTTTGCCACTGCTGGCTCTGATGGTGCTTTCAATTTCTAGGACAAG...   \n",
       "\n",
       "                                        One_hot_encoded  \\\n",
       "0     [[0, 0, 0, 1], [1, 0, 0, 0], [0, 0, 1, 0], [1,...   \n",
       "1     [[0, 0, 1, 0], [0, 0, 0, 1], [0, 1, 0, 0], [1,...   \n",
       "2     [[1, 0, 0, 0], [0, 0, 1, 0], [0, 0, 0, 1], [0,...   \n",
       "3     [[0, 1, 0, 0], [1, 0, 0, 0], [0, 1, 0, 0], [0,...   \n",
       "4     [[0, 0, 0, 1], [0, 0, 0, 1], [0, 0, 1, 0], [1,...   \n",
       "...                                                 ...   \n",
       "2393  [[1, 0, 0, 0], [1, 0, 0, 0], [0, 0, 1, 0], [1,...   \n",
       "2394  [[0, 0, 0, 1], [0, 0, 0, 1], [0, 0, 0, 1], [0,...   \n",
       "2395  [[0, 0, 0, 1], [1, 0, 0, 0], [0, 0, 0, 1], [0,...   \n",
       "2396  [[0, 0, 0, 1], [0, 0, 1, 0], [0, 0, 1, 0], [0,...   \n",
       "2397  [[0, 0, 0, 1], [0, 0, 0, 1], [0, 0, 0, 1], [0,...   \n",
       "\n",
       "                                     RC_one_hot_encoded  \n",
       "0     [[1, 0, 0, 0], [0, 0, 1, 0], [0, 0, 1, 0], [0,...  \n",
       "1     [[0, 0, 1, 0], [0, 0, 1, 0], [1, 0, 0, 0], [0,...  \n",
       "2     [[0, 0, 0, 1], [0, 0, 1, 0], [1, 0, 0, 0], [0,...  \n",
       "3     [[1, 0, 0, 0], [0, 1, 0, 0], [0, 0, 1, 0], [1,...  \n",
       "4     [[0, 0, 0, 1], [1, 0, 0, 0], [0, 0, 0, 1], [1,...  \n",
       "...                                                 ...  \n",
       "2393  [[0, 1, 0, 0], [0, 0, 1, 0], [0, 0, 0, 1], [0,...  \n",
       "2394  [[0, 0, 0, 1], [0, 0, 1, 0], [1, 0, 0, 0], [0,...  \n",
       "2395  [[1, 0, 0, 0], [0, 0, 1, 0], [0, 0, 1, 0], [0,...  \n",
       "2396  [[0, 0, 0, 1], [0, 0, 0, 1], [0, 0, 1, 0], [1,...  \n",
       "2397  [[0, 0, 1, 0], [0, 0, 1, 0], [0, 1, 0, 0], [0,...  \n",
       "\n",
       "[2398 rows x 6 columns]"
      ]
     },
     "execution_count": 9,
     "metadata": {},
     "output_type": "execute_result"
    }
   ],
   "source": [
    "dataset"
   ]
  },
  {
   "cell_type": "markdown",
   "metadata": {},
   "source": [
    "### Train-test split"
   ]
  },
  {
   "cell_type": "code",
   "execution_count": 10,
   "metadata": {},
   "outputs": [],
   "source": [
    "from src.prepare_dataset import grouped_shuffle_split\n",
    "train_df, validation_test_df = grouped_shuffle_split(dataset, dataset[\"GeneFamily\"], 0.2)"
   ]
  },
  {
   "cell_type": "code",
   "execution_count": 11,
   "metadata": {},
   "outputs": [],
   "source": [
    "validation_df, test_df  = grouped_shuffle_split(validation_test_df, validation_test_df[\"GeneFamily\"], 0.5)"
   ]
  },
  {
   "cell_type": "code",
   "execution_count": 12,
   "metadata": {},
   "outputs": [
    {
     "name": "stdout",
     "output_type": "stream",
     "text": [
      "Length of training set: 1900\n",
      "Length of validation set: 257\n",
      "Length of test set: 241\n"
     ]
    }
   ],
   "source": [
    "print(f\"Length of training set: {train_df.shape[0]}\")\n",
    "print(f\"Length of validation set: {validation_df.shape[0]}\")\n",
    "print(f\"Length of test set: {test_df.shape[0]}\")"
   ]
  },
  {
   "cell_type": "code",
   "execution_count": 13,
   "metadata": {},
   "outputs": [],
   "source": [
    "def get_input_and_labels(df):\n",
    "\tohe_np = np.stack(df[\"One_hot_encoded\"])\n",
    "\trc_np = np.stack(df[\"RC_one_hot_encoded\"])\n",
    "\n",
    "\tx = np.append(ohe_np, rc_np, axis=0)\n",
    "\tx = x.astype('float32')\n",
    "\ty = np.append(df[\"Label\"], df[\"Label\"])\n",
    "\treturn x, y"
   ]
  },
  {
   "cell_type": "code",
   "execution_count": 14,
   "metadata": {},
   "outputs": [],
   "source": [
    "x_train, y_train = get_input_and_labels(train_df)\n",
    "x_validation, y_validation = get_input_and_labels(validation_df)"
   ]
  },
  {
   "cell_type": "markdown",
   "metadata": {},
   "source": [
    "## Prepare model"
   ]
  },
  {
   "cell_type": "markdown",
   "metadata": {},
   "source": [
    "As the model uses evo augmentation, a list of possible nucleotide operations needs to be given"
   ]
  },
  {
   "cell_type": "code",
   "execution_count": 15,
   "metadata": {},
   "outputs": [
    {
     "name": "stderr",
     "output_type": "stream",
     "text": [
      "2025-05-21 15:49:58.341317: W tensorflow/compiler/xla/stream_executor/platform/default/dso_loader.cc:64] Could not load dynamic library 'libcuda.so.1'; dlerror: libcuda.so.1: cannot open shared object file: No such file or directory\n",
      "2025-05-21 15:49:58.342349: W tensorflow/compiler/xla/stream_executor/cuda/cuda_driver.cc:265] failed call to cuInit: UNKNOWN ERROR (303)\n",
      "2025-05-21 15:49:58.342402: I tensorflow/compiler/xla/stream_executor/cuda/cuda_diagnostics.cc:156] kernel driver does not appear to be running on this host (p-vibcompute-1.vib.local): /proc/driver/nvidia/version does not exist\n",
      "2025-05-21 15:49:58.349034: I tensorflow/core/platform/cpu_feature_guard.cc:193] This TensorFlow binary is optimized with oneAPI Deep Neural Network Library (oneDNN) to use the following CPU instructions in performance-critical operations:  AVX2 FMA\n",
      "To enable them in other operations, rebuild TensorFlow with the appropriate compiler flags.\n"
     ]
    }
   ],
   "source": [
    "augment_list = [\n",
    "    augment.RandomRC(rc_prob=0.5),\n",
    "    augment.RandomInsertionBatch(insert_min=0, insert_max=20),\n",
    "    augment.RandomDeletion(delete_min=0, delete_max=30),\n",
    "    augment.RandomTranslocationBatch(shift_min=0, shift_max=20),\n",
    "    augment.RandomMutation(mutate_frac=0.05),\n",
    "    augment.RandomNoise()\n",
    "]"
   ]
  },
  {
   "cell_type": "markdown",
   "metadata": {},
   "source": [
    "Get the shape of the input data"
   ]
  },
  {
   "cell_type": "code",
   "execution_count": 16,
   "metadata": {},
   "outputs": [],
   "source": [
    "input_shape = train_df[\"One_hot_encoded\"].iloc[0].shape"
   ]
  },
  {
   "cell_type": "markdown",
   "metadata": {},
   "source": [
    "Initialize the model. For the augmentation, we will use EvoAug"
   ]
  },
  {
   "cell_type": "code",
   "execution_count": 17,
   "metadata": {},
   "outputs": [],
   "source": [
    "model = get_model(input_shape=input_shape, perform_evoaug=True, augment_list=augment_list ,learning_rate=0.001)"
   ]
  },
  {
   "cell_type": "markdown",
   "metadata": {},
   "source": [
    "## Train the model"
   ]
  },
  {
   "cell_type": "markdown",
   "metadata": {},
   "source": [
    "Define the callback"
   ]
  },
  {
   "cell_type": "code",
   "execution_count": 18,
   "metadata": {},
   "outputs": [],
   "source": [
    "# early stopping callback\n",
    "import tensorflow as tf\n",
    "\n",
    "early_stopping_callback = tf.keras.callbacks.EarlyStopping(monitor='val_loss',\n",
    "\t\t\t\t\t\t\t\t\t\t\tpatience=20,\n",
    "\t\t\t\t\t\t\t\t\t\t\tverbose=1,\n",
    "\t\t\t\t\t\t\t\t\t\t\tmode='min',\n",
    "\t\t\t\t\t\t\t\t\t\t\trestore_best_weights=True)\n",
    "# reduce learning rate callback\n",
    "reduce_lr = tf.keras.callbacks.ReduceLROnPlateau(monitor='val_loss',\n",
    "\t\t\t\t\t\t\t\t\t\t\t\tfactor=0.1,\n",
    "\t\t\t\t\t\t\t\t\t\t\t\tpatience=5,\n",
    "\t\t\t\t\t\t\t\t\t\t\t\tmin_lr=1e-7,\n",
    "\t\t\t\t\t\t\t\t\t\t\t\tmode='min',\n",
    "\t\t\t\t\t\t\t\t\t\t\t\tverbose=1)\n",
    "callbacks = [early_stopping_callback, reduce_lr]"
   ]
  },
  {
   "cell_type": "code",
   "execution_count": 19,
   "metadata": {},
   "outputs": [
    {
     "name": "stdout",
     "output_type": "stream",
     "text": [
      "Epoch 1/100\n",
      "WARNING:tensorflow:From /home/VIB.LOCAL/sander.thierens/.conda/envs/DeepDifE/lib/python3.8/site-packages/tensorflow/python/autograph/pyct/static_analysis/liveness.py:83: Analyzer.lamba_check (from tensorflow.python.autograph.pyct.static_analysis.liveness) is deprecated and will be removed after 2023-09-23.\n",
      "Instructions for updating:\n",
      "Lambda fuctions will be no more assumed to be used in the statement where they are used, or at least in the same block. https://github.com/tensorflow/tensorflow/issues/56089\n",
      "38/38 [==============================] - 8s 83ms/step - loss: 0.6952 - acc: 0.4976 - auROC: 0.4951 - auPRC: 0.4893 - true_positives: 613.0000 - precision: 0.4884 - recall: 0.3261 - val_loss: 0.6937 - val_acc: 0.5039 - val_auROC: 0.4909 - val_auPRC: 0.4903 - val_true_positives: 258.0000 - val_precision: 0.5029 - val_recall: 1.0000 - lr: 0.0010\n",
      "Epoch 2/100\n",
      "38/38 [==============================] - 2s 64ms/step - loss: 0.6944 - acc: 0.4926 - auROC: 0.4858 - auPRC: 0.4870 - true_positives: 808.0000 - precision: 0.4856 - recall: 0.4298 - val_loss: 0.6935 - val_acc: 0.5253 - val_auROC: 0.5019 - val_auPRC: 0.4982 - val_true_positives: 130.0000 - val_precision: 0.5285 - val_recall: 0.5039 - lr: 0.0010\n",
      "Epoch 3/100\n",
      "38/38 [==============================] - 2s 61ms/step - loss: 0.6938 - acc: 0.4942 - auROC: 0.4970 - auPRC: 0.4920 - true_positives: 429.0000 - precision: 0.4767 - recall: 0.2282 - val_loss: 0.6933 - val_acc: 0.4961 - val_auROC: 0.5416 - val_auPRC: 0.5285 - val_true_positives: 32.0000 - val_precision: 0.4923 - val_recall: 0.1240 - lr: 0.0010\n",
      "Epoch 4/100\n",
      "38/38 [==============================] - 2s 62ms/step - loss: 0.6933 - acc: 0.5103 - auROC: 0.5110 - auPRC: 0.4991 - true_positives: 754.0000 - precision: 0.5064 - recall: 0.4011 - val_loss: 0.6930 - val_acc: 0.5214 - val_auROC: 0.5344 - val_auPRC: 0.5344 - val_true_positives: 22.0000 - val_precision: 0.6875 - val_recall: 0.0853 - lr: 0.0010\n",
      "Epoch 5/100\n",
      "38/38 [==============================] - 2s 63ms/step - loss: 0.6928 - acc: 0.5179 - auROC: 0.5249 - auPRC: 0.5097 - true_positives: 961.0000 - precision: 0.5128 - recall: 0.5112 - val_loss: 0.6928 - val_acc: 0.5350 - val_auROC: 0.5386 - val_auPRC: 0.5191 - val_true_positives: 138.0000 - val_precision: 0.5370 - val_recall: 0.5349 - lr: 0.0010\n",
      "Epoch 6/100\n",
      "38/38 [==============================] - 2s 61ms/step - loss: 0.6928 - acc: 0.5174 - auROC: 0.5251 - auPRC: 0.5162 - true_positives: 678.0000 - precision: 0.5176 - recall: 0.3606 - val_loss: 0.6919 - val_acc: 0.5253 - val_auROC: 0.5638 - val_auPRC: 0.5404 - val_true_positives: 243.0000 - val_precision: 0.5148 - val_recall: 0.9419 - lr: 0.0010\n",
      "Epoch 7/100\n",
      "38/38 [==============================] - 2s 60ms/step - loss: 0.6908 - acc: 0.5316 - auROC: 0.5441 - auPRC: 0.5240 - true_positives: 930.0000 - precision: 0.5284 - recall: 0.4947 - val_loss: 0.6890 - val_acc: 0.5914 - val_auROC: 0.6105 - val_auPRC: 0.5895 - val_true_positives: 179.0000 - val_precision: 0.5774 - val_recall: 0.6938 - lr: 0.0010\n",
      "Epoch 8/100\n",
      "38/38 [==============================] - 2s 61ms/step - loss: 0.6846 - acc: 0.5634 - auROC: 0.5757 - auPRC: 0.5510 - true_positives: 909.0000 - precision: 0.5692 - recall: 0.4835 - val_loss: 0.6859 - val_acc: 0.5623 - val_auROC: 0.5728 - val_auPRC: 0.5388 - val_true_positives: 206.0000 - val_precision: 0.5435 - val_recall: 0.7984 - lr: 0.0010\n",
      "Epoch 9/100\n",
      "38/38 [==============================] - 2s 63ms/step - loss: 0.6779 - acc: 0.5618 - auROC: 0.5988 - auPRC: 0.5729 - true_positives: 1016.0000 - precision: 0.5592 - recall: 0.5404 - val_loss: 0.6768 - val_acc: 0.5642 - val_auROC: 0.6140 - val_auPRC: 0.5685 - val_true_positives: 210.0000 - val_precision: 0.5440 - val_recall: 0.8140 - lr: 0.0010\n",
      "Epoch 10/100\n",
      "38/38 [==============================] - 2s 61ms/step - loss: 0.6720 - acc: 0.5866 - auROC: 0.6173 - auPRC: 0.5824 - true_positives: 1200.0000 - precision: 0.5739 - recall: 0.6383 - val_loss: 0.6856 - val_acc: 0.5447 - val_auROC: 0.6114 - val_auPRC: 0.5804 - val_true_positives: 240.0000 - val_precision: 0.5263 - val_recall: 0.9302 - lr: 0.0010\n",
      "Epoch 11/100\n",
      "38/38 [==============================] - 2s 62ms/step - loss: 0.6723 - acc: 0.5929 - auROC: 0.6144 - auPRC: 0.5813 - true_positives: 1224.0000 - precision: 0.5787 - recall: 0.6511 - val_loss: 0.7074 - val_acc: 0.5156 - val_auROC: 0.5803 - val_auPRC: 0.5453 - val_true_positives: 253.0000 - val_precision: 0.5091 - val_recall: 0.9806 - lr: 0.0010\n",
      "Epoch 12/100\n",
      "38/38 [==============================] - 2s 61ms/step - loss: 0.6739 - acc: 0.5829 - auROC: 0.6117 - auPRC: 0.5799 - true_positives: 1214.0000 - precision: 0.5692 - recall: 0.6457 - val_loss: 0.6613 - val_acc: 0.6265 - val_auROC: 0.6539 - val_auPRC: 0.6010 - val_true_positives: 148.0000 - val_precision: 0.6435 - val_recall: 0.5736 - lr: 0.0010\n",
      "Epoch 13/100\n",
      "38/38 [==============================] - 2s 61ms/step - loss: 0.6591 - acc: 0.6013 - auROC: 0.6458 - auPRC: 0.6169 - true_positives: 1190.0000 - precision: 0.5906 - recall: 0.6330 - val_loss: 0.6686 - val_acc: 0.6031 - val_auROC: 0.6359 - val_auPRC: 0.5818 - val_true_positives: 215.0000 - val_precision: 0.5718 - val_recall: 0.8333 - lr: 0.0010\n",
      "Epoch 14/100\n",
      "38/38 [==============================] - 2s 59ms/step - loss: 0.6535 - acc: 0.6155 - auROC: 0.6509 - auPRC: 0.6109 - true_positives: 1284.0000 - precision: 0.5975 - recall: 0.6830 - val_loss: 0.6890 - val_acc: 0.5467 - val_auROC: 0.6035 - val_auPRC: 0.5461 - val_true_positives: 240.0000 - val_precision: 0.5275 - val_recall: 0.9302 - lr: 0.0010\n",
      "Epoch 15/100\n",
      "38/38 [==============================] - 2s 61ms/step - loss: 0.6572 - acc: 0.6105 - auROC: 0.6450 - auPRC: 0.6067 - true_positives: 1275.0000 - precision: 0.5930 - recall: 0.6782 - val_loss: 0.6796 - val_acc: 0.5759 - val_auROC: 0.6104 - val_auPRC: 0.5635 - val_true_positives: 237.0000 - val_precision: 0.5461 - val_recall: 0.9186 - lr: 0.0010\n",
      "Epoch 16/100\n",
      "38/38 [==============================] - 2s 59ms/step - loss: 0.6519 - acc: 0.6063 - auROC: 0.6567 - auPRC: 0.6190 - true_positives: 1349.0000 - precision: 0.5830 - recall: 0.7176 - val_loss: 0.6747 - val_acc: 0.5895 - val_auROC: 0.6217 - val_auPRC: 0.5651 - val_true_positives: 226.0000 - val_precision: 0.5580 - val_recall: 0.8760 - lr: 0.0010\n",
      "Epoch 17/100\n",
      "38/38 [==============================] - 2s 63ms/step - loss: 0.6546 - acc: 0.6134 - auROC: 0.6509 - auPRC: 0.6085 - true_positives: 1336.0000 - precision: 0.5909 - recall: 0.7106 - val_loss: 0.6497 - val_acc: 0.6518 - val_auROC: 0.6791 - val_auPRC: 0.6177 - val_true_positives: 179.0000 - val_precision: 0.6416 - val_recall: 0.6938 - lr: 0.0010\n",
      "Epoch 18/100\n",
      "38/38 [==============================] - 2s 61ms/step - loss: 0.6451 - acc: 0.6366 - auROC: 0.6776 - auPRC: 0.6312 - true_positives: 1250.0000 - precision: 0.6247 - recall: 0.6649 - val_loss: 0.6429 - val_acc: 0.6304 - val_auROC: 0.6842 - val_auPRC: 0.6322 - val_true_positives: 198.0000 - val_precision: 0.6037 - val_recall: 0.7674 - lr: 0.0010\n",
      "Epoch 19/100\n",
      "38/38 [==============================] - 2s 62ms/step - loss: 0.6359 - acc: 0.6416 - auROC: 0.6884 - auPRC: 0.6452 - true_positives: 1334.0000 - precision: 0.6205 - recall: 0.7096 - val_loss: 0.6536 - val_acc: 0.6167 - val_auROC: 0.6713 - val_auPRC: 0.6104 - val_true_positives: 211.0000 - val_precision: 0.5845 - val_recall: 0.8178 - lr: 0.0010\n",
      "Epoch 20/100\n",
      "38/38 [==============================] - 2s 59ms/step - loss: 0.6416 - acc: 0.6253 - auROC: 0.6760 - auPRC: 0.6354 - true_positives: 1297.0000 - precision: 0.6066 - recall: 0.6899 - val_loss: 0.6456 - val_acc: 0.6187 - val_auROC: 0.6840 - val_auPRC: 0.6370 - val_true_positives: 206.0000 - val_precision: 0.5886 - val_recall: 0.7984 - lr: 0.0010\n",
      "Epoch 21/100\n",
      "38/38 [==============================] - 2s 60ms/step - loss: 0.6325 - acc: 0.6392 - auROC: 0.6951 - auPRC: 0.6627 - true_positives: 1280.0000 - precision: 0.6241 - recall: 0.6809 - val_loss: 0.6384 - val_acc: 0.6381 - val_auROC: 0.6892 - val_auPRC: 0.6414 - val_true_positives: 198.0000 - val_precision: 0.6111 - val_recall: 0.7674 - lr: 0.0010\n",
      "Epoch 22/100\n",
      "38/38 [==============================] - 2s 61ms/step - loss: 0.6304 - acc: 0.6389 - auROC: 0.6947 - auPRC: 0.6647 - true_positives: 1257.0000 - precision: 0.6266 - recall: 0.6686 - val_loss: 0.6637 - val_acc: 0.6031 - val_auROC: 0.6813 - val_auPRC: 0.6450 - val_true_positives: 237.0000 - val_precision: 0.5643 - val_recall: 0.9186 - lr: 0.0010\n",
      "Epoch 23/100\n",
      "38/38 [==============================] - 2s 62ms/step - loss: 0.6207 - acc: 0.6553 - auROC: 0.7088 - auPRC: 0.6780 - true_positives: 1311.0000 - precision: 0.6389 - recall: 0.6973 - val_loss: 0.6435 - val_acc: 0.6401 - val_auROC: 0.6910 - val_auPRC: 0.6567 - val_true_positives: 218.0000 - val_precision: 0.6006 - val_recall: 0.8450 - lr: 0.0010\n",
      "Epoch 24/100\n",
      "38/38 [==============================] - 2s 61ms/step - loss: 0.6134 - acc: 0.6626 - auROC: 0.7179 - auPRC: 0.6833 - true_positives: 1319.0000 - precision: 0.6466 - recall: 0.7016 - val_loss: 0.6328 - val_acc: 0.6362 - val_auROC: 0.7045 - val_auPRC: 0.6913 - val_true_positives: 210.0000 - val_precision: 0.6017 - val_recall: 0.8140 - lr: 0.0010\n",
      "Epoch 25/100\n",
      "38/38 [==============================] - 2s 60ms/step - loss: 0.6260 - acc: 0.6495 - auROC: 0.7036 - auPRC: 0.6709 - true_positives: 1311.0000 - precision: 0.6321 - recall: 0.6973 - val_loss: 0.6354 - val_acc: 0.6479 - val_auROC: 0.6989 - val_auPRC: 0.6811 - val_true_positives: 216.0000 - val_precision: 0.6085 - val_recall: 0.8372 - lr: 0.0010\n",
      "Epoch 26/100\n",
      "38/38 [==============================] - 2s 61ms/step - loss: 0.6159 - acc: 0.6532 - auROC: 0.7142 - auPRC: 0.6858 - true_positives: 1383.0000 - precision: 0.6275 - recall: 0.7356 - val_loss: 0.6286 - val_acc: 0.6498 - val_auROC: 0.7125 - val_auPRC: 0.6754 - val_true_positives: 158.0000 - val_precision: 0.6639 - val_recall: 0.6124 - lr: 0.0010\n",
      "Epoch 27/100\n",
      "38/38 [==============================] - 2s 62ms/step - loss: 0.6053 - acc: 0.6708 - auROC: 0.7305 - auPRC: 0.6951 - true_positives: 1345.0000 - precision: 0.6526 - recall: 0.7154 - val_loss: 0.6347 - val_acc: 0.6342 - val_auROC: 0.6990 - val_auPRC: 0.6804 - val_true_positives: 223.0000 - val_precision: 0.5931 - val_recall: 0.8643 - lr: 0.0010\n",
      "Epoch 28/100\n",
      "38/38 [==============================] - 2s 60ms/step - loss: 0.6193 - acc: 0.6553 - auROC: 0.7138 - auPRC: 0.6907 - true_positives: 1353.0000 - precision: 0.6334 - recall: 0.7197 - val_loss: 0.6352 - val_acc: 0.6381 - val_auROC: 0.7065 - val_auPRC: 0.6904 - val_true_positives: 219.0000 - val_precision: 0.5984 - val_recall: 0.8488 - lr: 0.0010\n",
      "Epoch 29/100\n",
      "38/38 [==============================] - 2s 62ms/step - loss: 0.6063 - acc: 0.6713 - auROC: 0.7313 - auPRC: 0.7033 - true_positives: 1312.0000 - precision: 0.6583 - recall: 0.6979 - val_loss: 0.6172 - val_acc: 0.6595 - val_auROC: 0.7212 - val_auPRC: 0.7042 - val_true_positives: 179.0000 - val_precision: 0.6509 - val_recall: 0.6938 - lr: 0.0010\n",
      "Epoch 30/100\n",
      "38/38 [==============================] - 2s 60ms/step - loss: 0.5916 - acc: 0.6876 - auROC: 0.7497 - auPRC: 0.7233 - true_positives: 1324.0000 - precision: 0.6772 - recall: 0.7043 - val_loss: 0.6502 - val_acc: 0.6401 - val_auROC: 0.7204 - val_auPRC: 0.7145 - val_true_positives: 234.0000 - val_precision: 0.5924 - val_recall: 0.9070 - lr: 0.0010\n",
      "Epoch 31/100\n",
      "38/38 [==============================] - 2s 61ms/step - loss: 0.6020 - acc: 0.6761 - auROC: 0.7365 - auPRC: 0.7097 - true_positives: 1373.0000 - precision: 0.6547 - recall: 0.7303 - val_loss: 0.6383 - val_acc: 0.6459 - val_auROC: 0.6927 - val_auPRC: 0.6671 - val_true_positives: 207.0000 - val_precision: 0.6124 - val_recall: 0.8023 - lr: 0.0010\n",
      "Epoch 32/100\n",
      "38/38 [==============================] - 2s 59ms/step - loss: 0.5896 - acc: 0.6824 - auROC: 0.7489 - auPRC: 0.7242 - true_positives: 1306.0000 - precision: 0.6735 - recall: 0.6947 - val_loss: 0.6097 - val_acc: 0.6615 - val_auROC: 0.7325 - val_auPRC: 0.7115 - val_true_positives: 167.0000 - val_precision: 0.6680 - val_recall: 0.6473 - lr: 0.0010\n",
      "Epoch 33/100\n",
      "38/38 [==============================] - 2s 59ms/step - loss: 0.5812 - acc: 0.6879 - auROC: 0.7579 - auPRC: 0.7272 - true_positives: 1399.0000 - precision: 0.6649 - recall: 0.7441 - val_loss: 0.6238 - val_acc: 0.6556 - val_auROC: 0.7312 - val_auPRC: 0.7096 - val_true_positives: 135.0000 - val_precision: 0.7143 - val_recall: 0.5233 - lr: 0.0010\n",
      "Epoch 34/100\n",
      "38/38 [==============================] - 2s 62ms/step - loss: 0.5838 - acc: 0.6842 - auROC: 0.7556 - auPRC: 0.7409 - true_positives: 1326.0000 - precision: 0.6724 - recall: 0.7053 - val_loss: 0.6113 - val_acc: 0.6556 - val_auROC: 0.7261 - val_auPRC: 0.7183 - val_true_positives: 211.0000 - val_precision: 0.6188 - val_recall: 0.8178 - lr: 0.0010\n",
      "Epoch 35/100\n",
      "38/38 [==============================] - 2s 59ms/step - loss: 0.5842 - acc: 0.6911 - auROC: 0.7574 - auPRC: 0.7439 - true_positives: 1329.0000 - precision: 0.6808 - recall: 0.7069 - val_loss: 0.6250 - val_acc: 0.6518 - val_auROC: 0.7061 - val_auPRC: 0.6953 - val_true_positives: 214.0000 - val_precision: 0.6132 - val_recall: 0.8295 - lr: 0.0010\n",
      "Epoch 36/100\n",
      "38/38 [==============================] - 2s 59ms/step - loss: 0.5836 - acc: 0.6911 - auROC: 0.7577 - auPRC: 0.7451 - true_positives: 1345.0000 - precision: 0.6779 - recall: 0.7154 - val_loss: 0.6063 - val_acc: 0.6634 - val_auROC: 0.7279 - val_auPRC: 0.7164 - val_true_positives: 174.0000 - val_precision: 0.6616 - val_recall: 0.6744 - lr: 0.0010\n",
      "Epoch 37/100\n",
      "38/38 [==============================] - 2s 60ms/step - loss: 0.5822 - acc: 0.6858 - auROC: 0.7565 - auPRC: 0.7389 - true_positives: 1330.0000 - precision: 0.6738 - recall: 0.7074 - val_loss: 0.6122 - val_acc: 0.6420 - val_auROC: 0.7153 - val_auPRC: 0.7066 - val_true_positives: 201.0000 - val_precision: 0.6128 - val_recall: 0.7791 - lr: 0.0010\n",
      "Epoch 38/100\n",
      "38/38 [==============================] - 2s 59ms/step - loss: 0.5694 - acc: 0.6939 - auROC: 0.7689 - auPRC: 0.7529 - true_positives: 1322.0000 - precision: 0.6860 - recall: 0.7032 - val_loss: 0.6029 - val_acc: 0.6673 - val_auROC: 0.7343 - val_auPRC: 0.7264 - val_true_positives: 181.0000 - val_precision: 0.6582 - val_recall: 0.7016 - lr: 0.0010\n",
      "Epoch 39/100\n",
      "38/38 [==============================] - 2s 59ms/step - loss: 0.5689 - acc: 0.7008 - auROC: 0.7742 - auPRC: 0.7591 - true_positives: 1352.0000 - precision: 0.6894 - recall: 0.7191 - val_loss: 0.6091 - val_acc: 0.6556 - val_auROC: 0.7282 - val_auPRC: 0.7255 - val_true_positives: 210.0000 - val_precision: 0.6195 - val_recall: 0.8140 - lr: 0.0010\n",
      "Epoch 40/100\n",
      "38/38 [==============================] - 2s 62ms/step - loss: 0.5626 - acc: 0.7116 - auROC: 0.7789 - auPRC: 0.7606 - true_positives: 1397.0000 - precision: 0.6950 - recall: 0.7431 - val_loss: 0.5926 - val_acc: 0.6615 - val_auROC: 0.7442 - val_auPRC: 0.7387 - val_true_positives: 182.0000 - val_precision: 0.6500 - val_recall: 0.7054 - lr: 0.0010\n",
      "Epoch 41/100\n",
      "38/38 [==============================] - 2s 60ms/step - loss: 0.5733 - acc: 0.6932 - auROC: 0.7651 - auPRC: 0.7523 - true_positives: 1351.0000 - precision: 0.6796 - recall: 0.7186 - val_loss: 0.6181 - val_acc: 0.6440 - val_auROC: 0.7152 - val_auPRC: 0.7106 - val_true_positives: 206.0000 - val_precision: 0.6113 - val_recall: 0.7984 - lr: 0.0010\n",
      "Epoch 42/100\n",
      "38/38 [==============================] - 2s 59ms/step - loss: 0.5735 - acc: 0.7013 - auROC: 0.7674 - auPRC: 0.7524 - true_positives: 1380.0000 - precision: 0.6849 - recall: 0.7340 - val_loss: 0.6017 - val_acc: 0.6615 - val_auROC: 0.7361 - val_auPRC: 0.7306 - val_true_positives: 199.0000 - val_precision: 0.6338 - val_recall: 0.7713 - lr: 0.0010\n",
      "Epoch 43/100\n",
      "38/38 [==============================] - 2s 60ms/step - loss: 0.5664 - acc: 0.7018 - auROC: 0.7757 - auPRC: 0.7601 - true_positives: 1391.0000 - precision: 0.6835 - recall: 0.7399 - val_loss: 0.6012 - val_acc: 0.6790 - val_auROC: 0.7335 - val_auPRC: 0.7272 - val_true_positives: 189.0000 - val_precision: 0.6632 - val_recall: 0.7326 - lr: 0.0010\n",
      "Epoch 44/100\n",
      "38/38 [==============================] - 2s 61ms/step - loss: 0.5504 - acc: 0.7192 - auROC: 0.7912 - auPRC: 0.7813 - true_positives: 1379.0000 - precision: 0.7090 - recall: 0.7335 - val_loss: 0.6293 - val_acc: 0.6420 - val_auROC: 0.7134 - val_auPRC: 0.7116 - val_true_positives: 216.0000 - val_precision: 0.6034 - val_recall: 0.8372 - lr: 0.0010\n",
      "Epoch 45/100\n",
      "38/38 [==============================] - ETA: 0s - loss: 0.5659 - acc: 0.7013 - auROC: 0.7758 - auPRC: 0.7585 - true_positives: 1366.0000 - precision: 0.6875 - recall: 0.7266\n",
      "Epoch 45: ReduceLROnPlateau reducing learning rate to 0.00010000000474974513.\n",
      "38/38 [==============================] - 2s 61ms/step - loss: 0.5659 - acc: 0.7013 - auROC: 0.7758 - auPRC: 0.7585 - true_positives: 1366.0000 - precision: 0.6875 - recall: 0.7266 - val_loss: 0.5994 - val_acc: 0.6770 - val_auROC: 0.7366 - val_auPRC: 0.7288 - val_true_positives: 188.0000 - val_precision: 0.6620 - val_recall: 0.7287 - lr: 0.0010\n",
      "Epoch 46/100\n",
      "38/38 [==============================] - 2s 61ms/step - loss: 0.5539 - acc: 0.7176 - auROC: 0.7875 - auPRC: 0.7731 - true_positives: 1389.0000 - precision: 0.7047 - recall: 0.7388 - val_loss: 0.5957 - val_acc: 0.6926 - val_auROC: 0.7439 - val_auPRC: 0.7348 - val_true_positives: 186.0000 - val_precision: 0.6838 - val_recall: 0.7209 - lr: 1.0000e-04\n",
      "Epoch 47/100\n",
      "38/38 [==============================] - 2s 60ms/step - loss: 0.5314 - acc: 0.7282 - auROC: 0.8080 - auPRC: 0.7973 - true_positives: 1396.0000 - precision: 0.7177 - recall: 0.7426 - val_loss: 0.6006 - val_acc: 0.6732 - val_auROC: 0.7378 - val_auPRC: 0.7282 - val_true_positives: 179.0000 - val_precision: 0.6679 - val_recall: 0.6938 - lr: 1.0000e-04\n",
      "Epoch 48/100\n",
      "38/38 [==============================] - 2s 60ms/step - loss: 0.5412 - acc: 0.7189 - auROC: 0.7979 - auPRC: 0.7879 - true_positives: 1380.0000 - precision: 0.7084 - recall: 0.7340 - val_loss: 0.5985 - val_acc: 0.6576 - val_auROC: 0.7379 - val_auPRC: 0.7278 - val_true_positives: 183.0000 - val_precision: 0.6444 - val_recall: 0.7093 - lr: 1.0000e-04\n",
      "Epoch 49/100\n",
      "38/38 [==============================] - 2s 58ms/step - loss: 0.5462 - acc: 0.7179 - auROC: 0.7936 - auPRC: 0.7856 - true_positives: 1406.0000 - precision: 0.7016 - recall: 0.7479 - val_loss: 0.5995 - val_acc: 0.6732 - val_auROC: 0.7381 - val_auPRC: 0.7305 - val_true_positives: 177.0000 - val_precision: 0.6705 - val_recall: 0.6860 - lr: 1.0000e-04\n",
      "Epoch 50/100\n",
      "38/38 [==============================] - ETA: 0s - loss: 0.5315 - acc: 0.7313 - auROC: 0.8095 - auPRC: 0.8001 - true_positives: 1395.0000 - precision: 0.7224 - recall: 0.7420\n",
      "Epoch 50: ReduceLROnPlateau reducing learning rate to 1.0000000474974514e-05.\n",
      "38/38 [==============================] - 2s 60ms/step - loss: 0.5315 - acc: 0.7313 - auROC: 0.8095 - auPRC: 0.8001 - true_positives: 1395.0000 - precision: 0.7224 - recall: 0.7420 - val_loss: 0.6006 - val_acc: 0.6634 - val_auROC: 0.7374 - val_auPRC: 0.7291 - val_true_positives: 181.0000 - val_precision: 0.6534 - val_recall: 0.7016 - lr: 1.0000e-04\n",
      "Epoch 51/100\n",
      "38/38 [==============================] - 2s 62ms/step - loss: 0.5462 - acc: 0.7155 - auROC: 0.7947 - auPRC: 0.7855 - true_positives: 1349.0000 - precision: 0.7104 - recall: 0.7176 - val_loss: 0.6040 - val_acc: 0.6654 - val_auROC: 0.7303 - val_auPRC: 0.7233 - val_true_positives: 182.0000 - val_precision: 0.6547 - val_recall: 0.7054 - lr: 1.0000e-05\n",
      "Epoch 52/100\n",
      "38/38 [==============================] - 2s 61ms/step - loss: 0.5430 - acc: 0.7195 - auROC: 0.7960 - auPRC: 0.7819 - true_positives: 1389.0000 - precision: 0.7072 - recall: 0.7388 - val_loss: 0.6046 - val_acc: 0.6595 - val_auROC: 0.7301 - val_auPRC: 0.7246 - val_true_positives: 188.0000 - val_precision: 0.6416 - val_recall: 0.7287 - lr: 1.0000e-05\n",
      "Epoch 53/100\n",
      "38/38 [==============================] - 2s 62ms/step - loss: 0.5404 - acc: 0.7171 - auROC: 0.7984 - auPRC: 0.7882 - true_positives: 1352.0000 - precision: 0.7120 - recall: 0.7191 - val_loss: 0.6005 - val_acc: 0.6556 - val_auROC: 0.7346 - val_auPRC: 0.7296 - val_true_positives: 186.0000 - val_precision: 0.6392 - val_recall: 0.7209 - lr: 1.0000e-05\n",
      "Epoch 54/100\n",
      "38/38 [==============================] - 2s 60ms/step - loss: 0.5431 - acc: 0.7268 - auROC: 0.7975 - auPRC: 0.7849 - true_positives: 1394.0000 - precision: 0.7163 - recall: 0.7415 - val_loss: 0.6051 - val_acc: 0.6556 - val_auROC: 0.7297 - val_auPRC: 0.7233 - val_true_positives: 185.0000 - val_precision: 0.6401 - val_recall: 0.7171 - lr: 1.0000e-05\n",
      "Epoch 55/100\n",
      "37/38 [============================>.] - ETA: 0s - loss: 0.5428 - acc: 0.7205 - auROC: 0.7975 - auPRC: 0.7853 - true_positives: 1359.0000 - precision: 0.7078 - recall: 0.7418\n",
      "Epoch 55: ReduceLROnPlateau reducing learning rate to 1.0000000656873453e-06.\n",
      "38/38 [==============================] - 2s 61ms/step - loss: 0.5409 - acc: 0.7224 - auROC: 0.7992 - auPRC: 0.7863 - true_positives: 1399.0000 - precision: 0.7091 - recall: 0.7441 - val_loss: 0.6039 - val_acc: 0.6576 - val_auROC: 0.7301 - val_auPRC: 0.7231 - val_true_positives: 190.0000 - val_precision: 0.6376 - val_recall: 0.7364 - lr: 1.0000e-05\n",
      "Epoch 56/100\n",
      "38/38 [==============================] - 2s 61ms/step - loss: 0.5364 - acc: 0.7334 - auROC: 0.8029 - auPRC: 0.7926 - true_positives: 1409.0000 - precision: 0.7222 - recall: 0.7495 - val_loss: 0.6009 - val_acc: 0.6576 - val_auROC: 0.7333 - val_auPRC: 0.7258 - val_true_positives: 190.0000 - val_precision: 0.6376 - val_recall: 0.7364 - lr: 1.0000e-06\n",
      "Epoch 57/100\n",
      "38/38 [==============================] - 2s 59ms/step - loss: 0.5378 - acc: 0.7276 - auROC: 0.8027 - auPRC: 0.7877 - true_positives: 1406.0000 - precision: 0.7148 - recall: 0.7479 - val_loss: 0.6029 - val_acc: 0.6576 - val_auROC: 0.7330 - val_auPRC: 0.7253 - val_true_positives: 189.0000 - val_precision: 0.6385 - val_recall: 0.7326 - lr: 1.0000e-06\n",
      "Epoch 58/100\n",
      "38/38 [==============================] - 2s 61ms/step - loss: 0.5398 - acc: 0.7268 - auROC: 0.8007 - auPRC: 0.7889 - true_positives: 1389.0000 - precision: 0.7175 - recall: 0.7388 - val_loss: 0.6016 - val_acc: 0.6537 - val_auROC: 0.7348 - val_auPRC: 0.7273 - val_true_positives: 186.0000 - val_precision: 0.6370 - val_recall: 0.7209 - lr: 1.0000e-06\n",
      "Epoch 59/100\n",
      "38/38 [==============================] - 2s 63ms/step - loss: 0.5293 - acc: 0.7313 - auROC: 0.8112 - auPRC: 0.8017 - true_positives: 1401.0000 - precision: 0.7210 - recall: 0.7452 - val_loss: 0.6049 - val_acc: 0.6556 - val_auROC: 0.7310 - val_auPRC: 0.7238 - val_true_positives: 189.0000 - val_precision: 0.6364 - val_recall: 0.7326 - lr: 1.0000e-06\n",
      "Epoch 60/100\n",
      "38/38 [==============================] - ETA: 0s - loss: 0.5401 - acc: 0.7187 - auROC: 0.7995 - auPRC: 0.7888 - true_positives: 1389.0000 - precision: 0.7062 - recall: 0.7388Restoring model weights from the end of the best epoch: 40.\n",
      "\n",
      "Epoch 60: ReduceLROnPlateau reducing learning rate to 1.0000001111620805e-07.\n",
      "38/38 [==============================] - 2s 60ms/step - loss: 0.5401 - acc: 0.7187 - auROC: 0.7995 - auPRC: 0.7888 - true_positives: 1389.0000 - precision: 0.7062 - recall: 0.7388 - val_loss: 0.6031 - val_acc: 0.6479 - val_auROC: 0.7295 - val_auPRC: 0.7226 - val_true_positives: 186.0000 - val_precision: 0.6305 - val_recall: 0.7209 - lr: 1.0000e-06\n",
      "Epoch 60: early stopping\n"
     ]
    }
   ],
   "source": [
    "history = model.fit(x_train,\n",
    "\t\t\t\t\ty_train,\n",
    "\t\t\t\t\tepochs=100,\n",
    "\t\t\t\t\tbatch_size=100,\n",
    "\t\t\t\t\tvalidation_data=(x_validation, y_validation),\n",
    "\t\t\t\t\tcallbacks=callbacks\n",
    "\t\t\t\t\t)"
   ]
  },
  {
   "cell_type": "markdown",
   "metadata": {},
   "source": [
    "## Test set"
   ]
  },
  {
   "cell_type": "markdown",
   "metadata": {},
   "source": [
    "We perform post-hoc conjoing"
   ]
  },
  {
   "cell_type": "code",
   "execution_count": 20,
   "metadata": {},
   "outputs": [],
   "source": [
    "siamese_model = get_siamese_model(model.model)"
   ]
  },
  {
   "cell_type": "markdown",
   "metadata": {},
   "source": [
    "Prepare the test set data"
   ]
  },
  {
   "cell_type": "code",
   "execution_count": 21,
   "metadata": {},
   "outputs": [],
   "source": [
    "x_test = np.stack(test_df[\"One_hot_encoded\"])\n",
    "x_test_rc = np.stack(test_df[\"RC_one_hot_encoded\"])"
   ]
  },
  {
   "cell_type": "code",
   "execution_count": 22,
   "metadata": {},
   "outputs": [],
   "source": [
    "y_test = test_df[\"Label\"].to_numpy()"
   ]
  },
  {
   "cell_type": "markdown",
   "metadata": {},
   "source": [
    "As we used evo aug in our model all the sequences which were trained on, were of length 620. We use the evoaug padding function to pad the test set to the same length"
   ]
  },
  {
   "cell_type": "code",
   "execution_count": 23,
   "metadata": {},
   "outputs": [],
   "source": [
    "x_test = model._pad_end(x_test)\n",
    "x_test_rc = model._pad_end(x_test_rc)"
   ]
  },
  {
   "cell_type": "code",
   "execution_count": 24,
   "metadata": {},
   "outputs": [
    {
     "name": "stdout",
     "output_type": "stream",
     "text": [
      "8/8 [==============================] - 0s 8ms/step\n"
     ]
    }
   ],
   "source": [
    "predictions_categories, predictions = post_hoc_conjoining(siamese_model, x_test, x_test_rc)"
   ]
  },
  {
   "cell_type": "code",
   "execution_count": 25,
   "metadata": {},
   "outputs": [
    {
     "data": {
      "text/plain": [
       "0.8167706167706168"
      ]
     },
     "execution_count": 25,
     "metadata": {},
     "output_type": "execute_result"
    }
   ],
   "source": [
    "get_auroc(y_test, predictions)"
   ]
  }
 ],
 "metadata": {
  "kernelspec": {
   "display_name": "Python 3 (ipykernel)",
   "language": "python",
   "name": "python3"
  },
  "language_info": {
   "codemirror_mode": {
    "name": "ipython",
    "version": 3
   },
   "file_extension": ".py",
   "mimetype": "text/x-python",
   "name": "python",
   "nbconvert_exporter": "python",
   "pygments_lexer": "ipython3",
   "version": "3.8.0"
  }
 },
 "nbformat": 4,
 "nbformat_minor": 4
}
