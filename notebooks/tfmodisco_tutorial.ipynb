{
 "cells": [
  {
   "cell_type": "markdown",
   "metadata": {},
   "source": [
    "# Tutorial to perform TFModisco and create a report #"
   ]
  },
  {
   "cell_type": "code",
   "execution_count": 1,
   "metadata": {},
   "outputs": [
    {
     "name": "stdout",
     "output_type": "stream",
     "text": [
      "/data/projects/c02/sander.thierens\n"
     ]
    }
   ],
   "source": [
    "%cd ../.."
   ]
  },
  {
   "cell_type": "code",
   "execution_count": 2,
   "metadata": {
    "tags": []
   },
   "outputs": [
    {
     "name": "stderr",
     "output_type": "stream",
     "text": [
      "2025-01-31 10:58:11.664822: I tensorflow/core/platform/cpu_feature_guard.cc:193] This TensorFlow binary is optimized with oneAPI Deep Neural Network Library (oneDNN) to use the following CPU instructions in performance-critical operations:  AVX2 FMA\n",
      "To enable them in other operations, rebuild TensorFlow with the appropriate compiler flags.\n",
      "2025-01-31 10:58:11.789694: W tensorflow/compiler/xla/stream_executor/platform/default/dso_loader.cc:64] Could not load dynamic library 'libcudart.so.11.0'; dlerror: libcudart.so.11.0: cannot open shared object file: No such file or directory\n",
      "2025-01-31 10:58:11.789727: I tensorflow/compiler/xla/stream_executor/cuda/cudart_stub.cc:29] Ignore above cudart dlerror if you do not have a GPU set up on your machine.\n",
      "2025-01-31 10:58:14.538271: W tensorflow/compiler/xla/stream_executor/platform/default/dso_loader.cc:64] Could not load dynamic library 'libnvinfer.so.7'; dlerror: libnvinfer.so.7: cannot open shared object file: No such file or directory\n",
      "2025-01-31 10:58:14.538359: W tensorflow/compiler/xla/stream_executor/platform/default/dso_loader.cc:64] Could not load dynamic library 'libnvinfer_plugin.so.7'; dlerror: libnvinfer_plugin.so.7: cannot open shared object file: No such file or directory\n",
      "2025-01-31 10:58:14.538372: W tensorflow/compiler/tf2tensorrt/utils/py_utils.cc:38] TF-TRT Warning: Cannot dlopen some TensorRT libraries. If you would like to use Nvidia GPU with TensorRT, please make sure the missing libraries mentioned above are installed properly.\n",
      "/home/VIB.LOCAL/sander.thierens/.conda/envs/DeepDifE/lib/python3.8/site-packages/shap/utils/_clustering.py:35: NumbaDeprecationWarning: The 'nopython' keyword argument was not supplied to the 'numba.jit' decorator. The implicit default value for this argument is currently False, but it will be changed to True in Numba 0.59.0. See https://numba.readthedocs.io/en/stable/reference/deprecation.html#deprecation-of-object-mode-fall-back-behaviour-when-using-jit for details.\n",
      "  def _pt_shuffle_rec(i, indexes, index_mask, partition_tree, M, pos):\n",
      "/home/VIB.LOCAL/sander.thierens/.conda/envs/DeepDifE/lib/python3.8/site-packages/shap/utils/_clustering.py:54: NumbaDeprecationWarning: The 'nopython' keyword argument was not supplied to the 'numba.jit' decorator. The implicit default value for this argument is currently False, but it will be changed to True in Numba 0.59.0. See https://numba.readthedocs.io/en/stable/reference/deprecation.html#deprecation-of-object-mode-fall-back-behaviour-when-using-jit for details.\n",
      "  def delta_minimization_order(all_masks, max_swap_size=100, num_passes=2):\n",
      "/home/VIB.LOCAL/sander.thierens/.conda/envs/DeepDifE/lib/python3.8/site-packages/shap/utils/_clustering.py:63: NumbaDeprecationWarning: The 'nopython' keyword argument was not supplied to the 'numba.jit' decorator. The implicit default value for this argument is currently False, but it will be changed to True in Numba 0.59.0. See https://numba.readthedocs.io/en/stable/reference/deprecation.html#deprecation-of-object-mode-fall-back-behaviour-when-using-jit for details.\n",
      "  def _reverse_window(order, start, length):\n",
      "/home/VIB.LOCAL/sander.thierens/.conda/envs/DeepDifE/lib/python3.8/site-packages/shap/utils/_clustering.py:69: NumbaDeprecationWarning: The 'nopython' keyword argument was not supplied to the 'numba.jit' decorator. The implicit default value for this argument is currently False, but it will be changed to True in Numba 0.59.0. See https://numba.readthedocs.io/en/stable/reference/deprecation.html#deprecation-of-object-mode-fall-back-behaviour-when-using-jit for details.\n",
      "  def _reverse_window_score_gain(masks, order, start, length):\n",
      "/home/VIB.LOCAL/sander.thierens/.conda/envs/DeepDifE/lib/python3.8/site-packages/shap/utils/_clustering.py:77: NumbaDeprecationWarning: The 'nopython' keyword argument was not supplied to the 'numba.jit' decorator. The implicit default value for this argument is currently False, but it will be changed to True in Numba 0.59.0. See https://numba.readthedocs.io/en/stable/reference/deprecation.html#deprecation-of-object-mode-fall-back-behaviour-when-using-jit for details.\n",
      "  def _mask_delta_score(m1, m2):\n",
      "/home/VIB.LOCAL/sander.thierens/.conda/envs/DeepDifE/lib/python3.8/site-packages/shap/links.py:5: NumbaDeprecationWarning: The 'nopython' keyword argument was not supplied to the 'numba.jit' decorator. The implicit default value for this argument is currently False, but it will be changed to True in Numba 0.59.0. See https://numba.readthedocs.io/en/stable/reference/deprecation.html#deprecation-of-object-mode-fall-back-behaviour-when-using-jit for details.\n",
      "  def identity(x):\n",
      "/home/VIB.LOCAL/sander.thierens/.conda/envs/DeepDifE/lib/python3.8/site-packages/shap/links.py:10: NumbaDeprecationWarning: The 'nopython' keyword argument was not supplied to the 'numba.jit' decorator. The implicit default value for this argument is currently False, but it will be changed to True in Numba 0.59.0. See https://numba.readthedocs.io/en/stable/reference/deprecation.html#deprecation-of-object-mode-fall-back-behaviour-when-using-jit for details.\n",
      "  def _identity_inverse(x):\n",
      "/home/VIB.LOCAL/sander.thierens/.conda/envs/DeepDifE/lib/python3.8/site-packages/shap/links.py:15: NumbaDeprecationWarning: The 'nopython' keyword argument was not supplied to the 'numba.jit' decorator. The implicit default value for this argument is currently False, but it will be changed to True in Numba 0.59.0. See https://numba.readthedocs.io/en/stable/reference/deprecation.html#deprecation-of-object-mode-fall-back-behaviour-when-using-jit for details.\n",
      "  def logit(x):\n",
      "/home/VIB.LOCAL/sander.thierens/.conda/envs/DeepDifE/lib/python3.8/site-packages/shap/links.py:20: NumbaDeprecationWarning: The 'nopython' keyword argument was not supplied to the 'numba.jit' decorator. The implicit default value for this argument is currently False, but it will be changed to True in Numba 0.59.0. See https://numba.readthedocs.io/en/stable/reference/deprecation.html#deprecation-of-object-mode-fall-back-behaviour-when-using-jit for details.\n",
      "  def _logit_inverse(x):\n",
      "/home/VIB.LOCAL/sander.thierens/.conda/envs/DeepDifE/lib/python3.8/site-packages/shap/utils/_masked_model.py:363: NumbaDeprecationWarning: The 'nopython' keyword argument was not supplied to the 'numba.jit' decorator. The implicit default value for this argument is currently False, but it will be changed to True in Numba 0.59.0. See https://numba.readthedocs.io/en/stable/reference/deprecation.html#deprecation-of-object-mode-fall-back-behaviour-when-using-jit for details.\n",
      "  def _build_fixed_single_output(averaged_outs, last_outs, outputs, batch_positions, varying_rows, num_varying_rows, link, linearizing_weights):\n",
      "/home/VIB.LOCAL/sander.thierens/.conda/envs/DeepDifE/lib/python3.8/site-packages/shap/utils/_masked_model.py:385: NumbaDeprecationWarning: The 'nopython' keyword argument was not supplied to the 'numba.jit' decorator. The implicit default value for this argument is currently False, but it will be changed to True in Numba 0.59.0. See https://numba.readthedocs.io/en/stable/reference/deprecation.html#deprecation-of-object-mode-fall-back-behaviour-when-using-jit for details.\n",
      "  def _build_fixed_multi_output(averaged_outs, last_outs, outputs, batch_positions, varying_rows, num_varying_rows, link, linearizing_weights):\n",
      "/home/VIB.LOCAL/sander.thierens/.conda/envs/DeepDifE/lib/python3.8/site-packages/shap/utils/_masked_model.py:428: NumbaDeprecationWarning: The 'nopython' keyword argument was not supplied to the 'numba.jit' decorator. The implicit default value for this argument is currently False, but it will be changed to True in Numba 0.59.0. See https://numba.readthedocs.io/en/stable/reference/deprecation.html#deprecation-of-object-mode-fall-back-behaviour-when-using-jit for details.\n",
      "  def _init_masks(cluster_matrix, M, indices_row_pos, indptr):\n",
      "/home/VIB.LOCAL/sander.thierens/.conda/envs/DeepDifE/lib/python3.8/site-packages/shap/utils/_masked_model.py:439: NumbaDeprecationWarning: The 'nopython' keyword argument was not supplied to the 'numba.jit' decorator. The implicit default value for this argument is currently False, but it will be changed to True in Numba 0.59.0. See https://numba.readthedocs.io/en/stable/reference/deprecation.html#deprecation-of-object-mode-fall-back-behaviour-when-using-jit for details.\n",
      "  def _rec_fill_masks(cluster_matrix, indices_row_pos, indptr, indices, M, ind):\n",
      "/home/VIB.LOCAL/sander.thierens/.conda/envs/DeepDifE/lib/python3.8/site-packages/shap/maskers/_tabular.py:186: NumbaDeprecationWarning: The 'nopython' keyword argument was not supplied to the 'numba.jit' decorator. The implicit default value for this argument is currently False, but it will be changed to True in Numba 0.59.0. See https://numba.readthedocs.io/en/stable/reference/deprecation.html#deprecation-of-object-mode-fall-back-behaviour-when-using-jit for details.\n",
      "  def _single_delta_mask(dind, masked_inputs, last_mask, data, x, noop_code):\n",
      "/home/VIB.LOCAL/sander.thierens/.conda/envs/DeepDifE/lib/python3.8/site-packages/shap/maskers/_tabular.py:197: NumbaDeprecationWarning: The 'nopython' keyword argument was not supplied to the 'numba.jit' decorator. The implicit default value for this argument is currently False, but it will be changed to True in Numba 0.59.0. See https://numba.readthedocs.io/en/stable/reference/deprecation.html#deprecation-of-object-mode-fall-back-behaviour-when-using-jit for details.\n",
      "  def _delta_masking(masks, x, curr_delta_inds, varying_rows_out,\n",
      "/home/VIB.LOCAL/sander.thierens/.conda/envs/DeepDifE/lib/python3.8/site-packages/shap/maskers/_image.py:175: NumbaDeprecationWarning: The 'nopython' keyword argument was not supplied to the 'numba.jit' decorator. The implicit default value for this argument is currently False, but it will be changed to True in Numba 0.59.0. See https://numba.readthedocs.io/en/stable/reference/deprecation.html#deprecation-of-object-mode-fall-back-behaviour-when-using-jit for details.\n",
      "  def _jit_build_partition_tree(xmin, xmax, ymin, ymax, zmin, zmax, total_ywidth, total_zwidth, M, clustering, q):\n",
      "/home/VIB.LOCAL/sander.thierens/.conda/envs/DeepDifE/lib/python3.8/site-packages/shap/explainers/_partition.py:676: NumbaDeprecationWarning: The 'nopython' keyword argument was not supplied to the 'numba.jit' decorator. The implicit default value for this argument is currently False, but it will be changed to True in Numba 0.59.0. See https://numba.readthedocs.io/en/stable/reference/deprecation.html#deprecation-of-object-mode-fall-back-behaviour-when-using-jit for details.\n",
      "  def lower_credit(i, value, M, values, clustering):\n",
      "The 'nopython' keyword argument was not supplied to the 'numba.jit' decorator. The implicit default value for this argument is currently False, but it will be changed to True in Numba 0.59.0. See https://numba.readthedocs.io/en/stable/reference/deprecation.html#deprecation-of-object-mode-fall-back-behaviour-when-using-jit for details.\n",
      "The 'nopython' keyword argument was not supplied to the 'numba.jit' decorator. The implicit default value for this argument is currently False, but it will be changed to True in Numba 0.59.0. See https://numba.readthedocs.io/en/stable/reference/deprecation.html#deprecation-of-object-mode-fall-back-behaviour-when-using-jit for details.\n"
     ]
    }
   ],
   "source": [
    "%load_ext autoreload\n",
    "%autoreload 2\n",
    "\n",
    "import sys\n",
    "import os\n",
    "\n",
    "from Bio import SeqIO\n",
    "from evoaug_tf import evoaug, augment\n",
    "from modiscolite import tfmodisco, report\n",
    "from DeepDifE.src.deepExplain_tool import getDeepExplainerBackground, deepExplain, plotResults\n",
    "from DeepDifE.src.diff_expression_model import load_model, get_siamese_model\n",
    "import numpy as np\n",
    "import importlib\n",
    "import pickle\n",
    "import modiscolite\n"
   ]
  },
  {
   "cell_type": "markdown",
   "metadata": {},
   "source": [
    "Retrieve the siamese model based on the weight of Helder"
   ]
  },
  {
   "cell_type": "code",
   "execution_count": 3,
   "metadata": {
    "tags": []
   },
   "outputs": [
    {
     "name": "stderr",
     "output_type": "stream",
     "text": [
      "2025-01-31 10:58:27.116509: W tensorflow/compiler/xla/stream_executor/platform/default/dso_loader.cc:64] Could not load dynamic library 'libcuda.so.1'; dlerror: libcuda.so.1: cannot open shared object file: No such file or directory\n",
      "2025-01-31 10:58:27.116541: W tensorflow/compiler/xla/stream_executor/cuda/cuda_driver.cc:265] failed call to cuInit: UNKNOWN ERROR (303)\n",
      "2025-01-31 10:58:27.116576: I tensorflow/compiler/xla/stream_executor/cuda/cuda_diagnostics.cc:156] kernel driver does not appear to be running on this host (p-vibcompute-1.vib.local): /proc/driver/nvidia/version does not exist\n",
      "2025-01-31 10:58:27.117002: I tensorflow/core/platform/cpu_feature_guard.cc:193] This TensorFlow binary is optimized with oneAPI Deep Neural Network Library (oneDNN) to use the following CPU instructions in performance-critical operations:  AVX2 FMA\n",
      "To enable them in other operations, rebuild TensorFlow with the appropriate compiler flags.\n"
     ]
    },
    {
     "name": "stdout",
     "output_type": "stream",
     "text": [
      "\n",
      "Loaded model from disk\n"
     ]
    }
   ],
   "source": [
    "\n",
    "model_path = \"DeepDifE/data/model_single.json\"\n",
    "weights_path = \"DeepDifE/data/weights_single.h5\"\n",
    "\n",
    "augment_list = [\n",
    "\taugment.RandomRC(rc_prob=0.5),\n",
    "\taugment.RandomInsertionBatch(insert_min=0, insert_max=20),\n",
    "\taugment.RandomDeletion(delete_min=0, delete_max=30),\n",
    "\taugment.RandomTranslocationBatch(shift_min=0, shift_max=20),\n",
    "\taugment.RandomMutation(mutate_frac=0.05),\n",
    "\taugment.RandomNoise()\n",
    "]\n",
    "\n",
    "model = load_model(model_path, weights_path)\n",
    "siamese_model = get_siamese_model(model)\n"
   ]
  },
  {
   "cell_type": "markdown",
   "metadata": {},
   "source": [
    "Generate a background based on N random samples. In our case we start from a pickle containing 100 one-hot-encoded sequences with both the forward and reverse strand."
   ]
  },
  {
   "cell_type": "markdown",
   "metadata": {},
   "source": [
    "The numpy array passed to getDeepExplainerBackground should have the following shape (2, #samples, #sequence length, 4)"
   ]
  },
  {
   "cell_type": "code",
   "execution_count": 4,
   "metadata": {
    "tags": []
   },
   "outputs": [],
   "source": [
    "bg_path = \"DeepDifE/data/background_100samples.pkl\"\n",
    "with open(bg_path, 'rb') as f:\n",
    "    background_data = pickle.load(f)\n",
    "\n",
    "# Conver to numpy\n",
    "np_bg = np.array(background_data)\n",
    "\n",
    "# Remove axis of dimension 1\n",
    "np_bg = np.squeeze(np_bg)\n",
    "\n",
    "# Convert to float 64, to be compatible with deepExplain\n",
    "np_bg = np.float64(np_bg)\n",
    "\n",
    "background = getDeepExplainerBackground(background_samples=np_bg, shuffle=False, post_hoc_conjoining=True)"
   ]
  },
  {
   "cell_type": "markdown",
   "metadata": {},
   "source": [
    "Retrieve the sequences, to speed up the SeqIO parsing you could chunk larger fasta files"
   ]
  },
  {
   "cell_type": "code",
   "execution_count": 6,
   "metadata": {
    "tags": []
   },
   "outputs": [],
   "source": [
    "sequence_list = []\n",
    "gene_id_list = []\n",
    "\n",
    "for chunk in range(1,3):\n",
    "\tfasta_path = f\"DeepDifE/data/fasta/example.fasta_c{chunk}\"\n",
    "\tfasta_sequences = SeqIO.parse(open(fasta_path),'fasta')\n",
    "\tfor index, fasta in enumerate(fasta_sequences):\n",
    "\t\tif index > 100: break\n",
    "\t\tname, sequence = fasta.id, str(fasta.seq)\n",
    "\t\tgene_id_list.append(name)\n",
    "\t\tsequence_list.append(sequence)"
   ]
  },
  {
   "cell_type": "markdown",
   "metadata": {},
   "source": [
    "One hot encode the sequences and creat ethe reverse compliment"
   ]
  },
  {
   "cell_type": "code",
   "execution_count": 7,
   "metadata": {
    "tags": []
   },
   "outputs": [],
   "source": [
    "ohe_list = []\n",
    "ohe_rc_list = []\n",
    "for sequence in sequence_list:\n",
    "\tohe_seq = []\n",
    "\tohe_rc_seq = []\n",
    "\tfor i in sequence:\n",
    "\t\tif i == 'A':\n",
    "\t\t\tohe_seq.append([1., 0., 0., 0.])\n",
    "\t\t\tohe_rc_seq.append([0., 0., 0., 1.])\n",
    "\t\telif i == 'C':\n",
    "\t\t\tohe_seq.append([0., 1., 0., 0.])\n",
    "\t\t\tohe_rc_seq.append([0., 0., 1., 0.])\n",
    "\t\telif i == 'G':\n",
    "\t\t\tohe_seq.append([0., 0., 1., 0.])\n",
    "\t\t\tohe_rc_seq.append([0., 1., 0., 0.])\n",
    "\t\telif i == 'T':\n",
    "\t\t\tohe_seq.append([0., 0., 0., 1.])\n",
    "\t\t\tohe_rc_seq.append([1., 0., 0., 0.])\n",
    "\t\telse:\n",
    "\t\t\tohe_seq.append([0., 0., 0., 0.])\n",
    "\t\t\tohe_rc_seq.append([0., 0., 0., 0.])\n",
    "\tohe_list.append(ohe_seq)\n",
    "\tohe_rc_list.append(list(reversed(ohe_rc_seq)))\n",
    "ohe_np = np.array(ohe_list)\n",
    "ohe_rc_np = np.array(ohe_rc_list)\n",
    "\n",
    "np_deepexplain_samples = np.stack((ohe_np, ohe_rc_np))"
   ]
  },
  {
   "cell_type": "code",
   "execution_count": 8,
   "metadata": {
    "tags": []
   },
   "outputs": [
    {
     "name": "stderr",
     "output_type": "stream",
     "text": [
      "keras is no longer supported, please use tf.keras instead.\n",
      "Your TensorFlow version is newer than 2.4.0 and so graph support has been removed in eager mode and some static graphs may not be supported. See PR #1483 for discussion.\n",
      "`tf.keras.backend.set_learning_phase` is deprecated and will be removed after 2020-10-11. To update it, simply pass a True/False value to the `training` argument of the `__call__` method of your layer or model.\n"
     ]
    },
    {
     "name": "stdout",
     "output_type": "stream",
     "text": [
      "WARNING:tensorflow:From /home/VIB.LOCAL/sander.thierens/.conda/envs/DeepDifE/lib/python3.8/site-packages/tensorflow/python/autograph/pyct/static_analysis/liveness.py:83: Analyzer.lamba_check (from tensorflow.python.autograph.pyct.static_analysis.liveness) is deprecated and will be removed after 2023-09-23.\n",
      "Instructions for updating:\n",
      "Lambda fuctions will be no more assumed to be used in the statement where they are used, or at least in the same block. https://github.com/tensorflow/tensorflow/issues/56089\n"
     ]
    }
   ],
   "source": [
    "shap_values = deepExplain(samples=np_deepexplain_samples,\n",
    "                          loaded_model=siamese_model, \n",
    "                          bg=background, \n",
    "                          post_hoc_conjoining=True, \n",
    "                          augment_list=augment_list, \n",
    "                          pad_background=True, \n",
    "                          pad_samples=False,\n",
    "                          evo_aug=True)"
   ]
  },
  {
   "cell_type": "code",
   "execution_count": 9,
   "metadata": {},
   "outputs": [
    {
     "data": {
      "text/plain": [
       "(202, 2, 620, 4)"
      ]
     },
     "execution_count": 9,
     "metadata": {},
     "output_type": "execute_result"
    }
   ],
   "source": [
    "np.array(shap_values).shape"
   ]
  },
  {
   "cell_type": "code",
   "execution_count": 10,
   "metadata": {},
   "outputs": [
    {
     "name": "stdout",
     "output_type": "stream",
     "text": [
      "Using 630 positive seqlets\n",
      "Extracted 720 negative seqlets\n"
     ]
    },
    {
     "data": {
      "text/plain": [
       "[<modiscolite.core.SeqletSet at 0x7efca5638e20>,\n",
       " <modiscolite.core.SeqletSet at 0x7efca55c3d90>,\n",
       " <modiscolite.core.SeqletSet at 0x7efca7f98a00>,\n",
       " <modiscolite.core.SeqletSet at 0x7efca5cf2f70>,\n",
       " <modiscolite.core.SeqletSet at 0x7efca55c3ee0>,\n",
       " <modiscolite.core.SeqletSet at 0x7efca593bf40>,\n",
       " <modiscolite.core.SeqletSet at 0x7efca477a310>,\n",
       " <modiscolite.core.SeqletSet at 0x7efca477a5e0>,\n",
       " <modiscolite.core.SeqletSet at 0x7efca477a280>,\n",
       " <modiscolite.core.SeqletSet at 0x7efca58e7760>,\n",
       " <modiscolite.core.SeqletSet at 0x7efca55ae730>]"
      ]
     },
     "execution_count": 10,
     "metadata": {},
     "output_type": "execute_result"
    }
   ],
   "source": [
    "shap_values_forward = np.array(shap_values)[:,0,:,:]\n",
    "pos_patterns, neg_patterns = tfmodisco.TFMoDISco(\n",
    "                                    min_metacluster_size = 2,\n",
    "                                    hypothetical_contribs=shap_values_forward, \n",
    "                                    one_hot=np_deepexplain_samples[0],\n",
    "                                    verbose=True\n",
    "                                )\n",
    "pos_patterns\n"
   ]
  },
  {
   "cell_type": "code",
   "execution_count": 11,
   "metadata": {},
   "outputs": [
    {
     "data": {
      "text/plain": [
       "[<modiscolite.core.SeqletSet at 0x7efca55d68e0>,\n",
       " <modiscolite.core.SeqletSet at 0x7efca4786c10>,\n",
       " <modiscolite.core.SeqletSet at 0x7efca56389d0>,\n",
       " <modiscolite.core.SeqletSet at 0x7efca4786880>,\n",
       " <modiscolite.core.SeqletSet at 0x7efcc0096be0>,\n",
       " <modiscolite.core.SeqletSet at 0x7efca582f520>,\n",
       " <modiscolite.core.SeqletSet at 0x7efca582f4f0>,\n",
       " <modiscolite.core.SeqletSet at 0x7efca56e7700>]"
      ]
     },
     "execution_count": 11,
     "metadata": {},
     "output_type": "execute_result"
    }
   ],
   "source": [
    "neg_patterns"
   ]
  },
  {
   "cell_type": "code",
   "execution_count": 12,
   "metadata": {},
   "outputs": [],
   "source": [
    "h5_result_path = \"DeepDifE/results/modisco_output.h5\"\n",
    "\n",
    "modiscolite.io.save_hdf5(h5_result_path, pos_patterns, neg_patterns, 3)"
   ]
  },
  {
   "cell_type": "code",
   "execution_count": 22,
   "metadata": {},
   "outputs": [],
   "source": [
    "! module load MEME"
   ]
  },
  {
   "cell_type": "code",
   "execution_count": 24,
   "metadata": {},
   "outputs": [
    {
     "ename": "ValueError",
     "evalue": "`tomtom` executable could not be called globally or locally. Please install it and try again. You may install it using conda with `conda install -c bioconda meme`",
     "output_type": "error",
     "traceback": [
      "\u001b[0;31m---------------------------------------------------------------------------\u001b[0m",
      "\u001b[0;31mValueError\u001b[0m                                Traceback (most recent call last)",
      "\u001b[1;32m/data/projects/c02/sander.thierens/DeepDifE/notebooks/tfmodisco_tutorial.ipynb Cell 23\u001b[0m line \u001b[0;36m5\n\u001b[1;32m      <a href='vscode-notebook-cell://compute.vib.be/data/projects/c02/sander.thierens/DeepDifE/notebooks/tfmodisco_tutorial.ipynb#X23sdnNjb2RlLXJlbW90ZQ%3D%3D?line=1'>2</a>\u001b[0m \u001b[39mif\u001b[39;00m \u001b[39mnot\u001b[39;00m os\u001b[39m.\u001b[39mpath\u001b[39m.\u001b[39misdir(output_dir):\n\u001b[1;32m      <a href='vscode-notebook-cell://compute.vib.be/data/projects/c02/sander.thierens/DeepDifE/notebooks/tfmodisco_tutorial.ipynb#X23sdnNjb2RlLXJlbW90ZQ%3D%3D?line=2'>3</a>\u001b[0m     os\u001b[39m.\u001b[39mmkdir(output_dir)\n\u001b[0;32m----> <a href='vscode-notebook-cell://compute.vib.be/data/projects/c02/sander.thierens/DeepDifE/notebooks/tfmodisco_tutorial.ipynb#X23sdnNjb2RlLXJlbW90ZQ%3D%3D?line=4'>5</a>\u001b[0m report\u001b[39m.\u001b[39;49mreport_motifs(modisco_h5py \u001b[39m=\u001b[39;49m h5_result_path,\n\u001b[1;32m      <a href='vscode-notebook-cell://compute.vib.be/data/projects/c02/sander.thierens/DeepDifE/notebooks/tfmodisco_tutorial.ipynb#X23sdnNjb2RlLXJlbW90ZQ%3D%3D?line=5'>6</a>\u001b[0m                     output_dir \u001b[39m=\u001b[39;49m output_dir,\n\u001b[1;32m      <a href='vscode-notebook-cell://compute.vib.be/data/projects/c02/sander.thierens/DeepDifE/notebooks/tfmodisco_tutorial.ipynb#X23sdnNjb2RlLXJlbW90ZQ%3D%3D?line=6'>7</a>\u001b[0m                     img_path_suffix \u001b[39m=\u001b[39;49m h5_result_path,\n\u001b[1;32m      <a href='vscode-notebook-cell://compute.vib.be/data/projects/c02/sander.thierens/DeepDifE/notebooks/tfmodisco_tutorial.ipynb#X23sdnNjb2RlLXJlbW90ZQ%3D%3D?line=7'>8</a>\u001b[0m                     meme_motif_db \u001b[39m=\u001b[39;49m \u001b[39m\"\u001b[39;49m\u001b[39mDeepDifE/data/jaspar_cisbp_other_source_no_high_similarity_tfbs_annot.meme\u001b[39;49m\u001b[39m\"\u001b[39;49m,\n\u001b[1;32m      <a href='vscode-notebook-cell://compute.vib.be/data/projects/c02/sander.thierens/DeepDifE/notebooks/tfmodisco_tutorial.ipynb#X23sdnNjb2RlLXJlbW90ZQ%3D%3D?line=8'>9</a>\u001b[0m                     is_writing_tomtom_matrix \u001b[39m=\u001b[39;49m \u001b[39mTrue\u001b[39;49;00m\n\u001b[1;32m     <a href='vscode-notebook-cell://compute.vib.be/data/projects/c02/sander.thierens/DeepDifE/notebooks/tfmodisco_tutorial.ipynb#X23sdnNjb2RlLXJlbW90ZQ%3D%3D?line=9'>10</a>\u001b[0m                     )\n",
      "File \u001b[0;32m~/.conda/envs/DeepDifE/lib/python3.8/site-packages/modiscolite/report.py:285\u001b[0m, in \u001b[0;36mreport_motifs\u001b[0;34m(modisco_h5py, output_dir, img_path_suffix, meme_motif_db, is_writing_tomtom_matrix, top_n_matches, trim_threshold, trim_min_length)\u001b[0m\n\u001b[1;32m    282\u001b[0m \u001b[39mif\u001b[39;00m meme_motif_db \u001b[39mis\u001b[39;00m \u001b[39mnot\u001b[39;00m \u001b[39mNone\u001b[39;00m:\n\u001b[1;32m    283\u001b[0m \tmotifs \u001b[39m=\u001b[39m read_meme(meme_motif_db)\n\u001b[0;32m--> 285\u001b[0m \ttomtom_df \u001b[39m=\u001b[39m generate_tomtom_dataframe(modisco_h5py, output_dir, meme_motif_db,\n\u001b[1;32m    286\u001b[0m \t\tis_writing_tomtom_matrix,\n\u001b[1;32m    287\u001b[0m \t\ttop_n_matches\u001b[39m=\u001b[39;49mtop_n_matches, tomtom_exec\u001b[39m=\u001b[39;49m\u001b[39m'\u001b[39;49m\u001b[39mtomtom\u001b[39;49m\u001b[39m'\u001b[39;49m, \n\u001b[1;32m    288\u001b[0m \t\tpattern_groups\u001b[39m=\u001b[39;49mpattern_groups, trim_threshold\u001b[39m=\u001b[39;49mtrim_threshold,\n\u001b[1;32m    289\u001b[0m \t\ttrim_min_length\u001b[39m=\u001b[39;49mtrim_min_length)\n\u001b[1;32m    290\u001b[0m \tpatterns_df \u001b[39m=\u001b[39m pandas\u001b[39m.\u001b[39mconcat([patterns_df, tomtom_df], axis\u001b[39m=\u001b[39m\u001b[39m1\u001b[39m)\n\u001b[1;32m    292\u001b[0m \t\u001b[39mfor\u001b[39;00m i \u001b[39min\u001b[39;00m \u001b[39mrange\u001b[39m(top_n_matches):\n",
      "File \u001b[0;32m~/.conda/envs/DeepDifE/lib/python3.8/site-packages/modiscolite/report.py:157\u001b[0m, in \u001b[0;36mgenerate_tomtom_dataframe\u001b[0;34m(modisco_h5py, output_dir, meme_motif_db, is_writing_tomtom_matrix, pattern_groups, top_n_matches, tomtom_exec, trim_threshold, trim_min_length)\u001b[0m\n\u001b[1;32m    153\u001b[0m \tcwm \u001b[39m=\u001b[39m np\u001b[39m.\u001b[39marray(pattern[\u001b[39m\"\u001b[39m\u001b[39mcontrib_scores\u001b[39m\u001b[39m\"\u001b[39m][:])\n\u001b[1;32m    155\u001b[0m \tpattern_name \u001b[39m=\u001b[39m \u001b[39mf\u001b[39m\u001b[39m'\u001b[39m\u001b[39m{\u001b[39;00mcontribution_dir_name\u001b[39m}\u001b[39;00m\u001b[39m.pattern_\u001b[39m\u001b[39m{\u001b[39;00midx\u001b[39m}\u001b[39;00m\u001b[39m'\u001b[39m\n\u001b[0;32m--> 157\u001b[0m \tr \u001b[39m=\u001b[39m fetch_tomtom_matches(ppm, cwm,\n\u001b[1;32m    158\u001b[0m      \tis_writing_tomtom_matrix\u001b[39m=\u001b[39;49mis_writing_tomtom_matrix,\n\u001b[1;32m    159\u001b[0m \t\toutput_dir\u001b[39m=\u001b[39;49moutput_dir, pattern_name\u001b[39m=\u001b[39;49mpattern_name,\n\u001b[1;32m    160\u001b[0m \t\tmotifs_db\u001b[39m=\u001b[39;49mmeme_motif_db, tomtom_exec_path\u001b[39m=\u001b[39;49mtomtom_exec,\n\u001b[1;32m    161\u001b[0m \t\ttrim_threshold\u001b[39m=\u001b[39;49mtrim_threshold,\n\u001b[1;32m    162\u001b[0m \t\ttrim_min_length\u001b[39m=\u001b[39;49mtrim_min_length)\n\u001b[1;32m    164\u001b[0m \ti \u001b[39m=\u001b[39m \u001b[39m-\u001b[39m\u001b[39m1\u001b[39m\n\u001b[1;32m    165\u001b[0m \t\u001b[39mfor\u001b[39;00m i, (target, qval) \u001b[39min\u001b[39;00m r\u001b[39m.\u001b[39miloc[:top_n_matches]\u001b[39m.\u001b[39miterrows():\n",
      "File \u001b[0;32m~/.conda/envs/DeepDifE/lib/python3.8/site-packages/modiscolite/report.py:111\u001b[0m, in \u001b[0;36mfetch_tomtom_matches\u001b[0;34m(ppm, cwm, is_writing_tomtom_matrix, output_dir, pattern_name, motifs_db, background, tomtom_exec_path, trim_threshold, trim_min_length)\u001b[0m\n\u001b[1;32m    108\u001b[0m write_meme_file(trimmed, background, fname)\n\u001b[1;32m    110\u001b[0m \u001b[39mif\u001b[39;00m \u001b[39mnot\u001b[39;00m shutil\u001b[39m.\u001b[39mwhich(tomtom_exec_path):\n\u001b[0;32m--> 111\u001b[0m \t\u001b[39mraise\u001b[39;00m \u001b[39mValueError\u001b[39;00m(\u001b[39mf\u001b[39m\u001b[39m'\u001b[39m\u001b[39m`tomtom` executable could not be called globally or locally. Please install it and try again. You may install it using conda with `conda install -c bioconda meme`\u001b[39m\u001b[39m'\u001b[39m)\n\u001b[1;32m    113\u001b[0m \u001b[39m# run tomtom\u001b[39;00m\n\u001b[1;32m    114\u001b[0m cmd \u001b[39m=\u001b[39m \u001b[39m'\u001b[39m\u001b[39m%s\u001b[39;00m\u001b[39m -no-ssc -oc . --verbosity 1 -text -min-overlap 5 -mi 1 -dist pearson -evalue -thresh 10.0 \u001b[39m\u001b[39m%s\u001b[39;00m\u001b[39m \u001b[39m\u001b[39m%s\u001b[39;00m\u001b[39m > \u001b[39m\u001b[39m%s\u001b[39;00m\u001b[39m'\u001b[39m \u001b[39m%\u001b[39m (tomtom_exec_path, fname, motifs_db, tomtom_fname)\n",
      "\u001b[0;31mValueError\u001b[0m: `tomtom` executable could not be called globally or locally. Please install it and try again. You may install it using conda with `conda install -c bioconda meme`"
     ]
    }
   ],
   "source": [
    "output_dir = \"DeepDifE/results/TFModisco\"\n",
    "if not os.path.isdir(output_dir):\n",
    "    os.mkdir(output_dir)\n",
    "\n",
    "report.report_motifs(modisco_h5py = h5_result_path,\n",
    "                    output_dir = output_dir,\n",
    "                    img_path_suffix = h5_result_path,\n",
    "                    meme_motif_db = \"DeepDifE/data/jaspar_cisbp_other_source_no_high_similarity_tfbs_annot.meme\",\n",
    "                    is_writing_tomtom_matrix = True\n",
    "                    )"
   ]
  }
 ],
 "metadata": {
  "kernelspec": {
   "display_name": "Python 3 (ipykernel)",
   "language": "python",
   "name": "python3"
  },
  "language_info": {
   "codemirror_mode": {
    "name": "ipython",
    "version": 3
   },
   "file_extension": ".py",
   "mimetype": "text/x-python",
   "name": "python",
   "nbconvert_exporter": "python",
   "pygments_lexer": "ipython3",
   "version": "3.8.0"
  }
 },
 "nbformat": 4,
 "nbformat_minor": 4
}
