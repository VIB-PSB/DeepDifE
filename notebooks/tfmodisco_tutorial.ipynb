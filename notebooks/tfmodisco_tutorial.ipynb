{
 "cells": [
  {
   "cell_type": "markdown",
   "metadata": {},
   "source": [
    "# Tutorial to perform TFModisco and create a report #"
   ]
  },
  {
   "cell_type": "code",
   "execution_count": 1,
   "metadata": {
    "tags": []
   },
   "outputs": [
    {
     "name": "stderr",
     "output_type": "stream",
     "text": [
      "2025-05-22 10:59:31.810012: I tensorflow/core/platform/cpu_feature_guard.cc:193] This TensorFlow binary is optimized with oneAPI Deep Neural Network Library (oneDNN) to use the following CPU instructions in performance-critical operations:  AVX2 AVX512F AVX512_VNNI AVX512_BF16 AVX_VNNI AMX_TILE AMX_INT8 AMX_BF16 FMA\n",
      "To enable them in other operations, rebuild TensorFlow with the appropriate compiler flags.\n",
      "2025-05-22 10:59:31.961367: I tensorflow/core/util/port.cc:104] oneDNN custom operations are on. You may see slightly different numerical results due to floating-point round-off errors from different computation orders. To turn them off, set the environment variable `TF_ENABLE_ONEDNN_OPTS=0`.\n",
      "2025-05-22 10:59:31.965872: W tensorflow/compiler/xla/stream_executor/platform/default/dso_loader.cc:64] Could not load dynamic library 'libcudart.so.11.0'; dlerror: libcudart.so.11.0: cannot open shared object file: No such file or directory; LD_LIBRARY_PATH: /mnt/modules/easybuild/software/Ghostscript/10.01.2-GCCcore-12.3.0/lib:/mnt/modules/easybuild/software/GTK3/3.24.37-GCCcore-12.3.0/lib:/mnt/modules/easybuild/software/Wayland/1.22.0-GCCcore-12.3.0/lib:/mnt/modules/easybuild/software/libepoxy/1.5.10-GCCcore-12.3.0/lib:/mnt/modules/easybuild/software/Mesa/23.1.4-GCCcore-12.3.0/lib:/mnt/modules/easybuild/software/LLVM/16.0.6-GCCcore-12.3.0/lib:/mnt/modules/easybuild/software/libunwind/1.6.2-GCCcore-12.3.0/lib:/mnt/modules/easybuild/software/libglvnd/1.6.0-GCCcore-12.3.0/lib:/mnt/modules/easybuild/software/libdrm/2.4.115-GCCcore-12.3.0/lib:/mnt/modules/easybuild/software/Pango/1.50.14-GCCcore-12.3.0/lib:/mnt/modules/easybuild/software/FriBidi/1.0.12-GCCcore-12.3.0/lib:/mnt/modules/easybuild/software/HarfBuzz/5.3.1-GCCcore-12.3.0/lib:/mnt/modules/easybuild/software/ICU/73.2-GCCcore-12.3.0/lib:/mnt/modules/easybuild/software/Gdk-Pixbuf/2.42.10-GCCcore-12.3.0/lib:/mnt/modules/easybuild/software/at-spi2-atk/2.38.0-GCCcore-12.3.0/lib:/mnt/modules/easybuild/software/at-spi2-core/2.49.91-GCCcore-12.3.0/lib:/mnt/modules/easybuild/software/DBus/1.15.4-GCCcore-12.3.0/lib:/mnt/modules/easybuild/software/ATK/2.38.0-GCCcore-12.3.0/lib:/mnt/modules/easybuild/software/LibTIFF/4.5.0-GCCcore-12.3.0/lib:/mnt/modules/easybuild/software/libdeflate/1.18-GCCcore-12.3.0/lib:/mnt/modules/easybuild/software/zstd/1.5.5-GCCcore-12.3.0/lib:/mnt/modules/easybuild/software/lz4/1.9.4-GCCcore-12.3.0/lib:/mnt/modules/easybuild/software/jbigkit/2.1-GCCcore-12.3.0/lib:/mnt/modules/easybuild/software/cairo/1.17.8-GCCcore-12.3.0/lib:/mnt/modules/easybuild/software/X11/20230603-GCCcore-12.3.0/lib:/mnt/modules/easybuild/software/fontconfig/2.14.2-GCCcore-12.3.0/lib:/mnt/modules/easybuild/software/pixman/0.42.2-GCCcore-12.3.0/lib:/mnt/modules/easybuild/software/GLib/2.77.1-GCCcore-12.3.0/lib:/mnt/modules/easybuild/software/util-linux/2.39-GCCcore-12.3.0/lib:/mnt/modules/easybuild/software/PCRE2/10.42-GCCcore-12.3.0/lib:/mnt/modules/easybuild/software/gettext/0.21.1-GCCcore-12.3.0/lib:/mnt/modules/easybuild/software/expat/2.5.0-GCCcore-12.3.0/lib:/mnt/modules/easybuild/software/libjpeg-turbo/2.1.5.1-GCCcore-12.3.0/lib:/mnt/modules/easybuild/software/freetype/2.13.0-GCCcore-12.3.0/lib:/mnt/modules/easybuild/software/Brotli/1.0.9-GCCcore-12.3.0/lib:/mnt/modules/easybuild/software/libpng/1.6.39-GCCcore-12.3.0/lib:/mnt/modules/easybuild/software/Python/3.11.3-GCCcore-12.3.0/lib:/mnt/modules/easybuild/software/libffi/3.4.4-GCCcore-12.3.0/lib64:/mnt/modules/easybuild/software/SQLite/3.42.0-GCCcore-12.3.0/lib:/mnt/modules/easybuild/software/Tcl/8.6.13-GCCcore-12.3.0/lib:/mnt/modules/easybuild/software/libreadline/8.2-GCCcore-12.3.0/lib:/mnt/modules/easybuild/software/ncurses/6.4-GCCcore-12.3.0/lib:/mnt/modules/easybuild/software/bzip2/1.0.8-GCCcore-12.3.0/lib:/mnt/modules/easybuild/software/libxslt/1.1.38-GCCcore-12.3.0/lib:/mnt/modules/easybuild/software/OpenMPI/4.1.5-GCC-12.3.0/lib:/mnt/modules/easybuild/software/UCC/1.2.0-GCCcore-12.3.0/lib:/mnt/modules/easybuild/software/PMIx/4.2.4-GCCcore-12.3.0/lib:/mnt/modules/easybuild/software/libfabric/1.18.0-GCCcore-12.3.0/lib:/mnt/modules/easybuild/software/UCX/1.14.1-GCCcore-12.3.0/lib:/mnt/modules/easybuild/software/libevent/2.1.12-GCCcore-12.3.0/lib:/mnt/modules/easybuild/software/OpenSSL/1.1/lib:/mnt/modules/easybuild/software/hwloc/2.9.1-GCCcore-12.3.0/lib:/mnt/modules/easybuild/software/libpciaccess/0.17-GCCcore-12.3.0/lib:/mnt/modules/easybuild/software/libxml2/2.11.4-GCCcore-12.3.0/lib:/mnt/modules/easybuild/software/XZ/5.4.2-GCCcore-12.3.0/lib:/mnt/modules/easybuild/software/numactl/2.0.16-GCCcore-12.3.0/lib:/mnt/modules/easybuild/software/binutils/2.40-GCCcore-12.3.0/lib:/mnt/modules/easybuild/software/zlib/1.2.13-GCCcore-12.3.0/lib:/mnt/modules/easybuild/software/GCCcore/12.3.0/lib64\n",
      "2025-05-22 10:59:31.965893: I tensorflow/compiler/xla/stream_executor/cuda/cudart_stub.cc:29] Ignore above cudart dlerror if you do not have a GPU set up on your machine.\n",
      "2025-05-22 10:59:34.950543: W tensorflow/compiler/xla/stream_executor/platform/default/dso_loader.cc:64] Could not load dynamic library 'libnvinfer.so.7'; dlerror: libnvinfer.so.7: cannot open shared object file: No such file or directory; LD_LIBRARY_PATH: /mnt/modules/easybuild/software/Ghostscript/10.01.2-GCCcore-12.3.0/lib:/mnt/modules/easybuild/software/GTK3/3.24.37-GCCcore-12.3.0/lib:/mnt/modules/easybuild/software/Wayland/1.22.0-GCCcore-12.3.0/lib:/mnt/modules/easybuild/software/libepoxy/1.5.10-GCCcore-12.3.0/lib:/mnt/modules/easybuild/software/Mesa/23.1.4-GCCcore-12.3.0/lib:/mnt/modules/easybuild/software/LLVM/16.0.6-GCCcore-12.3.0/lib:/mnt/modules/easybuild/software/libunwind/1.6.2-GCCcore-12.3.0/lib:/mnt/modules/easybuild/software/libglvnd/1.6.0-GCCcore-12.3.0/lib:/mnt/modules/easybuild/software/libdrm/2.4.115-GCCcore-12.3.0/lib:/mnt/modules/easybuild/software/Pango/1.50.14-GCCcore-12.3.0/lib:/mnt/modules/easybuild/software/FriBidi/1.0.12-GCCcore-12.3.0/lib:/mnt/modules/easybuild/software/HarfBuzz/5.3.1-GCCcore-12.3.0/lib:/mnt/modules/easybuild/software/ICU/73.2-GCCcore-12.3.0/lib:/mnt/modules/easybuild/software/Gdk-Pixbuf/2.42.10-GCCcore-12.3.0/lib:/mnt/modules/easybuild/software/at-spi2-atk/2.38.0-GCCcore-12.3.0/lib:/mnt/modules/easybuild/software/at-spi2-core/2.49.91-GCCcore-12.3.0/lib:/mnt/modules/easybuild/software/DBus/1.15.4-GCCcore-12.3.0/lib:/mnt/modules/easybuild/software/ATK/2.38.0-GCCcore-12.3.0/lib:/mnt/modules/easybuild/software/LibTIFF/4.5.0-GCCcore-12.3.0/lib:/mnt/modules/easybuild/software/libdeflate/1.18-GCCcore-12.3.0/lib:/mnt/modules/easybuild/software/zstd/1.5.5-GCCcore-12.3.0/lib:/mnt/modules/easybuild/software/lz4/1.9.4-GCCcore-12.3.0/lib:/mnt/modules/easybuild/software/jbigkit/2.1-GCCcore-12.3.0/lib:/mnt/modules/easybuild/software/cairo/1.17.8-GCCcore-12.3.0/lib:/mnt/modules/easybuild/software/X11/20230603-GCCcore-12.3.0/lib:/mnt/modules/easybuild/software/fontconfig/2.14.2-GCCcore-12.3.0/lib:/mnt/modules/easybuild/software/pixman/0.42.2-GCCcore-12.3.0/lib:/mnt/modules/easybuild/software/GLib/2.77.1-GCCcore-12.3.0/lib:/mnt/modules/easybuild/software/util-linux/2.39-GCCcore-12.3.0/lib:/mnt/modules/easybuild/software/PCRE2/10.42-GCCcore-12.3.0/lib:/mnt/modules/easybuild/software/gettext/0.21.1-GCCcore-12.3.0/lib:/mnt/modules/easybuild/software/expat/2.5.0-GCCcore-12.3.0/lib:/mnt/modules/easybuild/software/libjpeg-turbo/2.1.5.1-GCCcore-12.3.0/lib:/mnt/modules/easybuild/software/freetype/2.13.0-GCCcore-12.3.0/lib:/mnt/modules/easybuild/software/Brotli/1.0.9-GCCcore-12.3.0/lib:/mnt/modules/easybuild/software/libpng/1.6.39-GCCcore-12.3.0/lib:/mnt/modules/easybuild/software/Python/3.11.3-GCCcore-12.3.0/lib:/mnt/modules/easybuild/software/libffi/3.4.4-GCCcore-12.3.0/lib64:/mnt/modules/easybuild/software/SQLite/3.42.0-GCCcore-12.3.0/lib:/mnt/modules/easybuild/software/Tcl/8.6.13-GCCcore-12.3.0/lib:/mnt/modules/easybuild/software/libreadline/8.2-GCCcore-12.3.0/lib:/mnt/modules/easybuild/software/ncurses/6.4-GCCcore-12.3.0/lib:/mnt/modules/easybuild/software/bzip2/1.0.8-GCCcore-12.3.0/lib:/mnt/modules/easybuild/software/libxslt/1.1.38-GCCcore-12.3.0/lib:/mnt/modules/easybuild/software/OpenMPI/4.1.5-GCC-12.3.0/lib:/mnt/modules/easybuild/software/UCC/1.2.0-GCCcore-12.3.0/lib:/mnt/modules/easybuild/software/PMIx/4.2.4-GCCcore-12.3.0/lib:/mnt/modules/easybuild/software/libfabric/1.18.0-GCCcore-12.3.0/lib:/mnt/modules/easybuild/software/UCX/1.14.1-GCCcore-12.3.0/lib:/mnt/modules/easybuild/software/libevent/2.1.12-GCCcore-12.3.0/lib:/mnt/modules/easybuild/software/OpenSSL/1.1/lib:/mnt/modules/easybuild/software/hwloc/2.9.1-GCCcore-12.3.0/lib:/mnt/modules/easybuild/software/libpciaccess/0.17-GCCcore-12.3.0/lib:/mnt/modules/easybuild/software/libxml2/2.11.4-GCCcore-12.3.0/lib:/mnt/modules/easybuild/software/XZ/5.4.2-GCCcore-12.3.0/lib:/mnt/modules/easybuild/software/numactl/2.0.16-GCCcore-12.3.0/lib:/mnt/modules/easybuild/software/binutils/2.40-GCCcore-12.3.0/lib:/mnt/modules/easybuild/software/zlib/1.2.13-GCCcore-12.3.0/lib:/mnt/modules/easybuild/software/GCCcore/12.3.0/lib64\n",
      "2025-05-22 10:59:34.951182: W tensorflow/compiler/xla/stream_executor/platform/default/dso_loader.cc:64] Could not load dynamic library 'libnvinfer_plugin.so.7'; dlerror: libnvinfer_plugin.so.7: cannot open shared object file: No such file or directory; LD_LIBRARY_PATH: /mnt/modules/easybuild/software/Ghostscript/10.01.2-GCCcore-12.3.0/lib:/mnt/modules/easybuild/software/GTK3/3.24.37-GCCcore-12.3.0/lib:/mnt/modules/easybuild/software/Wayland/1.22.0-GCCcore-12.3.0/lib:/mnt/modules/easybuild/software/libepoxy/1.5.10-GCCcore-12.3.0/lib:/mnt/modules/easybuild/software/Mesa/23.1.4-GCCcore-12.3.0/lib:/mnt/modules/easybuild/software/LLVM/16.0.6-GCCcore-12.3.0/lib:/mnt/modules/easybuild/software/libunwind/1.6.2-GCCcore-12.3.0/lib:/mnt/modules/easybuild/software/libglvnd/1.6.0-GCCcore-12.3.0/lib:/mnt/modules/easybuild/software/libdrm/2.4.115-GCCcore-12.3.0/lib:/mnt/modules/easybuild/software/Pango/1.50.14-GCCcore-12.3.0/lib:/mnt/modules/easybuild/software/FriBidi/1.0.12-GCCcore-12.3.0/lib:/mnt/modules/easybuild/software/HarfBuzz/5.3.1-GCCcore-12.3.0/lib:/mnt/modules/easybuild/software/ICU/73.2-GCCcore-12.3.0/lib:/mnt/modules/easybuild/software/Gdk-Pixbuf/2.42.10-GCCcore-12.3.0/lib:/mnt/modules/easybuild/software/at-spi2-atk/2.38.0-GCCcore-12.3.0/lib:/mnt/modules/easybuild/software/at-spi2-core/2.49.91-GCCcore-12.3.0/lib:/mnt/modules/easybuild/software/DBus/1.15.4-GCCcore-12.3.0/lib:/mnt/modules/easybuild/software/ATK/2.38.0-GCCcore-12.3.0/lib:/mnt/modules/easybuild/software/LibTIFF/4.5.0-GCCcore-12.3.0/lib:/mnt/modules/easybuild/software/libdeflate/1.18-GCCcore-12.3.0/lib:/mnt/modules/easybuild/software/zstd/1.5.5-GCCcore-12.3.0/lib:/mnt/modules/easybuild/software/lz4/1.9.4-GCCcore-12.3.0/lib:/mnt/modules/easybuild/software/jbigkit/2.1-GCCcore-12.3.0/lib:/mnt/modules/easybuild/software/cairo/1.17.8-GCCcore-12.3.0/lib:/mnt/modules/easybuild/software/X11/20230603-GCCcore-12.3.0/lib:/mnt/modules/easybuild/software/fontconfig/2.14.2-GCCcore-12.3.0/lib:/mnt/modules/easybuild/software/pixman/0.42.2-GCCcore-12.3.0/lib:/mnt/modules/easybuild/software/GLib/2.77.1-GCCcore-12.3.0/lib:/mnt/modules/easybuild/software/util-linux/2.39-GCCcore-12.3.0/lib:/mnt/modules/easybuild/software/PCRE2/10.42-GCCcore-12.3.0/lib:/mnt/modules/easybuild/software/gettext/0.21.1-GCCcore-12.3.0/lib:/mnt/modules/easybuild/software/expat/2.5.0-GCCcore-12.3.0/lib:/mnt/modules/easybuild/software/libjpeg-turbo/2.1.5.1-GCCcore-12.3.0/lib:/mnt/modules/easybuild/software/freetype/2.13.0-GCCcore-12.3.0/lib:/mnt/modules/easybuild/software/Brotli/1.0.9-GCCcore-12.3.0/lib:/mnt/modules/easybuild/software/libpng/1.6.39-GCCcore-12.3.0/lib:/mnt/modules/easybuild/software/Python/3.11.3-GCCcore-12.3.0/lib:/mnt/modules/easybuild/software/libffi/3.4.4-GCCcore-12.3.0/lib64:/mnt/modules/easybuild/software/SQLite/3.42.0-GCCcore-12.3.0/lib:/mnt/modules/easybuild/software/Tcl/8.6.13-GCCcore-12.3.0/lib:/mnt/modules/easybuild/software/libreadline/8.2-GCCcore-12.3.0/lib:/mnt/modules/easybuild/software/ncurses/6.4-GCCcore-12.3.0/lib:/mnt/modules/easybuild/software/bzip2/1.0.8-GCCcore-12.3.0/lib:/mnt/modules/easybuild/software/libxslt/1.1.38-GCCcore-12.3.0/lib:/mnt/modules/easybuild/software/OpenMPI/4.1.5-GCC-12.3.0/lib:/mnt/modules/easybuild/software/UCC/1.2.0-GCCcore-12.3.0/lib:/mnt/modules/easybuild/software/PMIx/4.2.4-GCCcore-12.3.0/lib:/mnt/modules/easybuild/software/libfabric/1.18.0-GCCcore-12.3.0/lib:/mnt/modules/easybuild/software/UCX/1.14.1-GCCcore-12.3.0/lib:/mnt/modules/easybuild/software/libevent/2.1.12-GCCcore-12.3.0/lib:/mnt/modules/easybuild/software/OpenSSL/1.1/lib:/mnt/modules/easybuild/software/hwloc/2.9.1-GCCcore-12.3.0/lib:/mnt/modules/easybuild/software/libpciaccess/0.17-GCCcore-12.3.0/lib:/mnt/modules/easybuild/software/libxml2/2.11.4-GCCcore-12.3.0/lib:/mnt/modules/easybuild/software/XZ/5.4.2-GCCcore-12.3.0/lib:/mnt/modules/easybuild/software/numactl/2.0.16-GCCcore-12.3.0/lib:/mnt/modules/easybuild/software/binutils/2.40-GCCcore-12.3.0/lib:/mnt/modules/easybuild/software/zlib/1.2.13-GCCcore-12.3.0/lib:/mnt/modules/easybuild/software/GCCcore/12.3.0/lib64\n",
      "2025-05-22 10:59:34.951211: W tensorflow/compiler/tf2tensorrt/utils/py_utils.cc:38] TF-TRT Warning: Cannot dlopen some TensorRT libraries. If you would like to use Nvidia GPU with TensorRT, please make sure the missing libraries mentioned above are installed properly.\n",
      "/home/VIB.LOCAL/sander.thierens/.conda/envs/DeepDifE/lib/python3.8/site-packages/shap/utils/_clustering.py:35: NumbaDeprecationWarning: The 'nopython' keyword argument was not supplied to the 'numba.jit' decorator. The implicit default value for this argument is currently False, but it will be changed to True in Numba 0.59.0. See https://numba.readthedocs.io/en/stable/reference/deprecation.html#deprecation-of-object-mode-fall-back-behaviour-when-using-jit for details.\n",
      "  def _pt_shuffle_rec(i, indexes, index_mask, partition_tree, M, pos):\n",
      "/home/VIB.LOCAL/sander.thierens/.conda/envs/DeepDifE/lib/python3.8/site-packages/shap/utils/_clustering.py:54: NumbaDeprecationWarning: The 'nopython' keyword argument was not supplied to the 'numba.jit' decorator. The implicit default value for this argument is currently False, but it will be changed to True in Numba 0.59.0. See https://numba.readthedocs.io/en/stable/reference/deprecation.html#deprecation-of-object-mode-fall-back-behaviour-when-using-jit for details.\n",
      "  def delta_minimization_order(all_masks, max_swap_size=100, num_passes=2):\n",
      "/home/VIB.LOCAL/sander.thierens/.conda/envs/DeepDifE/lib/python3.8/site-packages/shap/utils/_clustering.py:63: NumbaDeprecationWarning: The 'nopython' keyword argument was not supplied to the 'numba.jit' decorator. The implicit default value for this argument is currently False, but it will be changed to True in Numba 0.59.0. See https://numba.readthedocs.io/en/stable/reference/deprecation.html#deprecation-of-object-mode-fall-back-behaviour-when-using-jit for details.\n",
      "  def _reverse_window(order, start, length):\n",
      "/home/VIB.LOCAL/sander.thierens/.conda/envs/DeepDifE/lib/python3.8/site-packages/shap/utils/_clustering.py:69: NumbaDeprecationWarning: The 'nopython' keyword argument was not supplied to the 'numba.jit' decorator. The implicit default value for this argument is currently False, but it will be changed to True in Numba 0.59.0. See https://numba.readthedocs.io/en/stable/reference/deprecation.html#deprecation-of-object-mode-fall-back-behaviour-when-using-jit for details.\n",
      "  def _reverse_window_score_gain(masks, order, start, length):\n",
      "/home/VIB.LOCAL/sander.thierens/.conda/envs/DeepDifE/lib/python3.8/site-packages/shap/utils/_clustering.py:77: NumbaDeprecationWarning: The 'nopython' keyword argument was not supplied to the 'numba.jit' decorator. The implicit default value for this argument is currently False, but it will be changed to True in Numba 0.59.0. See https://numba.readthedocs.io/en/stable/reference/deprecation.html#deprecation-of-object-mode-fall-back-behaviour-when-using-jit for details.\n",
      "  def _mask_delta_score(m1, m2):\n",
      "/home/VIB.LOCAL/sander.thierens/.conda/envs/DeepDifE/lib/python3.8/site-packages/shap/links.py:5: NumbaDeprecationWarning: The 'nopython' keyword argument was not supplied to the 'numba.jit' decorator. The implicit default value for this argument is currently False, but it will be changed to True in Numba 0.59.0. See https://numba.readthedocs.io/en/stable/reference/deprecation.html#deprecation-of-object-mode-fall-back-behaviour-when-using-jit for details.\n",
      "  def identity(x):\n",
      "/home/VIB.LOCAL/sander.thierens/.conda/envs/DeepDifE/lib/python3.8/site-packages/shap/links.py:10: NumbaDeprecationWarning: The 'nopython' keyword argument was not supplied to the 'numba.jit' decorator. The implicit default value for this argument is currently False, but it will be changed to True in Numba 0.59.0. See https://numba.readthedocs.io/en/stable/reference/deprecation.html#deprecation-of-object-mode-fall-back-behaviour-when-using-jit for details.\n",
      "  def _identity_inverse(x):\n",
      "/home/VIB.LOCAL/sander.thierens/.conda/envs/DeepDifE/lib/python3.8/site-packages/shap/links.py:15: NumbaDeprecationWarning: The 'nopython' keyword argument was not supplied to the 'numba.jit' decorator. The implicit default value for this argument is currently False, but it will be changed to True in Numba 0.59.0. See https://numba.readthedocs.io/en/stable/reference/deprecation.html#deprecation-of-object-mode-fall-back-behaviour-when-using-jit for details.\n",
      "  def logit(x):\n",
      "/home/VIB.LOCAL/sander.thierens/.conda/envs/DeepDifE/lib/python3.8/site-packages/shap/links.py:20: NumbaDeprecationWarning: The 'nopython' keyword argument was not supplied to the 'numba.jit' decorator. The implicit default value for this argument is currently False, but it will be changed to True in Numba 0.59.0. See https://numba.readthedocs.io/en/stable/reference/deprecation.html#deprecation-of-object-mode-fall-back-behaviour-when-using-jit for details.\n",
      "  def _logit_inverse(x):\n",
      "/home/VIB.LOCAL/sander.thierens/.conda/envs/DeepDifE/lib/python3.8/site-packages/shap/utils/_masked_model.py:363: NumbaDeprecationWarning: The 'nopython' keyword argument was not supplied to the 'numba.jit' decorator. The implicit default value for this argument is currently False, but it will be changed to True in Numba 0.59.0. See https://numba.readthedocs.io/en/stable/reference/deprecation.html#deprecation-of-object-mode-fall-back-behaviour-when-using-jit for details.\n",
      "  def _build_fixed_single_output(averaged_outs, last_outs, outputs, batch_positions, varying_rows, num_varying_rows, link, linearizing_weights):\n",
      "/home/VIB.LOCAL/sander.thierens/.conda/envs/DeepDifE/lib/python3.8/site-packages/shap/utils/_masked_model.py:385: NumbaDeprecationWarning: The 'nopython' keyword argument was not supplied to the 'numba.jit' decorator. The implicit default value for this argument is currently False, but it will be changed to True in Numba 0.59.0. See https://numba.readthedocs.io/en/stable/reference/deprecation.html#deprecation-of-object-mode-fall-back-behaviour-when-using-jit for details.\n",
      "  def _build_fixed_multi_output(averaged_outs, last_outs, outputs, batch_positions, varying_rows, num_varying_rows, link, linearizing_weights):\n",
      "/home/VIB.LOCAL/sander.thierens/.conda/envs/DeepDifE/lib/python3.8/site-packages/shap/utils/_masked_model.py:428: NumbaDeprecationWarning: The 'nopython' keyword argument was not supplied to the 'numba.jit' decorator. The implicit default value for this argument is currently False, but it will be changed to True in Numba 0.59.0. See https://numba.readthedocs.io/en/stable/reference/deprecation.html#deprecation-of-object-mode-fall-back-behaviour-when-using-jit for details.\n",
      "  def _init_masks(cluster_matrix, M, indices_row_pos, indptr):\n",
      "/home/VIB.LOCAL/sander.thierens/.conda/envs/DeepDifE/lib/python3.8/site-packages/shap/utils/_masked_model.py:439: NumbaDeprecationWarning: The 'nopython' keyword argument was not supplied to the 'numba.jit' decorator. The implicit default value for this argument is currently False, but it will be changed to True in Numba 0.59.0. See https://numba.readthedocs.io/en/stable/reference/deprecation.html#deprecation-of-object-mode-fall-back-behaviour-when-using-jit for details.\n",
      "  def _rec_fill_masks(cluster_matrix, indices_row_pos, indptr, indices, M, ind):\n",
      "/home/VIB.LOCAL/sander.thierens/.conda/envs/DeepDifE/lib/python3.8/site-packages/shap/maskers/_tabular.py:186: NumbaDeprecationWarning: The 'nopython' keyword argument was not supplied to the 'numba.jit' decorator. The implicit default value for this argument is currently False, but it will be changed to True in Numba 0.59.0. See https://numba.readthedocs.io/en/stable/reference/deprecation.html#deprecation-of-object-mode-fall-back-behaviour-when-using-jit for details.\n",
      "  def _single_delta_mask(dind, masked_inputs, last_mask, data, x, noop_code):\n",
      "/home/VIB.LOCAL/sander.thierens/.conda/envs/DeepDifE/lib/python3.8/site-packages/shap/maskers/_tabular.py:197: NumbaDeprecationWarning: The 'nopython' keyword argument was not supplied to the 'numba.jit' decorator. The implicit default value for this argument is currently False, but it will be changed to True in Numba 0.59.0. See https://numba.readthedocs.io/en/stable/reference/deprecation.html#deprecation-of-object-mode-fall-back-behaviour-when-using-jit for details.\n",
      "  def _delta_masking(masks, x, curr_delta_inds, varying_rows_out,\n",
      "/home/VIB.LOCAL/sander.thierens/.conda/envs/DeepDifE/lib/python3.8/site-packages/shap/maskers/_image.py:175: NumbaDeprecationWarning: The 'nopython' keyword argument was not supplied to the 'numba.jit' decorator. The implicit default value for this argument is currently False, but it will be changed to True in Numba 0.59.0. See https://numba.readthedocs.io/en/stable/reference/deprecation.html#deprecation-of-object-mode-fall-back-behaviour-when-using-jit for details.\n",
      "  def _jit_build_partition_tree(xmin, xmax, ymin, ymax, zmin, zmax, total_ywidth, total_zwidth, M, clustering, q):\n",
      "/home/VIB.LOCAL/sander.thierens/.conda/envs/DeepDifE/lib/python3.8/site-packages/shap/explainers/_partition.py:676: NumbaDeprecationWarning: The 'nopython' keyword argument was not supplied to the 'numba.jit' decorator. The implicit default value for this argument is currently False, but it will be changed to True in Numba 0.59.0. See https://numba.readthedocs.io/en/stable/reference/deprecation.html#deprecation-of-object-mode-fall-back-behaviour-when-using-jit for details.\n",
      "  def lower_credit(i, value, M, values, clustering):\n",
      "The 'nopython' keyword argument was not supplied to the 'numba.jit' decorator. The implicit default value for this argument is currently False, but it will be changed to True in Numba 0.59.0. See https://numba.readthedocs.io/en/stable/reference/deprecation.html#deprecation-of-object-mode-fall-back-behaviour-when-using-jit for details.\n",
      "The 'nopython' keyword argument was not supplied to the 'numba.jit' decorator. The implicit default value for this argument is currently False, but it will be changed to True in Numba 0.59.0. See https://numba.readthedocs.io/en/stable/reference/deprecation.html#deprecation-of-object-mode-fall-back-behaviour-when-using-jit for details.\n"
     ]
    }
   ],
   "source": [
    "%load_ext autoreload\n",
    "%autoreload 2\n",
    "%cd -q ..\n",
    "\n",
    "import sys\n",
    "import os\n",
    "\n",
    "from Bio import SeqIO\n",
    "from evoaug_tf import evoaug, augment\n",
    "from modiscolite import tfmodisco, report\n",
    "from src.deepExplain_tool import getDeepExplainerBackground, deepExplain, plotResults\n",
    "from src.diff_expression_model import load_model, get_siamese_model\n",
    "import numpy as np\n",
    "import importlib\n",
    "import pickle\n",
    "import modiscolite\n"
   ]
  },
  {
   "cell_type": "markdown",
   "metadata": {},
   "source": [
    "Retrieve the siamese model based on the weight of Helder"
   ]
  },
  {
   "cell_type": "code",
   "execution_count": 2,
   "metadata": {
    "tags": []
   },
   "outputs": [
    {
     "name": "stdout",
     "output_type": "stream",
     "text": [
      "\n",
      "Loaded model from disk\n"
     ]
    },
    {
     "name": "stderr",
     "output_type": "stream",
     "text": [
      "2025-05-22 10:59:48.256344: W tensorflow/compiler/xla/stream_executor/platform/default/dso_loader.cc:64] Could not load dynamic library 'libcuda.so.1'; dlerror: libcuda.so.1: cannot open shared object file: No such file or directory; LD_LIBRARY_PATH: /mnt/modules/easybuild/software/Ghostscript/10.01.2-GCCcore-12.3.0/lib:/mnt/modules/easybuild/software/GTK3/3.24.37-GCCcore-12.3.0/lib:/mnt/modules/easybuild/software/Wayland/1.22.0-GCCcore-12.3.0/lib:/mnt/modules/easybuild/software/libepoxy/1.5.10-GCCcore-12.3.0/lib:/mnt/modules/easybuild/software/Mesa/23.1.4-GCCcore-12.3.0/lib:/mnt/modules/easybuild/software/LLVM/16.0.6-GCCcore-12.3.0/lib:/mnt/modules/easybuild/software/libunwind/1.6.2-GCCcore-12.3.0/lib:/mnt/modules/easybuild/software/libglvnd/1.6.0-GCCcore-12.3.0/lib:/mnt/modules/easybuild/software/libdrm/2.4.115-GCCcore-12.3.0/lib:/mnt/modules/easybuild/software/Pango/1.50.14-GCCcore-12.3.0/lib:/mnt/modules/easybuild/software/FriBidi/1.0.12-GCCcore-12.3.0/lib:/mnt/modules/easybuild/software/HarfBuzz/5.3.1-GCCcore-12.3.0/lib:/mnt/modules/easybuild/software/ICU/73.2-GCCcore-12.3.0/lib:/mnt/modules/easybuild/software/Gdk-Pixbuf/2.42.10-GCCcore-12.3.0/lib:/mnt/modules/easybuild/software/at-spi2-atk/2.38.0-GCCcore-12.3.0/lib:/mnt/modules/easybuild/software/at-spi2-core/2.49.91-GCCcore-12.3.0/lib:/mnt/modules/easybuild/software/DBus/1.15.4-GCCcore-12.3.0/lib:/mnt/modules/easybuild/software/ATK/2.38.0-GCCcore-12.3.0/lib:/mnt/modules/easybuild/software/LibTIFF/4.5.0-GCCcore-12.3.0/lib:/mnt/modules/easybuild/software/libdeflate/1.18-GCCcore-12.3.0/lib:/mnt/modules/easybuild/software/zstd/1.5.5-GCCcore-12.3.0/lib:/mnt/modules/easybuild/software/lz4/1.9.4-GCCcore-12.3.0/lib:/mnt/modules/easybuild/software/jbigkit/2.1-GCCcore-12.3.0/lib:/mnt/modules/easybuild/software/cairo/1.17.8-GCCcore-12.3.0/lib:/mnt/modules/easybuild/software/X11/20230603-GCCcore-12.3.0/lib:/mnt/modules/easybuild/software/fontconfig/2.14.2-GCCcore-12.3.0/lib:/mnt/modules/easybuild/software/pixman/0.42.2-GCCcore-12.3.0/lib:/mnt/modules/easybuild/software/GLib/2.77.1-GCCcore-12.3.0/lib:/mnt/modules/easybuild/software/util-linux/2.39-GCCcore-12.3.0/lib:/mnt/modules/easybuild/software/PCRE2/10.42-GCCcore-12.3.0/lib:/mnt/modules/easybuild/software/gettext/0.21.1-GCCcore-12.3.0/lib:/mnt/modules/easybuild/software/expat/2.5.0-GCCcore-12.3.0/lib:/mnt/modules/easybuild/software/libjpeg-turbo/2.1.5.1-GCCcore-12.3.0/lib:/mnt/modules/easybuild/software/freetype/2.13.0-GCCcore-12.3.0/lib:/mnt/modules/easybuild/software/Brotli/1.0.9-GCCcore-12.3.0/lib:/mnt/modules/easybuild/software/libpng/1.6.39-GCCcore-12.3.0/lib:/mnt/modules/easybuild/software/Python/3.11.3-GCCcore-12.3.0/lib:/mnt/modules/easybuild/software/libffi/3.4.4-GCCcore-12.3.0/lib64:/mnt/modules/easybuild/software/SQLite/3.42.0-GCCcore-12.3.0/lib:/mnt/modules/easybuild/software/Tcl/8.6.13-GCCcore-12.3.0/lib:/mnt/modules/easybuild/software/libreadline/8.2-GCCcore-12.3.0/lib:/mnt/modules/easybuild/software/ncurses/6.4-GCCcore-12.3.0/lib:/mnt/modules/easybuild/software/bzip2/1.0.8-GCCcore-12.3.0/lib:/mnt/modules/easybuild/software/libxslt/1.1.38-GCCcore-12.3.0/lib:/mnt/modules/easybuild/software/OpenMPI/4.1.5-GCC-12.3.0/lib:/mnt/modules/easybuild/software/UCC/1.2.0-GCCcore-12.3.0/lib:/mnt/modules/easybuild/software/PMIx/4.2.4-GCCcore-12.3.0/lib:/mnt/modules/easybuild/software/libfabric/1.18.0-GCCcore-12.3.0/lib:/mnt/modules/easybuild/software/UCX/1.14.1-GCCcore-12.3.0/lib:/mnt/modules/easybuild/software/libevent/2.1.12-GCCcore-12.3.0/lib:/mnt/modules/easybuild/software/OpenSSL/1.1/lib:/mnt/modules/easybuild/software/hwloc/2.9.1-GCCcore-12.3.0/lib:/mnt/modules/easybuild/software/libpciaccess/0.17-GCCcore-12.3.0/lib:/mnt/modules/easybuild/software/libxml2/2.11.4-GCCcore-12.3.0/lib:/mnt/modules/easybuild/software/XZ/5.4.2-GCCcore-12.3.0/lib:/mnt/modules/easybuild/software/numactl/2.0.16-GCCcore-12.3.0/lib:/mnt/modules/easybuild/software/binutils/2.40-GCCcore-12.3.0/lib:/mnt/modules/easybuild/software/zlib/1.2.13-GCCcore-12.3.0/lib:/mnt/modules/easybuild/software/GCCcore/12.3.0/lib64\n",
      "2025-05-22 10:59:48.256378: W tensorflow/compiler/xla/stream_executor/cuda/cuda_driver.cc:265] failed call to cuInit: UNKNOWN ERROR (303)\n",
      "2025-05-22 10:59:48.256411: I tensorflow/compiler/xla/stream_executor/cuda/cuda_diagnostics.cc:156] kernel driver does not appear to be running on this host (p-computehmem-1.vib.local): /proc/driver/nvidia/version does not exist\n",
      "2025-05-22 10:59:48.256775: I tensorflow/core/platform/cpu_feature_guard.cc:193] This TensorFlow binary is optimized with oneAPI Deep Neural Network Library (oneDNN) to use the following CPU instructions in performance-critical operations:  AVX2 AVX512F AVX512_VNNI AVX512_BF16 AVX_VNNI AMX_TILE AMX_INT8 AMX_BF16 FMA\n",
      "To enable them in other operations, rebuild TensorFlow with the appropriate compiler flags.\n"
     ]
    }
   ],
   "source": [
    "\n",
    "model_path = \"data/model_single.json\"\n",
    "weights_path = \"data/weights_single.h5\"\n",
    "\n",
    "augment_list = [\n",
    "\taugment.RandomRC(rc_prob=0.5),\n",
    "\taugment.RandomInsertionBatch(insert_min=0, insert_max=20),\n",
    "\taugment.RandomDeletion(delete_min=0, delete_max=30),\n",
    "\taugment.RandomTranslocationBatch(shift_min=0, shift_max=20),\n",
    "\taugment.RandomMutation(mutate_frac=0.05),\n",
    "\taugment.RandomNoise()\n",
    "]\n",
    "\n",
    "model = load_model(model_path, weights_path)\n",
    "siamese_model = get_siamese_model(model)\n"
   ]
  },
  {
   "cell_type": "markdown",
   "metadata": {},
   "source": [
    "Generate a background based on N random samples. In our case we start from a pickle containing 100 one-hot-encoded sequences with both the forward and reverse strand."
   ]
  },
  {
   "cell_type": "markdown",
   "metadata": {},
   "source": [
    "The numpy array passed to getDeepExplainerBackground should have the following shape (2, #samples, #sequence length, 4)"
   ]
  },
  {
   "cell_type": "code",
   "execution_count": 3,
   "metadata": {
    "tags": []
   },
   "outputs": [],
   "source": [
    "bg_path = \"data/background_100samples.pkl\"\n",
    "with open(bg_path, 'rb') as f:\n",
    "    background_data = pickle.load(f)\n",
    "\n",
    "# Conver to numpy\n",
    "np_bg = np.array(background_data)\n",
    "\n",
    "# Remove axis of dimension 1\n",
    "np_bg = np.squeeze(np_bg)\n",
    "\n",
    "# Convert to float 64, to be compatible with deepExplain\n",
    "np_bg = np.float64(np_bg)\n",
    "\n",
    "background = getDeepExplainerBackground(background_samples=np_bg, shuffle=False, post_hoc_conjoining=True)"
   ]
  },
  {
   "cell_type": "markdown",
   "metadata": {},
   "source": [
    "Retrieve the sequences, to speed up the SeqIO parsing you could chunk larger fasta files"
   ]
  },
  {
   "cell_type": "code",
   "execution_count": 4,
   "metadata": {
    "tags": []
   },
   "outputs": [],
   "source": [
    "sequence_list = []\n",
    "gene_id_list = []\n",
    "\n",
    "for chunk in range(1,3):\n",
    "\tfasta_path = f\"data/fasta/example.fasta_c{chunk}\"\n",
    "\tfasta_sequences = SeqIO.parse(open(fasta_path),'fasta')\n",
    "\tfor index, fasta in enumerate(fasta_sequences):\n",
    "\t\tif index > 100: break\n",
    "\t\tname, sequence = fasta.id, str(fasta.seq)\n",
    "\t\tgene_id_list.append(name)\n",
    "\t\tsequence_list.append(sequence)"
   ]
  },
  {
   "cell_type": "markdown",
   "metadata": {},
   "source": [
    "One hot encode the sequences and creat ethe reverse compliment"
   ]
  },
  {
   "cell_type": "code",
   "execution_count": 5,
   "metadata": {
    "tags": []
   },
   "outputs": [],
   "source": [
    "ohe_list = []\n",
    "ohe_rc_list = []\n",
    "for sequence in sequence_list:\n",
    "\tohe_seq = []\n",
    "\tohe_rc_seq = []\n",
    "\tfor i in sequence:\n",
    "\t\tif i == 'A':\n",
    "\t\t\tohe_seq.append([1., 0., 0., 0.])\n",
    "\t\t\tohe_rc_seq.append([0., 0., 0., 1.])\n",
    "\t\telif i == 'C':\n",
    "\t\t\tohe_seq.append([0., 1., 0., 0.])\n",
    "\t\t\tohe_rc_seq.append([0., 0., 1., 0.])\n",
    "\t\telif i == 'G':\n",
    "\t\t\tohe_seq.append([0., 0., 1., 0.])\n",
    "\t\t\tohe_rc_seq.append([0., 1., 0., 0.])\n",
    "\t\telif i == 'T':\n",
    "\t\t\tohe_seq.append([0., 0., 0., 1.])\n",
    "\t\t\tohe_rc_seq.append([1., 0., 0., 0.])\n",
    "\t\telse:\n",
    "\t\t\tohe_seq.append([0., 0., 0., 0.])\n",
    "\t\t\tohe_rc_seq.append([0., 0., 0., 0.])\n",
    "\tohe_list.append(ohe_seq)\n",
    "\tohe_rc_list.append(list(reversed(ohe_rc_seq)))\n",
    "ohe_np = np.array(ohe_list)\n",
    "ohe_rc_np = np.array(ohe_rc_list)\n",
    "\n",
    "np_deepexplain_samples = np.stack((ohe_np, ohe_rc_np))"
   ]
  },
  {
   "cell_type": "code",
   "execution_count": 6,
   "metadata": {
    "tags": []
   },
   "outputs": [
    {
     "name": "stderr",
     "output_type": "stream",
     "text": [
      "keras is no longer supported, please use tf.keras instead.\n",
      "Your TensorFlow version is newer than 2.4.0 and so graph support has been removed in eager mode and some static graphs may not be supported. See PR #1483 for discussion.\n",
      "`tf.keras.backend.set_learning_phase` is deprecated and will be removed after 2020-10-11. To update it, simply pass a True/False value to the `training` argument of the `__call__` method of your layer or model.\n"
     ]
    },
    {
     "name": "stdout",
     "output_type": "stream",
     "text": [
      "WARNING:tensorflow:From /home/VIB.LOCAL/sander.thierens/.conda/envs/DeepDifE/lib/python3.8/site-packages/tensorflow/python/autograph/pyct/static_analysis/liveness.py:83: Analyzer.lamba_check (from tensorflow.python.autograph.pyct.static_analysis.liveness) is deprecated and will be removed after 2023-09-23.\n",
      "Instructions for updating:\n",
      "Lambda fuctions will be no more assumed to be used in the statement where they are used, or at least in the same block. https://github.com/tensorflow/tensorflow/issues/56089\n"
     ]
    }
   ],
   "source": [
    "shap_values = deepExplain(samples=np_deepexplain_samples,\n",
    "                          loaded_model=siamese_model, \n",
    "                          bg=background, \n",
    "                          post_hoc_conjoining=True, \n",
    "                          augment_list=augment_list, \n",
    "                          pad_background=True, \n",
    "                          pad_samples=False,\n",
    "                          evo_aug=True)"
   ]
  },
  {
   "cell_type": "code",
   "execution_count": 7,
   "metadata": {
    "tags": []
   },
   "outputs": [
    {
     "data": {
      "text/plain": [
       "(202, 2, 620, 4)"
      ]
     },
     "execution_count": 7,
     "metadata": {},
     "output_type": "execute_result"
    }
   ],
   "source": [
    "np.array(shap_values).shape"
   ]
  },
  {
   "cell_type": "code",
   "execution_count": 8,
   "metadata": {
    "tags": []
   },
   "outputs": [
    {
     "name": "stdout",
     "output_type": "stream",
     "text": [
      "Using 633 positive seqlets\n",
      "Extracted 722 negative seqlets\n"
     ]
    },
    {
     "data": {
      "text/plain": [
       "[<modiscolite.core.SeqletSet at 0x7f7890db3580>,\n",
       " <modiscolite.core.SeqletSet at 0x7f7890db36d0>,\n",
       " <modiscolite.core.SeqletSet at 0x7f78911da9d0>,\n",
       " <modiscolite.core.SeqletSet at 0x7f78911dab20>,\n",
       " <modiscolite.core.SeqletSet at 0x7f789068dd00>,\n",
       " <modiscolite.core.SeqletSet at 0x7f7890d41d30>,\n",
       " <modiscolite.core.SeqletSet at 0x7f7890d41e80>,\n",
       " <modiscolite.core.SeqletSet at 0x7f789068d760>]"
      ]
     },
     "execution_count": 8,
     "metadata": {},
     "output_type": "execute_result"
    }
   ],
   "source": [
    "shap_values_forward = np.array(shap_values)[:,0,:,:]\n",
    "pos_patterns, neg_patterns = tfmodisco.TFMoDISco(\n",
    "                                    min_metacluster_size = 2,\n",
    "                                    hypothetical_contribs=shap_values_forward, \n",
    "                                    one_hot=np_deepexplain_samples[0],\n",
    "                                    verbose=True\n",
    "                                )\n",
    "pos_patterns\n"
   ]
  },
  {
   "cell_type": "code",
   "execution_count": 9,
   "metadata": {
    "tags": []
   },
   "outputs": [
    {
     "data": {
      "text/plain": [
       "[<modiscolite.core.SeqletSet at 0x7f7890e864c0>,\n",
       " <modiscolite.core.SeqletSet at 0x7f7890db3310>,\n",
       " <modiscolite.core.SeqletSet at 0x7f7890db3ee0>,\n",
       " <modiscolite.core.SeqletSet at 0x7f7890db31f0>,\n",
       " <modiscolite.core.SeqletSet at 0x7f7890db3370>,\n",
       " <modiscolite.core.SeqletSet at 0x7f7890db3040>,\n",
       " <modiscolite.core.SeqletSet at 0x7f7890db3970>]"
      ]
     },
     "execution_count": 9,
     "metadata": {},
     "output_type": "execute_result"
    }
   ],
   "source": [
    "neg_patterns"
   ]
  },
  {
   "cell_type": "code",
   "execution_count": 10,
   "metadata": {
    "tags": []
   },
   "outputs": [],
   "source": [
    "output_dir = \"report/\"\n",
    "if not os.path.isdir(output_dir):\n",
    "    os.mkdir(output_dir)"
   ]
  },
  {
   "cell_type": "code",
   "execution_count": 11,
   "metadata": {
    "tags": []
   },
   "outputs": [],
   "source": [
    "h5_result_path = \"report/modisco_output.h5\"\n",
    "\n",
    "modiscolite.io.save_hdf5(h5_result_path, pos_patterns, neg_patterns, 4)"
   ]
  },
  {
   "cell_type": "markdown",
   "metadata": {},
   "source": [
    "Make sure MEME is available on the system"
   ]
  },
  {
   "cell_type": "code",
   "execution_count": 15,
   "metadata": {
    "tags": []
   },
   "outputs": [],
   "source": [
    "output_dir = \"report/\"\n",
    "if not os.path.isdir(output_dir):\n",
    "    os.mkdir(output_dir)\n",
    "\n",
    "report.report_motifs(modisco_h5py = h5_result_path,\n",
    "                    output_dir = output_dir,\n",
    "                    img_path_suffix = '../' + output_dir,\n",
    "                    meme_motif_db = \"data/jaspar_cisbp_other_source_no_high_similarity_tfbs_annot.meme\",\n",
    "                    is_writing_tomtom_matrix = True\n",
    "                    )"
   ]
  },
  {
   "cell_type": "code",
   "execution_count": 16,
   "metadata": {},
   "outputs": [
    {
     "name": "stderr",
     "output_type": "stream",
     "text": [
      "Importing display from IPython.core.display is deprecated since IPython 7.14, please import from IPython display\n"
     ]
    },
    {
     "data": {
      "text/html": [
       "<table border=\"1\" class=\"dataframe\">\n",
       "  <thead>\n",
       "    <tr style=\"text-align: right;\">\n",
       "      <th>pattern</th>\n",
       "      <th>num_seqlets</th>\n",
       "      <th>modisco_cwm_fwd</th>\n",
       "      <th>modisco_cwm_rev</th>\n",
       "      <th>match0</th>\n",
       "      <th>qval0</th>\n",
       "      <th>match0_logo</th>\n",
       "      <th>match1</th>\n",
       "      <th>qval1</th>\n",
       "      <th>match1_logo</th>\n",
       "      <th>match2</th>\n",
       "      <th>qval2</th>\n",
       "      <th>match2_logo</th>\n",
       "    </tr>\n",
       "  </thead>\n",
       "  <tbody>\n",
       "    <tr>\n",
       "      <td>pos_patterns.pattern_0</td>\n",
       "      <td>57</td>\n",
       "      <td><img src=\"../report/trimmed_logos/pos_patterns.pattern_0.cwm.fwd.png\" width=\"240\" ></td>\n",
       "      <td><img src=\"../report/trimmed_logos/pos_patterns.pattern_0.cwm.rev.png\" width=\"240\" ></td>\n",
       "      <td>MA0552.2_bHLH</td>\n",
       "      <td>0.014887</td>\n",
       "      <td><img src=\"../report/MA0552.2_bHLH.png\" width=\"240\" ></td>\n",
       "      <td>MA0965.3_bHLH</td>\n",
       "      <td>0.014887</td>\n",
       "      <td><img src=\"../report/MA0965.3_bHLH.png\" width=\"240\" ></td>\n",
       "      <td>MA0966.2_bHLH</td>\n",
       "      <td>0.014887</td>\n",
       "      <td><img src=\"../report/MA0966.2_bHLH.png\" width=\"240\" ></td>\n",
       "    </tr>\n",
       "    <tr>\n",
       "      <td>pos_patterns.pattern_1</td>\n",
       "      <td>51</td>\n",
       "      <td><img src=\"../report/trimmed_logos/pos_patterns.pattern_1.cwm.fwd.png\" width=\"240\" ></td>\n",
       "      <td><img src=\"../report/trimmed_logos/pos_patterns.pattern_1.cwm.rev.png\" width=\"240\" ></td>\n",
       "      <td>MX0089_bZIP</td>\n",
       "      <td>0.809561</td>\n",
       "      <td><img src=\"../report/MX0089_bZIP.png\" width=\"240\" ></td>\n",
       "      <td>M01782_bZIP</td>\n",
       "      <td>0.809561</td>\n",
       "      <td><img src=\"../report/M01782_bZIP.png\" width=\"240\" ></td>\n",
       "      <td>MX0051_Unknown</td>\n",
       "      <td>0.809561</td>\n",
       "      <td><img src=\"../report/MX0051_Unknown.png\" width=\"240\" ></td>\n",
       "    </tr>\n",
       "    <tr>\n",
       "      <td>pos_patterns.pattern_2</td>\n",
       "      <td>50</td>\n",
       "      <td><img src=\"../report/trimmed_logos/pos_patterns.pattern_2.cwm.fwd.png\" width=\"240\" ></td>\n",
       "      <td><img src=\"../report/trimmed_logos/pos_patterns.pattern_2.cwm.rev.png\" width=\"240\" ></td>\n",
       "      <td>MX0446_AHL</td>\n",
       "      <td>0.002918</td>\n",
       "      <td><img src=\"../report/MX0446_AHL.png\" width=\"240\" ></td>\n",
       "      <td>M07354_ZF-HD</td>\n",
       "      <td>0.002945</td>\n",
       "      <td><img src=\"../report/M07354_ZF-HD.png\" width=\"240\" ></td>\n",
       "      <td>M08606_Sox</td>\n",
       "      <td>0.003798</td>\n",
       "      <td><img src=\"../report/M08606_Sox.png\" width=\"240\" ></td>\n",
       "    </tr>\n",
       "    <tr>\n",
       "      <td>pos_patterns.pattern_3</td>\n",
       "      <td>46</td>\n",
       "      <td><img src=\"../report/trimmed_logos/pos_patterns.pattern_3.cwm.fwd.png\" width=\"240\" ></td>\n",
       "      <td><img src=\"../report/trimmed_logos/pos_patterns.pattern_3.cwm.rev.png\" width=\"240\" ></td>\n",
       "      <td>M06704_B3</td>\n",
       "      <td>0.001285</td>\n",
       "      <td><img src=\"../report/M06704_B3.png\" width=\"240\" ></td>\n",
       "      <td>M06861_Dof</td>\n",
       "      <td>0.001297</td>\n",
       "      <td><img src=\"../report/M06861_Dof.png\" width=\"240\" ></td>\n",
       "      <td>M06868_Dof</td>\n",
       "      <td>0.002841</td>\n",
       "      <td><img src=\"../report/M06868_Dof.png\" width=\"240\" ></td>\n",
       "    </tr>\n",
       "    <tr>\n",
       "      <td>pos_patterns.pattern_4</td>\n",
       "      <td>44</td>\n",
       "      <td><img src=\"../report/trimmed_logos/pos_patterns.pattern_4.cwm.fwd.png\" width=\"240\" ></td>\n",
       "      <td><img src=\"../report/trimmed_logos/pos_patterns.pattern_4.cwm.rev.png\" width=\"240\" ></td>\n",
       "      <td>M06704_B3</td>\n",
       "      <td>0.000653</td>\n",
       "      <td><img src=\"../report/M06704_B3.png\" width=\"240\" ></td>\n",
       "      <td>M06861_Dof</td>\n",
       "      <td>0.000743</td>\n",
       "      <td><img src=\"../report/M06861_Dof.png\" width=\"240\" ></td>\n",
       "      <td>M06868_Dof</td>\n",
       "      <td>0.000778</td>\n",
       "      <td><img src=\"../report/M06868_Dof.png\" width=\"240\" ></td>\n",
       "    </tr>\n",
       "    <tr>\n",
       "      <td>pos_patterns.pattern_5</td>\n",
       "      <td>35</td>\n",
       "      <td><img src=\"../report/trimmed_logos/pos_patterns.pattern_5.cwm.fwd.png\" width=\"240\" ></td>\n",
       "      <td><img src=\"../report/trimmed_logos/pos_patterns.pattern_5.cwm.rev.png\" width=\"240\" ></td>\n",
       "      <td>MX0162_bHLH</td>\n",
       "      <td>0.199247</td>\n",
       "      <td><img src=\"../report/MX0162_bHLH.png\" width=\"240\" ></td>\n",
       "      <td>MX0188_RAV</td>\n",
       "      <td>0.981446</td>\n",
       "      <td><img src=\"../report/MX0188_RAV.png\" width=\"240\" ></td>\n",
       "      <td>M01755_bHLH</td>\n",
       "      <td>0.981446</td>\n",
       "      <td><img src=\"../report/M01755_bHLH.png\" width=\"240\" ></td>\n",
       "    </tr>\n",
       "    <tr>\n",
       "      <td>pos_patterns.pattern_6</td>\n",
       "      <td>27</td>\n",
       "      <td><img src=\"../report/trimmed_logos/pos_patterns.pattern_6.cwm.fwd.png\" width=\"240\" ></td>\n",
       "      <td><img src=\"../report/trimmed_logos/pos_patterns.pattern_6.cwm.rev.png\" width=\"240\" ></td>\n",
       "      <td>MX0162_bHLH</td>\n",
       "      <td>1.000000</td>\n",
       "      <td><img src=\"../report/MX0162_bHLH.png\" width=\"240\" ></td>\n",
       "      <td>M07078_MYB</td>\n",
       "      <td>1.000000</td>\n",
       "      <td><img src=\"../report/M07078_MYB.png\" width=\"240\" ></td>\n",
       "      <td>NaN</td>\n",
       "      <td>NaN</td>\n",
       "      <td><img src=\"NA\" width=\"240\" ></td>\n",
       "    </tr>\n",
       "    <tr>\n",
       "      <td>pos_patterns.pattern_7</td>\n",
       "      <td>27</td>\n",
       "      <td><img src=\"../report/trimmed_logos/pos_patterns.pattern_7.cwm.fwd.png\" width=\"240\" ></td>\n",
       "      <td><img src=\"../report/trimmed_logos/pos_patterns.pattern_7.cwm.rev.png\" width=\"240\" ></td>\n",
       "      <td>M06861_Dof</td>\n",
       "      <td>0.108782</td>\n",
       "      <td><img src=\"../report/M06861_Dof.png\" width=\"240\" ></td>\n",
       "      <td>M06868_Dof</td>\n",
       "      <td>0.108782</td>\n",
       "      <td><img src=\"../report/M06868_Dof.png\" width=\"240\" ></td>\n",
       "      <td>M06704_B3</td>\n",
       "      <td>0.108782</td>\n",
       "      <td><img src=\"../report/M06704_B3.png\" width=\"240\" ></td>\n",
       "    </tr>\n",
       "    <tr>\n",
       "      <td>neg_patterns.pattern_0</td>\n",
       "      <td>105</td>\n",
       "      <td><img src=\"../report/trimmed_logos/neg_patterns.pattern_0.cwm.fwd.png\" width=\"240\" ></td>\n",
       "      <td><img src=\"../report/trimmed_logos/neg_patterns.pattern_0.cwm.rev.png\" width=\"240\" ></td>\n",
       "      <td>M01675_AT_hook</td>\n",
       "      <td>1.000000</td>\n",
       "      <td><img src=\"../report/M01675_AT_hook.png\" width=\"240\" ></td>\n",
       "      <td>NaN</td>\n",
       "      <td>NaN</td>\n",
       "      <td><img src=\"NA\" width=\"240\" ></td>\n",
       "      <td>NaN</td>\n",
       "      <td>NaN</td>\n",
       "      <td><img src=\"NA\" width=\"240\" ></td>\n",
       "    </tr>\n",
       "    <tr>\n",
       "      <td>neg_patterns.pattern_1</td>\n",
       "      <td>56</td>\n",
       "      <td><img src=\"../report/trimmed_logos/neg_patterns.pattern_1.cwm.fwd.png\" width=\"240\" ></td>\n",
       "      <td><img src=\"../report/trimmed_logos/neg_patterns.pattern_1.cwm.rev.png\" width=\"240\" ></td>\n",
       "      <td>M07157_MYB_related</td>\n",
       "      <td>0.366589</td>\n",
       "      <td><img src=\"../report/M07157_MYB_related.png\" width=\"240\" ></td>\n",
       "      <td>M06805_C2H2</td>\n",
       "      <td>0.479799</td>\n",
       "      <td><img src=\"../report/M06805_C2H2.png\" width=\"240\" ></td>\n",
       "      <td>MA2378.1_ERF</td>\n",
       "      <td>0.479799</td>\n",
       "      <td><img src=\"../report/MA2378.1_ERF.png\" width=\"240\" ></td>\n",
       "    </tr>\n",
       "    <tr>\n",
       "      <td>neg_patterns.pattern_2</td>\n",
       "      <td>53</td>\n",
       "      <td><img src=\"../report/trimmed_logos/neg_patterns.pattern_2.cwm.fwd.png\" width=\"240\" ></td>\n",
       "      <td><img src=\"../report/trimmed_logos/neg_patterns.pattern_2.cwm.rev.png\" width=\"240\" ></td>\n",
       "      <td>M07055_MYB</td>\n",
       "      <td>0.655998</td>\n",
       "      <td><img src=\"../report/M07055_MYB.png\" width=\"240\" ></td>\n",
       "      <td>M07338_ZF-HD</td>\n",
       "      <td>0.655998</td>\n",
       "      <td><img src=\"../report/M07338_ZF-HD.png\" width=\"240\" ></td>\n",
       "      <td>M01996_GATA</td>\n",
       "      <td>0.655998</td>\n",
       "      <td><img src=\"../report/M01996_GATA.png\" width=\"240\" ></td>\n",
       "    </tr>\n",
       "    <tr>\n",
       "      <td>neg_patterns.pattern_3</td>\n",
       "      <td>52</td>\n",
       "      <td><img src=\"../report/trimmed_logos/neg_patterns.pattern_3.cwm.fwd.png\" width=\"240\" ></td>\n",
       "      <td><img src=\"../report/trimmed_logos/neg_patterns.pattern_3.cwm.rev.png\" width=\"240\" ></td>\n",
       "      <td>NaN</td>\n",
       "      <td>NaN</td>\n",
       "      <td><img src=\"NA\" width=\"240\" ></td>\n",
       "      <td>NaN</td>\n",
       "      <td>NaN</td>\n",
       "      <td><img src=\"NA\" width=\"240\" ></td>\n",
       "      <td>NaN</td>\n",
       "      <td>NaN</td>\n",
       "      <td><img src=\"NA\" width=\"240\" ></td>\n",
       "    </tr>\n",
       "    <tr>\n",
       "      <td>neg_patterns.pattern_4</td>\n",
       "      <td>39</td>\n",
       "      <td><img src=\"../report/trimmed_logos/neg_patterns.pattern_4.cwm.fwd.png\" width=\"240\" ></td>\n",
       "      <td><img src=\"../report/trimmed_logos/neg_patterns.pattern_4.cwm.rev.png\" width=\"240\" ></td>\n",
       "      <td>M07053_Trihelix</td>\n",
       "      <td>0.554696</td>\n",
       "      <td><img src=\"../report/M07053_Trihelix.png\" width=\"240\" ></td>\n",
       "      <td>M07157_MYB_related</td>\n",
       "      <td>0.690306</td>\n",
       "      <td><img src=\"../report/M07157_MYB_related.png\" width=\"240\" ></td>\n",
       "      <td>M01282_MYB_related_Myb_SANT</td>\n",
       "      <td>1.000000</td>\n",
       "      <td><img src=\"../report/M01282_MYB_related_Myb_SANT.png\" width=\"240\" ></td>\n",
       "    </tr>\n",
       "    <tr>\n",
       "      <td>neg_patterns.pattern_5</td>\n",
       "      <td>36</td>\n",
       "      <td><img src=\"../report/trimmed_logos/neg_patterns.pattern_5.cwm.fwd.png\" width=\"240\" ></td>\n",
       "      <td><img src=\"../report/trimmed_logos/neg_patterns.pattern_5.cwm.rev.png\" width=\"240\" ></td>\n",
       "      <td>NaN</td>\n",
       "      <td>NaN</td>\n",
       "      <td><img src=\"NA\" width=\"240\" ></td>\n",
       "      <td>NaN</td>\n",
       "      <td>NaN</td>\n",
       "      <td><img src=\"NA\" width=\"240\" ></td>\n",
       "      <td>NaN</td>\n",
       "      <td>NaN</td>\n",
       "      <td><img src=\"NA\" width=\"240\" ></td>\n",
       "    </tr>\n",
       "    <tr>\n",
       "      <td>neg_patterns.pattern_6</td>\n",
       "      <td>20</td>\n",
       "      <td><img src=\"../report/trimmed_logos/neg_patterns.pattern_6.cwm.fwd.png\" width=\"240\" ></td>\n",
       "      <td><img src=\"../report/trimmed_logos/neg_patterns.pattern_6.cwm.rev.png\" width=\"240\" ></td>\n",
       "      <td>MA1016.1_GATA</td>\n",
       "      <td>1.000000</td>\n",
       "      <td><img src=\"../report/MA1016.1_GATA.png\" width=\"240\" ></td>\n",
       "      <td>M01941_GATA</td>\n",
       "      <td>1.000000</td>\n",
       "      <td><img src=\"../report/M01941_GATA.png\" width=\"240\" ></td>\n",
       "      <td>MA1014.1_GATA</td>\n",
       "      <td>1.000000</td>\n",
       "      <td><img src=\"../report/MA1014.1_GATA.png\" width=\"240\" ></td>\n",
       "    </tr>\n",
       "  </tbody>\n",
       "</table>"
      ],
      "text/plain": [
       "<IPython.core.display.HTML object>"
      ]
     },
     "metadata": {},
     "output_type": "display_data"
    }
   ],
   "source": [
    "from IPython.core.display import display, HTML\n",
    "\n",
    "display(HTML(filename='report/motifs.html'))"
   ]
  }
 ],
 "metadata": {
  "kernelspec": {
   "display_name": "Python 3 (ipykernel)",
   "language": "python",
   "name": "python3"
  },
  "language_info": {
   "codemirror_mode": {
    "name": "ipython",
    "version": 3
   },
   "file_extension": ".py",
   "mimetype": "text/x-python",
   "name": "python",
   "nbconvert_exporter": "python",
   "pygments_lexer": "ipython3",
   "version": "3.8.0"
  }
 },
 "nbformat": 4,
 "nbformat_minor": 4
}
