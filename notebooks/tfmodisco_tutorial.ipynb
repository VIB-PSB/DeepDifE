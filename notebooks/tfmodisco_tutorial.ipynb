{
 "cells": [
  {
   "cell_type": "markdown",
   "metadata": {},
   "source": [
    "# Tutorial to perform TFModisco and create a report #"
   ]
  },
  {
   "cell_type": "code",
   "execution_count": 1,
   "metadata": {
    "tags": []
   },
   "outputs": [
    {
     "name": "stdout",
     "output_type": "stream",
     "text": [
      "/data/projects/c02/sander.thierens/CytokininDL/DeepDifE\n"
     ]
    },
    {
     "name": "stderr",
     "output_type": "stream",
     "text": [
      "2024-10-17 18:21:49.325753: I tensorflow/core/platform/cpu_feature_guard.cc:193] This TensorFlow binary is optimized with oneAPI Deep Neural Network Library (oneDNN) to use the following CPU instructions in performance-critical operations:  AVX2 FMA\n",
      "To enable them in other operations, rebuild TensorFlow with the appropriate compiler flags.\n",
      "2024-10-17 18:21:52.124976: W tensorflow/compiler/xla/stream_executor/platform/default/dso_loader.cc:64] Could not load dynamic library 'libnvinfer.so.7'; dlerror: libnvinfer.so.7: cannot open shared object file: No such file or directory; LD_LIBRARY_PATH: /mnt/modules/easybuild/software/Ghostscript/10.0.0-GCCcore-12.2.0/lib:/mnt/modules/easybuild/software/GTK3/3.24.35-GCCcore-12.2.0/lib:/mnt/modules/easybuild/software/libepoxy/1.5.10-GCCcore-12.2.0/lib:/mnt/modules/easybuild/software/Mesa/22.2.4-GCCcore-12.2.0/lib:/mnt/modules/easybuild/software/LLVM/15.0.5-GCCcore-12.2.0/lib:/mnt/modules/easybuild/software/libunwind/1.6.2-GCCcore-12.2.0/lib:/mnt/modules/easybuild/software/libglvnd/1.6.0-GCCcore-12.2.0/lib:/mnt/modules/easybuild/software/libdrm/2.4.114-GCCcore-12.2.0/lib:/mnt/modules/easybuild/software/Pango/1.50.12-GCCcore-12.2.0/lib:/mnt/modules/easybuild/software/FriBidi/1.0.12-GCCcore-12.2.0/lib:/mnt/modules/easybuild/software/HarfBuzz/5.3.1-GCCcore-12.2.0/lib:/mnt/modules/easybuild/software/ICU/72.1-GCCcore-12.2.0/lib:/mnt/modules/easybuild/software/Gdk-Pixbuf/2.42.10-GCCcore-12.2.0/lib:/mnt/modules/easybuild/software/at-spi2-atk/2.38.0-GCCcore-12.2.0/lib:/mnt/modules/easybuild/software/at-spi2-core/2.46.0-GCCcore-12.2.0/lib:/mnt/modules/easybuild/software/DBus/1.15.2-GCCcore-12.2.0/lib:/mnt/modules/easybuild/software/ATK/2.38.0-GCCcore-12.2.0/lib:/mnt/modules/easybuild/software/LibTIFF/4.4.0-GCCcore-12.2.0/lib:/mnt/modules/easybuild/software/libdeflate/1.15-GCCcore-12.2.0/lib:/mnt/modules/easybuild/software/zstd/1.5.2-GCCcore-12.2.0/lib:/mnt/modules/easybuild/software/lz4/1.9.4-GCCcore-12.2.0/lib:/mnt/modules/easybuild/software/jbigkit/2.1-GCCcore-12.2.0/lib:/mnt/modules/easybuild/software/cairo/1.17.4-GCCcore-12.2.0/lib:/mnt/modules/easybuild/software/X11/20221110-GCCcore-12.2.0/lib:/mnt/modules/easybuild/software/fontconfig/2.14.1-GCCcore-12.2.0/lib:/mnt/modules/easybuild/software/pixman/0.42.2-GCCcore-12.2.0/lib:/mnt/modules/easybuild/software/GLib/2.75.0-GCCcore-12.2.0/lib:/mnt/modules/easybuild/software/util-linux/2.38.1-GCCcore-12.2.0/lib:/mnt/modules/easybuild/software/PCRE2/10.40-GCCcore-12.2.0/lib:/mnt/modules/easybuild/software/gettext/0.21.1-GCCcore-12.2.0/lib:/mnt/modules/easybuild/software/libjpeg-turbo/2.1.4-GCCcore-12.2.0/lib:/mnt/modules/easybuild/software/freetype/2.12.1-GCCcore-12.2.0/lib:/mnt/modules/easybuild/software/Brotli/1.0.9-GCCcore-12.2.0/lib:/mnt/modules/easybuild/software/libpng/1.6.38-GCCcore-12.2.0/lib:/mnt/modules/easybuild/software/Python/3.10.8-GCCcore-12.2.0/lib:/mnt/modules/easybuild/software/libffi/3.4.4-GCCcore-12.2.0/lib64:/mnt/modules/easybuild/software/GMP/6.2.1-GCCcore-12.2.0/lib:/mnt/modules/easybuild/software/SQLite/3.39.4-GCCcore-12.2.0/lib:/mnt/modules/easybuild/software/Tcl/8.6.12-GCCcore-12.2.0/lib:/mnt/modules/easybuild/software/bzip2/1.0.8-GCCcore-12.2.0/lib:/mnt/modules/easybuild/software/DB/18.1.40-GCCcore-12.2.0/lib:/mnt/modules/easybuild/software/libreadline/8.2-GCCcore-12.2.0/lib:/mnt/modules/easybuild/software/ncurses/6.3-GCCcore-12.2.0/lib:/mnt/modules/easybuild/software/expat/2.4.9-GCCcore-12.2.0/lib:/mnt/modules/easybuild/software/libxslt/1.1.37-GCCcore-12.2.0/lib:/mnt/modules/easybuild/software/OpenMPI/4.1.4-GCC-12.2.0/lib:/mnt/modules/easybuild/software/UCC/1.1.0-GCCcore-12.2.0/lib:/mnt/modules/easybuild/software/PMIx/4.2.2-GCCcore-12.2.0/lib:/mnt/modules/easybuild/software/libfabric/1.16.1-GCCcore-12.2.0/lib:/mnt/modules/easybuild/software/UCX/1.13.1-GCCcore-12.2.0/lib:/mnt/modules/easybuild/software/libevent/2.1.12-GCCcore-12.2.0/lib:/mnt/modules/easybuild/software/OpenSSL/1.1/lib:/mnt/modules/easybuild/software/hwloc/2.8.0-GCCcore-12.2.0/lib:/mnt/modules/easybuild/software/libpciaccess/0.17-GCCcore-12.2.0/lib:/mnt/modules/easybuild/software/libxml2/2.10.3-GCCcore-12.2.0/lib:/mnt/modules/easybuild/software/XZ/5.2.7-GCCcore-12.2.0/lib:/mnt/modules/easybuild/software/numactl/2.0.16-GCCcore-12.2.0/lib:/mnt/modules/easybuild/software/binutils/2.39-GCCcore-12.2.0/lib:/mnt/modules/easybuild/software/zlib/1.2.12-GCCcore-12.2.0/lib:/mnt/modules/easybuild/software/GCCcore/12.2.0/lib64:/mnt/modules/easybuild/software/cuDNN/8.4.1.50-CUDA-11.7.0/lib:/mnt/modules/easybuild/software/CUDA/11.7.0/nvvm/lib64:/mnt/modules/easybuild/software/CUDA/11.7.0/extras/CUPTI/lib64:/mnt/modules/easybuild/software/CUDA/11.7.0/lib\n",
      "2024-10-17 18:21:52.125312: W tensorflow/compiler/xla/stream_executor/platform/default/dso_loader.cc:64] Could not load dynamic library 'libnvinfer_plugin.so.7'; dlerror: libnvinfer_plugin.so.7: cannot open shared object file: No such file or directory; LD_LIBRARY_PATH: /mnt/modules/easybuild/software/Ghostscript/10.0.0-GCCcore-12.2.0/lib:/mnt/modules/easybuild/software/GTK3/3.24.35-GCCcore-12.2.0/lib:/mnt/modules/easybuild/software/libepoxy/1.5.10-GCCcore-12.2.0/lib:/mnt/modules/easybuild/software/Mesa/22.2.4-GCCcore-12.2.0/lib:/mnt/modules/easybuild/software/LLVM/15.0.5-GCCcore-12.2.0/lib:/mnt/modules/easybuild/software/libunwind/1.6.2-GCCcore-12.2.0/lib:/mnt/modules/easybuild/software/libglvnd/1.6.0-GCCcore-12.2.0/lib:/mnt/modules/easybuild/software/libdrm/2.4.114-GCCcore-12.2.0/lib:/mnt/modules/easybuild/software/Pango/1.50.12-GCCcore-12.2.0/lib:/mnt/modules/easybuild/software/FriBidi/1.0.12-GCCcore-12.2.0/lib:/mnt/modules/easybuild/software/HarfBuzz/5.3.1-GCCcore-12.2.0/lib:/mnt/modules/easybuild/software/ICU/72.1-GCCcore-12.2.0/lib:/mnt/modules/easybuild/software/Gdk-Pixbuf/2.42.10-GCCcore-12.2.0/lib:/mnt/modules/easybuild/software/at-spi2-atk/2.38.0-GCCcore-12.2.0/lib:/mnt/modules/easybuild/software/at-spi2-core/2.46.0-GCCcore-12.2.0/lib:/mnt/modules/easybuild/software/DBus/1.15.2-GCCcore-12.2.0/lib:/mnt/modules/easybuild/software/ATK/2.38.0-GCCcore-12.2.0/lib:/mnt/modules/easybuild/software/LibTIFF/4.4.0-GCCcore-12.2.0/lib:/mnt/modules/easybuild/software/libdeflate/1.15-GCCcore-12.2.0/lib:/mnt/modules/easybuild/software/zstd/1.5.2-GCCcore-12.2.0/lib:/mnt/modules/easybuild/software/lz4/1.9.4-GCCcore-12.2.0/lib:/mnt/modules/easybuild/software/jbigkit/2.1-GCCcore-12.2.0/lib:/mnt/modules/easybuild/software/cairo/1.17.4-GCCcore-12.2.0/lib:/mnt/modules/easybuild/software/X11/20221110-GCCcore-12.2.0/lib:/mnt/modules/easybuild/software/fontconfig/2.14.1-GCCcore-12.2.0/lib:/mnt/modules/easybuild/software/pixman/0.42.2-GCCcore-12.2.0/lib:/mnt/modules/easybuild/software/GLib/2.75.0-GCCcore-12.2.0/lib:/mnt/modules/easybuild/software/util-linux/2.38.1-GCCcore-12.2.0/lib:/mnt/modules/easybuild/software/PCRE2/10.40-GCCcore-12.2.0/lib:/mnt/modules/easybuild/software/gettext/0.21.1-GCCcore-12.2.0/lib:/mnt/modules/easybuild/software/libjpeg-turbo/2.1.4-GCCcore-12.2.0/lib:/mnt/modules/easybuild/software/freetype/2.12.1-GCCcore-12.2.0/lib:/mnt/modules/easybuild/software/Brotli/1.0.9-GCCcore-12.2.0/lib:/mnt/modules/easybuild/software/libpng/1.6.38-GCCcore-12.2.0/lib:/mnt/modules/easybuild/software/Python/3.10.8-GCCcore-12.2.0/lib:/mnt/modules/easybuild/software/libffi/3.4.4-GCCcore-12.2.0/lib64:/mnt/modules/easybuild/software/GMP/6.2.1-GCCcore-12.2.0/lib:/mnt/modules/easybuild/software/SQLite/3.39.4-GCCcore-12.2.0/lib:/mnt/modules/easybuild/software/Tcl/8.6.12-GCCcore-12.2.0/lib:/mnt/modules/easybuild/software/bzip2/1.0.8-GCCcore-12.2.0/lib:/mnt/modules/easybuild/software/DB/18.1.40-GCCcore-12.2.0/lib:/mnt/modules/easybuild/software/libreadline/8.2-GCCcore-12.2.0/lib:/mnt/modules/easybuild/software/ncurses/6.3-GCCcore-12.2.0/lib:/mnt/modules/easybuild/software/expat/2.4.9-GCCcore-12.2.0/lib:/mnt/modules/easybuild/software/libxslt/1.1.37-GCCcore-12.2.0/lib:/mnt/modules/easybuild/software/OpenMPI/4.1.4-GCC-12.2.0/lib:/mnt/modules/easybuild/software/UCC/1.1.0-GCCcore-12.2.0/lib:/mnt/modules/easybuild/software/PMIx/4.2.2-GCCcore-12.2.0/lib:/mnt/modules/easybuild/software/libfabric/1.16.1-GCCcore-12.2.0/lib:/mnt/modules/easybuild/software/UCX/1.13.1-GCCcore-12.2.0/lib:/mnt/modules/easybuild/software/libevent/2.1.12-GCCcore-12.2.0/lib:/mnt/modules/easybuild/software/OpenSSL/1.1/lib:/mnt/modules/easybuild/software/hwloc/2.8.0-GCCcore-12.2.0/lib:/mnt/modules/easybuild/software/libpciaccess/0.17-GCCcore-12.2.0/lib:/mnt/modules/easybuild/software/libxml2/2.10.3-GCCcore-12.2.0/lib:/mnt/modules/easybuild/software/XZ/5.2.7-GCCcore-12.2.0/lib:/mnt/modules/easybuild/software/numactl/2.0.16-GCCcore-12.2.0/lib:/mnt/modules/easybuild/software/binutils/2.39-GCCcore-12.2.0/lib:/mnt/modules/easybuild/software/zlib/1.2.12-GCCcore-12.2.0/lib:/mnt/modules/easybuild/software/GCCcore/12.2.0/lib64:/mnt/modules/easybuild/software/cuDNN/8.4.1.50-CUDA-11.7.0/lib:/mnt/modules/easybuild/software/CUDA/11.7.0/nvvm/lib64:/mnt/modules/easybuild/software/CUDA/11.7.0/extras/CUPTI/lib64:/mnt/modules/easybuild/software/CUDA/11.7.0/lib\n",
      "2024-10-17 18:21:52.125330: W tensorflow/compiler/tf2tensorrt/utils/py_utils.cc:38] TF-TRT Warning: Cannot dlopen some TensorRT libraries. If you would like to use Nvidia GPU with TensorRT, please make sure the missing libraries mentioned above are installed properly.\n",
      "/home/VIB.LOCAL/sander.thierens/.conda/envs/DeepDifE/lib/python3.8/site-packages/shap/utils/_clustering.py:35: NumbaDeprecationWarning: The 'nopython' keyword argument was not supplied to the 'numba.jit' decorator. The implicit default value for this argument is currently False, but it will be changed to True in Numba 0.59.0. See https://numba.readthedocs.io/en/stable/reference/deprecation.html#deprecation-of-object-mode-fall-back-behaviour-when-using-jit for details.\n",
      "  def _pt_shuffle_rec(i, indexes, index_mask, partition_tree, M, pos):\n",
      "/home/VIB.LOCAL/sander.thierens/.conda/envs/DeepDifE/lib/python3.8/site-packages/shap/utils/_clustering.py:54: NumbaDeprecationWarning: The 'nopython' keyword argument was not supplied to the 'numba.jit' decorator. The implicit default value for this argument is currently False, but it will be changed to True in Numba 0.59.0. See https://numba.readthedocs.io/en/stable/reference/deprecation.html#deprecation-of-object-mode-fall-back-behaviour-when-using-jit for details.\n",
      "  def delta_minimization_order(all_masks, max_swap_size=100, num_passes=2):\n",
      "/home/VIB.LOCAL/sander.thierens/.conda/envs/DeepDifE/lib/python3.8/site-packages/shap/utils/_clustering.py:63: NumbaDeprecationWarning: The 'nopython' keyword argument was not supplied to the 'numba.jit' decorator. The implicit default value for this argument is currently False, but it will be changed to True in Numba 0.59.0. See https://numba.readthedocs.io/en/stable/reference/deprecation.html#deprecation-of-object-mode-fall-back-behaviour-when-using-jit for details.\n",
      "  def _reverse_window(order, start, length):\n",
      "/home/VIB.LOCAL/sander.thierens/.conda/envs/DeepDifE/lib/python3.8/site-packages/shap/utils/_clustering.py:69: NumbaDeprecationWarning: The 'nopython' keyword argument was not supplied to the 'numba.jit' decorator. The implicit default value for this argument is currently False, but it will be changed to True in Numba 0.59.0. See https://numba.readthedocs.io/en/stable/reference/deprecation.html#deprecation-of-object-mode-fall-back-behaviour-when-using-jit for details.\n",
      "  def _reverse_window_score_gain(masks, order, start, length):\n",
      "/home/VIB.LOCAL/sander.thierens/.conda/envs/DeepDifE/lib/python3.8/site-packages/shap/utils/_clustering.py:77: NumbaDeprecationWarning: The 'nopython' keyword argument was not supplied to the 'numba.jit' decorator. The implicit default value for this argument is currently False, but it will be changed to True in Numba 0.59.0. See https://numba.readthedocs.io/en/stable/reference/deprecation.html#deprecation-of-object-mode-fall-back-behaviour-when-using-jit for details.\n",
      "  def _mask_delta_score(m1, m2):\n",
      "/home/VIB.LOCAL/sander.thierens/.conda/envs/DeepDifE/lib/python3.8/site-packages/shap/links.py:5: NumbaDeprecationWarning: The 'nopython' keyword argument was not supplied to the 'numba.jit' decorator. The implicit default value for this argument is currently False, but it will be changed to True in Numba 0.59.0. See https://numba.readthedocs.io/en/stable/reference/deprecation.html#deprecation-of-object-mode-fall-back-behaviour-when-using-jit for details.\n",
      "  def identity(x):\n",
      "/home/VIB.LOCAL/sander.thierens/.conda/envs/DeepDifE/lib/python3.8/site-packages/shap/links.py:10: NumbaDeprecationWarning: The 'nopython' keyword argument was not supplied to the 'numba.jit' decorator. The implicit default value for this argument is currently False, but it will be changed to True in Numba 0.59.0. See https://numba.readthedocs.io/en/stable/reference/deprecation.html#deprecation-of-object-mode-fall-back-behaviour-when-using-jit for details.\n",
      "  def _identity_inverse(x):\n",
      "/home/VIB.LOCAL/sander.thierens/.conda/envs/DeepDifE/lib/python3.8/site-packages/shap/links.py:15: NumbaDeprecationWarning: The 'nopython' keyword argument was not supplied to the 'numba.jit' decorator. The implicit default value for this argument is currently False, but it will be changed to True in Numba 0.59.0. See https://numba.readthedocs.io/en/stable/reference/deprecation.html#deprecation-of-object-mode-fall-back-behaviour-when-using-jit for details.\n",
      "  def logit(x):\n",
      "/home/VIB.LOCAL/sander.thierens/.conda/envs/DeepDifE/lib/python3.8/site-packages/shap/links.py:20: NumbaDeprecationWarning: The 'nopython' keyword argument was not supplied to the 'numba.jit' decorator. The implicit default value for this argument is currently False, but it will be changed to True in Numba 0.59.0. See https://numba.readthedocs.io/en/stable/reference/deprecation.html#deprecation-of-object-mode-fall-back-behaviour-when-using-jit for details.\n",
      "  def _logit_inverse(x):\n",
      "/home/VIB.LOCAL/sander.thierens/.conda/envs/DeepDifE/lib/python3.8/site-packages/shap/utils/_masked_model.py:363: NumbaDeprecationWarning: The 'nopython' keyword argument was not supplied to the 'numba.jit' decorator. The implicit default value for this argument is currently False, but it will be changed to True in Numba 0.59.0. See https://numba.readthedocs.io/en/stable/reference/deprecation.html#deprecation-of-object-mode-fall-back-behaviour-when-using-jit for details.\n",
      "  def _build_fixed_single_output(averaged_outs, last_outs, outputs, batch_positions, varying_rows, num_varying_rows, link, linearizing_weights):\n",
      "/home/VIB.LOCAL/sander.thierens/.conda/envs/DeepDifE/lib/python3.8/site-packages/shap/utils/_masked_model.py:385: NumbaDeprecationWarning: The 'nopython' keyword argument was not supplied to the 'numba.jit' decorator. The implicit default value for this argument is currently False, but it will be changed to True in Numba 0.59.0. See https://numba.readthedocs.io/en/stable/reference/deprecation.html#deprecation-of-object-mode-fall-back-behaviour-when-using-jit for details.\n",
      "  def _build_fixed_multi_output(averaged_outs, last_outs, outputs, batch_positions, varying_rows, num_varying_rows, link, linearizing_weights):\n",
      "/home/VIB.LOCAL/sander.thierens/.conda/envs/DeepDifE/lib/python3.8/site-packages/shap/utils/_masked_model.py:428: NumbaDeprecationWarning: The 'nopython' keyword argument was not supplied to the 'numba.jit' decorator. The implicit default value for this argument is currently False, but it will be changed to True in Numba 0.59.0. See https://numba.readthedocs.io/en/stable/reference/deprecation.html#deprecation-of-object-mode-fall-back-behaviour-when-using-jit for details.\n",
      "  def _init_masks(cluster_matrix, M, indices_row_pos, indptr):\n",
      "/home/VIB.LOCAL/sander.thierens/.conda/envs/DeepDifE/lib/python3.8/site-packages/shap/utils/_masked_model.py:439: NumbaDeprecationWarning: The 'nopython' keyword argument was not supplied to the 'numba.jit' decorator. The implicit default value for this argument is currently False, but it will be changed to True in Numba 0.59.0. See https://numba.readthedocs.io/en/stable/reference/deprecation.html#deprecation-of-object-mode-fall-back-behaviour-when-using-jit for details.\n",
      "  def _rec_fill_masks(cluster_matrix, indices_row_pos, indptr, indices, M, ind):\n",
      "/home/VIB.LOCAL/sander.thierens/.conda/envs/DeepDifE/lib/python3.8/site-packages/shap/maskers/_tabular.py:186: NumbaDeprecationWarning: The 'nopython' keyword argument was not supplied to the 'numba.jit' decorator. The implicit default value for this argument is currently False, but it will be changed to True in Numba 0.59.0. See https://numba.readthedocs.io/en/stable/reference/deprecation.html#deprecation-of-object-mode-fall-back-behaviour-when-using-jit for details.\n",
      "  def _single_delta_mask(dind, masked_inputs, last_mask, data, x, noop_code):\n",
      "/home/VIB.LOCAL/sander.thierens/.conda/envs/DeepDifE/lib/python3.8/site-packages/shap/maskers/_tabular.py:197: NumbaDeprecationWarning: The 'nopython' keyword argument was not supplied to the 'numba.jit' decorator. The implicit default value for this argument is currently False, but it will be changed to True in Numba 0.59.0. See https://numba.readthedocs.io/en/stable/reference/deprecation.html#deprecation-of-object-mode-fall-back-behaviour-when-using-jit for details.\n",
      "  def _delta_masking(masks, x, curr_delta_inds, varying_rows_out,\n",
      "/home/VIB.LOCAL/sander.thierens/.conda/envs/DeepDifE/lib/python3.8/site-packages/shap/maskers/_image.py:175: NumbaDeprecationWarning: The 'nopython' keyword argument was not supplied to the 'numba.jit' decorator. The implicit default value for this argument is currently False, but it will be changed to True in Numba 0.59.0. See https://numba.readthedocs.io/en/stable/reference/deprecation.html#deprecation-of-object-mode-fall-back-behaviour-when-using-jit for details.\n",
      "  def _jit_build_partition_tree(xmin, xmax, ymin, ymax, zmin, zmax, total_ywidth, total_zwidth, M, clustering, q):\n",
      "/home/VIB.LOCAL/sander.thierens/.conda/envs/DeepDifE/lib/python3.8/site-packages/shap/explainers/_partition.py:676: NumbaDeprecationWarning: The 'nopython' keyword argument was not supplied to the 'numba.jit' decorator. The implicit default value for this argument is currently False, but it will be changed to True in Numba 0.59.0. See https://numba.readthedocs.io/en/stable/reference/deprecation.html#deprecation-of-object-mode-fall-back-behaviour-when-using-jit for details.\n",
      "  def lower_credit(i, value, M, values, clustering):\n",
      "The 'nopython' keyword argument was not supplied to the 'numba.jit' decorator. The implicit default value for this argument is currently False, but it will be changed to True in Numba 0.59.0. See https://numba.readthedocs.io/en/stable/reference/deprecation.html#deprecation-of-object-mode-fall-back-behaviour-when-using-jit for details.\n",
      "The 'nopython' keyword argument was not supplied to the 'numba.jit' decorator. The implicit default value for this argument is currently False, but it will be changed to True in Numba 0.59.0. See https://numba.readthedocs.io/en/stable/reference/deprecation.html#deprecation-of-object-mode-fall-back-behaviour-when-using-jit for details.\n"
     ]
    }
   ],
   "source": [
    "%load_ext autoreload\n",
    "%autoreload 2\n",
    "%cd DeepDifE\n",
    "\n",
    "import sys\n",
    "import os\n",
    "\n",
    "from Bio import SeqIO\n",
    "from evoaug_tf import evoaug, augment\n",
    "from modiscolite import tfmodisco, report\n",
    "from src.deepExplain_tool import getDeepExplainerBackground, deepExplain, plotResults\n",
    "from src.diff_expression_model import load_model, get_siamese_model\n",
    "import numpy as np\n",
    "import importlib\n",
    "import pickle\n",
    "import modiscolite\n"
   ]
  },
  {
   "cell_type": "markdown",
   "metadata": {},
   "source": [
    "Retrieve the siamese model based on the weight of Helder"
   ]
  },
  {
   "cell_type": "code",
   "execution_count": 2,
   "metadata": {
    "tags": []
   },
   "outputs": [
    {
     "name": "stderr",
     "output_type": "stream",
     "text": [
      "2024-10-17 18:22:05.012187: W tensorflow/compiler/xla/stream_executor/platform/default/dso_loader.cc:64] Could not load dynamic library 'libcuda.so.1'; dlerror: libcuda.so.1: cannot open shared object file: No such file or directory; LD_LIBRARY_PATH: /mnt/modules/easybuild/software/Ghostscript/10.0.0-GCCcore-12.2.0/lib:/mnt/modules/easybuild/software/GTK3/3.24.35-GCCcore-12.2.0/lib:/mnt/modules/easybuild/software/libepoxy/1.5.10-GCCcore-12.2.0/lib:/mnt/modules/easybuild/software/Mesa/22.2.4-GCCcore-12.2.0/lib:/mnt/modules/easybuild/software/LLVM/15.0.5-GCCcore-12.2.0/lib:/mnt/modules/easybuild/software/libunwind/1.6.2-GCCcore-12.2.0/lib:/mnt/modules/easybuild/software/libglvnd/1.6.0-GCCcore-12.2.0/lib:/mnt/modules/easybuild/software/libdrm/2.4.114-GCCcore-12.2.0/lib:/mnt/modules/easybuild/software/Pango/1.50.12-GCCcore-12.2.0/lib:/mnt/modules/easybuild/software/FriBidi/1.0.12-GCCcore-12.2.0/lib:/mnt/modules/easybuild/software/HarfBuzz/5.3.1-GCCcore-12.2.0/lib:/mnt/modules/easybuild/software/ICU/72.1-GCCcore-12.2.0/lib:/mnt/modules/easybuild/software/Gdk-Pixbuf/2.42.10-GCCcore-12.2.0/lib:/mnt/modules/easybuild/software/at-spi2-atk/2.38.0-GCCcore-12.2.0/lib:/mnt/modules/easybuild/software/at-spi2-core/2.46.0-GCCcore-12.2.0/lib:/mnt/modules/easybuild/software/DBus/1.15.2-GCCcore-12.2.0/lib:/mnt/modules/easybuild/software/ATK/2.38.0-GCCcore-12.2.0/lib:/mnt/modules/easybuild/software/LibTIFF/4.4.0-GCCcore-12.2.0/lib:/mnt/modules/easybuild/software/libdeflate/1.15-GCCcore-12.2.0/lib:/mnt/modules/easybuild/software/zstd/1.5.2-GCCcore-12.2.0/lib:/mnt/modules/easybuild/software/lz4/1.9.4-GCCcore-12.2.0/lib:/mnt/modules/easybuild/software/jbigkit/2.1-GCCcore-12.2.0/lib:/mnt/modules/easybuild/software/cairo/1.17.4-GCCcore-12.2.0/lib:/mnt/modules/easybuild/software/X11/20221110-GCCcore-12.2.0/lib:/mnt/modules/easybuild/software/fontconfig/2.14.1-GCCcore-12.2.0/lib:/mnt/modules/easybuild/software/pixman/0.42.2-GCCcore-12.2.0/lib:/mnt/modules/easybuild/software/GLib/2.75.0-GCCcore-12.2.0/lib:/mnt/modules/easybuild/software/util-linux/2.38.1-GCCcore-12.2.0/lib:/mnt/modules/easybuild/software/PCRE2/10.40-GCCcore-12.2.0/lib:/mnt/modules/easybuild/software/gettext/0.21.1-GCCcore-12.2.0/lib:/mnt/modules/easybuild/software/libjpeg-turbo/2.1.4-GCCcore-12.2.0/lib:/mnt/modules/easybuild/software/freetype/2.12.1-GCCcore-12.2.0/lib:/mnt/modules/easybuild/software/Brotli/1.0.9-GCCcore-12.2.0/lib:/mnt/modules/easybuild/software/libpng/1.6.38-GCCcore-12.2.0/lib:/mnt/modules/easybuild/software/Python/3.10.8-GCCcore-12.2.0/lib:/mnt/modules/easybuild/software/libffi/3.4.4-GCCcore-12.2.0/lib64:/mnt/modules/easybuild/software/GMP/6.2.1-GCCcore-12.2.0/lib:/mnt/modules/easybuild/software/SQLite/3.39.4-GCCcore-12.2.0/lib:/mnt/modules/easybuild/software/Tcl/8.6.12-GCCcore-12.2.0/lib:/mnt/modules/easybuild/software/bzip2/1.0.8-GCCcore-12.2.0/lib:/mnt/modules/easybuild/software/DB/18.1.40-GCCcore-12.2.0/lib:/mnt/modules/easybuild/software/libreadline/8.2-GCCcore-12.2.0/lib:/mnt/modules/easybuild/software/ncurses/6.3-GCCcore-12.2.0/lib:/mnt/modules/easybuild/software/expat/2.4.9-GCCcore-12.2.0/lib:/mnt/modules/easybuild/software/libxslt/1.1.37-GCCcore-12.2.0/lib:/mnt/modules/easybuild/software/OpenMPI/4.1.4-GCC-12.2.0/lib:/mnt/modules/easybuild/software/UCC/1.1.0-GCCcore-12.2.0/lib:/mnt/modules/easybuild/software/PMIx/4.2.2-GCCcore-12.2.0/lib:/mnt/modules/easybuild/software/libfabric/1.16.1-GCCcore-12.2.0/lib:/mnt/modules/easybuild/software/UCX/1.13.1-GCCcore-12.2.0/lib:/mnt/modules/easybuild/software/libevent/2.1.12-GCCcore-12.2.0/lib:/mnt/modules/easybuild/software/OpenSSL/1.1/lib:/mnt/modules/easybuild/software/hwloc/2.8.0-GCCcore-12.2.0/lib:/mnt/modules/easybuild/software/libpciaccess/0.17-GCCcore-12.2.0/lib:/mnt/modules/easybuild/software/libxml2/2.10.3-GCCcore-12.2.0/lib:/mnt/modules/easybuild/software/XZ/5.2.7-GCCcore-12.2.0/lib:/mnt/modules/easybuild/software/numactl/2.0.16-GCCcore-12.2.0/lib:/mnt/modules/easybuild/software/binutils/2.39-GCCcore-12.2.0/lib:/mnt/modules/easybuild/software/zlib/1.2.12-GCCcore-12.2.0/lib:/mnt/modules/easybuild/software/GCCcore/12.2.0/lib64:/mnt/modules/easybuild/software/cuDNN/8.4.1.50-CUDA-11.7.0/lib:/mnt/modules/easybuild/software/CUDA/11.7.0/nvvm/lib64:/mnt/modules/easybuild/software/CUDA/11.7.0/extras/CUPTI/lib64:/mnt/modules/easybuild/software/CUDA/11.7.0/lib\n",
      "2024-10-17 18:22:05.012227: W tensorflow/compiler/xla/stream_executor/cuda/cuda_driver.cc:265] failed call to cuInit: UNKNOWN ERROR (303)\n",
      "2024-10-17 18:22:05.012263: I tensorflow/compiler/xla/stream_executor/cuda/cuda_diagnostics.cc:156] kernel driver does not appear to be running on this host (p-vibcompute-1.vib.local): /proc/driver/nvidia/version does not exist\n",
      "2024-10-17 18:22:05.012727: I tensorflow/core/platform/cpu_feature_guard.cc:193] This TensorFlow binary is optimized with oneAPI Deep Neural Network Library (oneDNN) to use the following CPU instructions in performance-critical operations:  AVX2 FMA\n",
      "To enable them in other operations, rebuild TensorFlow with the appropriate compiler flags.\n"
     ]
    },
    {
     "name": "stdout",
     "output_type": "stream",
     "text": [
      "\n",
      "Loaded model from disk\n"
     ]
    }
   ],
   "source": [
    "\n",
    "model_path = \"data/model_single.json\"\n",
    "weights_path = \"data/weights_single.h5\"\n",
    "\n",
    "augment_list = [\n",
    "\taugment.RandomRC(rc_prob=0.5),\n",
    "\taugment.RandomInsertionBatch(insert_min=0, insert_max=20),\n",
    "\taugment.RandomDeletion(delete_min=0, delete_max=30),\n",
    "\taugment.RandomTranslocationBatch(shift_min=0, shift_max=20),\n",
    "\taugment.RandomMutation(mutate_frac=0.05),\n",
    "\taugment.RandomNoise()\n",
    "]\n",
    "\n",
    "model = load_model(model_path, weights_path)\n",
    "siamese_model = get_siamese_model(model)\n"
   ]
  },
  {
   "cell_type": "markdown",
   "metadata": {},
   "source": [
    "Generate a background based on N random samples. In our case we start from a pickle containing 100 one-hot-encoded sequences with both the forward and reverse strand."
   ]
  },
  {
   "cell_type": "markdown",
   "metadata": {},
   "source": [
    "The numpy array passed to getDeepExplainerBackground should have the following shape (2, #samples, #sequence length, 4)"
   ]
  },
  {
   "cell_type": "code",
   "execution_count": 3,
   "metadata": {
    "tags": []
   },
   "outputs": [],
   "source": [
    "bg_path = \"./data/background_100samples.pkl\"\n",
    "with open(bg_path, 'rb') as f:\n",
    "    background_data = pickle.load(f)\n",
    "\n",
    "# Conver to numpy\n",
    "np_bg = np.array(background_data)\n",
    "\n",
    "# Remove axis of dimension 1\n",
    "np_bg = np.squeeze(np_bg)\n",
    "\n",
    "# Convert to float 64, to be compatible with deepExplain\n",
    "np_bg = np.float64(np_bg)\n",
    "\n",
    "background = getDeepExplainerBackground(background_samples=np_bg, shuffle=False, post_hoc_conjoining=True)"
   ]
  },
  {
   "cell_type": "markdown",
   "metadata": {},
   "source": [
    "The genes for which we want to run TFModisco"
   ]
  },
  {
   "cell_type": "code",
   "execution_count": 4,
   "metadata": {
    "tags": []
   },
   "outputs": [],
   "source": [
    "gene_ids_to_explain = [\n",
    "\t'AT3G46120::Chr3:16938040-16938660(-)',\n",
    "\t'AT2G02695::Chr2:752586-753206(-)',\n",
    "\t'AT4G16280::Chr4:9212576-9213196(-)']"
   ]
  },
  {
   "cell_type": "markdown",
   "metadata": {},
   "source": [
    "Retrieve the sequences, to speed up the SeqIO parsing you could chunk larger fasta files"
   ]
  },
  {
   "cell_type": "code",
   "execution_count": 5,
   "metadata": {
    "tags": []
   },
   "outputs": [],
   "source": [
    "sequence_list = []\n",
    "gene_id_list = []\n",
    "\n",
    "for chunk in range(1,3):\n",
    "\tfasta_path = f\"data/fasta/example.fasta_c{chunk}\"\n",
    "\tfasta_sequences = SeqIO.parse(open(fasta_path),'fasta')\n",
    "\tfor fasta in fasta_sequences:\n",
    "\t\tname, sequence = fasta.id, str(fasta.seq)\n",
    "\t\tif name in gene_ids_to_explain:\n",
    "\t\t\tgene_id_list.append(name)\n",
    "\t\t\tsequence_list.append(sequence)"
   ]
  },
  {
   "cell_type": "markdown",
   "metadata": {},
   "source": [
    "One hot encode the sequences and creat ethe reverse compliment"
   ]
  },
  {
   "cell_type": "code",
   "execution_count": 6,
   "metadata": {
    "tags": []
   },
   "outputs": [],
   "source": [
    "ohe_list = []\n",
    "ohe_rc_list = []\n",
    "for sequence in sequence_list:\n",
    "\tohe_seq = []\n",
    "\tohe_rc_seq = []\n",
    "\tfor i in sequence:\n",
    "\t\tif i == 'A':\n",
    "\t\t\tohe_seq.append([1., 0., 0., 0.])\n",
    "\t\t\tohe_rc_seq.append([0., 0., 0., 1.])\n",
    "\t\telif i == 'C':\n",
    "\t\t\tohe_seq.append([0., 1., 0., 0.])\n",
    "\t\t\tohe_rc_seq.append([0., 0., 1., 0.])\n",
    "\t\telif i == 'G':\n",
    "\t\t\tohe_seq.append([0., 0., 1., 0.])\n",
    "\t\t\tohe_rc_seq.append([0., 1., 0., 0.])\n",
    "\t\telif i == 'T':\n",
    "\t\t\tohe_seq.append([0., 0., 0., 1.])\n",
    "\t\t\tohe_rc_seq.append([1., 0., 0., 0.])\n",
    "\t\telse:\n",
    "\t\t\tohe_seq.append([0., 0., 0., 0.])\n",
    "\t\t\tohe_rc_seq.append([0., 0., 0., 0.])\n",
    "\tohe_list.append(ohe_seq)\n",
    "\tohe_rc_list.append(list(reversed(ohe_rc_seq)))\n",
    "ohe_np = np.array(ohe_list)\n",
    "ohe_rc_np = np.array(ohe_rc_list)\n",
    "\n",
    "np_deepexplain_samples = np.stack((ohe_np, ohe_rc_np))"
   ]
  },
  {
   "cell_type": "code",
   "execution_count": 7,
   "metadata": {
    "tags": []
   },
   "outputs": [
    {
     "ename": "TypeError",
     "evalue": "deepExplain() got an unexpected keyword argument 'show_evo_aug_padding'",
     "output_type": "error",
     "traceback": [
      "\u001b[0;31m---------------------------------------------------------------------------\u001b[0m",
      "\u001b[0;31mTypeError\u001b[0m                                 Traceback (most recent call last)",
      "Cell \u001b[0;32mIn[7], line 1\u001b[0m\n\u001b[0;32m----> 1\u001b[0m shap_values \u001b[38;5;241m=\u001b[39m \u001b[43mdeepExplain\u001b[49m\u001b[43m(\u001b[49m\u001b[43msamples\u001b[49m\u001b[38;5;241;43m=\u001b[39;49m\u001b[43mnp_deepexplain_samples\u001b[49m\u001b[43m,\u001b[49m\n\u001b[1;32m      2\u001b[0m \u001b[43m                          \u001b[49m\u001b[43mloaded_model\u001b[49m\u001b[38;5;241;43m=\u001b[39;49m\u001b[43msiamese_model\u001b[49m\u001b[43m,\u001b[49m\u001b[43m \u001b[49m\n\u001b[1;32m      3\u001b[0m \u001b[43m                          \u001b[49m\u001b[43mbg\u001b[49m\u001b[38;5;241;43m=\u001b[39;49m\u001b[43mbackground\u001b[49m\u001b[43m,\u001b[49m\u001b[43m \u001b[49m\n\u001b[1;32m      4\u001b[0m \u001b[43m                          \u001b[49m\u001b[43mpost_hoc_conjoining\u001b[49m\u001b[38;5;241;43m=\u001b[39;49m\u001b[38;5;28;43;01mTrue\u001b[39;49;00m\u001b[43m,\u001b[49m\u001b[43m \u001b[49m\n\u001b[1;32m      5\u001b[0m \u001b[43m                          \u001b[49m\u001b[43maugment_list\u001b[49m\u001b[38;5;241;43m=\u001b[39;49m\u001b[43maugment_list\u001b[49m\u001b[43m,\u001b[49m\u001b[43m \u001b[49m\n\u001b[1;32m      6\u001b[0m \u001b[43m                          \u001b[49m\u001b[43mpad_background\u001b[49m\u001b[38;5;241;43m=\u001b[39;49m\u001b[38;5;28;43;01mTrue\u001b[39;49;00m\u001b[43m,\u001b[49m\u001b[43m \u001b[49m\n\u001b[1;32m      7\u001b[0m \u001b[43m                          \u001b[49m\u001b[43mpad_samples\u001b[49m\u001b[38;5;241;43m=\u001b[39;49m\u001b[38;5;28;43;01mFalse\u001b[39;49;00m\u001b[43m,\u001b[49m\n\u001b[1;32m      8\u001b[0m \u001b[43m                          \u001b[49m\u001b[43mshow_evo_aug_padding\u001b[49m\u001b[38;5;241;43m=\u001b[39;49m\u001b[38;5;28;43;01mTrue\u001b[39;49;00m\u001b[43m)\u001b[49m\n",
      "\u001b[0;31mTypeError\u001b[0m: deepExplain() got an unexpected keyword argument 'show_evo_aug_padding'"
     ]
    }
   ],
   "source": [
    "shap_values = deepExplain(samples=np_deepexplain_samples,\n",
    "                          loaded_model=siamese_model, \n",
    "                          bg=background, \n",
    "                          post_hoc_conjoining=True, \n",
    "                          augment_list=augment_list, \n",
    "                          pad_background=True, \n",
    "                          pad_samples=False,\n",
    "                          show_evo_aug_padding=True)"
   ]
  },
  {
   "cell_type": "code",
   "execution_count": 9,
   "metadata": {},
   "outputs": [],
   "source": [
    "shap_values_forward = np.array(shap_values)[:,0,:,:]\n",
    "pos_patterns, neg_patterns = tfmodisco.TFMoDISco(\n",
    "                                    min_metacluster_size = 50,\n",
    "                                    hypothetical_contribs=shap_values_forward, \n",
    "                                    one_hot=np_deepexplain_samples[0],\n",
    "                                    verbose=True\n",
    "                                    )"
   ]
  },
  {
   "cell_type": "code",
   "execution_count": 10,
   "metadata": {},
   "outputs": [],
   "source": [
    "h5_result_path = \"./Results\"\n",
    "\n",
    "modiscolite.io.save_hdf5(h5_result_path, pos_patterns, neg_patterns, 3)"
   ]
  },
  {
   "cell_type": "code",
   "execution_count": 19,
   "metadata": {},
   "outputs": [
    {
     "data": {
      "text/plain": [
       "'/data/projects/c02/sander.thierens/DeepDifE'"
      ]
     },
     "execution_count": 19,
     "metadata": {},
     "output_type": "execute_result"
    }
   ],
   "source": [
    "%pwd"
   ]
  },
  {
   "cell_type": "code",
   "execution_count": 18,
   "metadata": {},
   "outputs": [
    {
     "ename": "NotADirectoryError",
     "evalue": "[Errno 20] Not a directory: './Results/TFModisco'",
     "output_type": "error",
     "traceback": [
      "\u001b[0;31m---------------------------------------------------------------------------\u001b[0m",
      "\u001b[0;31mNotADirectoryError\u001b[0m                        Traceback (most recent call last)",
      "Cell \u001b[0;32mIn[18], line 2\u001b[0m\n\u001b[1;32m      1\u001b[0m output_dir \u001b[38;5;241m=\u001b[39m \u001b[38;5;124m\"\u001b[39m\u001b[38;5;124m./Results/TFModisco\u001b[39m\u001b[38;5;124m\"\u001b[39m\n\u001b[0;32m----> 2\u001b[0m \u001b[43mos\u001b[49m\u001b[38;5;241;43m.\u001b[39;49m\u001b[43mmkdir\u001b[49m\u001b[43m(\u001b[49m\u001b[43moutput_dir\u001b[49m\u001b[43m)\u001b[49m\n\u001b[1;32m      3\u001b[0m report\u001b[38;5;241m.\u001b[39mreport_motifs(modisco_h5py \u001b[38;5;241m=\u001b[39m h5_result_path,\n\u001b[1;32m      4\u001b[0m                     output_dir \u001b[38;5;241m=\u001b[39m output_dir,\n\u001b[1;32m      5\u001b[0m                     img_path_suffix \u001b[38;5;241m=\u001b[39m h5_result_path,\n\u001b[1;32m      6\u001b[0m                     meme_motif_db \u001b[38;5;241m=\u001b[39m \u001b[38;5;124m\"\u001b[39m\u001b[38;5;124m./data/jaspar_cisbp_other_source_no_high_similarity_tfbs_annot.meme\u001b[39m\u001b[38;5;124m\"\u001b[39m,\n\u001b[1;32m      7\u001b[0m                     is_writing_tomtom_matrix \u001b[38;5;241m=\u001b[39m \u001b[38;5;28;01mTrue\u001b[39;00m\n\u001b[1;32m      8\u001b[0m                     )\n",
      "\u001b[0;31mNotADirectoryError\u001b[0m: [Errno 20] Not a directory: './Results/TFModisco'"
     ]
    }
   ],
   "source": [
    "output_dir = \"./Results/TFModisco\"\n",
    "os.mkdir(output_dir)\n",
    "report.report_motifs(modisco_h5py = h5_result_path,\n",
    "                    output_dir = output_dir,\n",
    "                    img_path_suffix = h5_result_path,\n",
    "                    meme_motif_db = \"./data/jaspar_cisbp_other_source_no_high_similarity_tfbs_annot.meme\",\n",
    "                    is_writing_tomtom_matrix = True\n",
    "                    )"
   ]
  },
  {
   "cell_type": "code",
   "execution_count": null,
   "metadata": {},
   "outputs": [],
   "source": []
  },
  {
   "cell_type": "code",
   "execution_count": null,
   "metadata": {},
   "outputs": [],
   "source": []
  },
  {
   "cell_type": "code",
   "execution_count": null,
   "metadata": {},
   "outputs": [],
   "source": []
  }
 ],
 "metadata": {
  "kernelspec": {
   "display_name": "Python 3 (ipykernel)",
   "language": "python",
   "name": "python3"
  },
  "language_info": {
   "codemirror_mode": {
    "name": "ipython",
    "version": 3
   },
   "file_extension": ".py",
   "mimetype": "text/x-python",
   "name": "python",
   "nbconvert_exporter": "python",
   "pygments_lexer": "ipython3",
   "version": "3.8.0"
  }
 },
 "nbformat": 4,
 "nbformat_minor": 4
}
